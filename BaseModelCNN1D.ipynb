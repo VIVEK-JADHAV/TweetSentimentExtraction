{
  "nbformat": 4,
  "nbformat_minor": 0,
  "metadata": {
    "colab": {
      "name": "BaseModelCNN1D.ipynb",
      "provenance": [],
      "collapsed_sections": [],
      "toc_visible": true,
      "mount_file_id": "1mQqA-SXgJ_VNUWOOydf4-O92GLzwVrp_",
      "authorship_tag": "ABX9TyP3883pzZYOpmJfdVuZIIhY",
      "include_colab_link": true
    },
    "kernelspec": {
      "name": "python3",
      "display_name": "Python 3"
    }
  },
  "cells": [
    {
      "cell_type": "markdown",
      "metadata": {
        "id": "view-in-github",
        "colab_type": "text"
      },
      "source": [
        "<a href=\"https://colab.research.google.com/github/VIVEK-JADHAV/TweetSentimentExtraction/blob/master/BaseModelCNN1D.ipynb\" target=\"_parent\"><img src=\"https://colab.research.google.com/assets/colab-badge.svg\" alt=\"Open In Colab\"/></a>"
      ]
    },
    {
      "cell_type": "code",
      "metadata": {
        "id": "B0nSXFxHKw50",
        "colab_type": "code",
        "colab": {
          "base_uri": "https://localhost:8080/",
          "height": 71
        },
        "outputId": "f0c8df13-619f-41c4-823f-eeda1020d275"
      },
      "source": [
        "import pandas as pd\n",
        "import numpy as np\n",
        "import os\n",
        "import shutil\n",
        "import matplotlib.pyplot as plt\n",
        "import seaborn as sns\n",
        "from wordcloud import WordCloud, STOPWORDS \n",
        "import re \n",
        "import string\n",
        "import tensorflow as tf\n",
        "from tensorflow.keras.layers import Dense,Input,Activation,Flatten,Embedding,GlobalAveragePooling1D,Dropout,LSTM,Conv1D\n",
        "from tensorflow.keras.models import Model\n"
      ],
      "execution_count": null,
      "outputs": [
        {
          "output_type": "stream",
          "text": [
            "/usr/local/lib/python3.6/dist-packages/statsmodels/tools/_testing.py:19: FutureWarning: pandas.util.testing is deprecated. Use the functions in the public API at pandas.testing instead.\n",
            "  import pandas.util.testing as tm\n"
          ],
          "name": "stderr"
        }
      ]
    },
    {
      "cell_type": "code",
      "metadata": {
        "id": "io2MfcGcfxlK",
        "colab_type": "code",
        "colab": {
          "base_uri": "https://localhost:8080/",
          "height": 51
        },
        "outputId": "f3f6ef51-db28-4c4c-93d6-4478a758b590"
      },
      "source": [
        "#Creating a folder to store train and test data\n",
        "import os\n",
        "os.mkdir('/content/data')\n",
        "%cd /content/data/\n",
        "!pwd"
      ],
      "execution_count": null,
      "outputs": [
        {
          "output_type": "stream",
          "text": [
            "/content/data\n",
            "/content/data\n"
          ],
          "name": "stdout"
        }
      ]
    },
    {
      "cell_type": "code",
      "metadata": {
        "id": "LN_lQJ_PML29",
        "colab_type": "code",
        "colab": {
          "base_uri": "https://localhost:8080/",
          "height": 187
        },
        "outputId": "90a392b6-3533-465b-eb0d-f38c61b4ef4f"
      },
      "source": [
        "!kaggle competitions download -c tweet-sentiment-extraction"
      ],
      "execution_count": null,
      "outputs": [
        {
          "output_type": "stream",
          "text": [
            "Warning: Looks like you're using an outdated API Version, please consider updating (server 1.5.6 / client 1.5.4)\n",
            "Downloading train.csv.zip to /content/data\n",
            "  0% 0.00/1.23M [00:00<?, ?B/s]\n",
            "100% 1.23M/1.23M [00:00<00:00, 41.6MB/s]\n",
            "Downloading sample_submission.csv to /content/data\n",
            "  0% 0.00/41.4k [00:00<?, ?B/s]\n",
            "100% 41.4k/41.4k [00:00<00:00, 43.6MB/s]\n",
            "Downloading test.csv to /content/data\n",
            "  0% 0.00/307k [00:00<?, ?B/s]\n",
            "100% 307k/307k [00:00<00:00, 101MB/s]\n"
          ],
          "name": "stdout"
        }
      ]
    },
    {
      "cell_type": "code",
      "metadata": {
        "id": "S_UudZowMbtS",
        "colab_type": "code",
        "colab": {
          "base_uri": "https://localhost:8080/",
          "height": 51
        },
        "outputId": "d271528d-2094-43a7-fded-3f6f778a9de6"
      },
      "source": [
        "!unzip train.csv.zip"
      ],
      "execution_count": null,
      "outputs": [
        {
          "output_type": "stream",
          "text": [
            "Archive:  train.csv.zip\n",
            "  inflating: train.csv               \n"
          ],
          "name": "stdout"
        }
      ]
    },
    {
      "cell_type": "code",
      "metadata": {
        "id": "O4ykiW2UkZh2",
        "colab_type": "code",
        "colab": {
          "base_uri": "https://localhost:8080/",
          "height": 221
        },
        "outputId": "c4c87cc8-3ddb-4d23-fb31-9160f9e4c55f"
      },
      "source": [
        "#Loading the train dataset\n",
        "\n",
        "train=pd.read_csv('/content/data/train.csv')\n",
        "print('Shape of the train data is ',train.shape)\n",
        "train.head()"
      ],
      "execution_count": null,
      "outputs": [
        {
          "output_type": "stream",
          "text": [
            "Shape of the train data is  (27481, 4)\n"
          ],
          "name": "stdout"
        },
        {
          "output_type": "execute_result",
          "data": {
            "text/html": [
              "<div>\n",
              "<style scoped>\n",
              "    .dataframe tbody tr th:only-of-type {\n",
              "        vertical-align: middle;\n",
              "    }\n",
              "\n",
              "    .dataframe tbody tr th {\n",
              "        vertical-align: top;\n",
              "    }\n",
              "\n",
              "    .dataframe thead th {\n",
              "        text-align: right;\n",
              "    }\n",
              "</style>\n",
              "<table border=\"1\" class=\"dataframe\">\n",
              "  <thead>\n",
              "    <tr style=\"text-align: right;\">\n",
              "      <th></th>\n",
              "      <th>textID</th>\n",
              "      <th>text</th>\n",
              "      <th>selected_text</th>\n",
              "      <th>sentiment</th>\n",
              "    </tr>\n",
              "  </thead>\n",
              "  <tbody>\n",
              "    <tr>\n",
              "      <th>0</th>\n",
              "      <td>cb774db0d1</td>\n",
              "      <td>I`d have responded, if I were going</td>\n",
              "      <td>I`d have responded, if I were going</td>\n",
              "      <td>neutral</td>\n",
              "    </tr>\n",
              "    <tr>\n",
              "      <th>1</th>\n",
              "      <td>549e992a42</td>\n",
              "      <td>Sooo SAD I will miss you here in San Diego!!!</td>\n",
              "      <td>Sooo SAD</td>\n",
              "      <td>negative</td>\n",
              "    </tr>\n",
              "    <tr>\n",
              "      <th>2</th>\n",
              "      <td>088c60f138</td>\n",
              "      <td>my boss is bullying me...</td>\n",
              "      <td>bullying me</td>\n",
              "      <td>negative</td>\n",
              "    </tr>\n",
              "    <tr>\n",
              "      <th>3</th>\n",
              "      <td>9642c003ef</td>\n",
              "      <td>what interview! leave me alone</td>\n",
              "      <td>leave me alone</td>\n",
              "      <td>negative</td>\n",
              "    </tr>\n",
              "    <tr>\n",
              "      <th>4</th>\n",
              "      <td>358bd9e861</td>\n",
              "      <td>Sons of ****, why couldn`t they put them on t...</td>\n",
              "      <td>Sons of ****,</td>\n",
              "      <td>negative</td>\n",
              "    </tr>\n",
              "  </tbody>\n",
              "</table>\n",
              "</div>"
            ],
            "text/plain": [
              "       textID  ... sentiment\n",
              "0  cb774db0d1  ...   neutral\n",
              "1  549e992a42  ...  negative\n",
              "2  088c60f138  ...  negative\n",
              "3  9642c003ef  ...  negative\n",
              "4  358bd9e861  ...  negative\n",
              "\n",
              "[5 rows x 4 columns]"
            ]
          },
          "metadata": {
            "tags": []
          },
          "execution_count": 12
        }
      ]
    },
    {
      "cell_type": "markdown",
      "metadata": {
        "id": "CoNTPRzwM4uS",
        "colab_type": "text"
      },
      "source": [
        "* Train dataset has 27481 datapoints and 4 features."
      ]
    },
    {
      "cell_type": "code",
      "metadata": {
        "id": "IUSNf2eBNAMa",
        "colab_type": "code",
        "colab": {
          "base_uri": "https://localhost:8080/",
          "height": 221
        },
        "outputId": "59090f7c-0cd5-4a54-9581-5c5ecb191255"
      },
      "source": [
        "#Loading the test dataset\n",
        "\n",
        "test=pd.read_csv('/content/data/test.csv')\n",
        "print('Shape of the test data is ',test.shape)\n",
        "test.head()"
      ],
      "execution_count": null,
      "outputs": [
        {
          "output_type": "stream",
          "text": [
            "Shape of the test data is  (3534, 3)\n"
          ],
          "name": "stdout"
        },
        {
          "output_type": "execute_result",
          "data": {
            "text/html": [
              "<div>\n",
              "<style scoped>\n",
              "    .dataframe tbody tr th:only-of-type {\n",
              "        vertical-align: middle;\n",
              "    }\n",
              "\n",
              "    .dataframe tbody tr th {\n",
              "        vertical-align: top;\n",
              "    }\n",
              "\n",
              "    .dataframe thead th {\n",
              "        text-align: right;\n",
              "    }\n",
              "</style>\n",
              "<table border=\"1\" class=\"dataframe\">\n",
              "  <thead>\n",
              "    <tr style=\"text-align: right;\">\n",
              "      <th></th>\n",
              "      <th>textID</th>\n",
              "      <th>text</th>\n",
              "      <th>sentiment</th>\n",
              "    </tr>\n",
              "  </thead>\n",
              "  <tbody>\n",
              "    <tr>\n",
              "      <th>0</th>\n",
              "      <td>f87dea47db</td>\n",
              "      <td>Last session of the day  http://twitpic.com/67ezh</td>\n",
              "      <td>neutral</td>\n",
              "    </tr>\n",
              "    <tr>\n",
              "      <th>1</th>\n",
              "      <td>96d74cb729</td>\n",
              "      <td>Shanghai is also really exciting (precisely -...</td>\n",
              "      <td>positive</td>\n",
              "    </tr>\n",
              "    <tr>\n",
              "      <th>2</th>\n",
              "      <td>eee518ae67</td>\n",
              "      <td>Recession hit Veronique Branquinho, she has to...</td>\n",
              "      <td>negative</td>\n",
              "    </tr>\n",
              "    <tr>\n",
              "      <th>3</th>\n",
              "      <td>01082688c6</td>\n",
              "      <td>happy bday!</td>\n",
              "      <td>positive</td>\n",
              "    </tr>\n",
              "    <tr>\n",
              "      <th>4</th>\n",
              "      <td>33987a8ee5</td>\n",
              "      <td>http://twitpic.com/4w75p - I like it!!</td>\n",
              "      <td>positive</td>\n",
              "    </tr>\n",
              "  </tbody>\n",
              "</table>\n",
              "</div>"
            ],
            "text/plain": [
              "       textID                                               text sentiment\n",
              "0  f87dea47db  Last session of the day  http://twitpic.com/67ezh   neutral\n",
              "1  96d74cb729   Shanghai is also really exciting (precisely -...  positive\n",
              "2  eee518ae67  Recession hit Veronique Branquinho, she has to...  negative\n",
              "3  01082688c6                                        happy bday!  positive\n",
              "4  33987a8ee5             http://twitpic.com/4w75p - I like it!!  positive"
            ]
          },
          "metadata": {
            "tags": []
          },
          "execution_count": 13
        }
      ]
    },
    {
      "cell_type": "markdown",
      "metadata": {
        "id": "De_YGv05Usou",
        "colab_type": "text"
      },
      "source": [
        "* Test dataset has 3534 datapoints and 3 features."
      ]
    },
    {
      "cell_type": "code",
      "metadata": {
        "id": "u0rifjQWU1Dr",
        "colab_type": "code",
        "colab": {
          "base_uri": "https://localhost:8080/",
          "height": 204
        },
        "outputId": "a62f60ea-e752-4f34-bbb2-4515ce1bd888"
      },
      "source": [
        "#Information regarding train data\n",
        "train.info()"
      ],
      "execution_count": null,
      "outputs": [
        {
          "output_type": "stream",
          "text": [
            "<class 'pandas.core.frame.DataFrame'>\n",
            "RangeIndex: 27481 entries, 0 to 27480\n",
            "Data columns (total 4 columns):\n",
            " #   Column         Non-Null Count  Dtype \n",
            "---  ------         --------------  ----- \n",
            " 0   textID         27481 non-null  object\n",
            " 1   text           27480 non-null  object\n",
            " 2   selected_text  27480 non-null  object\n",
            " 3   sentiment      27481 non-null  object\n",
            "dtypes: object(4)\n",
            "memory usage: 858.9+ KB\n"
          ],
          "name": "stdout"
        }
      ]
    },
    {
      "cell_type": "markdown",
      "metadata": {
        "id": "tgQGlcMOViHJ",
        "colab_type": "text"
      },
      "source": [
        "* text and selected_text columns have one null value and hence, dropping that data point."
      ]
    },
    {
      "cell_type": "code",
      "metadata": {
        "id": "iAz9XrDpWKod",
        "colab_type": "code",
        "colab": {
          "base_uri": "https://localhost:8080/",
          "height": 204
        },
        "outputId": "83367a3b-c79a-408b-d576-ee943b97348a"
      },
      "source": [
        "#Dropping the row with null value\n",
        "train.dropna(inplace=True)\n",
        "train.info()"
      ],
      "execution_count": null,
      "outputs": [
        {
          "output_type": "stream",
          "text": [
            "<class 'pandas.core.frame.DataFrame'>\n",
            "Int64Index: 27480 entries, 0 to 27480\n",
            "Data columns (total 4 columns):\n",
            " #   Column         Non-Null Count  Dtype \n",
            "---  ------         --------------  ----- \n",
            " 0   textID         27480 non-null  object\n",
            " 1   text           27480 non-null  object\n",
            " 2   selected_text  27480 non-null  object\n",
            " 3   sentiment      27480 non-null  object\n",
            "dtypes: object(4)\n",
            "memory usage: 1.0+ MB\n"
          ],
          "name": "stdout"
        }
      ]
    },
    {
      "cell_type": "code",
      "metadata": {
        "id": "JtxBtlKVWmAM",
        "colab_type": "code",
        "colab": {
          "base_uri": "https://localhost:8080/",
          "height": 187
        },
        "outputId": "cbf6159a-ff41-4500-cebd-4360537ea756"
      },
      "source": [
        "#Information regarding test data\n",
        "test.info()"
      ],
      "execution_count": null,
      "outputs": [
        {
          "output_type": "stream",
          "text": [
            "<class 'pandas.core.frame.DataFrame'>\n",
            "RangeIndex: 3534 entries, 0 to 3533\n",
            "Data columns (total 3 columns):\n",
            " #   Column     Non-Null Count  Dtype \n",
            "---  ------     --------------  ----- \n",
            " 0   textID     3534 non-null   object\n",
            " 1   text       3534 non-null   object\n",
            " 2   sentiment  3534 non-null   object\n",
            "dtypes: object(3)\n",
            "memory usage: 83.0+ KB\n"
          ],
          "name": "stdout"
        }
      ]
    },
    {
      "cell_type": "markdown",
      "metadata": {
        "id": "OpeRhXMQWvSW",
        "colab_type": "text"
      },
      "source": [
        "* Test dataset has no rows with null values."
      ]
    },
    {
      "cell_type": "markdown",
      "metadata": {
        "id": "RVMZfo-rxI-M",
        "colab_type": "text"
      },
      "source": [
        "### Data Cleaning"
      ]
    },
    {
      "cell_type": "code",
      "metadata": {
        "id": "XOG49nolCPSs",
        "colab_type": "code",
        "colab": {}
      },
      "source": [
        "#Reference https://www.kaggle.com/parulpandey/eda-and-preprocessing-for-bert\n",
        "\n",
        "def clean(tweet):\n",
        "  #Covert to lowercase\n",
        "  tweet=tweet.lower()\n",
        "\n",
        "  #Remove html tags\n",
        "  tweet=re.sub('<.*?>','',tweet)\n",
        "\n",
        "  #Remove text in square brackets\n",
        "  tweet=re.sub('\\[.*?\\]','',tweet)\n",
        "\n",
        "  #Remove hyperlinks\n",
        "  tweet=re.sub('https?://\\S+|www\\.\\S+','',tweet)\n",
        "\n",
        "  \n",
        "  return tweet"
      ],
      "execution_count": null,
      "outputs": []
    },
    {
      "cell_type": "code",
      "metadata": {
        "id": "uGvQbTxUCXwY",
        "colab_type": "code",
        "colab": {
          "base_uri": "https://localhost:8080/",
          "height": 272
        },
        "outputId": "ceac2140-b923-46cc-aff5-50584cbfca00"
      },
      "source": [
        "#Cleaning the text attribute\n",
        "train['clean_text']=train['text'].apply(clean)\n",
        "train['clean_selected_text']=train['selected_text'].apply(str.lower)\n",
        "train.head()"
      ],
      "execution_count": null,
      "outputs": [
        {
          "output_type": "execute_result",
          "data": {
            "text/html": [
              "<div>\n",
              "<style scoped>\n",
              "    .dataframe tbody tr th:only-of-type {\n",
              "        vertical-align: middle;\n",
              "    }\n",
              "\n",
              "    .dataframe tbody tr th {\n",
              "        vertical-align: top;\n",
              "    }\n",
              "\n",
              "    .dataframe thead th {\n",
              "        text-align: right;\n",
              "    }\n",
              "</style>\n",
              "<table border=\"1\" class=\"dataframe\">\n",
              "  <thead>\n",
              "    <tr style=\"text-align: right;\">\n",
              "      <th></th>\n",
              "      <th>textID</th>\n",
              "      <th>text</th>\n",
              "      <th>selected_text</th>\n",
              "      <th>sentiment</th>\n",
              "      <th>clean_text</th>\n",
              "      <th>clean_selected_text</th>\n",
              "    </tr>\n",
              "  </thead>\n",
              "  <tbody>\n",
              "    <tr>\n",
              "      <th>0</th>\n",
              "      <td>cb774db0d1</td>\n",
              "      <td>I`d have responded, if I were going</td>\n",
              "      <td>I`d have responded, if I were going</td>\n",
              "      <td>neutral</td>\n",
              "      <td>i`d have responded, if i were going</td>\n",
              "      <td>i`d have responded, if i were going</td>\n",
              "    </tr>\n",
              "    <tr>\n",
              "      <th>1</th>\n",
              "      <td>549e992a42</td>\n",
              "      <td>Sooo SAD I will miss you here in San Diego!!!</td>\n",
              "      <td>Sooo SAD</td>\n",
              "      <td>negative</td>\n",
              "      <td>sooo sad i will miss you here in san diego!!!</td>\n",
              "      <td>sooo sad</td>\n",
              "    </tr>\n",
              "    <tr>\n",
              "      <th>2</th>\n",
              "      <td>088c60f138</td>\n",
              "      <td>my boss is bullying me...</td>\n",
              "      <td>bullying me</td>\n",
              "      <td>negative</td>\n",
              "      <td>my boss is bullying me...</td>\n",
              "      <td>bullying me</td>\n",
              "    </tr>\n",
              "    <tr>\n",
              "      <th>3</th>\n",
              "      <td>9642c003ef</td>\n",
              "      <td>what interview! leave me alone</td>\n",
              "      <td>leave me alone</td>\n",
              "      <td>negative</td>\n",
              "      <td>what interview! leave me alone</td>\n",
              "      <td>leave me alone</td>\n",
              "    </tr>\n",
              "    <tr>\n",
              "      <th>4</th>\n",
              "      <td>358bd9e861</td>\n",
              "      <td>Sons of ****, why couldn`t they put them on t...</td>\n",
              "      <td>Sons of ****,</td>\n",
              "      <td>negative</td>\n",
              "      <td>sons of ****, why couldn`t they put them on t...</td>\n",
              "      <td>sons of ****,</td>\n",
              "    </tr>\n",
              "  </tbody>\n",
              "</table>\n",
              "</div>"
            ],
            "text/plain": [
              "       textID  ...                  clean_selected_text\n",
              "0  cb774db0d1  ...  i`d have responded, if i were going\n",
              "1  549e992a42  ...                             sooo sad\n",
              "2  088c60f138  ...                          bullying me\n",
              "3  9642c003ef  ...                       leave me alone\n",
              "4  358bd9e861  ...                        sons of ****,\n",
              "\n",
              "[5 rows x 6 columns]"
            ]
          },
          "metadata": {
            "tags": []
          },
          "execution_count": 78
        }
      ]
    },
    {
      "cell_type": "markdown",
      "metadata": {
        "id": "b1QGFAPQ7L2S",
        "colab_type": "text"
      },
      "source": [
        "##DATA PREPROCESSING"
      ]
    },
    {
      "cell_type": "code",
      "metadata": {
        "id": "K03Ag80p7LgL",
        "colab_type": "code",
        "colab": {
          "base_uri": "https://localhost:8080/",
          "height": 68
        },
        "outputId": "ef9aec86-4202-4044-ff46-0afddddcd09c"
      },
      "source": [
        "from sklearn.model_selection import train_test_split\n",
        "\n",
        "X_train,X_val,Y_train,Y_val=train_test_split(train[['sentiment','clean_text','textID']],train['clean_selected_text'],\n",
        "                                               test_size=0.2,random_state=42,stratify=train['sentiment'])\n",
        "\n",
        "X_train,X_test,Y_train,Y_test=train_test_split(X_train,Y_train,\n",
        "                                               test_size=0.2,random_state=42,stratify=X_train['sentiment'])\n",
        "\n",
        "X_train.reset_index(inplace=True,drop=True)\n",
        "X_val.reset_index(inplace=True,drop=True)\n",
        "X_test.reset_index(inplace=True,drop=True)\n",
        "\n",
        "Y_train=Y_train.reset_index(drop=True)\n",
        "Y_val=Y_val.reset_index(drop=True)\n",
        "Y_test=Y_test.reset_index(drop=True)\n",
        "\n",
        "print('X_train shape',X_train.shape,' Y_train shape ',Y_train.shape)\n",
        "print('X_val shape',X_val.shape,' Y_val shape ',Y_val.shape)\n",
        "print('X_test shape',X_test.shape,' Y_test shape ',Y_test.shape)"
      ],
      "execution_count": null,
      "outputs": [
        {
          "output_type": "stream",
          "text": [
            "X_train shape (17587, 3)  Y_train shape  (17587,)\n",
            "X_val shape (5496, 3)  Y_val shape  (5496,)\n",
            "X_test shape (4397, 3)  Y_test shape  (4397,)\n"
          ],
          "name": "stdout"
        }
      ]
    },
    {
      "cell_type": "code",
      "metadata": {
        "id": "46PeEurRSbDU",
        "colab_type": "code",
        "colab": {
          "base_uri": "https://localhost:8080/",
          "height": 34
        },
        "outputId": "d670be8b-d758-4a50-c961-5a4131834a5b"
      },
      "source": [
        "#Finding highest number of words in the clean_text\n",
        "count_length=[]\n",
        "for i in X_train.text.values:\n",
        "  count_length.append(len(i.split(\" \")))\n",
        "max_count=max(count_length)\n",
        "print('The highest number of words in essay is ',max_count)"
      ],
      "execution_count": null,
      "outputs": [
        {
          "output_type": "stream",
          "text": [
            "The highest number of words in essay is  101\n"
          ],
          "name": "stdout"
        }
      ]
    },
    {
      "cell_type": "code",
      "metadata": {
        "id": "wbL2ksFkS8yw",
        "colab_type": "code",
        "colab": {
          "base_uri": "https://localhost:8080/",
          "height": 170
        },
        "outputId": "a265af35-d17a-4349-f34a-78ed4e414dd4"
      },
      "source": [
        "#Finding the word length of each clean_text\n",
        "text_word_len=X_train.text.apply(lambda x: len(x.split(\" \")))\n",
        "\n",
        "text_word_len.describe()"
      ],
      "execution_count": null,
      "outputs": [
        {
          "output_type": "execute_result",
          "data": {
            "text/plain": [
              "count    21984.000000\n",
              "mean        13.792303\n",
              "std          7.185375\n",
              "min          1.000000\n",
              "25%          8.000000\n",
              "50%         13.000000\n",
              "75%         19.000000\n",
              "max        101.000000\n",
              "Name: text, dtype: float64"
            ]
          },
          "metadata": {
            "tags": []
          },
          "execution_count": 24
        }
      ]
    },
    {
      "cell_type": "code",
      "metadata": {
        "id": "ajkdmd4ITj6-",
        "colab_type": "code",
        "colab": {
          "base_uri": "https://localhost:8080/",
          "height": 187
        },
        "outputId": "34f8a81c-5be9-44fd-a024-f5f5aa282f4e"
      },
      "source": [
        "#Printing percentile values of word length to get the appropriate sequence length value\n",
        "for i in range(90,100):\n",
        "  print('{}th percentile: {}'.format(i,np.percentile(text_word_len.values,i)))"
      ],
      "execution_count": null,
      "outputs": [
        {
          "output_type": "stream",
          "text": [
            "90th percentile: 24.0\n",
            "91th percentile: 25.0\n",
            "92th percentile: 25.0\n",
            "93th percentile: 25.0\n",
            "94th percentile: 26.0\n",
            "95th percentile: 26.0\n",
            "96th percentile: 27.0\n",
            "97th percentile: 27.0\n",
            "98th percentile: 28.0\n",
            "99th percentile: 29.0\n"
          ],
          "name": "stdout"
        }
      ]
    },
    {
      "cell_type": "code",
      "metadata": {
        "id": "F-iUAOoUUehL",
        "colab_type": "code",
        "colab": {
          "base_uri": "https://localhost:8080/",
          "height": 187
        },
        "outputId": "8358ac0f-3131-404c-8499-29f0c6379351"
      },
      "source": [
        "for i in range(990,1000):\n",
        "  print('{}th percentile: {}'.format(i/10,np.percentile(text_word_len.values,i/10)))"
      ],
      "execution_count": null,
      "outputs": [
        {
          "output_type": "stream",
          "text": [
            "99.0th percentile: 29.0\n",
            "99.1th percentile: 29.0\n",
            "99.2th percentile: 30.0\n",
            "99.3th percentile: 30.0\n",
            "99.4th percentile: 30.0\n",
            "99.5th percentile: 30.0\n",
            "99.6th percentile: 31.0\n",
            "99.7th percentile: 31.0\n",
            "99.8th percentile: 31.0\n",
            "99.9th percentile: 32.0\n"
          ],
          "name": "stdout"
        }
      ]
    },
    {
      "cell_type": "markdown",
      "metadata": {
        "id": "i6SexmOZVXg3",
        "colab_type": "text"
      },
      "source": [
        "* 99.9 percentile of clean_text have length less than 32. Hence, fixing the sequence length to 32 for clean_text "
      ]
    },
    {
      "cell_type": "code",
      "metadata": {
        "id": "lCeLXAtIvsjl",
        "colab_type": "code",
        "colab": {}
      },
      "source": [
        "#Seq_length is 1 more because of sentiment\n",
        "seq_length=33"
      ],
      "execution_count": null,
      "outputs": []
    },
    {
      "cell_type": "code",
      "metadata": {
        "id": "yr-DfP_JVpOT",
        "colab_type": "code",
        "colab": {
          "base_uri": "https://localhost:8080/",
          "height": 68
        },
        "outputId": "5e3df0fd-1c45-4a02-ffb4-3be83bf0f413"
      },
      "source": [
        "#Tokenizing the clean_text and sentiment and mapping each word to a integer followed by padding to have equal lengths\n",
        "\n",
        "tokenizer = tf.keras.preprocessing.text.Tokenizer(oov_token='UNK',filters='')\n",
        "tokenizer.fit_on_texts(X_train['clean_text'].values+' '+X_train['sentiment'].values)\n",
        "\n",
        "X_train_clean_text = tokenizer.texts_to_sequences(X_train['sentiment'].values+' '+X_train['clean_text'].values)\n",
        "X_val_clean_text = tokenizer.texts_to_sequences(X_val['sentiment'].values+' '+X_val['clean_text'].values)\n",
        "X_test_clean_text = tokenizer.texts_to_sequences(X_test['sentiment'].values+' '+X_test['clean_text'].values)\n",
        "\n",
        "X_train_tokens = tf.keras.preprocessing.sequence.pad_sequences(X_train_clean_text,maxlen=seq_length,padding='post')\n",
        "X_val_tokens = tf.keras.preprocessing.sequence.pad_sequences(X_val_clean_text,maxlen=seq_length,padding='post')\n",
        "X_test_tokens = tf.keras.preprocessing.sequence.pad_sequences(X_test_clean_text,maxlen=seq_length,padding='post')\n",
        "\n",
        "print('The shape of X_train_tokens ',X_train_tokens.shape)\n",
        "print('The shape of X_val_tokens ',X_val_tokens.shape)\n",
        "print('The shape of X_test_tokens ',X_test_tokens.shape)"
      ],
      "execution_count": null,
      "outputs": [
        {
          "output_type": "stream",
          "text": [
            "The shape of X_train_tokens  (17587, 33)\n",
            "The shape of X_val_tokens  (5496, 33)\n",
            "The shape of X_test_tokens  (4397, 33)\n"
          ],
          "name": "stdout"
        }
      ]
    },
    {
      "cell_type": "code",
      "metadata": {
        "id": "Sw4VxbWsXEBC",
        "colab_type": "code",
        "colab": {}
      },
      "source": [
        "sentiment_dict={'positive':6,'negative':7,'neutral':3}"
      ],
      "execution_count": null,
      "outputs": []
    },
    {
      "cell_type": "code",
      "metadata": {
        "id": "UBhb0-pcgBgx",
        "colab_type": "code",
        "colab": {
          "base_uri": "https://localhost:8080/",
          "height": 357
        },
        "outputId": "9191272b-4629-4d35-decc-485a95eef000"
      },
      "source": [
        "#Reference https://stackoverflow.com/questions/50060241/how-to-use-glove-word-embeddings-file-on-google-colaboratory\n",
        "\n",
        "!wget http://nlp.stanford.edu/data/glove.twitter.27B.zip"
      ],
      "execution_count": null,
      "outputs": [
        {
          "output_type": "stream",
          "text": [
            "--2020-08-13 14:08:09--  http://nlp.stanford.edu/data/glove.twitter.27B.zip\n",
            "Resolving nlp.stanford.edu (nlp.stanford.edu)... 171.64.67.140\n",
            "Connecting to nlp.stanford.edu (nlp.stanford.edu)|171.64.67.140|:80... connected.\n",
            "HTTP request sent, awaiting response... 302 Found\n",
            "Location: https://nlp.stanford.edu/data/glove.twitter.27B.zip [following]\n",
            "--2020-08-13 14:08:09--  https://nlp.stanford.edu/data/glove.twitter.27B.zip\n",
            "Connecting to nlp.stanford.edu (nlp.stanford.edu)|171.64.67.140|:443... connected.\n",
            "HTTP request sent, awaiting response... 301 Moved Permanently\n",
            "Location: http://downloads.cs.stanford.edu/nlp/data/glove.twitter.27B.zip [following]\n",
            "--2020-08-13 14:08:09--  http://downloads.cs.stanford.edu/nlp/data/glove.twitter.27B.zip\n",
            "Resolving downloads.cs.stanford.edu (downloads.cs.stanford.edu)... 171.64.64.22\n",
            "Connecting to downloads.cs.stanford.edu (downloads.cs.stanford.edu)|171.64.64.22|:80... connected.\n",
            "HTTP request sent, awaiting response... 200 OK\n",
            "Length: 1520408563 (1.4G) [application/zip]\n",
            "Saving to: ‘glove.twitter.27B.zip’\n",
            "\n",
            "glove.twitter.27B.z 100%[===================>]   1.42G  2.06MB/s    in 11m 41s \n",
            "\n",
            "2020-08-13 14:19:50 (2.07 MB/s) - ‘glove.twitter.27B.zip’ saved [1520408563/1520408563]\n",
            "\n"
          ],
          "name": "stdout"
        }
      ]
    },
    {
      "cell_type": "code",
      "metadata": {
        "id": "KiWN5tZAjAz_",
        "colab_type": "code",
        "colab": {
          "base_uri": "https://localhost:8080/",
          "height": 102
        },
        "outputId": "ec30620e-44a8-43f9-fbca-6b1d52f935f5"
      },
      "source": [
        "!unzip /content/data/glove.twitter.27B.zip"
      ],
      "execution_count": null,
      "outputs": [
        {
          "output_type": "stream",
          "text": [
            "Archive:  /content/data/glove.twitter.27B.zip\n",
            "  inflating: glove.twitter.27B.25d.txt  \n",
            "  inflating: glove.twitter.27B.50d.txt  \n",
            "  inflating: glove.twitter.27B.100d.txt  \n",
            "  inflating: glove.twitter.27B.200d.txt  \n"
          ],
          "name": "stdout"
        }
      ]
    },
    {
      "cell_type": "code",
      "metadata": {
        "id": "tC_2EC45kN1m",
        "colab_type": "code",
        "colab": {
          "base_uri": "https://localhost:8080/",
          "height": 34
        },
        "outputId": "e0f6292e-af37-4191-eaa6-cb162051a58b"
      },
      "source": [
        "#Loading all the vectors as dictonary with key as string and value as vector\n",
        "\n",
        "embeddings_index = {}\n",
        "f = open('/content/data/glove.twitter.27B.100d.txt', encoding='utf-8')\n",
        "for line in f:\n",
        "    values = line.split()\n",
        "    word = values[0]\n",
        "    coefs = np.asarray(values[1:], dtype='float32')\n",
        "    embeddings_index[word] = coefs\n",
        "f.close()\n",
        "\n",
        "print('Found %s word vectors.' % len(embeddings_index))"
      ],
      "execution_count": null,
      "outputs": [
        {
          "output_type": "stream",
          "text": [
            "Found 1193514 word vectors.\n"
          ],
          "name": "stdout"
        }
      ]
    },
    {
      "cell_type": "code",
      "metadata": {
        "id": "wsZ1tSd8mUb-",
        "colab_type": "code",
        "colab": {
          "base_uri": "https://localhost:8080/",
          "height": 34
        },
        "outputId": "8fc39bec-c032-46fb-d1ce-b41c287104c6"
      },
      "source": [
        "vocab_size=len(tokenizer.word_index)+1\n",
        "print(vocab_size)"
      ],
      "execution_count": null,
      "outputs": [
        {
          "output_type": "stream",
          "text": [
            "32146\n"
          ],
          "name": "stdout"
        }
      ]
    },
    {
      "cell_type": "code",
      "metadata": {
        "id": "0HH4rffalGji",
        "colab_type": "code",
        "colab": {}
      },
      "source": [
        "#Getting the weights from the above dictionary for all the words in the document\n",
        "\n",
        "embedding_matrix = np.zeros((vocab_size, 100))\n",
        "for word, i in tokenizer.word_index.items():\n",
        "  embedding_vector = embeddings_index.get(word)\n",
        "  if embedding_vector is not None:    \n",
        "    embedding_matrix[i] = embedding_vector"
      ],
      "execution_count": null,
      "outputs": []
    },
    {
      "cell_type": "code",
      "metadata": {
        "id": "UZZ7uOXkpEuo",
        "colab_type": "code",
        "colab": {
          "base_uri": "https://localhost:8080/",
          "height": 34
        },
        "outputId": "e9386915-8b2c-44a9-9872-9c603e9963e7"
      },
      "source": [
        "#Shape of embedding matrix\n",
        "embedding_matrix.shape"
      ],
      "execution_count": null,
      "outputs": [
        {
          "output_type": "execute_result",
          "data": {
            "text/plain": [
              "(32146, 100)"
            ]
          },
          "metadata": {
            "tags": []
          },
          "execution_count": 38
        }
      ]
    },
    {
      "cell_type": "code",
      "metadata": {
        "id": "GA22-idFr7Ny",
        "colab_type": "code",
        "colab": {}
      },
      "source": [
        "#Creating start_index and end_index arrays\n",
        "\n",
        "def get_start_end_index(X_data,Y_data):\n",
        "    start_index=np.zeros((X_data.shape[0],32),dtype='int32')\n",
        "    end_index=np.zeros((X_data.shape[0],32),dtype='int32')\n",
        "\n",
        "    for k in range(X_data.shape[0]):\n",
        "      tx1=\" \".join(X_data['clean_text'][k].split())\n",
        "      tx2=\" \".join(Y_data[k].split())\n",
        "      #Finding the index position in tx1 where tx2 begins\n",
        "      idx=tx1.find(tx2)\n",
        "\n",
        "      #Inserting 1 for each character in tx1 for words present in tx2\n",
        "      chars=np.zeros(len(tx1))\n",
        "      chars[idx:idx+len(tx2)]=1\n",
        "\n",
        "      #Create offsets with(start,end) for each word\n",
        "      offsets=[]\n",
        "      j=0\n",
        "      for i in tx1.split():\n",
        "        offsets.append((j,j+len(i)+1))\n",
        "        j+=len(i)+1\n",
        "\n",
        "      #Find the word index of tx1 using offsets that is present in tx2\n",
        "      vals=[]\n",
        "      for i,(o1,o2) in enumerate(offsets):\n",
        "        if(sum(chars[o1:o2])>0):\n",
        "          vals.append(i)\n",
        "\n",
        "      #Insert 1 for the begining word in start_index and for ending word in end_index\n",
        "      if(len(vals)>0 and len(vals)<=32):\n",
        "        start_index[k,vals[0]]=1\n",
        "        end_index[k,vals[-1]]=1\n",
        "      else:\n",
        "        start_index[k,0]=1\n",
        "        end_index[k,-1]=1\n",
        "\n",
        "\n",
        "    return start_index,end_index \n",
        "\n",
        "  \n"
      ],
      "execution_count": null,
      "outputs": []
    },
    {
      "cell_type": "code",
      "metadata": {
        "id": "yzgXkwCDcp9W",
        "colab_type": "code",
        "colab": {}
      },
      "source": [
        "#Preparing for Y train and test data\n",
        "Y_tr_1,Y_tr_2=get_start_end_index(X_train,Y_train)\n",
        "Y_val_1,Y_val_2=get_start_end_index(X_val,Y_val)\n",
        "Y_te_1,Y_te_2=get_start_end_index(X_test,Y_test)"
      ],
      "execution_count": null,
      "outputs": []
    },
    {
      "cell_type": "code",
      "metadata": {
        "id": "yvCLldPcRhUy",
        "colab_type": "code",
        "colab": {
          "base_uri": "https://localhost:8080/",
          "height": 35
        },
        "outputId": "b6c88758-55b4-40a4-db75-fbdaf4f81fb4"
      },
      "source": [
        "#Example for a tweet with values for Y_train,X_train_tokens,start_index,end_index\n",
        "X_train['clean_text'][129]"
      ],
      "execution_count": null,
      "outputs": [
        {
          "output_type": "execute_result",
          "data": {
            "application/vnd.google.colaboratory.intrinsic+json": {
              "type": "string"
            },
            "text/plain": [
              "' i could act in most buffy eps  i have seen them so many times, but s1 was shaky (apart from eps 1,2,6,7 & 12)'"
            ]
          },
          "metadata": {
            "tags": []
          },
          "execution_count": 83
        }
      ]
    },
    {
      "cell_type": "code",
      "metadata": {
        "id": "Aa_IpNHiUDbJ",
        "colab_type": "code",
        "colab": {
          "base_uri": "https://localhost:8080/",
          "height": 35
        },
        "outputId": "53124755-01d9-43cc-9297-c73297577ea8"
      },
      "source": [
        "Y_train[129]"
      ],
      "execution_count": null,
      "outputs": [
        {
          "output_type": "execute_result",
          "data": {
            "application/vnd.google.colaboratory.intrinsic+json": {
              "type": "string"
            },
            "text/plain": [
              "'i could act in most buffy eps  i have seen them so many times, but s1 was shaky (apart from eps 1,2,6,7 & 12)'"
            ]
          },
          "metadata": {
            "tags": []
          },
          "execution_count": 84
        }
      ]
    },
    {
      "cell_type": "code",
      "metadata": {
        "id": "F-UILj8ORsJO",
        "colab_type": "code",
        "colab": {
          "base_uri": "https://localhost:8080/",
          "height": 85
        },
        "outputId": "86b84457-3af8-4b01-cd62-76a7c73d6657"
      },
      "source": [
        "X_train_tokens[129]"
      ],
      "execution_count": null,
      "outputs": [
        {
          "output_type": "execute_result",
          "data": {
            "text/plain": [
              "array([   3,    2,  121, 2410,   14,  315, 9774, 4516,    2,   18,  392,\n",
              "        148,   19,  311, 3087,   21, 9775,   29, 6088, 9776,   49, 4516,\n",
              "       9777,   81, 9778,    0,    0,    0,    0,    0,    0,    0,    0],\n",
              "      dtype=int32)"
            ]
          },
          "metadata": {
            "tags": []
          },
          "execution_count": 85
        }
      ]
    },
    {
      "cell_type": "code",
      "metadata": {
        "id": "t4RcfCNPaulS",
        "colab_type": "code",
        "colab": {
          "base_uri": "https://localhost:8080/",
          "height": 51
        },
        "outputId": "914889d6-e3ee-4b67-feba-570fc256c545"
      },
      "source": [
        "Y_tr_1[129]"
      ],
      "execution_count": null,
      "outputs": [
        {
          "output_type": "execute_result",
          "data": {
            "text/plain": [
              "array([1, 0, 0, 0, 0, 0, 0, 0, 0, 0, 0, 0, 0, 0, 0, 0, 0, 0, 0, 0, 0, 0,\n",
              "       0, 0, 0, 0, 0, 0, 0, 0, 0, 0], dtype=int32)"
            ]
          },
          "metadata": {
            "tags": []
          },
          "execution_count": 86
        }
      ]
    },
    {
      "cell_type": "code",
      "metadata": {
        "id": "T2_xyg4SazXy",
        "colab_type": "code",
        "colab": {
          "base_uri": "https://localhost:8080/",
          "height": 51
        },
        "outputId": "797a0bd3-a9ba-4995-b0d4-e472bef85795"
      },
      "source": [
        "Y_tr_2[129]"
      ],
      "execution_count": null,
      "outputs": [
        {
          "output_type": "execute_result",
          "data": {
            "text/plain": [
              "array([0, 0, 0, 0, 0, 0, 0, 0, 0, 0, 0, 0, 0, 0, 0, 0, 0, 0, 0, 0, 0, 0,\n",
              "       0, 1, 0, 0, 0, 0, 0, 0, 0, 0], dtype=int32)"
            ]
          },
          "metadata": {
            "tags": []
          },
          "execution_count": 87
        }
      ]
    },
    {
      "cell_type": "code",
      "metadata": {
        "id": "qrignruqvZD7",
        "colab_type": "code",
        "colab": {
          "base_uri": "https://localhost:8080/",
          "height": 391
        },
        "outputId": "26e0e26a-bff4-4626-a8a6-83887a2ecc01"
      },
      "source": [
        "#Model1: Conv1d\n",
        "\n",
        "input_layer=Input((seq_length,),name='input')\n",
        "embedding_layer=Embedding(vocab_size,100,weights=[embedding_matrix],input_length=seq_length,trainable=False)(input_layer)\n",
        "\n",
        "conv1d=Conv1D(6,2,kernel_initializer=tf.keras.initializers.glorot_uniform(seed=20),name='conv1d')(embedding_layer)\n",
        "dropout=Dropout(0.2,name=\"drop_out\")(conv1d)\n",
        "flatten=Flatten(name='flatten')(dropout)\n",
        "\n",
        "output1=Dense(32,activation='softmax',kernel_initializer=tf.keras.initializers.glorot_uniform(seed=45),name='output1')(flatten)\n",
        "\n",
        "output2=Dense(32,activation='softmax',kernel_initializer=tf.keras.initializers.glorot_uniform(seed=45),name='output2')(flatten)\n",
        "\n",
        "model1=Model(inputs=[input_layer],outputs=[output1,output2])\n",
        "\n",
        "model1.summary()\n"
      ],
      "execution_count": null,
      "outputs": [
        {
          "output_type": "stream",
          "text": [
            "Model: \"functional_47\"\n",
            "__________________________________________________________________________________________________\n",
            "Layer (type)                    Output Shape         Param #     Connected to                     \n",
            "==================================================================================================\n",
            "input (InputLayer)              [(None, 33)]         0                                            \n",
            "__________________________________________________________________________________________________\n",
            "embedding_24 (Embedding)        (None, 33, 100)      3214600     input[0][0]                      \n",
            "__________________________________________________________________________________________________\n",
            "conv1d (Conv1D)                 (None, 32, 6)        1206        embedding_24[0][0]               \n",
            "__________________________________________________________________________________________________\n",
            "drop_out (Dropout)              (None, 32, 6)        0           conv1d[0][0]                     \n",
            "__________________________________________________________________________________________________\n",
            "flatten (Flatten)               (None, 192)          0           drop_out[0][0]                   \n",
            "__________________________________________________________________________________________________\n",
            "output1 (Dense)                 (None, 32)           6176        flatten[0][0]                    \n",
            "__________________________________________________________________________________________________\n",
            "output2 (Dense)                 (None, 32)           6176        flatten[0][0]                    \n",
            "==================================================================================================\n",
            "Total params: 3,228,158\n",
            "Trainable params: 13,558\n",
            "Non-trainable params: 3,214,600\n",
            "__________________________________________________________________________________________________\n"
          ],
          "name": "stdout"
        }
      ]
    },
    {
      "cell_type": "code",
      "metadata": {
        "id": "DTjwVbrv70TI",
        "colab_type": "code",
        "colab": {
          "base_uri": "https://localhost:8080/",
          "height": 644
        },
        "outputId": "e2692d72-1ee3-4098-c279-cdca6d0903de"
      },
      "source": [
        "tf.keras.utils.plot_model(model1, 'Model1.png',show_shapes=True)"
      ],
      "execution_count": null,
      "outputs": [
        {
          "output_type": "execute_result",
          "data": {
            "image/png": "[encoded data removed]",
            "text/plain": [
              "<IPython.core.display.Image object>"
            ]
          },
          "metadata": {
            "tags": []
          },
          "execution_count": 267
        }
      ]
    },
    {
      "cell_type": "markdown",
      "metadata": {
        "id": "3iiYO-2-BER-",
        "colab_type": "text"
      },
      "source": [
        " MODEL ARCHIETECTURE \n",
        "* This base line model has:\n",
        "1. Input layer with size:(batch_size,sequence_length)\n",
        "2.Embedding layer with pre-trained word vectors of 100 dimension.\n",
        "3. Conv1d: 6 conv1d layers with kernel size 2 and stride=1\n",
        "4. Dropout: To prevent overfitting\n",
        "5. Output layer: Two 32 neuron dense layer with softmax activation function."
      ]
    },
    {
      "cell_type": "code",
      "metadata": {
        "id": "LpEvHuwg8LC8",
        "colab_type": "code",
        "colab": {}
      },
      "source": [
        "#Creating  directory for model and weights \n",
        "import os\n",
        "import shutil\n",
        "\n",
        "shutil.rmtree('/content/Model1')\n",
        "shutil.rmtree('/content/model_save1')\n",
        "\n",
        "os.mkdir('/content/Model1')\n",
        "os.mkdir('/content/model_save1')"
      ],
      "execution_count": null,
      "outputs": []
    },
    {
      "cell_type": "code",
      "metadata": {
        "id": "7z2hpxwD9QEU",
        "colab_type": "code",
        "colab": {
          "base_uri": "https://localhost:8080/",
          "height": 51
        },
        "outputId": "e35c51f0-727a-466d-ec67-87e0d95b1e03"
      },
      "source": [
        "#Setting the parameters for TensorBoard\n",
        "from tensorflow.keras.callbacks import TensorBoard\n",
        "%load_ext tensorboard\n",
        "!rm -rf ./logs/ \n",
        "\n",
        "log_dir='/content/Model1'\n",
        "tensorboard_callback = TensorBoard(log_dir=log_dir,histogram_freq=1, write_graph=True)"
      ],
      "execution_count": null,
      "outputs": [
        {
          "output_type": "stream",
          "text": [
            "The tensorboard extension is already loaded. To reload it, use:\n",
            "  %reload_ext tensorboard\n"
          ],
          "name": "stdout"
        }
      ]
    },
    {
      "cell_type": "code",
      "metadata": {
        "id": "VAizUB8I9Tfp",
        "colab_type": "code",
        "colab": {}
      },
      "source": [
        "# Save  model at every epoch\n",
        "from tensorflow.keras.callbacks import ModelCheckpoint\n",
        "\n",
        "filepath=\"/content/model_save1/weights-{epoch:02d}-{val_loss:.4f}.hdf5\"\n",
        "checkpoint = ModelCheckpoint(filepath=filepath, monitor='val_loss', verbose=1, save_best_only=True, mode='auto')"
      ],
      "execution_count": null,
      "outputs": []
    },
    {
      "cell_type": "code",
      "metadata": {
        "id": "pGshztvc9q0l",
        "colab_type": "code",
        "colab": {}
      },
      "source": [
        "#Compiling the model\n",
        "model1.compile(optimizer=tf.keras.optimizers.Adam(learning_rate=0.001),\n",
        "              loss=tf.keras.losses.CategoricalCrossentropy())"
      ],
      "execution_count": null,
      "outputs": []
    },
    {
      "cell_type": "code",
      "metadata": {
        "id": "iFMbdrdc-_ia",
        "colab_type": "code",
        "colab": {
          "base_uri": "https://localhost:8080/",
          "height": 1000
        },
        "outputId": "c0ffcd87-e179-40d8-8760-b62fb7c35e2f"
      },
      "source": [
        "#Fitting the model and running it for 25 epochs\n",
        "callback=[tensorboard_callback,checkpoint]\n",
        "model1.fit(X_train_tokens,[Y_tr_1,Y_tr_2],batch_size=32,epochs=20,callbacks=callback,\n",
        "           validation_data=(X_val_tokens,[Y_val_1,Y_val_2]))"
      ],
      "execution_count": null,
      "outputs": [
        {
          "output_type": "stream",
          "text": [
            "Epoch 1/20\n",
            "  2/550 [..............................] - ETA: 18s - loss: 7.7704 - output1_loss: 3.8058 - output2_loss: 3.9646WARNING:tensorflow:Callbacks method `on_train_batch_end` is slow compared to the batch time (batch time: 0.0111s vs `on_train_batch_end` time: 0.0543s). Check your callbacks.\n",
            "549/550 [============================>.] - ETA: 0s - loss: 4.7127 - output1_loss: 1.9145 - output2_loss: 2.7983\n",
            "Epoch 00001: val_loss improved from inf to 3.82617, saving model to /content/model_save1/weights-01-3.8262.hdf5\n",
            "550/550 [==============================] - 5s 8ms/step - loss: 4.7120 - output1_loss: 1.9140 - output2_loss: 2.7980 - val_loss: 3.8262 - val_output1_loss: 1.5618 - val_output2_loss: 2.2643\n",
            "Epoch 2/20\n",
            "544/550 [============================>.] - ETA: 0s - loss: 3.6565 - output1_loss: 1.5331 - output2_loss: 2.1234\n",
            "Epoch 00002: val_loss improved from 3.82617 to 3.42054, saving model to /content/model_save1/weights-02-3.4205.hdf5\n",
            "550/550 [==============================] - 4s 8ms/step - loss: 3.6555 - output1_loss: 1.5331 - output2_loss: 2.1223 - val_loss: 3.4205 - val_output1_loss: 1.4407 - val_output2_loss: 1.9798\n",
            "Epoch 3/20\n",
            "549/550 [============================>.] - ETA: 0s - loss: 3.3898 - output1_loss: 1.4313 - output2_loss: 1.9585\n",
            "Epoch 00003: val_loss improved from 3.42054 to 3.29825, saving model to /content/model_save1/weights-03-3.2982.hdf5\n",
            "550/550 [==============================] - 4s 8ms/step - loss: 3.3903 - output1_loss: 1.4318 - output2_loss: 1.9585 - val_loss: 3.2982 - val_output1_loss: 1.3775 - val_output2_loss: 1.9207\n",
            "Epoch 4/20\n",
            "542/550 [============================>.] - ETA: 0s - loss: 3.2744 - output1_loss: 1.3800 - output2_loss: 1.8945\n",
            "Epoch 00004: val_loss improved from 3.29825 to 3.24185, saving model to /content/model_save1/weights-04-3.2419.hdf5\n",
            "550/550 [==============================] - 4s 8ms/step - loss: 3.2742 - output1_loss: 1.3793 - output2_loss: 1.8949 - val_loss: 3.2419 - val_output1_loss: 1.3549 - val_output2_loss: 1.8870\n",
            "Epoch 5/20\n",
            "544/550 [============================>.] - ETA: 0s - loss: 3.2146 - output1_loss: 1.3526 - output2_loss: 1.8620\n",
            "Epoch 00005: val_loss improved from 3.24185 to 3.21305, saving model to /content/model_save1/weights-05-3.2130.hdf5\n",
            "550/550 [==============================] - 4s 8ms/step - loss: 3.2134 - output1_loss: 1.3517 - output2_loss: 1.8618 - val_loss: 3.2130 - val_output1_loss: 1.3380 - val_output2_loss: 1.8750\n",
            "Epoch 6/20\n",
            "542/550 [============================>.] - ETA: 0s - loss: 3.1761 - output1_loss: 1.3288 - output2_loss: 1.8473\n",
            "Epoch 00006: val_loss improved from 3.21305 to 3.19294, saving model to /content/model_save1/weights-06-3.1929.hdf5\n",
            "550/550 [==============================] - 4s 8ms/step - loss: 3.1755 - output1_loss: 1.3293 - output2_loss: 1.8462 - val_loss: 3.1929 - val_output1_loss: 1.3283 - val_output2_loss: 1.8647\n",
            "Epoch 7/20\n",
            "543/550 [============================>.] - ETA: 0s - loss: 3.1387 - output1_loss: 1.3162 - output2_loss: 1.8225\n",
            "Epoch 00007: val_loss improved from 3.19294 to 3.17919, saving model to /content/model_save1/weights-07-3.1792.hdf5\n",
            "550/550 [==============================] - 4s 8ms/step - loss: 3.1395 - output1_loss: 1.3172 - output2_loss: 1.8223 - val_loss: 3.1792 - val_output1_loss: 1.3193 - val_output2_loss: 1.8599\n",
            "Epoch 8/20\n",
            "546/550 [============================>.] - ETA: 0s - loss: 3.1232 - output1_loss: 1.3037 - output2_loss: 1.8196\n",
            "Epoch 00008: val_loss did not improve from 3.17919\n",
            "550/550 [==============================] - 4s 7ms/step - loss: 3.1228 - output1_loss: 1.3039 - output2_loss: 1.8189 - val_loss: 3.1797 - val_output1_loss: 1.3269 - val_output2_loss: 1.8528\n",
            "Epoch 9/20\n",
            "543/550 [============================>.] - ETA: 0s - loss: 3.0984 - output1_loss: 1.2944 - output2_loss: 1.8040\n",
            "Epoch 00009: val_loss improved from 3.17919 to 3.17483, saving model to /content/model_save1/weights-09-3.1748.hdf5\n",
            "550/550 [==============================] - 4s 8ms/step - loss: 3.1035 - output1_loss: 1.2978 - output2_loss: 1.8057 - val_loss: 3.1748 - val_output1_loss: 1.3182 - val_output2_loss: 1.8567\n",
            "Epoch 10/20\n",
            "549/550 [============================>.] - ETA: 0s - loss: 3.0853 - output1_loss: 1.2899 - output2_loss: 1.7954\n",
            "Epoch 00010: val_loss did not improve from 3.17483\n",
            "550/550 [==============================] - 4s 7ms/step - loss: 3.0850 - output1_loss: 1.2898 - output2_loss: 1.7953 - val_loss: 3.1796 - val_output1_loss: 1.3200 - val_output2_loss: 1.8596\n",
            "Epoch 11/20\n",
            "550/550 [==============================] - ETA: 0s - loss: 3.0742 - output1_loss: 1.2818 - output2_loss: 1.7924\n",
            "Epoch 00011: val_loss did not improve from 3.17483\n",
            "550/550 [==============================] - 4s 8ms/step - loss: 3.0742 - output1_loss: 1.2818 - output2_loss: 1.7924 - val_loss: 3.1764 - val_output1_loss: 1.3179 - val_output2_loss: 1.8585\n",
            "Epoch 12/20\n",
            "545/550 [============================>.] - ETA: 0s - loss: 3.0642 - output1_loss: 1.2791 - output2_loss: 1.7851\n",
            "Epoch 00012: val_loss improved from 3.17483 to 3.17229, saving model to /content/model_save1/weights-12-3.1723.hdf5\n",
            "550/550 [==============================] - 4s 8ms/step - loss: 3.0650 - output1_loss: 1.2784 - output2_loss: 1.7866 - val_loss: 3.1723 - val_output1_loss: 1.3172 - val_output2_loss: 1.8551\n",
            "Epoch 13/20\n",
            "550/550 [==============================] - ETA: 0s - loss: 3.0544 - output1_loss: 1.2753 - output2_loss: 1.7791\n",
            "Epoch 00013: val_loss did not improve from 3.17229\n",
            "550/550 [==============================] - 4s 8ms/step - loss: 3.0544 - output1_loss: 1.2753 - output2_loss: 1.7791 - val_loss: 3.1827 - val_output1_loss: 1.3166 - val_output2_loss: 1.8662\n",
            "Epoch 14/20\n",
            "545/550 [============================>.] - ETA: 0s - loss: 3.0480 - output1_loss: 1.2684 - output2_loss: 1.7795\n",
            "Epoch 00014: val_loss did not improve from 3.17229\n",
            "550/550 [==============================] - 4s 8ms/step - loss: 3.0482 - output1_loss: 1.2691 - output2_loss: 1.7790 - val_loss: 3.1842 - val_output1_loss: 1.3212 - val_output2_loss: 1.8629\n",
            "Epoch 15/20\n",
            "547/550 [============================>.] - ETA: 0s - loss: 3.0520 - output1_loss: 1.2738 - output2_loss: 1.7782\n",
            "Epoch 00015: val_loss did not improve from 3.17229\n",
            "550/550 [==============================] - 4s 7ms/step - loss: 3.0524 - output1_loss: 1.2739 - output2_loss: 1.7786 - val_loss: 3.1840 - val_output1_loss: 1.3188 - val_output2_loss: 1.8652\n",
            "Epoch 16/20\n",
            "541/550 [============================>.] - ETA: 0s - loss: 3.0363 - output1_loss: 1.2628 - output2_loss: 1.7735\n",
            "Epoch 00016: val_loss did not improve from 3.17229\n",
            "550/550 [==============================] - 4s 7ms/step - loss: 3.0360 - output1_loss: 1.2626 - output2_loss: 1.7734 - val_loss: 3.1817 - val_output1_loss: 1.3213 - val_output2_loss: 1.8604\n",
            "Epoch 17/20\n",
            "549/550 [============================>.] - ETA: 0s - loss: 3.0349 - output1_loss: 1.2661 - output2_loss: 1.7689\n",
            "Epoch 00017: val_loss did not improve from 3.17229\n",
            "550/550 [==============================] - 4s 7ms/step - loss: 3.0345 - output1_loss: 1.2659 - output2_loss: 1.7686 - val_loss: 3.1964 - val_output1_loss: 1.3281 - val_output2_loss: 1.8683\n",
            "Epoch 18/20\n",
            "547/550 [============================>.] - ETA: 0s - loss: 3.0304 - output1_loss: 1.2616 - output2_loss: 1.7689\n",
            "Epoch 00018: val_loss did not improve from 3.17229\n",
            "550/550 [==============================] - 4s 7ms/step - loss: 3.0303 - output1_loss: 1.2619 - output2_loss: 1.7684 - val_loss: 3.1905 - val_output1_loss: 1.3250 - val_output2_loss: 1.8655\n",
            "Epoch 19/20\n",
            "544/550 [============================>.] - ETA: 0s - loss: 3.0139 - output1_loss: 1.2530 - output2_loss: 1.7609\n",
            "Epoch 00019: val_loss did not improve from 3.17229\n",
            "550/550 [==============================] - 4s 8ms/step - loss: 3.0178 - output1_loss: 1.2548 - output2_loss: 1.7631 - val_loss: 3.1832 - val_output1_loss: 1.3198 - val_output2_loss: 1.8634\n",
            "Epoch 20/20\n",
            "543/550 [============================>.] - ETA: 0s - loss: 3.0147 - output1_loss: 1.2553 - output2_loss: 1.7594\n",
            "Epoch 00020: val_loss did not improve from 3.17229\n",
            "550/550 [==============================] - 4s 8ms/step - loss: 3.0141 - output1_loss: 1.2553 - output2_loss: 1.7587 - val_loss: 3.1941 - val_output1_loss: 1.3238 - val_output2_loss: 1.8703\n"
          ],
          "name": "stdout"
        },
        {
          "output_type": "execute_result",
          "data": {
            "text/plain": [
              "<tensorflow.python.keras.callbacks.History at 0x7f70b7a22e80>"
            ]
          },
          "metadata": {
            "tags": []
          },
          "execution_count": 272
        }
      ]
    },
    {
      "cell_type": "code",
      "metadata": {
        "id": "ldJtBHbfCnE8",
        "colab_type": "code",
        "colab": {}
      },
      "source": [
        "%tensorboard --logdir '/content/Model1'"
      ],
      "execution_count": null,
      "outputs": []
    },
    {
      "cell_type": "markdown",
      "metadata": {
        "id": "UQ_VIw6vGmdR",
        "colab_type": "text"
      },
      "source": [
        "* There are two loss values: One for start_index and other for end_index\n",
        "\n",
        "* After trying with different combination of number of conv1D filters and kernals, lowest loss was obtained for filter=6 and kernal=2 with Adam Optimizer with learning rate=0.001.\n",
        "\n",
        "* The overall loss reduces gradually but after epoch 7, the train and validation loss starts to diverge, indicating overfit. \n",
        "\n",
        "* The lowest overall loss is 3.1723\n"
      ]
    },
    {
      "cell_type": "code",
      "metadata": {
        "id": "FHU4G_UCT5TC",
        "colab_type": "code",
        "colab": {}
      },
      "source": [
        "#Loading the best weights\n",
        "model1.load_weights('/content/model_save1/weights-12-3.1723.hdf5')"
      ],
      "execution_count": null,
      "outputs": []
    },
    {
      "cell_type": "code",
      "metadata": {
        "id": "gHtzgVLmfGmE",
        "colab_type": "code",
        "colab": {}
      },
      "source": [
        "def jaccard(str1, str2):\n",
        "  '''Returns jaccard score between str1 and str2 ''' \n",
        "  a = set(str1.lower().split()) \n",
        "  b = set(str2.lower().split())\n",
        "  c = a.intersection(b)\n",
        "  return float(len(c)) / (len(a) + len(b) - len(c))"
      ],
      "execution_count": null,
      "outputs": []
    },
    {
      "cell_type": "code",
      "metadata": {
        "id": "r-vLc50XDASV",
        "colab_type": "code",
        "colab": {
          "base_uri": "https://localhost:8080/",
          "height": 34
        },
        "outputId": "f5afbcea-dd81-47f8-8afb-a3b8f0aa56a6"
      },
      "source": [
        "#Getting start and end index for hold out test dataset\n",
        "st_idx,end_idx=model1.predict(X_test_tokens,batch_size=32,verbose=1)"
      ],
      "execution_count": null,
      "outputs": [
        {
          "output_type": "stream",
          "text": [
            "138/138 [==============================] - 0s 3ms/step\n"
          ],
          "name": "stdout"
        }
      ]
    },
    {
      "cell_type": "code",
      "metadata": {
        "id": "wl-4QMYHDneM",
        "colab_type": "code",
        "colab": {}
      },
      "source": [
        "def compute_jaccard(st_idx,end_idx,X,Y):\n",
        "  '''Computes mean jaccard score of all tweets '''\n",
        "  all_jaccard=[]\n",
        "  df=pd.DataFrame(columns=['clean_text','selected_text','predicted','jaccard','sentiment'])\n",
        "  for i in range(len(st_idx)):\n",
        "    initial=np.argmax(st_idx[i])\n",
        "    final=np.argmax(end_idx[i])\n",
        "    sent2=\" \".join(X['clean_text'][i].split()[initial:final+1])\n",
        "    sent1=Y[i] \n",
        "    df.loc[i,'clean_text']=X['clean_text'][i]   \n",
        "    df.loc[i,'selected_text']=sent1\n",
        "    df.loc[i,'predicted']=sent2\n",
        "    df.loc[i,'sentiment']=X['sentiment'][i]\n",
        "    jaccard_score=jaccard(sent1,sent2)\n",
        "    df.loc[i,'jaccard']=jaccard_score\n",
        "    all_jaccard.append(jaccard_score)\n",
        "  return np.mean(np.array(all_jaccard)),df\n",
        "\n"
      ],
      "execution_count": null,
      "outputs": []
    },
    {
      "cell_type": "code",
      "metadata": {
        "id": "uwS405q_uI3t",
        "colab_type": "code",
        "colab": {
          "base_uri": "https://localhost:8080/",
          "height": 34
        },
        "outputId": "6f57f7ba-40bd-4178-f4cf-7c18c8fbdde4"
      },
      "source": [
        "#Mean jaccard score of hold out test dataset\n",
        "score,df=compute_jaccard(st_idx,end_idx,X_test,Y_test)\n",
        "print(score)"
      ],
      "execution_count": null,
      "outputs": [
        {
          "output_type": "stream",
          "text": [
            "0.5877780070041771\n"
          ],
          "name": "stdout"
        }
      ]
    },
    {
      "cell_type": "markdown",
      "metadata": {
        "colab_type": "text",
        "id": "qJ_22gJrXQp5"
      },
      "source": [
        "#### Error Analysis"
      ]
    },
    {
      "cell_type": "code",
      "metadata": {
        "colab_type": "code",
        "id": "V8gM-QXZXQp7",
        "colab": {
          "base_uri": "https://localhost:8080/",
          "height": 68
        },
        "outputId": "339a5052-3c0d-48e0-a2f0-54a43fc48547"
      },
      "source": [
        "#Average Jaccard score for each sentiment\n",
        "\n",
        "pos_average=np.mean(X_test['jaccard'][X_test['sentiment']=='positive'])\n",
        "print('The average jaccard score for postive sentiment is  ',pos_average)\n",
        "\n",
        "neg_average=np.mean(X_test['jaccard'][X_test['sentiment']=='negative'])\n",
        "print('The average jaccard score for negative sentiment is  ',neg_average)\n",
        "\n",
        "neu_average=np.mean(X_test['jaccard'][X_test['sentiment']=='neutral'])\n",
        "print('The average jaccard score for neutral sentiment is  ',neu_average)"
      ],
      "execution_count": null,
      "outputs": [
        {
          "output_type": "stream",
          "text": [
            "The average jaccard score for postive sentiment is   0.3588792506400489\n",
            "The average jaccard score for negative sentiment is   0.36414772804244877\n",
            "The average jaccard score for neutral sentiment is   0.9220793961009783\n"
          ],
          "name": "stdout"
        }
      ]
    },
    {
      "cell_type": "code",
      "metadata": {
        "colab_type": "code",
        "id": "9sBQMXHCXQqC",
        "colab": {
          "base_uri": "https://localhost:8080/",
          "height": 547
        },
        "outputId": "9b70944b-d184-4e47-f5dc-3666a198cfbf"
      },
      "source": [
        "#Adding len of the selected text column\n",
        "\n",
        "X_test['len_selected_text']=X_test['selected_text'].apply(lambda x: len(x.split()))\n",
        "X_test['len_text']=X_test['text'].apply(lambda x: len(x.split()))\n",
        "X_test['diff_len']=abs(X_test['len_selected_text']-X_test['len_text'])\n",
        "X_test.head()"
      ],
      "execution_count": null,
      "outputs": [
        {
          "output_type": "execute_result",
          "data": {
            "text/html": [
              "<div>\n",
              "<style scoped>\n",
              "    .dataframe tbody tr th:only-of-type {\n",
              "        vertical-align: middle;\n",
              "    }\n",
              "\n",
              "    .dataframe tbody tr th {\n",
              "        vertical-align: top;\n",
              "    }\n",
              "\n",
              "    .dataframe thead th {\n",
              "        text-align: right;\n",
              "    }\n",
              "</style>\n",
              "<table border=\"1\" class=\"dataframe\">\n",
              "  <thead>\n",
              "    <tr style=\"text-align: right;\">\n",
              "      <th></th>\n",
              "      <th>sentiment</th>\n",
              "      <th>clean_text</th>\n",
              "      <th>textID</th>\n",
              "      <th>jaccard</th>\n",
              "      <th>predicted_text</th>\n",
              "      <th>selected_text</th>\n",
              "      <th>len_selected_text</th>\n",
              "      <th>text</th>\n",
              "      <th>len_text</th>\n",
              "      <th>diff_len</th>\n",
              "    </tr>\n",
              "  </thead>\n",
              "  <tbody>\n",
              "    <tr>\n",
              "      <th>0</th>\n",
              "      <td>negative</td>\n",
              "      <td>misses driving already</td>\n",
              "      <td>197aa929a2</td>\n",
              "      <td>1</td>\n",
              "      <td>misses driving already</td>\n",
              "      <td>misses driving already</td>\n",
              "      <td>3</td>\n",
              "      <td>misses driving already</td>\n",
              "      <td>3</td>\n",
              "      <td>0</td>\n",
              "    </tr>\n",
              "    <tr>\n",
              "      <th>1</th>\n",
              "      <td>positive</td>\n",
              "      <td>name the rest? let`s see. mystery jets are pr...</td>\n",
              "      <td>7648a76c96</td>\n",
              "      <td>0.0833333</td>\n",
              "      <td>pretty cool. ida maria and you shud rly listen...</td>\n",
              "      <td>cool.</td>\n",
              "      <td>1</td>\n",
              "      <td>name the rest? let`s see. mystery jets are pr...</td>\n",
              "      <td>20</td>\n",
              "      <td>19</td>\n",
              "    </tr>\n",
              "    <tr>\n",
              "      <th>2</th>\n",
              "      <td>neutral</td>\n",
              "      <td>anyways have a severe headache ryt now! i jst...</td>\n",
              "      <td>14fc34a4fb</td>\n",
              "      <td>0.909091</td>\n",
              "      <td>anyways have a severe headache ryt now! i jst ...</td>\n",
              "      <td>anyways have a severe headache ryt now! i jst ...</td>\n",
              "      <td>24</td>\n",
              "      <td>anyways have a severe headache ryt now! i jst...</td>\n",
              "      <td>24</td>\n",
              "      <td>0</td>\n",
              "    </tr>\n",
              "    <tr>\n",
              "      <th>3</th>\n",
              "      <td>neutral</td>\n",
              "      <td>25-man ulduar is hard...</td>\n",
              "      <td>50662e359b</td>\n",
              "      <td>1</td>\n",
              "      <td>25-man ulduar is hard...</td>\n",
              "      <td>25-man ulduar is hard...</td>\n",
              "      <td>4</td>\n",
              "      <td>25-man ulduar is hard...</td>\n",
              "      <td>4</td>\n",
              "      <td>0</td>\n",
              "    </tr>\n",
              "    <tr>\n",
              "      <th>4</th>\n",
              "      <td>negative</td>\n",
              "      <td>cried like a fukn baby today durin da senior s...</td>\n",
              "      <td>b66219e011</td>\n",
              "      <td>0.0769231</td>\n",
              "      <td>cried like a fukn baby today durin da senior s...</td>\n",
              "      <td>miss</td>\n",
              "      <td>1</td>\n",
              "      <td>cried like a fukn baby today durin da senior s...</td>\n",
              "      <td>15</td>\n",
              "      <td>14</td>\n",
              "    </tr>\n",
              "  </tbody>\n",
              "</table>\n",
              "</div>"
            ],
            "text/plain": [
              "  sentiment  ... diff_len\n",
              "0  negative  ...        0\n",
              "1  positive  ...       19\n",
              "2   neutral  ...        0\n",
              "3   neutral  ...        0\n",
              "4  negative  ...       14\n",
              "\n",
              "[5 rows x 10 columns]"
            ]
          },
          "metadata": {
            "tags": []
          },
          "execution_count": 57
        }
      ]
    },
    {
      "cell_type": "code",
      "metadata": {
        "colab_type": "code",
        "id": "fD7vEZTCXQqG",
        "colab": {}
      },
      "source": [
        "#Total number of tweets with correct prediction and incorrect prediction\n",
        "pos_jac_1=X_test[X_test['jaccard']==1]\n",
        "pos_jac_0=X_test[X_test['jaccard']!=1]"
      ],
      "execution_count": null,
      "outputs": []
    },
    {
      "cell_type": "code",
      "metadata": {
        "colab_type": "code",
        "id": "OxqsqW-NXQqJ",
        "colab": {
          "base_uri": "https://localhost:8080/",
          "height": 68
        },
        "outputId": "a34e66a8-9bd2-416c-b7d0-3b3063c6e9c7"
      },
      "source": [
        "print('The total number of  tweets is',X_test.shape[0])\n",
        "print('The total number of  tweets with jaccard=1 is',pos_jac_1.shape[0])\n",
        "print('The total number of  tweets with jaccard not 1 is',pos_jac_0.shape[0])"
      ],
      "execution_count": null,
      "outputs": [
        {
          "output_type": "stream",
          "text": [
            "The total number of  tweets is 4397\n",
            "The total number of  tweets with jaccard=1 is 1558\n",
            "The total number of  tweets with jaccard not 1 is 2839\n"
          ],
          "name": "stdout"
        }
      ]
    },
    {
      "cell_type": "code",
      "metadata": {
        "colab_type": "code",
        "id": "h7DhS1ToXQqM",
        "colab": {
          "base_uri": "https://localhost:8080/",
          "height": 34
        },
        "outputId": "011b3a52-fa1a-4b5d-e202-88f3dda563ff"
      },
      "source": [
        "#Performance of model when both tweet and selected text is same\n",
        "\n",
        "total_zero_diff=X_test[X_test['diff_len']==0].shape[0]\n",
        "zero_diff_jaccard_1=pos_jac_1[pos_jac_1['diff_len']==0].shape[0]\n",
        "result=zero_diff_jaccard_1*100/total_zero_diff\n",
        "print('The percentage of  tweets with jaccard=1 when both tweet and selected text were same is',result)"
      ],
      "execution_count": null,
      "outputs": [
        {
          "output_type": "stream",
          "text": [
            "The percentage of  tweets with jaccard=1 when both tweet and selected text were same is 64.51612903225806\n"
          ],
          "name": "stdout"
        }
      ]
    },
    {
      "cell_type": "code",
      "metadata": {
        "colab_type": "code",
        "id": "yo7Q1OHFXQqP",
        "colab": {
          "base_uri": "https://localhost:8080/",
          "height": 34
        },
        "outputId": "fb5a6248-2480-4b1b-e850-b99c8babee80"
      },
      "source": [
        "#Performance of model when difference between  tweet and selected text is less than 10\n",
        "\n",
        "diff_less_10=X_test[X_test['diff_len']<=10].shape[0]\n",
        "diff_less_10_jaccard_1=pos_jac_1[pos_jac_1['diff_len']<=10].shape[0]\n",
        "result=diff_less_10_jaccard_1*100/diff_less_10\n",
        "print('The percentage of tweets with jaccard=1 when length difference is less than 10 is',result)"
      ],
      "execution_count": null,
      "outputs": [
        {
          "output_type": "stream",
          "text": [
            "The percentage of tweets with jaccard=1 when length difference is less than 10 is 44.80341359341664\n"
          ],
          "name": "stdout"
        }
      ]
    },
    {
      "cell_type": "code",
      "metadata": {
        "colab_type": "code",
        "id": "I9to_Tr-XQqT",
        "colab": {
          "base_uri": "https://localhost:8080/",
          "height": 34
        },
        "outputId": "ba1f8bdf-86eb-4b6b-832b-6f77dd68b1f9"
      },
      "source": [
        "#Performance of model when difference between  tweet and selected text is greter than 10 but less than 20\n",
        "\n",
        "diff_less_20=X_test[(X_test['diff_len']>10) & (X_test['diff_len']<=20)].shape[0]\n",
        "diff_less_20_jaccard_1=pos_jac_1[(pos_jac_1['diff_len']>10) & (pos_jac_1['diff_len']<=20)].shape[0]\n",
        "result=diff_less_20_jaccard_1*100/diff_less_20\n",
        "print('The percentage of tweets with jaccard=1 when length difference is greter than 10 and less than 20 is',result)"
      ],
      "execution_count": null,
      "outputs": [
        {
          "output_type": "stream",
          "text": [
            "The percentage of tweets with jaccard=1 when length difference is greter than 10 and less than 20 is 8.607021517553793\n"
          ],
          "name": "stdout"
        }
      ]
    },
    {
      "cell_type": "code",
      "metadata": {
        "colab_type": "code",
        "id": "zxTnhQGeXQqW",
        "colab": {
          "base_uri": "https://localhost:8080/",
          "height": 34
        },
        "outputId": "c9890857-545e-4e6a-e2d7-8f4521a605de"
      },
      "source": [
        "#Performance of model when difference between  tweet and selected text is greter than 20\n",
        "\n",
        "diff_less_30=X_test[(X_test['diff_len']>20)].shape[0]\n",
        "diff_less_30_jaccard_1=pos_jac_1[(pos_jac_1['diff_len']>20)].shape[0]\n",
        "result=diff_less_30_jaccard_1*100/diff_less_30\n",
        "print('The percentage of positive tweets with jaccard=1 when length difference is greter than 20 is',result)"
      ],
      "execution_count": null,
      "outputs": [
        {
          "output_type": "stream",
          "text": [
            "The percentage of positive tweets with jaccard=1 when length difference is greter than 20 is 5.150214592274678\n"
          ],
          "name": "stdout"
        }
      ]
    },
    {
      "cell_type": "code",
      "metadata": {
        "colab_type": "code",
        "id": "4YfjlLYuXQqZ",
        "colab": {
          "base_uri": "https://localhost:8080/",
          "height": 34
        },
        "outputId": "16c4bb80-6a11-42ca-cd97-db107ff0b237"
      },
      "source": [
        "print(np.mean(X_test['jaccard']))"
      ],
      "execution_count": null,
      "outputs": [
        {
          "output_type": "stream",
          "text": [
            "0.5882384303400673\n"
          ],
          "name": "stdout"
        }
      ]
    },
    {
      "cell_type": "markdown",
      "metadata": {
        "colab_type": "text",
        "id": "y4uitpdGXQqb"
      },
      "source": [
        "Conclusion\n",
        "* The CNN1D model performs resonablly well when the text and selected text are of same length.\n",
        "* It does resonablly well when the difference between tweet selected text is of only few words but does not perform well when the difference increases."
      ]
    },
    {
      "cell_type": "code",
      "metadata": {
        "colab_type": "code",
        "id": "Y9IcSvNfBDMx",
        "colab": {
          "base_uri": "https://localhost:8080/",
          "height": 34
        },
        "outputId": "b044b23b-7178-4df9-a1c8-e11e98910862"
      },
      "source": [
        "#Passing the test data to above function and get the submission data frame\n",
        "test_data=test.copy()\n",
        "submission=final_test(test_data,tokenizer,model1)"
      ],
      "execution_count": null,
      "outputs": [
        {
          "output_type": "stream",
          "text": [
            "111/111 [==============================] - 0s 3ms/step\n"
          ],
          "name": "stdout"
        }
      ]
    },
    {
      "cell_type": "code",
      "metadata": {
        "colab_type": "code",
        "id": "nM18WD_4BDMz",
        "colab": {}
      },
      "source": [
        "def final_test(test,tokenizer,model):\n",
        "  '''Pre-process test data and predict selected_text'''\n",
        "  id=test['textID']\n",
        "  #Tokenize the test data\n",
        "  test['clean_text']=test['text'].apply(clean)\n",
        "  X_data=tokenizer.texts_to_sequences(test['sentiment'].values+' '+test['clean_text'].values)\n",
        "  X_tokens=tf.keras.preprocessing.sequence.pad_sequences(X_data,maxlen=33,padding='post')\n",
        "\n",
        "  #Predicte the start and end index\n",
        "  st_idx,end_idx=model.predict(X_tokens,batch_size=32,verbose=1)\n",
        "\n",
        "  #Find the words between start and end index\n",
        "  selected_list=[]\n",
        "  for i in range(len(st_idx)):\n",
        "    initial=np.argmax(st_idx[i])\n",
        "    final=np.argmax(end_idx[i])\n",
        "    selected_text=\" \".join(test['clean_text'][i].split()[initial:final+1])\n",
        "    selected_list.append(selected_text)\n",
        "\n",
        "  #Create a dataframe for submission to Kaggle\n",
        "  submission=pd.DataFrame(columns=['textID','selected_text'])\n",
        "  submission['textID']=id\n",
        "  submission['selected_text']=selected_list\n",
        "  return submission\n"
      ],
      "execution_count": null,
      "outputs": []
    },
    {
      "cell_type": "code",
      "metadata": {
        "colab_type": "code",
        "id": "r7a98I22BDM1",
        "colab": {}
      },
      "source": [
        "#Create submission.csv file\n",
        "submission.to_csv('/content/submission.csv',index=False)"
      ],
      "execution_count": null,
      "outputs": []
    },
    {
      "cell_type": "markdown",
      "metadata": {
        "colab_type": "text",
        "id": "JrAeBrEcBDM3"
      },
      "source": [
        "Kaggle Score\n",
        "![image.png](data:image/png;base64,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)"
      ]
    },
    {
      "cell_type": "code",
      "metadata": {
        "id": "oqrmaDimpLKT",
        "colab_type": "code",
        "colab": {}
      },
      "source": [
        "def final_test(test,tokenizer,model):\n",
        "  '''Pre-process test data and predict selected_text'''\n",
        "  id=test['textID']\n",
        "  #Tokenize the test data\n",
        "  test['clean_text']=test['text'].apply(clean)\n",
        "  X_data=tokenizer.texts_to_sequences(test['sentiment'].values+' '+test['clean_text'].values)\n",
        "  X_tokens=tf.keras.preprocessing.sequence.pad_sequences(X_data,maxlen=33,padding='post')\n",
        "\n",
        "  #Predicte the start and end index\n",
        "  st_idx,end_idx=model.predict(X_tokens,batch_size=32,verbose=1)\n",
        "\n",
        "  #Find the words between start and end index\n",
        "  selected_list=[]\n",
        "  for i in range(len(st_idx)):\n",
        "    initial=np.argmax(st_idx[i])\n",
        "    final=np.argmax(end_idx[i])\n",
        "    selected_text=\" \".join(test['clean_text'][i].split()[initial:final+1])\n",
        "    selected_list.append(selected_text)\n",
        "\n",
        "  #Create a dataframe for submission to Kaggle\n",
        "  submission=pd.DataFrame(columns=['textID','selected_text'])\n",
        "  submission['textID']=id\n",
        "  submission['selected_text']=selected_list\n",
        "  return submission\n"
      ],
      "execution_count": null,
      "outputs": []
    },
    {
      "cell_type": "code",
      "metadata": {
        "id": "C-qDQNd4LmgE",
        "colab_type": "code",
        "colab": {
          "base_uri": "https://localhost:8080/",
          "height": 34
        },
        "outputId": "b044b23b-7178-4df9-a1c8-e11e98910862"
      },
      "source": [
        "#Passing the test data to above function and get the submission data frame\n",
        "test_data=test.copy()\n",
        "submission=final_test(test_data,tokenizer,model1)"
      ],
      "execution_count": null,
      "outputs": [
        {
          "output_type": "stream",
          "text": [
            "111/111 [==============================] - 0s 3ms/step\n"
          ],
          "name": "stdout"
        }
      ]
    },
    {
      "cell_type": "code",
      "metadata": {
        "id": "wB7IH0YfsETq",
        "colab_type": "code",
        "colab": {}
      },
      "source": [
        "#Create submission.csv file\n",
        "submission.to_csv('/content/submission.csv',index=False)"
      ],
      "execution_count": null,
      "outputs": []
    },
    {
      "cell_type": "markdown",
      "metadata": {
        "id": "81bB-EOqCz6_",
        "colab_type": "text"
      },
      "source": [
        "Kaggle Score is 0.33\n",
        "![image.png](data:image/png;base64,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)"
      ]
    }
  ]
}