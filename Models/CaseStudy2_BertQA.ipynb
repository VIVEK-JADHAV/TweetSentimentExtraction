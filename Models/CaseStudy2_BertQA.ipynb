{
  "nbformat": 4,
  "nbformat_minor": 0,
  "metadata": {
    "colab": {
      "name": "CaseStudy2_BertQA.ipynb",
      "provenance": [],
      "collapsed_sections": [
        "Sn06k8lvXZE3",
        "0Z8loP5cXuEx"
      ],
      "toc_visible": true,
      "include_colab_link": true
    },
    "kernelspec": {
      "name": "python3",
      "display_name": "Python 3"
    },
    "accelerator": "GPU",
    "widgets": {
      "application/vnd.jupyter.widget-state+json": {
        "1b1560b72ea44b428cf3e13162522ae9": {
          "model_module": "@jupyter-widgets/controls",
          "model_name": "HBoxModel",
          "state": {
            "_view_name": "HBoxView",
            "_dom_classes": [],
            "_model_name": "HBoxModel",
            "_view_module": "@jupyter-widgets/controls",
            "_model_module_version": "1.5.0",
            "_view_count": null,
            "_view_module_version": "1.5.0",
            "box_style": "",
            "layout": "IPY_MODEL_56cb57c216a24158b22e79278b7625d5",
            "_model_module": "@jupyter-widgets/controls",
            "children": [
              "IPY_MODEL_2f91f751e5b74b6996dd51f8c7efd650",
              "IPY_MODEL_fe94c3b5d92a4c889839337a8e475881"
            ]
          }
        },
        "56cb57c216a24158b22e79278b7625d5": {
          "model_module": "@jupyter-widgets/base",
          "model_name": "LayoutModel",
          "state": {
            "_view_name": "LayoutView",
            "grid_template_rows": null,
            "right": null,
            "justify_content": null,
            "_view_module": "@jupyter-widgets/base",
            "overflow": null,
            "_model_module_version": "1.2.0",
            "_view_count": null,
            "flex_flow": null,
            "width": null,
            "min_width": null,
            "border": null,
            "align_items": null,
            "bottom": null,
            "_model_module": "@jupyter-widgets/base",
            "top": null,
            "grid_column": null,
            "overflow_y": null,
            "overflow_x": null,
            "grid_auto_flow": null,
            "grid_area": null,
            "grid_template_columns": null,
            "flex": null,
            "_model_name": "LayoutModel",
            "justify_items": null,
            "grid_row": null,
            "max_height": null,
            "align_content": null,
            "visibility": null,
            "align_self": null,
            "height": null,
            "min_height": null,
            "padding": null,
            "grid_auto_rows": null,
            "grid_gap": null,
            "max_width": null,
            "order": null,
            "_view_module_version": "1.2.0",
            "grid_template_areas": null,
            "object_position": null,
            "object_fit": null,
            "grid_auto_columns": null,
            "margin": null,
            "display": null,
            "left": null
          }
        },
        "2f91f751e5b74b6996dd51f8c7efd650": {
          "model_module": "@jupyter-widgets/controls",
          "model_name": "FloatProgressModel",
          "state": {
            "_view_name": "ProgressView",
            "style": "IPY_MODEL_2b20979a2e7e41b9a9a2940509d343f7",
            "_dom_classes": [],
            "description": "Downloading: 100%",
            "_model_name": "FloatProgressModel",
            "bar_style": "success",
            "max": 536063208,
            "_view_module": "@jupyter-widgets/controls",
            "_model_module_version": "1.5.0",
            "value": 536063208,
            "_view_count": null,
            "_view_module_version": "1.5.0",
            "orientation": "horizontal",
            "min": 0,
            "description_tooltip": null,
            "_model_module": "@jupyter-widgets/controls",
            "layout": "IPY_MODEL_4a6f178b86694bdfb739ab49b2849891"
          }
        },
        "fe94c3b5d92a4c889839337a8e475881": {
          "model_module": "@jupyter-widgets/controls",
          "model_name": "HTMLModel",
          "state": {
            "_view_name": "HTMLView",
            "style": "IPY_MODEL_5cb1be0a4c1e48de9d57956abe7ad8fc",
            "_dom_classes": [],
            "description": "",
            "_model_name": "HTMLModel",
            "placeholder": "​",
            "_view_module": "@jupyter-widgets/controls",
            "_model_module_version": "1.5.0",
            "value": " 536M/536M [00:18&lt;00:00, 28.9MB/s]",
            "_view_count": null,
            "_view_module_version": "1.5.0",
            "description_tooltip": null,
            "_model_module": "@jupyter-widgets/controls",
            "layout": "IPY_MODEL_a6732cfea32b4230b16d434428843018"
          }
        },
        "2b20979a2e7e41b9a9a2940509d343f7": {
          "model_module": "@jupyter-widgets/controls",
          "model_name": "ProgressStyleModel",
          "state": {
            "_view_name": "StyleView",
            "_model_name": "ProgressStyleModel",
            "description_width": "initial",
            "_view_module": "@jupyter-widgets/base",
            "_model_module_version": "1.5.0",
            "_view_count": null,
            "_view_module_version": "1.2.0",
            "bar_color": null,
            "_model_module": "@jupyter-widgets/controls"
          }
        },
        "4a6f178b86694bdfb739ab49b2849891": {
          "model_module": "@jupyter-widgets/base",
          "model_name": "LayoutModel",
          "state": {
            "_view_name": "LayoutView",
            "grid_template_rows": null,
            "right": null,
            "justify_content": null,
            "_view_module": "@jupyter-widgets/base",
            "overflow": null,
            "_model_module_version": "1.2.0",
            "_view_count": null,
            "flex_flow": null,
            "width": null,
            "min_width": null,
            "border": null,
            "align_items": null,
            "bottom": null,
            "_model_module": "@jupyter-widgets/base",
            "top": null,
            "grid_column": null,
            "overflow_y": null,
            "overflow_x": null,
            "grid_auto_flow": null,
            "grid_area": null,
            "grid_template_columns": null,
            "flex": null,
            "_model_name": "LayoutModel",
            "justify_items": null,
            "grid_row": null,
            "max_height": null,
            "align_content": null,
            "visibility": null,
            "align_self": null,
            "height": null,
            "min_height": null,
            "padding": null,
            "grid_auto_rows": null,
            "grid_gap": null,
            "max_width": null,
            "order": null,
            "_view_module_version": "1.2.0",
            "grid_template_areas": null,
            "object_position": null,
            "object_fit": null,
            "grid_auto_columns": null,
            "margin": null,
            "display": null,
            "left": null
          }
        },
        "5cb1be0a4c1e48de9d57956abe7ad8fc": {
          "model_module": "@jupyter-widgets/controls",
          "model_name": "DescriptionStyleModel",
          "state": {
            "_view_name": "StyleView",
            "_model_name": "DescriptionStyleModel",
            "description_width": "",
            "_view_module": "@jupyter-widgets/base",
            "_model_module_version": "1.5.0",
            "_view_count": null,
            "_view_module_version": "1.2.0",
            "_model_module": "@jupyter-widgets/controls"
          }
        },
        "a6732cfea32b4230b16d434428843018": {
          "model_module": "@jupyter-widgets/base",
          "model_name": "LayoutModel",
          "state": {
            "_view_name": "LayoutView",
            "grid_template_rows": null,
            "right": null,
            "justify_content": null,
            "_view_module": "@jupyter-widgets/base",
            "overflow": null,
            "_model_module_version": "1.2.0",
            "_view_count": null,
            "flex_flow": null,
            "width": null,
            "min_width": null,
            "border": null,
            "align_items": null,
            "bottom": null,
            "_model_module": "@jupyter-widgets/base",
            "top": null,
            "grid_column": null,
            "overflow_y": null,
            "overflow_x": null,
            "grid_auto_flow": null,
            "grid_area": null,
            "grid_template_columns": null,
            "flex": null,
            "_model_name": "LayoutModel",
            "justify_items": null,
            "grid_row": null,
            "max_height": null,
            "align_content": null,
            "visibility": null,
            "align_self": null,
            "height": null,
            "min_height": null,
            "padding": null,
            "grid_auto_rows": null,
            "grid_gap": null,
            "max_width": null,
            "order": null,
            "_view_module_version": "1.2.0",
            "grid_template_areas": null,
            "object_position": null,
            "object_fit": null,
            "grid_auto_columns": null,
            "margin": null,
            "display": null,
            "left": null
          }
        }
      }
    }
  },
  "cells": [
    {
      "cell_type": "markdown",
      "metadata": {
        "id": "view-in-github",
        "colab_type": "text"
      },
      "source": [
        "<a href=\"https://colab.research.google.com/github/VIVEK-JADHAV/TweetSentimentExtraction/blob/master/CaseStudy2_BertQA.ipynb\" target=\"_parent\"><img src=\"https://colab.research.google.com/assets/colab-badge.svg\" alt=\"Open In Colab\"/></a>"
      ]
    },
    {
      "cell_type": "code",
      "metadata": {
        "id": "B0nSXFxHKw50",
        "colab_type": "code",
        "colab": {
          "base_uri": "https://localhost:8080/",
          "height": 71
        },
        "outputId": "988780a9-fe86-4413-a014-48c8b744fb93"
      },
      "source": [
        "import pandas as pd\n",
        "import numpy as np\n",
        "import os\n",
        "import shutil\n",
        "import matplotlib.pyplot as plt\n",
        "import seaborn as sns\n",
        "from wordcloud import WordCloud, STOPWORDS \n",
        "import re \n",
        "import string\n",
        "import tensorflow as tf\n",
        "from tensorflow.keras.layers import Dense,Input,Flatten,Embedding,Lambda,Dropout,LSTM,Conv1D\n",
        "from tensorflow.keras.models import Model\n",
        "from tqdm import tqdm\n"
      ],
      "execution_count": null,
      "outputs": [
        {
          "output_type": "stream",
          "text": [
            "/usr/local/lib/python3.6/dist-packages/statsmodels/tools/_testing.py:19: FutureWarning: pandas.util.testing is deprecated. Use the functions in the public API at pandas.testing instead.\n",
            "  import pandas.util.testing as tm\n"
          ],
          "name": "stderr"
        }
      ]
    },
    {
      "cell_type": "code",
      "metadata": {
        "id": "io2MfcGcfxlK",
        "colab_type": "code",
        "colab": {
          "base_uri": "https://localhost:8080/",
          "height": 51
        },
        "outputId": "98b7810b-a895-407b-c117-3771658e6b8b"
      },
      "source": [
        "#Creating a folder to store train and test data\n",
        "import os\n",
        "os.mkdir('/content/data')\n",
        "%cd /content/data/\n",
        "!pwd"
      ],
      "execution_count": null,
      "outputs": [
        {
          "output_type": "stream",
          "text": [
            "/content/data\n",
            "/content/data\n"
          ],
          "name": "stdout"
        }
      ]
    },
    {
      "cell_type": "code",
      "metadata": {
        "id": "LN_lQJ_PML29",
        "colab_type": "code",
        "colab": {
          "base_uri": "https://localhost:8080/",
          "height": 187
        },
        "outputId": "6d99da46-434c-4d38-d6fa-977309ff4078"
      },
      "source": [
        "!kaggle competitions download -c tweet-sentiment-extraction"
      ],
      "execution_count": null,
      "outputs": [
        {
          "output_type": "stream",
          "text": [
            "Warning: Looks like you're using an outdated API Version, please consider updating (server 1.5.6 / client 1.5.4)\n",
            "Downloading test.csv to /content/data\n",
            "  0% 0.00/307k [00:00<?, ?B/s]\n",
            "100% 307k/307k [00:00<00:00, 46.1MB/s]\n",
            "Downloading sample_submission.csv to /content/data\n",
            "  0% 0.00/41.4k [00:00<?, ?B/s]\n",
            "100% 41.4k/41.4k [00:00<00:00, 42.7MB/s]\n",
            "Downloading train.csv.zip to /content/data\n",
            "  0% 0.00/1.23M [00:00<?, ?B/s]\n",
            "100% 1.23M/1.23M [00:00<00:00, 83.3MB/s]\n"
          ],
          "name": "stdout"
        }
      ]
    },
    {
      "cell_type": "code",
      "metadata": {
        "id": "S_UudZowMbtS",
        "colab_type": "code",
        "colab": {
          "base_uri": "https://localhost:8080/",
          "height": 51
        },
        "outputId": "6a5c4b8b-7d98-43dc-d99c-a5146dee43a8"
      },
      "source": [
        "!unzip train.csv.zip"
      ],
      "execution_count": null,
      "outputs": [
        {
          "output_type": "stream",
          "text": [
            "Archive:  train.csv.zip\n",
            "  inflating: train.csv               \n"
          ],
          "name": "stdout"
        }
      ]
    },
    {
      "cell_type": "code",
      "metadata": {
        "id": "O4ykiW2UkZh2",
        "colab_type": "code",
        "colab": {
          "base_uri": "https://localhost:8080/",
          "height": 221
        },
        "outputId": "bb4a6e52-4c9d-4611-b643-12114efaf468"
      },
      "source": [
        "#Loading the train dataset\n",
        "\n",
        "train=pd.read_csv('/content/data/train.csv')\n",
        "print('Shape of the train data is ',train.shape)\n",
        "train.head()"
      ],
      "execution_count": null,
      "outputs": [
        {
          "output_type": "stream",
          "text": [
            "Shape of the train data is  (27481, 4)\n"
          ],
          "name": "stdout"
        },
        {
          "output_type": "execute_result",
          "data": {
            "text/html": [
              "<div>\n",
              "<style scoped>\n",
              "    .dataframe tbody tr th:only-of-type {\n",
              "        vertical-align: middle;\n",
              "    }\n",
              "\n",
              "    .dataframe tbody tr th {\n",
              "        vertical-align: top;\n",
              "    }\n",
              "\n",
              "    .dataframe thead th {\n",
              "        text-align: right;\n",
              "    }\n",
              "</style>\n",
              "<table border=\"1\" class=\"dataframe\">\n",
              "  <thead>\n",
              "    <tr style=\"text-align: right;\">\n",
              "      <th></th>\n",
              "      <th>textID</th>\n",
              "      <th>text</th>\n",
              "      <th>selected_text</th>\n",
              "      <th>sentiment</th>\n",
              "    </tr>\n",
              "  </thead>\n",
              "  <tbody>\n",
              "    <tr>\n",
              "      <th>0</th>\n",
              "      <td>cb774db0d1</td>\n",
              "      <td>I`d have responded, if I were going</td>\n",
              "      <td>I`d have responded, if I were going</td>\n",
              "      <td>neutral</td>\n",
              "    </tr>\n",
              "    <tr>\n",
              "      <th>1</th>\n",
              "      <td>549e992a42</td>\n",
              "      <td>Sooo SAD I will miss you here in San Diego!!!</td>\n",
              "      <td>Sooo SAD</td>\n",
              "      <td>negative</td>\n",
              "    </tr>\n",
              "    <tr>\n",
              "      <th>2</th>\n",
              "      <td>088c60f138</td>\n",
              "      <td>my boss is bullying me...</td>\n",
              "      <td>bullying me</td>\n",
              "      <td>negative</td>\n",
              "    </tr>\n",
              "    <tr>\n",
              "      <th>3</th>\n",
              "      <td>9642c003ef</td>\n",
              "      <td>what interview! leave me alone</td>\n",
              "      <td>leave me alone</td>\n",
              "      <td>negative</td>\n",
              "    </tr>\n",
              "    <tr>\n",
              "      <th>4</th>\n",
              "      <td>358bd9e861</td>\n",
              "      <td>Sons of ****, why couldn`t they put them on t...</td>\n",
              "      <td>Sons of ****,</td>\n",
              "      <td>negative</td>\n",
              "    </tr>\n",
              "  </tbody>\n",
              "</table>\n",
              "</div>"
            ],
            "text/plain": [
              "       textID  ... sentiment\n",
              "0  cb774db0d1  ...   neutral\n",
              "1  549e992a42  ...  negative\n",
              "2  088c60f138  ...  negative\n",
              "3  9642c003ef  ...  negative\n",
              "4  358bd9e861  ...  negative\n",
              "\n",
              "[5 rows x 4 columns]"
            ]
          },
          "metadata": {
            "tags": []
          },
          "execution_count": 10
        }
      ]
    },
    {
      "cell_type": "markdown",
      "metadata": {
        "id": "CoNTPRzwM4uS",
        "colab_type": "text"
      },
      "source": [
        "* Train dataset has 27481 datapoints and 4 features."
      ]
    },
    {
      "cell_type": "code",
      "metadata": {
        "id": "IUSNf2eBNAMa",
        "colab_type": "code",
        "colab": {
          "base_uri": "https://localhost:8080/",
          "height": 221
        },
        "outputId": "7d550662-ede4-4f3c-a2c9-62cc3b14b15c"
      },
      "source": [
        "#Loading the test dataset\n",
        "\n",
        "test=pd.read_csv('/content/data/test.csv')\n",
        "print('Shape of the test data is ',test.shape)\n",
        "test.head()"
      ],
      "execution_count": null,
      "outputs": [
        {
          "output_type": "stream",
          "text": [
            "Shape of the test data is  (3534, 3)\n"
          ],
          "name": "stdout"
        },
        {
          "output_type": "execute_result",
          "data": {
            "text/html": [
              "<div>\n",
              "<style scoped>\n",
              "    .dataframe tbody tr th:only-of-type {\n",
              "        vertical-align: middle;\n",
              "    }\n",
              "\n",
              "    .dataframe tbody tr th {\n",
              "        vertical-align: top;\n",
              "    }\n",
              "\n",
              "    .dataframe thead th {\n",
              "        text-align: right;\n",
              "    }\n",
              "</style>\n",
              "<table border=\"1\" class=\"dataframe\">\n",
              "  <thead>\n",
              "    <tr style=\"text-align: right;\">\n",
              "      <th></th>\n",
              "      <th>textID</th>\n",
              "      <th>text</th>\n",
              "      <th>sentiment</th>\n",
              "    </tr>\n",
              "  </thead>\n",
              "  <tbody>\n",
              "    <tr>\n",
              "      <th>0</th>\n",
              "      <td>f87dea47db</td>\n",
              "      <td>Last session of the day  http://twitpic.com/67ezh</td>\n",
              "      <td>neutral</td>\n",
              "    </tr>\n",
              "    <tr>\n",
              "      <th>1</th>\n",
              "      <td>96d74cb729</td>\n",
              "      <td>Shanghai is also really exciting (precisely -...</td>\n",
              "      <td>positive</td>\n",
              "    </tr>\n",
              "    <tr>\n",
              "      <th>2</th>\n",
              "      <td>eee518ae67</td>\n",
              "      <td>Recession hit Veronique Branquinho, she has to...</td>\n",
              "      <td>negative</td>\n",
              "    </tr>\n",
              "    <tr>\n",
              "      <th>3</th>\n",
              "      <td>01082688c6</td>\n",
              "      <td>happy bday!</td>\n",
              "      <td>positive</td>\n",
              "    </tr>\n",
              "    <tr>\n",
              "      <th>4</th>\n",
              "      <td>33987a8ee5</td>\n",
              "      <td>http://twitpic.com/4w75p - I like it!!</td>\n",
              "      <td>positive</td>\n",
              "    </tr>\n",
              "  </tbody>\n",
              "</table>\n",
              "</div>"
            ],
            "text/plain": [
              "       textID                                               text sentiment\n",
              "0  f87dea47db  Last session of the day  http://twitpic.com/67ezh   neutral\n",
              "1  96d74cb729   Shanghai is also really exciting (precisely -...  positive\n",
              "2  eee518ae67  Recession hit Veronique Branquinho, she has to...  negative\n",
              "3  01082688c6                                        happy bday!  positive\n",
              "4  33987a8ee5             http://twitpic.com/4w75p - I like it!!  positive"
            ]
          },
          "metadata": {
            "tags": []
          },
          "execution_count": 11
        }
      ]
    },
    {
      "cell_type": "markdown",
      "metadata": {
        "id": "De_YGv05Usou",
        "colab_type": "text"
      },
      "source": [
        "* Test dataset has 3534 datapoints and 3 features."
      ]
    },
    {
      "cell_type": "code",
      "metadata": {
        "id": "iAz9XrDpWKod",
        "colab_type": "code",
        "colab": {
          "base_uri": "https://localhost:8080/",
          "height": 204
        },
        "outputId": "fc578008-58f2-4515-a525-76e16db089cb"
      },
      "source": [
        "#Dropping the row with null value\n",
        "train.dropna(inplace=True)\n",
        "train.info()"
      ],
      "execution_count": null,
      "outputs": [
        {
          "output_type": "stream",
          "text": [
            "<class 'pandas.core.frame.DataFrame'>\n",
            "Int64Index: 27480 entries, 0 to 27480\n",
            "Data columns (total 4 columns):\n",
            " #   Column         Non-Null Count  Dtype \n",
            "---  ------         --------------  ----- \n",
            " 0   textID         27480 non-null  object\n",
            " 1   text           27480 non-null  object\n",
            " 2   selected_text  27480 non-null  object\n",
            " 3   sentiment      27480 non-null  object\n",
            "dtypes: object(4)\n",
            "memory usage: 1.0+ MB\n"
          ],
          "name": "stdout"
        }
      ]
    },
    {
      "cell_type": "markdown",
      "metadata": {
        "id": "RSJm7fjXbZ8y",
        "colab_type": "text"
      },
      "source": [
        "### BERT"
      ]
    },
    {
      "cell_type": "code",
      "metadata": {
        "id": "-S1xPvG7QxSR",
        "colab_type": "code",
        "colab": {
          "base_uri": "https://localhost:8080/",
          "height": 204
        },
        "outputId": "68cfd48e-d3fd-4099-f576-9691544de0e0"
      },
      "source": [
        "#Reference:https://www.kaggle.com/akensert/tweet-bert-base-with-tf2-1-mixed-precision\n",
        "\n",
        "from transformers import  BertConfig, TFBertForQuestionAnswering\n",
        "from tokenizers import BertWordPieceTokenizer\n",
        "\n",
        "# Bert Base Uncased Vocabulary\n",
        "!wget https://s3.amazonaws.com/models.huggingface.co/bert/bert-base-uncased-vocab.txt"
      ],
      "execution_count": null,
      "outputs": [
        {
          "output_type": "stream",
          "text": [
            "--2020-09-11 05:27:55--  https://s3.amazonaws.com/models.huggingface.co/bert/bert-base-uncased-vocab.txt\n",
            "Resolving s3.amazonaws.com (s3.amazonaws.com)... 52.217.14.14\n",
            "Connecting to s3.amazonaws.com (s3.amazonaws.com)|52.217.14.14|:443... connected.\n",
            "HTTP request sent, awaiting response... 200 OK\n",
            "Length: 231508 (226K) [text/plain]\n",
            "Saving to: ‘bert-base-uncased-vocab.txt’\n",
            "\n",
            "bert-base-uncased-v 100%[===================>] 226.08K  1.10MB/s    in 0.2s    \n",
            "\n",
            "2020-09-11 05:27:56 (1.10 MB/s) - ‘bert-base-uncased-vocab.txt’ saved [231508/231508]\n",
            "\n"
          ],
          "name": "stdout"
        }
      ]
    },
    {
      "cell_type": "code",
      "metadata": {
        "id": "8p8YQhVgXJLa",
        "colab_type": "code",
        "colab": {}
      },
      "source": [
        "#Global variables\n",
        "\n",
        "MAX_LEN=128\n",
        "tokenizer=BertWordPieceTokenizer('/content/data/bert-base-uncased-vocab.txt')\n"
      ],
      "execution_count": null,
      "outputs": []
    },
    {
      "cell_type": "code",
      "metadata": {
        "id": "D9JIbtuJTKFB",
        "colab_type": "code",
        "colab": {
          "base_uri": "https://localhost:8080/",
          "height": 68
        },
        "outputId": "14b700f2-3862-4890-a09f-e4b7b62838aa"
      },
      "source": [
        "#Finding the id value for sentiment values\n",
        "print(tokenizer.encode('positive').ids)\n",
        "print(tokenizer.encode('negative').ids)\n",
        "print(tokenizer.encode('neutral').ids)"
      ],
      "execution_count": null,
      "outputs": [
        {
          "output_type": "stream",
          "text": [
            "[101, 3893, 102]\n",
            "[101, 4997, 102]\n",
            "[101, 8699, 102]\n"
          ],
          "name": "stdout"
        }
      ]
    },
    {
      "cell_type": "code",
      "metadata": {
        "id": "Y9Z4ZFVUTjEM",
        "colab_type": "code",
        "colab": {}
      },
      "source": [
        "#Creating a sentiment dictionary to create input data\n",
        "sentiment_dict={'positive':3893,'negative':4997,'neutral':8699}"
      ],
      "execution_count": null,
      "outputs": []
    },
    {
      "cell_type": "code",
      "metadata": {
        "id": "i7LVi47B1B8J",
        "colab_type": "code",
        "colab": {}
      },
      "source": [
        "#Converting text and selected_text columns to lower case\n",
        "\n",
        "train['text']=train['text'].apply(lambda x: str.lower(x))\n",
        "train['selected_text']=train['selected_text'].apply(lambda x: str.lower(x))"
      ],
      "execution_count": null,
      "outputs": []
    },
    {
      "cell_type": "code",
      "metadata": {
        "id": "vpYddYWLgXg3",
        "colab_type": "code",
        "colab": {}
      },
      "source": [
        "def createData(text,selected_text,sentiment,tokenizer):\n",
        "  '''Create the data as required for Bert QA model '''\n",
        "  id0=None\n",
        "  id1=None\n",
        "  start_tokens=np.zeros((MAX_LEN),dtype=np.int32)\n",
        "  end_tokens=np.zeros((MAX_LEN),dtype=np.int32)\n",
        "\n",
        "  #Find start and end index of selected_text in tweet\n",
        "  for i,c in enumerate(text):\n",
        "    if(c==selected_text[0]):\n",
        "      id0=i\n",
        "      id1=i+len(selected_text)\n",
        "      break\n",
        "  chars=np.zeros(len(text))\n",
        "  if(id0!=None and id1!=None):\n",
        "    chars[id0:id1]=1\n",
        "  token_encode=tokenizer.encode(text)\n",
        "  token_ids=token_encode.ids[1:-1]\n",
        "  token_offsets=token_encode.offsets[1:-1]\n",
        "\n",
        "  target_idx=[]\n",
        "  for i,(o1,o2) in enumerate(token_offsets):\n",
        "    if(sum(chars[o1:o2])>0):\n",
        "      target_idx.append(i)\n",
        "  \n",
        "  target_start=target_idx[0]\n",
        "  target_end=target_idx[-1]\n",
        "\n",
        "  \n",
        "\n",
        "  #Creating the input data to the BERT model\n",
        "  input_ids=[101]+[sentiment_dict[sentiment]]+[102]+token_ids+[102]\n",
        "  atten_mask=[1]*4+[1]*len(token_ids)\n",
        "  input_type_ids=[0,0,0]+[1]*(len(token_ids)+1) \n",
        "\n",
        "  offsets=[(0,0)]*3+token_offsets+[(0,0)]\n",
        "\n",
        "  #Adding 3 to target because of 101,sentiment and 102 tokens\n",
        "  target_start+=3\n",
        "  target_end+=3\n",
        "  start_tokens[target_start]=1\n",
        "  end_tokens[target_end]=1\n",
        "\n",
        "  pad_length=MAX_LEN-len(input_ids)\n",
        "\n",
        "  #Padding the excess tokens with [0]\n",
        "  if(pad_length>0):\n",
        "    input_ids=input_ids+([0]*pad_length)\n",
        "    atten_mask=atten_mask+([0]*pad_length)\n",
        "    input_type_ids=input_type_ids+([0]*pad_length)\n",
        "    offsets=offsets+([(0,0)]*pad_length)\n",
        "    \n",
        "\n",
        "  return (input_ids,atten_mask,input_type_ids,start_tokens,end_tokens,offsets)\n",
        "\n",
        "\n"
      ],
      "execution_count": null,
      "outputs": []
    },
    {
      "cell_type": "code",
      "metadata": {
        "id": "bm-MJ-BSdTKg",
        "colab_type": "code",
        "colab": {}
      },
      "source": [
        "def createInput(data,tokenizer):\n",
        "  '''Convert to BERT input for all the data points '''\n",
        "  input_ids=[]\n",
        "  input_att_mask=[]\n",
        "  input_type_ids=[]\n",
        "  offsets=[]\n",
        "  start_ids=[]\n",
        "  end_ids=[]\n",
        "\n",
        "  for _,i in tqdm(data.iterrows()):    \n",
        "    ids,att_mask,type_ids,start,end,offset=createData(i['text'],i['selected_text'],i['sentiment'],tokenizer)      \n",
        "    input_ids.append(ids)\n",
        "    input_att_mask.append(att_mask)\n",
        "    input_type_ids.append(type_ids)\n",
        "    start_ids.append(start)    \n",
        "    end_ids.append(end)\n",
        "    offsets.append(offset)\n",
        "  return (np.asarray(input_ids,dtype=np.int32),np.asarray(input_att_mask,dtype=np.int32),\n",
        "          np.asarray(input_type_ids,dtype=np.int32),np.asarray(start_ids,dtype=np.int32),\n",
        "          np.asarray(end_ids,dtype=np.int32),np.asarray(offsets,dtype=np.int32))\n"
      ],
      "execution_count": null,
      "outputs": []
    },
    {
      "cell_type": "code",
      "metadata": {
        "id": "J2PTuHK2YM7N",
        "colab_type": "code",
        "colab": {
          "base_uri": "https://localhost:8080/",
          "height": 68
        },
        "outputId": "232ec3e0-c6b6-412d-db72-358a4462207e"
      },
      "source": [
        "#Perform train,validatio and test split\n",
        "\n",
        "from sklearn.model_selection import train_test_split\n",
        "\n",
        "X_train,X_val,Y_train,Y_val=train_test_split(train,train['sentiment'],\n",
        "                                              test_size=0.2,random_state=42,stratify=train['sentiment'])\n",
        "X_train,X_test,Y_train,Y_test=train_test_split(X_train,Y_train,\n",
        "                                               test_size=0.2,random_state=42,stratify=X_train['sentiment'])\n",
        "\n",
        "X_train.reset_index(inplace=True,drop=True)\n",
        "X_val.reset_index(inplace=True,drop=True)\n",
        "X_test.reset_index(inplace=True,drop=True)\n",
        "\n",
        "Y_train=Y_train.reset_index(drop=True)\n",
        "Y_val=Y_val.reset_index(drop=True)\n",
        "Y_test=Y_test.reset_index(drop=True)\n",
        "\n",
        "print('X_train shape',X_train.shape,' Y_train shape ',Y_train.shape)\n",
        "print('X_val shape',X_val.shape,' Y_val shape ',Y_val.shape)\n",
        "print('X_test shape',X_test.shape,' Y_test shape ',Y_test.shape)"
      ],
      "execution_count": null,
      "outputs": [
        {
          "output_type": "stream",
          "text": [
            "X_train shape (17587, 4)  Y_train shape  (17587,)\n",
            "X_val shape (5496, 4)  Y_val shape  (5496,)\n",
            "X_test shape (4397, 4)  Y_test shape  (4397,)\n"
          ],
          "name": "stdout"
        }
      ]
    },
    {
      "cell_type": "code",
      "metadata": {
        "id": "0PsjBK4uc925",
        "colab_type": "code",
        "colab": {
          "base_uri": "https://localhost:8080/",
          "height": 68
        },
        "outputId": "f7b882c8-ae92-4040-ccf7-c036be6d7a0f"
      },
      "source": [
        "#Convert train,validation and test data to Bert QA input\n",
        "\n",
        "X_tr1,X_tr2,X_tr3,Y_tr1,Y_tr2,offsetTr=createInput(X_train,tokenizer)\n",
        "X_val1,X_val2,X_val3,Y_val1,Y_val2,offsetVal=createInput(X_val,tokenizer)\n",
        "X_te1,X_te2,X_te3,Y_te1,Y_te2,offsetTe=createInput(X_test,tokenizer)"
      ],
      "execution_count": null,
      "outputs": [
        {
          "output_type": "stream",
          "text": [
            "17587it [00:05, 3242.55it/s]\n",
            "5496it [00:01, 3150.95it/s]\n",
            "4397it [00:01, 3283.60it/s]\n"
          ],
          "name": "stderr"
        }
      ]
    },
    {
      "cell_type": "code",
      "metadata": {
        "id": "8m5IQpjkPWbK",
        "colab_type": "code",
        "colab": {
          "base_uri": "https://localhost:8080/",
          "height": 119
        },
        "outputId": "bbc173b9-0019-4f20-99a6-79556695bbf4"
      },
      "source": [
        "#Checking the shapes \n",
        "print('The shape of token ids',X_tr1.shape)\n",
        "print('The shape of attention mask ',X_tr2.shape)\n",
        "print('The shape of token type ids',X_tr3.shape)\n",
        "print('The shape of start tokens',Y_tr1.shape)\n",
        "print('The shape of end tokens',Y_tr2.shape)\n",
        "print('The shape of offsets is',offsetTr.shape)"
      ],
      "execution_count": null,
      "outputs": [
        {
          "output_type": "stream",
          "text": [
            "The shape of token ids (17587, 128)\n",
            "The shape of attention mask  (17587, 128)\n",
            "The shape of token type ids (17587, 128)\n",
            "The shape of start tokens (17587, 128)\n",
            "The shape of end tokens (17587, 128)\n",
            "The shape of offsets is (17587, 128, 2)\n"
          ],
          "name": "stdout"
        }
      ]
    },
    {
      "cell_type": "code",
      "metadata": {
        "id": "lQFaYtNhaRcM",
        "colab_type": "code",
        "colab": {
          "base_uri": "https://localhost:8080/",
          "height": 544
        },
        "outputId": "34884713-33c4-40b5-c9da-ed50b93b476d"
      },
      "source": [
        "print(X_train.loc[6,['text','selected_text','sentiment']])\n",
        "print(X_tr1[6])\n",
        "print(X_tr2[6])\n",
        "print(X_tr3[6])\n",
        "print(Y_tr1[6])\n",
        "print(Y_tr2[6])\n"
      ],
      "execution_count": null,
      "outputs": [
        {
          "output_type": "stream",
          "text": [
            "text              i loves me some jeff lynne, and i do enjoy si...\n",
            "selected_text                          i loves me some jeff lynne,\n",
            "sentiment                                                 positive\n",
            "Name: 6, dtype: object\n",
            "[  101  3893   102  1045  7459  2033  2070  5076 26938  1010  1998  1045\n",
            "  2079  5959  4133  2906  2147  1010  2021  2008  2001 17704  6881  1012\n",
            "  2000  2169  2010  2219  1010  1045  1055  1036 13382   999   102     0\n",
            "     0     0     0     0     0     0     0     0     0     0     0     0\n",
            "     0     0     0     0     0     0     0     0     0     0     0     0\n",
            "     0     0     0     0     0     0     0     0     0     0     0     0\n",
            "     0     0     0     0     0     0     0     0     0     0     0     0\n",
            "     0     0     0     0     0     0     0     0     0     0     0     0\n",
            "     0     0     0     0     0     0     0     0     0     0     0     0\n",
            "     0     0     0     0     0     0     0     0     0     0     0     0\n",
            "     0     0     0     0     0     0     0     0]\n",
            "[1 1 1 1 1 1 1 1 1 1 1 1 1 1 1 1 1 1 1 1 1 1 1 1 1 1 1 1 1 1 1 1 1 1 1 0 0\n",
            " 0 0 0 0 0 0 0 0 0 0 0 0 0 0 0 0 0 0 0 0 0 0 0 0 0 0 0 0 0 0 0 0 0 0 0 0 0\n",
            " 0 0 0 0 0 0 0 0 0 0 0 0 0 0 0 0 0 0 0 0 0 0 0 0 0 0 0 0 0 0 0 0 0 0 0 0 0\n",
            " 0 0 0 0 0 0 0 0 0 0 0 0 0 0 0 0 0]\n",
            "[0 0 0 1 1 1 1 1 1 1 1 1 1 1 1 1 1 1 1 1 1 1 1 1 1 1 1 1 1 1 1 1 1 1 1 0 0\n",
            " 0 0 0 0 0 0 0 0 0 0 0 0 0 0 0 0 0 0 0 0 0 0 0 0 0 0 0 0 0 0 0 0 0 0 0 0 0\n",
            " 0 0 0 0 0 0 0 0 0 0 0 0 0 0 0 0 0 0 0 0 0 0 0 0 0 0 0 0 0 0 0 0 0 0 0 0 0\n",
            " 0 0 0 0 0 0 0 0 0 0 0 0 0 0 0 0 0]\n",
            "[0 0 0 1 0 0 0 0 0 0 0 0 0 0 0 0 0 0 0 0 0 0 0 0 0 0 0 0 0 0 0 0 0 0 0 0 0\n",
            " 0 0 0 0 0 0 0 0 0 0 0 0 0 0 0 0 0 0 0 0 0 0 0 0 0 0 0 0 0 0 0 0 0 0 0 0 0\n",
            " 0 0 0 0 0 0 0 0 0 0 0 0 0 0 0 0 0 0 0 0 0 0 0 0 0 0 0 0 0 0 0 0 0 0 0 0 0\n",
            " 0 0 0 0 0 0 0 0 0 0 0 0 0 0 0 0 0]\n",
            "[0 0 0 0 0 0 0 0 0 1 0 0 0 0 0 0 0 0 0 0 0 0 0 0 0 0 0 0 0 0 0 0 0 0 0 0 0\n",
            " 0 0 0 0 0 0 0 0 0 0 0 0 0 0 0 0 0 0 0 0 0 0 0 0 0 0 0 0 0 0 0 0 0 0 0 0 0\n",
            " 0 0 0 0 0 0 0 0 0 0 0 0 0 0 0 0 0 0 0 0 0 0 0 0 0 0 0 0 0 0 0 0 0 0 0 0 0\n",
            " 0 0 0 0 0 0 0 0 0 0 0 0 0 0 0 0 0]\n"
          ],
          "name": "stdout"
        }
      ]
    },
    {
      "cell_type": "code",
      "metadata": {
        "id": "ZX9FSqTQn64Z",
        "colab_type": "code",
        "colab": {
          "base_uri": "https://localhost:8080/",
          "height": 171,
          "referenced_widgets": [
            "1b1560b72ea44b428cf3e13162522ae9",
            "56cb57c216a24158b22e79278b7625d5",
            "2f91f751e5b74b6996dd51f8c7efd650",
            "fe94c3b5d92a4c889839337a8e475881",
            "2b20979a2e7e41b9a9a2940509d343f7",
            "4a6f178b86694bdfb739ab49b2849891",
            "5cb1be0a4c1e48de9d57956abe7ad8fc",
            "a6732cfea32b4230b16d434428843018"
          ]
        },
        "outputId": "c966e04b-fd09-4d73-8f58-f8a71dc5ff28"
      },
      "source": [
        "#Loading the pretrained BERT model\n",
        "bert_conf = BertConfig() \n",
        "bert_model= TFBertForQuestionAnswering.from_pretrained('bert-base-uncased',config=bert_conf)"
      ],
      "execution_count": null,
      "outputs": [
        {
          "output_type": "display_data",
          "data": {
            "application/vnd.jupyter.widget-view+json": {
              "model_id": "1b1560b72ea44b428cf3e13162522ae9",
              "version_minor": 0,
              "version_major": 2
            },
            "text/plain": [
              "HBox(children=(FloatProgress(value=0.0, description='Downloading', max=536063208.0, style=ProgressStyle(descri…"
            ]
          },
          "metadata": {
            "tags": []
          }
        },
        {
          "output_type": "stream",
          "text": [
            "\n"
          ],
          "name": "stdout"
        },
        {
          "output_type": "stream",
          "text": [
            "Some weights of the model checkpoint at bert-base-uncased were not used when initializing TFBertForQuestionAnswering: ['mlm___cls', 'nsp___cls']\n",
            "- This IS expected if you are initializing TFBertForQuestionAnswering from the checkpoint of a model trained on another task or with another architecture (e.g. initializing a BertForSequenceClassification model from a BertForPretraining model).\n",
            "- This IS NOT expected if you are initializing TFBertForQuestionAnswering from the checkpoint of a model that you expect to be exactly identical (initializing a BertForSequenceClassification model from a BertForSequenceClassification model).\n",
            "Some weights of TFBertForQuestionAnswering were not initialized from the model checkpoint at bert-base-uncased and are newly initialized: ['qa_outputs']\n",
            "You should probably TRAIN this model on a down-stream task to be able to use it for predictions and inference.\n"
          ],
          "name": "stderr"
        }
      ]
    },
    {
      "cell_type": "code",
      "metadata": {
        "id": "xzg8e69ymnaq",
        "colab_type": "code",
        "colab": {
          "base_uri": "https://localhost:8080/",
          "height": 459
        },
        "outputId": "7a87210d-8bc2-4f29-c9d2-fbf46710eca0"
      },
      "source": [
        "#Model Archietecture\n",
        "\n",
        "ids=Input((MAX_LEN),name='ids',dtype='int32')\n",
        "att_mask=Input((MAX_LEN),name='att_mask',dtype='int32')\n",
        "type_ids=Input((MAX_LEN),name='type_ids',dtype='int32')\n",
        "\n",
        "\n",
        "bert_output=bert_model([ids,att_mask,type_ids])\n",
        "\n",
        "dropout1=Dropout(0.2,name='dropout1')(bert_output[0])\n",
        "out_1 = tf.keras.layers.Activation('softmax',name='activation1')(dropout1)\n",
        "\n",
        "dropout2=Dropout(0.2,name='dropout2')(bert_output[1])\n",
        "out_2 = tf.keras.layers.Activation('softmax',name='activation2')(dropout2)\n",
        "\n",
        "model1 = Model(inputs=[ids, att_mask, type_ids], outputs=[out_1,out_2])\n",
        "\n",
        "\n",
        "model1.summary()"
      ],
      "execution_count": null,
      "outputs": [
        {
          "output_type": "stream",
          "text": [
            "Model: \"functional_3\"\n",
            "__________________________________________________________________________________________________\n",
            "Layer (type)                    Output Shape         Param #     Connected to                     \n",
            "==================================================================================================\n",
            "ids (InputLayer)                [(None, 128)]        0                                            \n",
            "__________________________________________________________________________________________________\n",
            "att_mask (InputLayer)           [(None, 128)]        0                                            \n",
            "__________________________________________________________________________________________________\n",
            "type_ids (InputLayer)           [(None, 128)]        0                                            \n",
            "__________________________________________________________________________________________________\n",
            "tf_bert_for_question_answering  ((None, 128), (None, 109483778   ids[0][0]                        \n",
            "                                                                 att_mask[0][0]                   \n",
            "                                                                 type_ids[0][0]                   \n",
            "__________________________________________________________________________________________________\n",
            "dropout1 (Dropout)              (None, 128)          0           tf_bert_for_question_answering[1]\n",
            "__________________________________________________________________________________________________\n",
            "dropout2 (Dropout)              (None, 128)          0           tf_bert_for_question_answering[1]\n",
            "__________________________________________________________________________________________________\n",
            "activation1 (Activation)        (None, 128)          0           dropout1[0][0]                   \n",
            "__________________________________________________________________________________________________\n",
            "activation2 (Activation)        (None, 128)          0           dropout2[0][0]                   \n",
            "==================================================================================================\n",
            "Total params: 109,483,778\n",
            "Trainable params: 109,483,778\n",
            "Non-trainable params: 0\n",
            "__________________________________________________________________________________________________\n"
          ],
          "name": "stdout"
        }
      ]
    },
    {
      "cell_type": "markdown",
      "metadata": {
        "id": "n9YTfgr70nrF",
        "colab_type": "text"
      },
      "source": [
        "Model Archietecture\n",
        "* Input Layer: 3 input layers: \n",
        "  * Input_ids: Numeric ids of each token\n",
        "  * Attention_mask: It has 1 for tokens and 0 for padding\n",
        "  * Token_type ids: Ih has 0 for question(sentiment) and 1 for context(tweet)\n",
        "* Bert Model: It returns probability of each token being start and end token in the answer(selected_text)\n",
        "* OutputLayer: Softmax activation applied to start and end scores\n",
        "\n",
        "\n",
        "\n",
        "\n",
        "\n",
        "\n"
      ]
    },
    {
      "cell_type": "code",
      "metadata": {
        "id": "hVYowPRHo0Zc",
        "colab_type": "code",
        "colab": {
          "base_uri": "https://localhost:8080/",
          "height": 370
        },
        "outputId": "d260857e-7c07-4598-8384-7a0a384c8b08"
      },
      "source": [
        "tf.keras.utils.plot_model(model1, 'Model1.png',show_shapes=True)"
      ],
      "execution_count": null,
      "outputs": [
        {
          "output_type": "execute_result",
          "data": {
            "image/png": "[encoded data removed]",
            "text/plain": [
              "<IPython.core.display.Image object>"
            ]
          },
          "metadata": {
            "tags": []
          },
          "execution_count": 27
        }
      ]
    },
    {
      "cell_type": "code",
      "metadata": {
        "id": "aLnqVhog0UmE",
        "colab_type": "code",
        "colab": {}
      },
      "source": [
        "#Creating  directory for model and weights \n",
        "import os\n",
        "import shutil\n",
        "\n",
        "# shutil.rmtree('/content/Model1')\n",
        "\n",
        "# os.mkdir('/content/Model1')\n",
        "os.mkdir('/content/model_save')\n"
      ],
      "execution_count": null,
      "outputs": []
    },
    {
      "cell_type": "code",
      "metadata": {
        "id": "Fhv-GtEo0itR",
        "colab_type": "code",
        "colab": {}
      },
      "source": [
        "#Setting the parameters for TensorBoard\n",
        "from tensorflow.keras.callbacks import TensorBoard\n",
        "%load_ext tensorboard\n",
        "!rm -rf ./logs/ \n",
        "\n",
        "log_dir='/content/Model1'\n",
        "tensorboard_callback = TensorBoard(log_dir=log_dir,histogram_freq=1, write_graph=True)"
      ],
      "execution_count": null,
      "outputs": []
    },
    {
      "cell_type": "code",
      "metadata": {
        "id": "S1ZUkyCVqPX9",
        "colab_type": "code",
        "colab": {}
      },
      "source": [
        "#Checkpoint to store the weights\n",
        "from tensorflow.keras.callbacks import ModelCheckpoint\n",
        "\n",
        "checkpoint=ModelCheckpoint('/content/model_save/bert.h5', monitor='val_loss', verbose=1, save_best_only=True,\n",
        "        save_weights_only=True, mode='auto', save_freq='epoch')"
      ],
      "execution_count": null,
      "outputs": []
    },
    {
      "cell_type": "code",
      "metadata": {
        "id": "Q0ZQXfPq2vKU",
        "colab_type": "code",
        "colab": {}
      },
      "source": [
        "#Compiling the model\n",
        "model1.compile(optimizer=tf.keras.optimizers.Adam(learning_rate=2e-5),\n",
        "              loss=tf.keras.losses.CategoricalCrossentropy())"
      ],
      "execution_count": null,
      "outputs": []
    },
    {
      "cell_type": "code",
      "metadata": {
        "id": "_L8embIZ21TI",
        "colab_type": "code",
        "colab": {
          "base_uri": "https://localhost:8080/",
          "height": 462
        },
        "outputId": "4d72e0e7-9018-4349-8419-cf07e93b9c0c"
      },
      "source": [
        "#Fitting the model and running it for 3 epochs\n",
        "callback=[tensorboard_callback,checkpoint]\n",
        "model1.fit({'ids':X_tr1,'att_mask':X_tr2,'type_ids':X_tr3},[Y_tr1,Y_tr2],\n",
        "           validation_data=({'ids':X_val1,'att_mask':X_val2,'type_ids':X_val3},[Y_val1,Y_val2]),\n",
        "           batch_size=32,epochs=4,callbacks=callback)"
      ],
      "execution_count": null,
      "outputs": [
        {
          "output_type": "stream",
          "text": [
            "WARNING:tensorflow:Model failed to serialize as JSON. Ignoring... \n",
            "Epoch 1/4\n",
            "WARNING:tensorflow:Gradients do not exist for variables ['tf_bert_for_question_answering/bert/pooler/dense/kernel:0', 'tf_bert_for_question_answering/bert/pooler/dense/bias:0'] when minimizing the loss.\n",
            "WARNING:tensorflow:Gradients do not exist for variables ['tf_bert_for_question_answering/bert/pooler/dense/kernel:0', 'tf_bert_for_question_answering/bert/pooler/dense/bias:0'] when minimizing the loss.\n",
            "WARNING:tensorflow:Gradients do not exist for variables ['tf_bert_for_question_answering/bert/pooler/dense/kernel:0', 'tf_bert_for_question_answering/bert/pooler/dense/bias:0'] when minimizing the loss.\n",
            "WARNING:tensorflow:Gradients do not exist for variables ['tf_bert_for_question_answering/bert/pooler/dense/kernel:0', 'tf_bert_for_question_answering/bert/pooler/dense/bias:0'] when minimizing the loss.\n",
            "  1/550 [..............................] - ETA: 0s - loss: 9.7204 - activation1_loss: 4.8893 - activation2_loss: 4.8311WARNING:tensorflow:From /usr/local/lib/python3.6/dist-packages/tensorflow/python/ops/summary_ops_v2.py:1277: stop (from tensorflow.python.eager.profiler) is deprecated and will be removed after 2020-07-01.\n",
            "Instructions for updating:\n",
            "use `tf.profiler.experimental.stop` instead.\n",
            "550/550 [==============================] - ETA: 0s - loss: 4.2212 - activation1_loss: 1.9373 - activation2_loss: 2.2840\n",
            "Epoch 00001: val_loss improved from inf to 2.61079, saving model to /content/model_save/bert.h5\n",
            "550/550 [==============================] - 554s 1s/step - loss: 4.2212 - activation1_loss: 1.9373 - activation2_loss: 2.2840 - val_loss: 2.6108 - val_activation1_loss: 1.1455 - val_activation2_loss: 1.4653\n",
            "Epoch 2/4\n",
            "550/550 [==============================] - ETA: 0s - loss: 3.7082 - activation1_loss: 1.7057 - activation2_loss: 2.0025\n",
            "Epoch 00002: val_loss improved from 2.61079 to 2.54080, saving model to /content/model_save/bert.h5\n",
            "550/550 [==============================] - 551s 1s/step - loss: 3.7082 - activation1_loss: 1.7057 - activation2_loss: 2.0025 - val_loss: 2.5408 - val_activation1_loss: 1.1090 - val_activation2_loss: 1.4318\n",
            "Epoch 3/4\n",
            "550/550 [==============================] - ETA: 0s - loss: 3.5209 - activation1_loss: 1.6077 - activation2_loss: 1.9132\n",
            "Epoch 00003: val_loss improved from 2.54080 to 2.51977, saving model to /content/model_save/bert.h5\n",
            "550/550 [==============================] - 550s 999ms/step - loss: 3.5209 - activation1_loss: 1.6077 - activation2_loss: 1.9132 - val_loss: 2.5198 - val_activation1_loss: 1.0909 - val_activation2_loss: 1.4289\n",
            "Epoch 4/4\n",
            "550/550 [==============================] - ETA: 0s - loss: 3.3179 - activation1_loss: 1.5230 - activation2_loss: 1.7949\n",
            "Epoch 00004: val_loss did not improve from 2.51977\n",
            "550/550 [==============================] - 549s 998ms/step - loss: 3.3179 - activation1_loss: 1.5230 - activation2_loss: 1.7949 - val_loss: 2.6049 - val_activation1_loss: 1.1358 - val_activation2_loss: 1.4692\n"
          ],
          "name": "stdout"
        },
        {
          "output_type": "execute_result",
          "data": {
            "text/plain": [
              "<tensorflow.python.keras.callbacks.History at 0x7f6225633390>"
            ]
          },
          "metadata": {
            "tags": []
          },
          "execution_count": 35
        }
      ]
    },
    {
      "cell_type": "code",
      "metadata": {
        "id": "qVZYY01xjUCS",
        "colab_type": "code",
        "colab": {}
      },
      "source": [
        "#Saving the model weights\n",
        "model1.load_weights('/content/model_save/bert.h5')"
      ],
      "execution_count": null,
      "outputs": []
    },
    {
      "cell_type": "code",
      "metadata": {
        "id": "Me3DJXS2BBZ5",
        "colab_type": "code",
        "colab": {}
      },
      "source": [
        "%tensorboard --logdir '/content/Model1'"
      ],
      "execution_count": null,
      "outputs": []
    },
    {
      "cell_type": "markdown",
      "metadata": {
        "id": "SplSlIdK20L7",
        "colab_type": "text"
      },
      "source": [
        "* Optimizer: Adam\n",
        "* Learning rate: 2e-5\n",
        "* The training and validation loss reduces for three epochs, after which the validation loss starts to increase. Therefore, the model is trained for three epochs.\n",
        "* To overcome overfitting,\n",
        "  * A dropout of 0.2 was applied to BERT model\n",
        "  * A smaller learning rate was used"
      ]
    },
    {
      "cell_type": "code",
      "metadata": {
        "id": "P3CQb9XzTjwt",
        "colab_type": "code",
        "colab": {}
      },
      "source": [
        "#Model prediction on hold out test dataset\n",
        "start,end=model1.predict({'ids':X_te1,'att_mask':X_te2,'type_ids':X_te3})"
      ],
      "execution_count": null,
      "outputs": []
    },
    {
      "cell_type": "code",
      "metadata": {
        "id": "23shlTXtS8DL",
        "colab_type": "code",
        "colab": {}
      },
      "source": [
        "def jaccard(str1, str2): \n",
        "  '''Returns the jaccard score for the given two strings '''\n",
        "  a = set(str1.lower().split()) \n",
        "  b = set(str2.lower().split())\n",
        "  c = a.intersection(b)\n",
        "  return float(len(c)) / (len(a) + len(b) - len(c))"
      ],
      "execution_count": null,
      "outputs": []
    },
    {
      "cell_type": "code",
      "metadata": {
        "id": "BoLnHryQRuvD",
        "colab_type": "code",
        "colab": {}
      },
      "source": [
        "#Finds the selected text for the given tweet\n",
        "def find_selected_text(data,offset,tokenizer,start,end):\n",
        "  '''Finds the selected text for the given tweet'''\n",
        "  selected_text_list=[]\n",
        "  for i in range(data.shape[0]):\n",
        "\n",
        "    #Finding the start and end index\n",
        "    start_idx=np.argmax(start[i])\n",
        "    end_idx=np.argmax(end[i])\n",
        "    \n",
        "\n",
        "    #If start is greater than end index, end_index=start_index\n",
        "    if (start_idx>end_idx):\n",
        "      end_idx=start_idx\n",
        "\n",
        "    #Finding the selected text from original tweet\n",
        "    tweet=data.loc[i,'text']    \n",
        "    predicted_text=tweet[offset[i][start_idx][0]:offset[i][end_idx][1]]    \n",
        "\n",
        "    selected_text_list.append(predicted_text)\n",
        "\n",
        "  return selected_text_list\n",
        "    \n"
      ],
      "execution_count": null,
      "outputs": []
    },
    {
      "cell_type": "code",
      "metadata": {
        "id": "7keh8J1VXEF0",
        "colab_type": "code",
        "colab": {
          "base_uri": "https://localhost:8080/",
          "height": 478
        },
        "outputId": "9233c16b-21ff-4969-a39f-4d5eb50ce5f0"
      },
      "source": [
        "# Obtaining the predicted selected  text and adding to X_test dataframe\n",
        "selected_text=find_selected_text(X_test,offsetTe,tokenizer,start,end)\n",
        "X_test['predicted_text']=selected_text\n",
        "\n",
        "for i,(_,row) in enumerate(X_test.iterrows()):\n",
        "  X_test.loc[i,'jaccard']=jaccard(row.selected_text,row.predicted_text)\n",
        "\n",
        "X_test.head(10)"
      ],
      "execution_count": null,
      "outputs": [
        {
          "output_type": "execute_result",
          "data": {
            "text/html": [
              "<div>\n",
              "<style scoped>\n",
              "    .dataframe tbody tr th:only-of-type {\n",
              "        vertical-align: middle;\n",
              "    }\n",
              "\n",
              "    .dataframe tbody tr th {\n",
              "        vertical-align: top;\n",
              "    }\n",
              "\n",
              "    .dataframe thead th {\n",
              "        text-align: right;\n",
              "    }\n",
              "</style>\n",
              "<table border=\"1\" class=\"dataframe\">\n",
              "  <thead>\n",
              "    <tr style=\"text-align: right;\">\n",
              "      <th></th>\n",
              "      <th>textID</th>\n",
              "      <th>text</th>\n",
              "      <th>selected_text</th>\n",
              "      <th>sentiment</th>\n",
              "      <th>predicted_text</th>\n",
              "      <th>jaccard</th>\n",
              "    </tr>\n",
              "  </thead>\n",
              "  <tbody>\n",
              "    <tr>\n",
              "      <th>0</th>\n",
              "      <td>197aa929a2</td>\n",
              "      <td>misses driving already</td>\n",
              "      <td>misses driving already</td>\n",
              "      <td>negative</td>\n",
              "      <td>misses driving already</td>\n",
              "      <td>1.00</td>\n",
              "    </tr>\n",
              "    <tr>\n",
              "      <th>1</th>\n",
              "      <td>7648a76c96</td>\n",
              "      <td>name the rest? let`s see. mystery jets are pr...</td>\n",
              "      <td>cool.</td>\n",
              "      <td>positive</td>\n",
              "      <td>name the rest? let`s see. mystery jets are pre...</td>\n",
              "      <td>0.10</td>\n",
              "    </tr>\n",
              "    <tr>\n",
              "      <th>2</th>\n",
              "      <td>14fc34a4fb</td>\n",
              "      <td>anyways have a severe headache ryt now! i jst...</td>\n",
              "      <td>anyways have a severe headache ryt now! i jst ...</td>\n",
              "      <td>neutral</td>\n",
              "      <td>anyways have a severe headache ryt now! i jst ...</td>\n",
              "      <td>1.00</td>\n",
              "    </tr>\n",
              "    <tr>\n",
              "      <th>3</th>\n",
              "      <td>50662e359b</td>\n",
              "      <td>25-man ulduar is hard...</td>\n",
              "      <td>25-man ulduar is hard...</td>\n",
              "      <td>neutral</td>\n",
              "      <td>25-man ulduar is hard...</td>\n",
              "      <td>1.00</td>\n",
              "    </tr>\n",
              "    <tr>\n",
              "      <th>4</th>\n",
              "      <td>b66219e011</td>\n",
              "      <td>cried like a fukn baby today durin da senior s...</td>\n",
              "      <td>miss</td>\n",
              "      <td>negative</td>\n",
              "      <td>cried</td>\n",
              "      <td>0.00</td>\n",
              "    </tr>\n",
              "    <tr>\n",
              "      <th>5</th>\n",
              "      <td>6649f3558c</td>\n",
              "      <td>not a prob hun</td>\n",
              "      <td>not a prob</td>\n",
              "      <td>positive</td>\n",
              "      <td>not a prob hun</td>\n",
              "      <td>0.75</td>\n",
              "    </tr>\n",
              "    <tr>\n",
              "      <th>6</th>\n",
              "      <td>a54d3c2825</td>\n",
              "      <td>i know   it was worth a shot, though!</td>\n",
              "      <td>as wort</td>\n",
              "      <td>positive</td>\n",
              "      <td>i know   it was worth a shot, though!</td>\n",
              "      <td>0.00</td>\n",
              "    </tr>\n",
              "    <tr>\n",
              "      <th>7</th>\n",
              "      <td>db83ff224e</td>\n",
              "      <td>you`re still welcome - the door`s wide enough...</td>\n",
              "      <td>you`re still welcome - the door`s wide enough ...</td>\n",
              "      <td>neutral</td>\n",
              "      <td>you`re still welcome - the door`s wide enough ...</td>\n",
              "      <td>1.00</td>\n",
              "    </tr>\n",
              "    <tr>\n",
              "      <th>8</th>\n",
              "      <td>fdbaccd945</td>\n",
              "      <td>_nickj07 um....nicks voice,smile,eyes,laugh,an...</td>\n",
              "      <td>great</td>\n",
              "      <td>positive</td>\n",
              "      <td>great</td>\n",
              "      <td>1.00</td>\n",
              "    </tr>\n",
              "    <tr>\n",
              "      <th>9</th>\n",
              "      <td>1c82fa1e65</td>\n",
              "      <td>reminds me of the weather a month ago it was ...</td>\n",
              "      <td>reminds me of the weather a month ago it was h...</td>\n",
              "      <td>neutral</td>\n",
              "      <td>reminds me of the weather a month ago it was h...</td>\n",
              "      <td>1.00</td>\n",
              "    </tr>\n",
              "  </tbody>\n",
              "</table>\n",
              "</div>"
            ],
            "text/plain": [
              "       textID  ... jaccard\n",
              "0  197aa929a2  ...    1.00\n",
              "1  7648a76c96  ...    0.10\n",
              "2  14fc34a4fb  ...    1.00\n",
              "3  50662e359b  ...    1.00\n",
              "4  b66219e011  ...    0.00\n",
              "5  6649f3558c  ...    0.75\n",
              "6  a54d3c2825  ...    0.00\n",
              "7  db83ff224e  ...    1.00\n",
              "8  fdbaccd945  ...    1.00\n",
              "9  1c82fa1e65  ...    1.00\n",
              "\n",
              "[10 rows x 6 columns]"
            ]
          },
          "metadata": {
            "tags": []
          },
          "execution_count": 40
        }
      ]
    },
    {
      "cell_type": "markdown",
      "metadata": {
        "id": "Sn06k8lvXZE3",
        "colab_type": "text"
      },
      "source": [
        "### Error Analysis"
      ]
    },
    {
      "cell_type": "code",
      "metadata": {
        "id": "CtSdrQ6AW9BT",
        "colab_type": "code",
        "colab": {
          "base_uri": "https://localhost:8080/",
          "height": 68
        },
        "outputId": "cdb1ce2e-afa0-470b-8305-da81e9865d7d"
      },
      "source": [
        "#Average Jaccard score for each sentiment\n",
        "\n",
        "pos_average=np.mean(X_test['jaccard'][X_test['sentiment']=='positive'])\n",
        "print('The average jaccard score for postive sentiment is  ',pos_average)\n",
        "\n",
        "neg_average=np.mean(X_test['jaccard'][X_test['sentiment']=='negative'])\n",
        "print('The average jaccard score for negative sentiment is  ',neg_average)\n",
        "\n",
        "neu_average=np.mean(X_test['jaccard'][X_test['sentiment']=='neutral'])\n",
        "print('The average jaccard score for neutral sentiment is  ',neu_average)"
      ],
      "execution_count": null,
      "outputs": [
        {
          "output_type": "stream",
          "text": [
            "The average jaccard score for postive sentiment is   0.41717859530336165\n",
            "The average jaccard score for negative sentiment is   0.3928001901958124\n",
            "The average jaccard score for neutral sentiment is   0.976394455933297\n"
          ],
          "name": "stdout"
        }
      ]
    },
    {
      "cell_type": "code",
      "metadata": {
        "id": "LUO84bzjXBBq",
        "colab_type": "code",
        "colab": {
          "base_uri": "https://localhost:8080/",
          "height": 391
        },
        "outputId": "ab960564-0a19-49e2-e570-c396ced0c624"
      },
      "source": [
        "#Adding len of the selected text column\n",
        "\n",
        "X_test['len_selected_text']=X_test['selected_text'].apply(lambda x: len(x.split()))\n",
        "X_test['len_text']=X_test['text'].apply(lambda x: len(x.split()))\n",
        "X_test['diff_len']=abs(X_test['len_selected_text']-X_test['len_text'])\n",
        "X_test.head()"
      ],
      "execution_count": null,
      "outputs": [
        {
          "output_type": "execute_result",
          "data": {
            "text/html": [
              "<div>\n",
              "<style scoped>\n",
              "    .dataframe tbody tr th:only-of-type {\n",
              "        vertical-align: middle;\n",
              "    }\n",
              "\n",
              "    .dataframe tbody tr th {\n",
              "        vertical-align: top;\n",
              "    }\n",
              "\n",
              "    .dataframe thead th {\n",
              "        text-align: right;\n",
              "    }\n",
              "</style>\n",
              "<table border=\"1\" class=\"dataframe\">\n",
              "  <thead>\n",
              "    <tr style=\"text-align: right;\">\n",
              "      <th></th>\n",
              "      <th>textID</th>\n",
              "      <th>text</th>\n",
              "      <th>selected_text</th>\n",
              "      <th>sentiment</th>\n",
              "      <th>predicted_text</th>\n",
              "      <th>jaccard</th>\n",
              "      <th>len_selected_text</th>\n",
              "      <th>len_text</th>\n",
              "      <th>diff_len</th>\n",
              "    </tr>\n",
              "  </thead>\n",
              "  <tbody>\n",
              "    <tr>\n",
              "      <th>0</th>\n",
              "      <td>197aa929a2</td>\n",
              "      <td>misses driving already</td>\n",
              "      <td>misses driving already</td>\n",
              "      <td>negative</td>\n",
              "      <td>misses driving already</td>\n",
              "      <td>1.0</td>\n",
              "      <td>3</td>\n",
              "      <td>3</td>\n",
              "      <td>0</td>\n",
              "    </tr>\n",
              "    <tr>\n",
              "      <th>1</th>\n",
              "      <td>7648a76c96</td>\n",
              "      <td>name the rest? let`s see. mystery jets are pr...</td>\n",
              "      <td>cool.</td>\n",
              "      <td>positive</td>\n",
              "      <td>name the rest? let`s see. mystery jets are pre...</td>\n",
              "      <td>0.1</td>\n",
              "      <td>1</td>\n",
              "      <td>20</td>\n",
              "      <td>19</td>\n",
              "    </tr>\n",
              "    <tr>\n",
              "      <th>2</th>\n",
              "      <td>14fc34a4fb</td>\n",
              "      <td>anyways have a severe headache ryt now! i jst...</td>\n",
              "      <td>anyways have a severe headache ryt now! i jst ...</td>\n",
              "      <td>neutral</td>\n",
              "      <td>anyways have a severe headache ryt now! i jst ...</td>\n",
              "      <td>1.0</td>\n",
              "      <td>24</td>\n",
              "      <td>24</td>\n",
              "      <td>0</td>\n",
              "    </tr>\n",
              "    <tr>\n",
              "      <th>3</th>\n",
              "      <td>50662e359b</td>\n",
              "      <td>25-man ulduar is hard...</td>\n",
              "      <td>25-man ulduar is hard...</td>\n",
              "      <td>neutral</td>\n",
              "      <td>25-man ulduar is hard...</td>\n",
              "      <td>1.0</td>\n",
              "      <td>4</td>\n",
              "      <td>4</td>\n",
              "      <td>0</td>\n",
              "    </tr>\n",
              "    <tr>\n",
              "      <th>4</th>\n",
              "      <td>b66219e011</td>\n",
              "      <td>cried like a fukn baby today durin da senior s...</td>\n",
              "      <td>miss</td>\n",
              "      <td>negative</td>\n",
              "      <td>cried</td>\n",
              "      <td>0.0</td>\n",
              "      <td>1</td>\n",
              "      <td>15</td>\n",
              "      <td>14</td>\n",
              "    </tr>\n",
              "  </tbody>\n",
              "</table>\n",
              "</div>"
            ],
            "text/plain": [
              "       textID  ... diff_len\n",
              "0  197aa929a2  ...        0\n",
              "1  7648a76c96  ...       19\n",
              "2  14fc34a4fb  ...        0\n",
              "3  50662e359b  ...        0\n",
              "4  b66219e011  ...       14\n",
              "\n",
              "[5 rows x 9 columns]"
            ]
          },
          "metadata": {
            "tags": []
          },
          "execution_count": 42
        }
      ]
    },
    {
      "cell_type": "code",
      "metadata": {
        "id": "u432pQ4jXB1i",
        "colab_type": "code",
        "colab": {}
      },
      "source": [
        "#Total number of tweets with correct prediction and incorrect prediction\n",
        "pos_jac_1=X_test[X_test['jaccard']==1]\n",
        "pos_jac_0=X_test[X_test['jaccard']!=1]"
      ],
      "execution_count": null,
      "outputs": []
    },
    {
      "cell_type": "code",
      "metadata": {
        "id": "7GAvwplLXGVd",
        "colab_type": "code",
        "colab": {
          "base_uri": "https://localhost:8080/",
          "height": 68
        },
        "outputId": "cd16a856-584e-4ed3-be71-7731fdca5ca5"
      },
      "source": [
        "print('The total number of  tweets is',X_test.shape[0])\n",
        "print('The total number of  tweets with jaccard=1 is',pos_jac_1.shape[0])\n",
        "print('The total number of  tweets with jaccard not 1 is',pos_jac_0.shape[0])"
      ],
      "execution_count": null,
      "outputs": [
        {
          "output_type": "stream",
          "text": [
            "The total number of  tweets is 4397\n",
            "The total number of  tweets with jaccard=1 is 2141\n",
            "The total number of  tweets with jaccard not 1 is 2256\n"
          ],
          "name": "stdout"
        }
      ]
    },
    {
      "cell_type": "code",
      "metadata": {
        "id": "A5qhAZGGXHUU",
        "colab_type": "code",
        "colab": {
          "base_uri": "https://localhost:8080/",
          "height": 34
        },
        "outputId": "275a2ec9-6ff6-425d-8863-21dbf16dcd60"
      },
      "source": [
        "#Performance of model when both tweet and selected text is same\n",
        "\n",
        "total_zero_diff=X_test[X_test['diff_len']==0].shape[0]\n",
        "zero_diff_jaccard_1=pos_jac_1[pos_jac_1['diff_len']==0].shape[0]\n",
        "result=zero_diff_jaccard_1*100/total_zero_diff\n",
        "print('The percentage of  tweets with jaccard=1 when both tweet and selected text were same is',result)"
      ],
      "execution_count": null,
      "outputs": [
        {
          "output_type": "stream",
          "text": [
            "The percentage of  tweets with jaccard=1 when both tweet and selected text were same is 85.80677290836654\n"
          ],
          "name": "stdout"
        }
      ]
    },
    {
      "cell_type": "code",
      "metadata": {
        "id": "kMQGQRDWXK5d",
        "colab_type": "code",
        "colab": {
          "base_uri": "https://localhost:8080/",
          "height": 34
        },
        "outputId": "f04f6e6c-0d90-4acb-e9e8-38f12b47c8dc"
      },
      "source": [
        "#Performance of model when difference between  tweet and selected text is less than 10\n",
        "\n",
        "diff_less_10=X_test[X_test['diff_len']<=10].shape[0]\n",
        "diff_less_10_jaccard_1=pos_jac_1[pos_jac_1['diff_len']<=10].shape[0]\n",
        "result=diff_less_10_jaccard_1*100/diff_less_10\n",
        "print('The percentage of tweets with jaccard=1 when length difference is less than 10 is',result)"
      ],
      "execution_count": null,
      "outputs": [
        {
          "output_type": "stream",
          "text": [
            "The percentage of tweets with jaccard=1 when length difference is less than 10 is 60.28737389177621\n"
          ],
          "name": "stdout"
        }
      ]
    },
    {
      "cell_type": "code",
      "metadata": {
        "id": "OzRPHsEpXNf_",
        "colab_type": "code",
        "colab": {
          "base_uri": "https://localhost:8080/",
          "height": 34
        },
        "outputId": "ac7a10f5-0851-4638-cc40-09478fee8332"
      },
      "source": [
        "#Performance of model when difference between  tweet and selected text is greter than 10 but less than 20\n",
        "\n",
        "diff_less_20=X_test[(X_test['diff_len']>10) & (X_test['diff_len']<=20)].shape[0]\n",
        "diff_less_20_jaccard_1=pos_jac_1[(pos_jac_1['diff_len']>10) & (pos_jac_1['diff_len']<=20)].shape[0]\n",
        "result=diff_less_20_jaccard_1*100/diff_less_20\n",
        "print('The percentage of tweets with jaccard=1 when length difference is greter than 10 and less than 20 is',result)"
      ],
      "execution_count": null,
      "outputs": [
        {
          "output_type": "stream",
          "text": [
            "The percentage of tweets with jaccard=1 when length difference is greter than 10 and less than 20 is 15.488215488215488\n"
          ],
          "name": "stdout"
        }
      ]
    },
    {
      "cell_type": "code",
      "metadata": {
        "id": "UXbgtzXFXP_W",
        "colab_type": "code",
        "colab": {
          "base_uri": "https://localhost:8080/",
          "height": 34
        },
        "outputId": "85ae4188-bdd7-4228-c509-4091670362e1"
      },
      "source": [
        "#Performance of model when difference between  tweet and selected text is greter than 20\n",
        "\n",
        "diff_less_30=X_test[(X_test['diff_len']>20)].shape[0]\n",
        "diff_less_30_jaccard_1=pos_jac_1[(pos_jac_1['diff_len']>20)].shape[0]\n",
        "result=diff_less_30_jaccard_1*100/diff_less_30\n",
        "print('The percentage of positive tweets with jaccard=1 when length difference is greter than 20 is',result)"
      ],
      "execution_count": null,
      "outputs": [
        {
          "output_type": "stream",
          "text": [
            "The percentage of positive tweets with jaccard=1 when length difference is greter than 20 is 13.191489361702128\n"
          ],
          "name": "stdout"
        }
      ]
    },
    {
      "cell_type": "code",
      "metadata": {
        "id": "V3GXRQc4arcG",
        "colab_type": "code",
        "colab": {
          "base_uri": "https://localhost:8080/",
          "height": 34
        },
        "outputId": "eb873ccd-fe6b-45f1-a7f2-3d8a367bbd54"
      },
      "source": [
        "print(np.mean(X_test['jaccard']))"
      ],
      "execution_count": null,
      "outputs": [
        {
          "output_type": "stream",
          "text": [
            "0.6365313134524992\n"
          ],
          "name": "stdout"
        }
      ]
    },
    {
      "cell_type": "markdown",
      "metadata": {
        "id": "At_AK6cl4a69",
        "colab_type": "text"
      },
      "source": [
        "Conclusion\n",
        "* The Bert model performs well when the text and selected text are of same length.\n",
        "* It does resonablly well when the difference between tweet selected text is of only few words but does not perform well when the difference increases."
      ]
    },
    {
      "cell_type": "markdown",
      "metadata": {
        "id": "0Z8loP5cXuEx",
        "colab_type": "text"
      },
      "source": [
        "### Prepare For Kaggle submission"
      ]
    },
    {
      "cell_type": "code",
      "metadata": {
        "id": "3nyQ9gafX487",
        "colab_type": "code",
        "colab": {}
      },
      "source": [
        "#Prepare data as required for BERT QA model\n",
        "\n",
        "def computeData(text,sentiment,tokenizer):\n",
        "\n",
        "  '''Prepare data as required for BERT QA model'''\n",
        "  token_encode=tokenizer.encode(text)\n",
        "  token_ids=token_encode.ids[1:-1]\n",
        "  token_offsets=token_encode.offsets[1:-1]\n",
        "  \n",
        "  #Creating the input data to the BERT model\n",
        "  input_ids=[101]+[sentiment_dict[sentiment]]+[102]+token_ids+[102]\n",
        "  atten_mask=[1]*4+[1]*len(token_ids)\n",
        "  input_type_ids=[0,0,0]+[1]*(len(token_ids)+1) \n",
        "\n",
        "  offsets=[(0,0)]*3+token_offsets+[(0,0)]\n",
        "\n",
        "\n",
        "\n",
        "  pad_length=MAX_LEN-len(input_ids)\n",
        "\n",
        "  if(pad_length>0):\n",
        "      input_ids=input_ids+([0]*pad_length)\n",
        "      atten_mask=atten_mask+([0]*pad_length)\n",
        "      input_type_ids=input_type_ids+([0]*pad_length)\n",
        "      offsets=offsets+([(0,0)]*pad_length)\n",
        "      \n",
        "  return (input_ids,atten_mask,input_type_ids,offsets)"
      ],
      "execution_count": null,
      "outputs": []
    },
    {
      "cell_type": "code",
      "metadata": {
        "id": "uvIk8dTYX-je",
        "colab_type": "code",
        "colab": {}
      },
      "source": [
        "#Create Test dataset as per BERT QA model\n",
        "\n",
        "def createTestData(data,tokenizer):\n",
        "  '''Create Test dataset as per BERT QA model'''\n",
        "  input_ids=[]\n",
        "  input_att_mask=[]\n",
        "  input_type_ids=[]\n",
        "  offsets=[]\n",
        "  for _,i in tqdm(data.iterrows()): \n",
        "      ids,att_mask,type_ids,offset=computeData(i['text'],i['sentiment'],tokenizer)      \n",
        "      input_ids.append(ids)\n",
        "      input_att_mask.append(att_mask)\n",
        "      input_type_ids.append(type_ids)\n",
        "      offsets.append(offset)\n",
        "  return (np.asarray(input_ids,dtype=np.int32),np.asarray(input_att_mask,dtype=np.int32),\n",
        "        np.asarray(input_type_ids,dtype=np.int32),np.asarray(offsets,dtype=np.int32))"
      ],
      "execution_count": null,
      "outputs": []
    },
    {
      "cell_type": "code",
      "metadata": {
        "id": "xg7yTlh7YULq",
        "colab_type": "code",
        "colab": {
          "base_uri": "https://localhost:8080/",
          "height": 34
        },
        "outputId": "9817e435-402a-40ee-bc5c-7ad91a1f8b4b"
      },
      "source": [
        "#Applying the above methods on test dataset\n",
        "test['text']=test['text'].apply(lambda x: str.lower(x))\n",
        "test1,test2,test3,offsets=createTestData(test,tokenizer)"
      ],
      "execution_count": null,
      "outputs": [
        {
          "output_type": "stream",
          "text": [
            "3534it [00:01, 3348.61it/s]\n"
          ],
          "name": "stderr"
        }
      ]
    },
    {
      "cell_type": "code",
      "metadata": {
        "id": "lzovWy7SYv5_",
        "colab_type": "code",
        "colab": {}
      },
      "source": [
        "#Prediction on test dataset\n",
        "start,end=model1.predict({'ids':test1,'att_mask':test2,'type_ids':test3})"
      ],
      "execution_count": null,
      "outputs": []
    },
    {
      "cell_type": "code",
      "metadata": {
        "id": "SRhrF32vY459",
        "colab_type": "code",
        "colab": {}
      },
      "source": [
        "#Find the selected text and create the submission file\n",
        "\n",
        "selected_text=find_selected_text(test,offsets,tokenizer,start,end)\n",
        "submission=pd.DataFrame(columns=['textID','selected_text'])\n",
        "submission['textID']=test['textID']\n",
        "submission['selected_text']=selected_text\n",
        "\n",
        "submission.to_csv('/content/submission.csv',index=False)"
      ],
      "execution_count": null,
      "outputs": []
    },
    {
      "cell_type": "markdown",
      "metadata": {
        "id": "w7GBUdL4y-3p",
        "colab_type": "text"
      },
      "source": [
        "Kaggle Score\n",
        "![image.png](data:image/png;base64,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)"
      ]
    }
  ]
}
