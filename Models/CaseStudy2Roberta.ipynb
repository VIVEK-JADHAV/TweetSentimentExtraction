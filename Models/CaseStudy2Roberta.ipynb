{
  "nbformat": 4,
  "nbformat_minor": 0,
  "metadata": {
    "colab": {
      "name": "CaseStudy2Roberta.ipynb",
      "provenance": [],
      "collapsed_sections": [],
      "toc_visible": true,
      "include_colab_link": true
    },
    "kernelspec": {
      "name": "python3",
      "display_name": "Python 3"
    },
    "accelerator": "GPU",
    "widgets": {
      "application/vnd.jupyter.widget-state+json": {
        "911ba7d523d54dd79bb787b60bed4126": {
          "model_module": "@jupyter-widgets/controls",
          "model_name": "HBoxModel",
          "state": {
            "_view_name": "HBoxView",
            "_dom_classes": [],
            "_model_name": "HBoxModel",
            "_view_module": "@jupyter-widgets/controls",
            "_model_module_version": "1.5.0",
            "_view_count": null,
            "_view_module_version": "1.5.0",
            "box_style": "",
            "layout": "IPY_MODEL_390810fa7ee14c4d80c704ed379fa7e8",
            "_model_module": "@jupyter-widgets/controls",
            "children": [
              "IPY_MODEL_b13db830513f4be2b4e35037740e3d22",
              "IPY_MODEL_2095e20adb9547bbb5775a031cd04144"
            ]
          }
        },
        "390810fa7ee14c4d80c704ed379fa7e8": {
          "model_module": "@jupyter-widgets/base",
          "model_name": "LayoutModel",
          "state": {
            "_view_name": "LayoutView",
            "grid_template_rows": null,
            "right": null,
            "justify_content": null,
            "_view_module": "@jupyter-widgets/base",
            "overflow": null,
            "_model_module_version": "1.2.0",
            "_view_count": null,
            "flex_flow": null,
            "width": null,
            "min_width": null,
            "border": null,
            "align_items": null,
            "bottom": null,
            "_model_module": "@jupyter-widgets/base",
            "top": null,
            "grid_column": null,
            "overflow_y": null,
            "overflow_x": null,
            "grid_auto_flow": null,
            "grid_area": null,
            "grid_template_columns": null,
            "flex": null,
            "_model_name": "LayoutModel",
            "justify_items": null,
            "grid_row": null,
            "max_height": null,
            "align_content": null,
            "visibility": null,
            "align_self": null,
            "height": null,
            "min_height": null,
            "padding": null,
            "grid_auto_rows": null,
            "grid_gap": null,
            "max_width": null,
            "order": null,
            "_view_module_version": "1.2.0",
            "grid_template_areas": null,
            "object_position": null,
            "object_fit": null,
            "grid_auto_columns": null,
            "margin": null,
            "display": null,
            "left": null
          }
        },
        "b13db830513f4be2b4e35037740e3d22": {
          "model_module": "@jupyter-widgets/controls",
          "model_name": "FloatProgressModel",
          "state": {
            "_view_name": "ProgressView",
            "style": "IPY_MODEL_c52a50749733407cbc4493da5b2a3bb9",
            "_dom_classes": [],
            "description": "Downloading: 100%",
            "_model_name": "FloatProgressModel",
            "bar_style": "success",
            "max": 481,
            "_view_module": "@jupyter-widgets/controls",
            "_model_module_version": "1.5.0",
            "value": 481,
            "_view_count": null,
            "_view_module_version": "1.5.0",
            "orientation": "horizontal",
            "min": 0,
            "description_tooltip": null,
            "_model_module": "@jupyter-widgets/controls",
            "layout": "IPY_MODEL_b212fe08eded40d39603dc76bfbd0b89"
          }
        },
        "2095e20adb9547bbb5775a031cd04144": {
          "model_module": "@jupyter-widgets/controls",
          "model_name": "HTMLModel",
          "state": {
            "_view_name": "HTMLView",
            "style": "IPY_MODEL_33060b3046084aec888acda4aad5576d",
            "_dom_classes": [],
            "description": "",
            "_model_name": "HTMLModel",
            "placeholder": "​",
            "_view_module": "@jupyter-widgets/controls",
            "_model_module_version": "1.5.0",
            "value": " 481/481 [00:00&lt;00:00, 748B/s]",
            "_view_count": null,
            "_view_module_version": "1.5.0",
            "description_tooltip": null,
            "_model_module": "@jupyter-widgets/controls",
            "layout": "IPY_MODEL_2b8a6503eae2457aaf9c37e30a05c828"
          }
        },
        "c52a50749733407cbc4493da5b2a3bb9": {
          "model_module": "@jupyter-widgets/controls",
          "model_name": "ProgressStyleModel",
          "state": {
            "_view_name": "StyleView",
            "_model_name": "ProgressStyleModel",
            "description_width": "initial",
            "_view_module": "@jupyter-widgets/base",
            "_model_module_version": "1.5.0",
            "_view_count": null,
            "_view_module_version": "1.2.0",
            "bar_color": null,
            "_model_module": "@jupyter-widgets/controls"
          }
        },
        "b212fe08eded40d39603dc76bfbd0b89": {
          "model_module": "@jupyter-widgets/base",
          "model_name": "LayoutModel",
          "state": {
            "_view_name": "LayoutView",
            "grid_template_rows": null,
            "right": null,
            "justify_content": null,
            "_view_module": "@jupyter-widgets/base",
            "overflow": null,
            "_model_module_version": "1.2.0",
            "_view_count": null,
            "flex_flow": null,
            "width": null,
            "min_width": null,
            "border": null,
            "align_items": null,
            "bottom": null,
            "_model_module": "@jupyter-widgets/base",
            "top": null,
            "grid_column": null,
            "overflow_y": null,
            "overflow_x": null,
            "grid_auto_flow": null,
            "grid_area": null,
            "grid_template_columns": null,
            "flex": null,
            "_model_name": "LayoutModel",
            "justify_items": null,
            "grid_row": null,
            "max_height": null,
            "align_content": null,
            "visibility": null,
            "align_self": null,
            "height": null,
            "min_height": null,
            "padding": null,
            "grid_auto_rows": null,
            "grid_gap": null,
            "max_width": null,
            "order": null,
            "_view_module_version": "1.2.0",
            "grid_template_areas": null,
            "object_position": null,
            "object_fit": null,
            "grid_auto_columns": null,
            "margin": null,
            "display": null,
            "left": null
          }
        },
        "33060b3046084aec888acda4aad5576d": {
          "model_module": "@jupyter-widgets/controls",
          "model_name": "DescriptionStyleModel",
          "state": {
            "_view_name": "StyleView",
            "_model_name": "DescriptionStyleModel",
            "description_width": "",
            "_view_module": "@jupyter-widgets/base",
            "_model_module_version": "1.5.0",
            "_view_count": null,
            "_view_module_version": "1.2.0",
            "_model_module": "@jupyter-widgets/controls"
          }
        },
        "2b8a6503eae2457aaf9c37e30a05c828": {
          "model_module": "@jupyter-widgets/base",
          "model_name": "LayoutModel",
          "state": {
            "_view_name": "LayoutView",
            "grid_template_rows": null,
            "right": null,
            "justify_content": null,
            "_view_module": "@jupyter-widgets/base",
            "overflow": null,
            "_model_module_version": "1.2.0",
            "_view_count": null,
            "flex_flow": null,
            "width": null,
            "min_width": null,
            "border": null,
            "align_items": null,
            "bottom": null,
            "_model_module": "@jupyter-widgets/base",
            "top": null,
            "grid_column": null,
            "overflow_y": null,
            "overflow_x": null,
            "grid_auto_flow": null,
            "grid_area": null,
            "grid_template_columns": null,
            "flex": null,
            "_model_name": "LayoutModel",
            "justify_items": null,
            "grid_row": null,
            "max_height": null,
            "align_content": null,
            "visibility": null,
            "align_self": null,
            "height": null,
            "min_height": null,
            "padding": null,
            "grid_auto_rows": null,
            "grid_gap": null,
            "max_width": null,
            "order": null,
            "_view_module_version": "1.2.0",
            "grid_template_areas": null,
            "object_position": null,
            "object_fit": null,
            "grid_auto_columns": null,
            "margin": null,
            "display": null,
            "left": null
          }
        },
        "ef3082da9cee4759b1c063649e2f6af5": {
          "model_module": "@jupyter-widgets/controls",
          "model_name": "HBoxModel",
          "state": {
            "_view_name": "HBoxView",
            "_dom_classes": [],
            "_model_name": "HBoxModel",
            "_view_module": "@jupyter-widgets/controls",
            "_model_module_version": "1.5.0",
            "_view_count": null,
            "_view_module_version": "1.5.0",
            "box_style": "",
            "layout": "IPY_MODEL_040286891cf245d285caae04d2df184e",
            "_model_module": "@jupyter-widgets/controls",
            "children": [
              "IPY_MODEL_f47dbec5754a4c9f87431db62070c2ab",
              "IPY_MODEL_4710a01017fe460b9cbf43887adcc113"
            ]
          }
        },
        "040286891cf245d285caae04d2df184e": {
          "model_module": "@jupyter-widgets/base",
          "model_name": "LayoutModel",
          "state": {
            "_view_name": "LayoutView",
            "grid_template_rows": null,
            "right": null,
            "justify_content": null,
            "_view_module": "@jupyter-widgets/base",
            "overflow": null,
            "_model_module_version": "1.2.0",
            "_view_count": null,
            "flex_flow": null,
            "width": null,
            "min_width": null,
            "border": null,
            "align_items": null,
            "bottom": null,
            "_model_module": "@jupyter-widgets/base",
            "top": null,
            "grid_column": null,
            "overflow_y": null,
            "overflow_x": null,
            "grid_auto_flow": null,
            "grid_area": null,
            "grid_template_columns": null,
            "flex": null,
            "_model_name": "LayoutModel",
            "justify_items": null,
            "grid_row": null,
            "max_height": null,
            "align_content": null,
            "visibility": null,
            "align_self": null,
            "height": null,
            "min_height": null,
            "padding": null,
            "grid_auto_rows": null,
            "grid_gap": null,
            "max_width": null,
            "order": null,
            "_view_module_version": "1.2.0",
            "grid_template_areas": null,
            "object_position": null,
            "object_fit": null,
            "grid_auto_columns": null,
            "margin": null,
            "display": null,
            "left": null
          }
        },
        "f47dbec5754a4c9f87431db62070c2ab": {
          "model_module": "@jupyter-widgets/controls",
          "model_name": "FloatProgressModel",
          "state": {
            "_view_name": "ProgressView",
            "style": "IPY_MODEL_e297f7b210b64de5a4e65ad5180ef778",
            "_dom_classes": [],
            "description": "Downloading: 100%",
            "_model_name": "FloatProgressModel",
            "bar_style": "success",
            "max": 657434796,
            "_view_module": "@jupyter-widgets/controls",
            "_model_module_version": "1.5.0",
            "value": 657434796,
            "_view_count": null,
            "_view_module_version": "1.5.0",
            "orientation": "horizontal",
            "min": 0,
            "description_tooltip": null,
            "_model_module": "@jupyter-widgets/controls",
            "layout": "IPY_MODEL_9bb64645045442f0b78e532074da98b4"
          }
        },
        "4710a01017fe460b9cbf43887adcc113": {
          "model_module": "@jupyter-widgets/controls",
          "model_name": "HTMLModel",
          "state": {
            "_view_name": "HTMLView",
            "style": "IPY_MODEL_cc13d6f1b46b4d20a17d2ad954caa424",
            "_dom_classes": [],
            "description": "",
            "_model_name": "HTMLModel",
            "placeholder": "​",
            "_view_module": "@jupyter-widgets/controls",
            "_model_module_version": "1.5.0",
            "value": " 657M/657M [00:14&lt;00:00, 46.9MB/s]",
            "_view_count": null,
            "_view_module_version": "1.5.0",
            "description_tooltip": null,
            "_model_module": "@jupyter-widgets/controls",
            "layout": "IPY_MODEL_03c957dbfd294f6bac8f6d561e7f8d41"
          }
        },
        "e297f7b210b64de5a4e65ad5180ef778": {
          "model_module": "@jupyter-widgets/controls",
          "model_name": "ProgressStyleModel",
          "state": {
            "_view_name": "StyleView",
            "_model_name": "ProgressStyleModel",
            "description_width": "initial",
            "_view_module": "@jupyter-widgets/base",
            "_model_module_version": "1.5.0",
            "_view_count": null,
            "_view_module_version": "1.2.0",
            "bar_color": null,
            "_model_module": "@jupyter-widgets/controls"
          }
        },
        "9bb64645045442f0b78e532074da98b4": {
          "model_module": "@jupyter-widgets/base",
          "model_name": "LayoutModel",
          "state": {
            "_view_name": "LayoutView",
            "grid_template_rows": null,
            "right": null,
            "justify_content": null,
            "_view_module": "@jupyter-widgets/base",
            "overflow": null,
            "_model_module_version": "1.2.0",
            "_view_count": null,
            "flex_flow": null,
            "width": null,
            "min_width": null,
            "border": null,
            "align_items": null,
            "bottom": null,
            "_model_module": "@jupyter-widgets/base",
            "top": null,
            "grid_column": null,
            "overflow_y": null,
            "overflow_x": null,
            "grid_auto_flow": null,
            "grid_area": null,
            "grid_template_columns": null,
            "flex": null,
            "_model_name": "LayoutModel",
            "justify_items": null,
            "grid_row": null,
            "max_height": null,
            "align_content": null,
            "visibility": null,
            "align_self": null,
            "height": null,
            "min_height": null,
            "padding": null,
            "grid_auto_rows": null,
            "grid_gap": null,
            "max_width": null,
            "order": null,
            "_view_module_version": "1.2.0",
            "grid_template_areas": null,
            "object_position": null,
            "object_fit": null,
            "grid_auto_columns": null,
            "margin": null,
            "display": null,
            "left": null
          }
        },
        "cc13d6f1b46b4d20a17d2ad954caa424": {
          "model_module": "@jupyter-widgets/controls",
          "model_name": "DescriptionStyleModel",
          "state": {
            "_view_name": "StyleView",
            "_model_name": "DescriptionStyleModel",
            "description_width": "",
            "_view_module": "@jupyter-widgets/base",
            "_model_module_version": "1.5.0",
            "_view_count": null,
            "_view_module_version": "1.2.0",
            "_model_module": "@jupyter-widgets/controls"
          }
        },
        "03c957dbfd294f6bac8f6d561e7f8d41": {
          "model_module": "@jupyter-widgets/base",
          "model_name": "LayoutModel",
          "state": {
            "_view_name": "LayoutView",
            "grid_template_rows": null,
            "right": null,
            "justify_content": null,
            "_view_module": "@jupyter-widgets/base",
            "overflow": null,
            "_model_module_version": "1.2.0",
            "_view_count": null,
            "flex_flow": null,
            "width": null,
            "min_width": null,
            "border": null,
            "align_items": null,
            "bottom": null,
            "_model_module": "@jupyter-widgets/base",
            "top": null,
            "grid_column": null,
            "overflow_y": null,
            "overflow_x": null,
            "grid_auto_flow": null,
            "grid_area": null,
            "grid_template_columns": null,
            "flex": null,
            "_model_name": "LayoutModel",
            "justify_items": null,
            "grid_row": null,
            "max_height": null,
            "align_content": null,
            "visibility": null,
            "align_self": null,
            "height": null,
            "min_height": null,
            "padding": null,
            "grid_auto_rows": null,
            "grid_gap": null,
            "max_width": null,
            "order": null,
            "_view_module_version": "1.2.0",
            "grid_template_areas": null,
            "object_position": null,
            "object_fit": null,
            "grid_auto_columns": null,
            "margin": null,
            "display": null,
            "left": null
          }
        }
      }
    }
  },
  "cells": [
    {
      "cell_type": "markdown",
      "metadata": {
        "id": "view-in-github",
        "colab_type": "text"
      },
      "source": [
        "<a href=\"https://colab.research.google.com/github/VIVEK-JADHAV/TweetSentimentExtraction/blob/master/CaseStudy2Roberta.ipynb\" target=\"_parent\"><img src=\"https://colab.research.google.com/assets/colab-badge.svg\" alt=\"Open In Colab\"/></a>"
      ]
    },
    {
      "cell_type": "code",
      "metadata": {
        "id": "B0nSXFxHKw50",
        "colab_type": "code",
        "colab": {
          "base_uri": "https://localhost:8080/",
          "height": 71
        },
        "outputId": "560f4ffc-6c5d-4458-aaa3-e8dcb18d6386"
      },
      "source": [
        "import pandas as pd\n",
        "import numpy as np\n",
        "import os\n",
        "import shutil\n",
        "import matplotlib.pyplot as plt\n",
        "import seaborn as sns\n",
        "from wordcloud import WordCloud, STOPWORDS \n",
        "import re \n",
        "import string\n",
        "import tensorflow as tf\n",
        "from tensorflow.keras.layers import Dense,Input,Flatten,Embedding,Lambda,Dropout,LSTM,Conv1D,Concatenate,Add\n",
        "from tensorflow.keras.models import Model\n",
        "from tqdm import tqdm\n",
        "from sklearn.model_selection import StratifiedKFold\n",
        "import keras.backend as K\n"
      ],
      "execution_count": 1,
      "outputs": [
        {
          "output_type": "stream",
          "text": [
            "/usr/local/lib/python3.6/dist-packages/statsmodels/tools/_testing.py:19: FutureWarning: pandas.util.testing is deprecated. Use the functions in the public API at pandas.testing instead.\n",
            "  import pandas.util.testing as tm\n"
          ],
          "name": "stderr"
        }
      ]
    },
    {
      "cell_type": "code",
      "metadata": {
        "id": "io2MfcGcfxlK",
        "colab_type": "code",
        "colab": {
          "base_uri": "https://localhost:8080/",
          "height": 51
        },
        "outputId": "56dbd561-1160-4684-b945-d34164819c9c"
      },
      "source": [
        "#Creating a folder to store train and test data\n",
        "import os\n",
        "os.mkdir('/content/data')\n",
        "%cd /content/data/\n",
        "!pwd"
      ],
      "execution_count": 7,
      "outputs": [
        {
          "output_type": "stream",
          "text": [
            "/content/data\n",
            "/content/data\n"
          ],
          "name": "stdout"
        }
      ]
    },
    {
      "cell_type": "code",
      "metadata": {
        "id": "LN_lQJ_PML29",
        "colab_type": "code",
        "colab": {
          "base_uri": "https://localhost:8080/",
          "height": 187
        },
        "outputId": "1d5cb1ab-ff4f-48e4-da15-017ca5a56b06"
      },
      "source": [
        "!kaggle competitions download -c tweet-sentiment-extraction"
      ],
      "execution_count": 8,
      "outputs": [
        {
          "output_type": "stream",
          "text": [
            "Warning: Looks like you're using an outdated API Version, please consider updating (server 1.5.6 / client 1.5.4)\n",
            "Downloading test.csv to /content/data\n",
            "  0% 0.00/307k [00:00<?, ?B/s]\n",
            "100% 307k/307k [00:00<00:00, 45.9MB/s]\n",
            "Downloading sample_submission.csv to /content/data\n",
            "  0% 0.00/41.4k [00:00<?, ?B/s]\n",
            "100% 41.4k/41.4k [00:00<00:00, 37.7MB/s]\n",
            "Downloading train.csv.zip to /content/data\n",
            "  0% 0.00/1.23M [00:00<?, ?B/s]\n",
            "100% 1.23M/1.23M [00:00<00:00, 83.8MB/s]\n"
          ],
          "name": "stdout"
        }
      ]
    },
    {
      "cell_type": "code",
      "metadata": {
        "id": "S_UudZowMbtS",
        "colab_type": "code",
        "colab": {
          "base_uri": "https://localhost:8080/",
          "height": 51
        },
        "outputId": "83490fb6-f51d-4b0f-d523-b25472696aa9"
      },
      "source": [
        "!unzip train.csv.zip"
      ],
      "execution_count": 9,
      "outputs": [
        {
          "output_type": "stream",
          "text": [
            "Archive:  train.csv.zip\n",
            "  inflating: train.csv               \n"
          ],
          "name": "stdout"
        }
      ]
    },
    {
      "cell_type": "code",
      "metadata": {
        "id": "O4ykiW2UkZh2",
        "colab_type": "code",
        "colab": {
          "base_uri": "https://localhost:8080/",
          "height": 221
        },
        "outputId": "d7bc6ab5-ae71-4750-9436-d6b3933eda5a"
      },
      "source": [
        "#Loading the train dataset\n",
        "\n",
        "train=pd.read_csv('/content/data/train.csv')\n",
        "print('Shape of the train data is ',train.shape)\n",
        "train.head()"
      ],
      "execution_count": 10,
      "outputs": [
        {
          "output_type": "stream",
          "text": [
            "Shape of the train data is  (27481, 4)\n"
          ],
          "name": "stdout"
        },
        {
          "output_type": "execute_result",
          "data": {
            "text/html": [
              "<div>\n",
              "<style scoped>\n",
              "    .dataframe tbody tr th:only-of-type {\n",
              "        vertical-align: middle;\n",
              "    }\n",
              "\n",
              "    .dataframe tbody tr th {\n",
              "        vertical-align: top;\n",
              "    }\n",
              "\n",
              "    .dataframe thead th {\n",
              "        text-align: right;\n",
              "    }\n",
              "</style>\n",
              "<table border=\"1\" class=\"dataframe\">\n",
              "  <thead>\n",
              "    <tr style=\"text-align: right;\">\n",
              "      <th></th>\n",
              "      <th>textID</th>\n",
              "      <th>text</th>\n",
              "      <th>selected_text</th>\n",
              "      <th>sentiment</th>\n",
              "    </tr>\n",
              "  </thead>\n",
              "  <tbody>\n",
              "    <tr>\n",
              "      <th>0</th>\n",
              "      <td>cb774db0d1</td>\n",
              "      <td>I`d have responded, if I were going</td>\n",
              "      <td>I`d have responded, if I were going</td>\n",
              "      <td>neutral</td>\n",
              "    </tr>\n",
              "    <tr>\n",
              "      <th>1</th>\n",
              "      <td>549e992a42</td>\n",
              "      <td>Sooo SAD I will miss you here in San Diego!!!</td>\n",
              "      <td>Sooo SAD</td>\n",
              "      <td>negative</td>\n",
              "    </tr>\n",
              "    <tr>\n",
              "      <th>2</th>\n",
              "      <td>088c60f138</td>\n",
              "      <td>my boss is bullying me...</td>\n",
              "      <td>bullying me</td>\n",
              "      <td>negative</td>\n",
              "    </tr>\n",
              "    <tr>\n",
              "      <th>3</th>\n",
              "      <td>9642c003ef</td>\n",
              "      <td>what interview! leave me alone</td>\n",
              "      <td>leave me alone</td>\n",
              "      <td>negative</td>\n",
              "    </tr>\n",
              "    <tr>\n",
              "      <th>4</th>\n",
              "      <td>358bd9e861</td>\n",
              "      <td>Sons of ****, why couldn`t they put them on t...</td>\n",
              "      <td>Sons of ****,</td>\n",
              "      <td>negative</td>\n",
              "    </tr>\n",
              "  </tbody>\n",
              "</table>\n",
              "</div>"
            ],
            "text/plain": [
              "       textID  ... sentiment\n",
              "0  cb774db0d1  ...   neutral\n",
              "1  549e992a42  ...  negative\n",
              "2  088c60f138  ...  negative\n",
              "3  9642c003ef  ...  negative\n",
              "4  358bd9e861  ...  negative\n",
              "\n",
              "[5 rows x 4 columns]"
            ]
          },
          "metadata": {
            "tags": []
          },
          "execution_count": 10
        }
      ]
    },
    {
      "cell_type": "code",
      "metadata": {
        "id": "IUSNf2eBNAMa",
        "colab_type": "code",
        "colab": {
          "base_uri": "https://localhost:8080/",
          "height": 221
        },
        "outputId": "9b0b4f12-caa1-4da6-c1ab-c61614f73fb5"
      },
      "source": [
        "#Loading the test dataset\n",
        "\n",
        "test=pd.read_csv('/content/data/test.csv')\n",
        "print('Shape of the test data is ',test.shape)\n",
        "test.head()"
      ],
      "execution_count": 11,
      "outputs": [
        {
          "output_type": "stream",
          "text": [
            "Shape of the test data is  (3534, 3)\n"
          ],
          "name": "stdout"
        },
        {
          "output_type": "execute_result",
          "data": {
            "text/html": [
              "<div>\n",
              "<style scoped>\n",
              "    .dataframe tbody tr th:only-of-type {\n",
              "        vertical-align: middle;\n",
              "    }\n",
              "\n",
              "    .dataframe tbody tr th {\n",
              "        vertical-align: top;\n",
              "    }\n",
              "\n",
              "    .dataframe thead th {\n",
              "        text-align: right;\n",
              "    }\n",
              "</style>\n",
              "<table border=\"1\" class=\"dataframe\">\n",
              "  <thead>\n",
              "    <tr style=\"text-align: right;\">\n",
              "      <th></th>\n",
              "      <th>textID</th>\n",
              "      <th>text</th>\n",
              "      <th>sentiment</th>\n",
              "    </tr>\n",
              "  </thead>\n",
              "  <tbody>\n",
              "    <tr>\n",
              "      <th>0</th>\n",
              "      <td>f87dea47db</td>\n",
              "      <td>Last session of the day  http://twitpic.com/67ezh</td>\n",
              "      <td>neutral</td>\n",
              "    </tr>\n",
              "    <tr>\n",
              "      <th>1</th>\n",
              "      <td>96d74cb729</td>\n",
              "      <td>Shanghai is also really exciting (precisely -...</td>\n",
              "      <td>positive</td>\n",
              "    </tr>\n",
              "    <tr>\n",
              "      <th>2</th>\n",
              "      <td>eee518ae67</td>\n",
              "      <td>Recession hit Veronique Branquinho, she has to...</td>\n",
              "      <td>negative</td>\n",
              "    </tr>\n",
              "    <tr>\n",
              "      <th>3</th>\n",
              "      <td>01082688c6</td>\n",
              "      <td>happy bday!</td>\n",
              "      <td>positive</td>\n",
              "    </tr>\n",
              "    <tr>\n",
              "      <th>4</th>\n",
              "      <td>33987a8ee5</td>\n",
              "      <td>http://twitpic.com/4w75p - I like it!!</td>\n",
              "      <td>positive</td>\n",
              "    </tr>\n",
              "  </tbody>\n",
              "</table>\n",
              "</div>"
            ],
            "text/plain": [
              "       textID                                               text sentiment\n",
              "0  f87dea47db  Last session of the day  http://twitpic.com/67ezh   neutral\n",
              "1  96d74cb729   Shanghai is also really exciting (precisely -...  positive\n",
              "2  eee518ae67  Recession hit Veronique Branquinho, she has to...  negative\n",
              "3  01082688c6                                        happy bday!  positive\n",
              "4  33987a8ee5             http://twitpic.com/4w75p - I like it!!  positive"
            ]
          },
          "metadata": {
            "tags": []
          },
          "execution_count": 11
        }
      ]
    },
    {
      "cell_type": "code",
      "metadata": {
        "id": "iAz9XrDpWKod",
        "colab_type": "code",
        "colab": {
          "base_uri": "https://localhost:8080/",
          "height": 204
        },
        "outputId": "2d974eb9-0125-4200-d4e7-fda9b5a660d4"
      },
      "source": [
        "#Dropping the row with null value\n",
        "train.dropna(inplace=True)\n",
        "train.reset_index(inplace=True,drop=True)\n",
        "train.info()"
      ],
      "execution_count": 12,
      "outputs": [
        {
          "output_type": "stream",
          "text": [
            "<class 'pandas.core.frame.DataFrame'>\n",
            "RangeIndex: 27480 entries, 0 to 27479\n",
            "Data columns (total 4 columns):\n",
            " #   Column         Non-Null Count  Dtype \n",
            "---  ------         --------------  ----- \n",
            " 0   textID         27480 non-null  object\n",
            " 1   text           27480 non-null  object\n",
            " 2   selected_text  27480 non-null  object\n",
            " 3   sentiment      27480 non-null  object\n",
            "dtypes: object(4)\n",
            "memory usage: 858.9+ KB\n"
          ],
          "name": "stdout"
        }
      ]
    },
    {
      "cell_type": "code",
      "metadata": {
        "id": "MxuU5GBb6CH6",
        "colab_type": "code",
        "colab": {
          "base_uri": "https://localhost:8080/",
          "height": 615
        },
        "outputId": "61255190-adff-46ff-ebb8-dd9a737429d0"
      },
      "source": [
        "!pip install transformers"
      ],
      "execution_count": 13,
      "outputs": [
        {
          "output_type": "stream",
          "text": [
            "Collecting transformers\n",
            "\u001b[?25l  Downloading https://files.pythonhosted.org/packages/ae/05/c8c55b600308dc04e95100dc8ad8a244dd800fe75dfafcf1d6348c6f6209/transformers-3.1.0-py3-none-any.whl (884kB)\n",
            "\u001b[K     |████████████████████████████████| 890kB 4.7MB/s \n",
            "\u001b[?25hRequirement already satisfied: regex!=2019.12.17 in /usr/local/lib/python3.6/dist-packages (from transformers) (2019.12.20)\n",
            "Requirement already satisfied: dataclasses; python_version < \"3.7\" in /usr/local/lib/python3.6/dist-packages (from transformers) (0.7)\n",
            "Requirement already satisfied: packaging in /usr/local/lib/python3.6/dist-packages (from transformers) (20.4)\n",
            "Collecting tokenizers==0.8.1.rc2\n",
            "\u001b[?25l  Downloading https://files.pythonhosted.org/packages/80/83/8b9fccb9e48eeb575ee19179e2bdde0ee9a1904f97de5f02d19016b8804f/tokenizers-0.8.1rc2-cp36-cp36m-manylinux1_x86_64.whl (3.0MB)\n",
            "\u001b[K     |████████████████████████████████| 3.0MB 24.2MB/s \n",
            "\u001b[?25hRequirement already satisfied: numpy in /usr/local/lib/python3.6/dist-packages (from transformers) (1.18.5)\n",
            "Requirement already satisfied: tqdm>=4.27 in /usr/local/lib/python3.6/dist-packages (from transformers) (4.41.1)\n",
            "Requirement already satisfied: requests in /usr/local/lib/python3.6/dist-packages (from transformers) (2.23.0)\n",
            "Requirement already satisfied: filelock in /usr/local/lib/python3.6/dist-packages (from transformers) (3.0.12)\n",
            "Collecting sacremoses\n",
            "\u001b[?25l  Downloading https://files.pythonhosted.org/packages/7d/34/09d19aff26edcc8eb2a01bed8e98f13a1537005d31e95233fd48216eed10/sacremoses-0.0.43.tar.gz (883kB)\n",
            "\u001b[K     |████████████████████████████████| 890kB 27.8MB/s \n",
            "\u001b[?25hCollecting sentencepiece!=0.1.92\n",
            "\u001b[?25l  Downloading https://files.pythonhosted.org/packages/d4/a4/d0a884c4300004a78cca907a6ff9a5e9fe4f090f5d95ab341c53d28cbc58/sentencepiece-0.1.91-cp36-cp36m-manylinux1_x86_64.whl (1.1MB)\n",
            "\u001b[K     |████████████████████████████████| 1.1MB 53.2MB/s \n",
            "\u001b[?25hRequirement already satisfied: pyparsing>=2.0.2 in /usr/local/lib/python3.6/dist-packages (from packaging->transformers) (2.4.7)\n",
            "Requirement already satisfied: six in /usr/local/lib/python3.6/dist-packages (from packaging->transformers) (1.15.0)\n",
            "Requirement already satisfied: chardet<4,>=3.0.2 in /usr/local/lib/python3.6/dist-packages (from requests->transformers) (3.0.4)\n",
            "Requirement already satisfied: idna<3,>=2.5 in /usr/local/lib/python3.6/dist-packages (from requests->transformers) (2.10)\n",
            "Requirement already satisfied: urllib3!=1.25.0,!=1.25.1,<1.26,>=1.21.1 in /usr/local/lib/python3.6/dist-packages (from requests->transformers) (1.24.3)\n",
            "Requirement already satisfied: certifi>=2017.4.17 in /usr/local/lib/python3.6/dist-packages (from requests->transformers) (2020.6.20)\n",
            "Requirement already satisfied: click in /usr/local/lib/python3.6/dist-packages (from sacremoses->transformers) (7.1.2)\n",
            "Requirement already satisfied: joblib in /usr/local/lib/python3.6/dist-packages (from sacremoses->transformers) (0.16.0)\n",
            "Building wheels for collected packages: sacremoses\n",
            "  Building wheel for sacremoses (setup.py) ... \u001b[?25l\u001b[?25hdone\n",
            "  Created wheel for sacremoses: filename=sacremoses-0.0.43-cp36-none-any.whl size=893257 sha256=cd11f9b4093fa0a98ba9236e56d0e75b52a2be76eb0a23f7687a62ce2bf75bb8\n",
            "  Stored in directory: /root/.cache/pip/wheels/29/3c/fd/7ce5c3f0666dab31a50123635e6fb5e19ceb42ce38d4e58f45\n",
            "Successfully built sacremoses\n",
            "Installing collected packages: tokenizers, sacremoses, sentencepiece, transformers\n",
            "Successfully installed sacremoses-0.0.43 sentencepiece-0.1.91 tokenizers-0.8.1rc2 transformers-3.1.0\n"
          ],
          "name": "stdout"
        }
      ]
    },
    {
      "cell_type": "code",
      "metadata": {
        "id": "-S1xPvG7QxSR",
        "colab_type": "code",
        "colab": {}
      },
      "source": [
        "#Importing the config,tokenizer and Roberta model\n",
        "\n",
        "from transformers import  RobertaConfig, TFRobertaModel\n",
        "from tokenizers import ByteLevelBPETokenizer"
      ],
      "execution_count": 14,
      "outputs": []
    },
    {
      "cell_type": "code",
      "metadata": {
        "id": "eBamHTdjO1JI",
        "colab_type": "code",
        "colab": {
          "base_uri": "https://localhost:8080/",
          "height": 391
        },
        "outputId": "e83902ba-e00a-4b7e-ef16-f1153eab9381"
      },
      "source": [
        "#Downloading the vocab and merge file for tokenizer\n",
        "!wget \"https://s3.amazonaws.com/models.huggingface.co/bert/roberta-base-vocab.json\"\n",
        "!wget \"https://s3.amazonaws.com/models.huggingface.co/bert/roberta-base-merges.txt\""
      ],
      "execution_count": 15,
      "outputs": [
        {
          "output_type": "stream",
          "text": [
            "--2020-09-12 06:28:55--  https://s3.amazonaws.com/models.huggingface.co/bert/roberta-base-vocab.json\n",
            "Resolving s3.amazonaws.com (s3.amazonaws.com)... 52.216.228.99\n",
            "Connecting to s3.amazonaws.com (s3.amazonaws.com)|52.216.228.99|:443... connected.\n",
            "HTTP request sent, awaiting response... 200 OK\n",
            "Length: 898823 (878K) [application/json]\n",
            "Saving to: ‘roberta-base-vocab.json’\n",
            "\n",
            "roberta-base-vocab. 100%[===================>] 877.76K  2.53MB/s    in 0.3s    \n",
            "\n",
            "2020-09-12 06:28:56 (2.53 MB/s) - ‘roberta-base-vocab.json’ saved [898823/898823]\n",
            "\n",
            "--2020-09-12 06:28:56--  https://s3.amazonaws.com/models.huggingface.co/bert/roberta-base-merges.txt\n",
            "Resolving s3.amazonaws.com (s3.amazonaws.com)... 52.216.76.166\n",
            "Connecting to s3.amazonaws.com (s3.amazonaws.com)|52.216.76.166|:443... connected.\n",
            "HTTP request sent, awaiting response... 200 OK\n",
            "Length: 456318 (446K) [text/plain]\n",
            "Saving to: ‘roberta-base-merges.txt’\n",
            "\n",
            "roberta-base-merges 100%[===================>] 445.62K  1.71MB/s    in 0.3s    \n",
            "\n",
            "2020-09-12 06:28:57 (1.71 MB/s) - ‘roberta-base-merges.txt’ saved [456318/456318]\n",
            "\n"
          ],
          "name": "stdout"
        }
      ]
    },
    {
      "cell_type": "code",
      "metadata": {
        "id": "tpgdimv5O9rf",
        "colab_type": "code",
        "colab": {}
      },
      "source": [
        "#Setting the global variables\n",
        "MAX_LEN = 128\n",
        "tokenizer = ByteLevelBPETokenizer(\n",
        "    vocab_file='/content/data/roberta-base-vocab.json', \n",
        "    merges_file='/content/data/roberta-base-merges.txt', \n",
        "    lowercase=True,\n",
        "    add_prefix_space=True,\n",
        ")\n",
        "#Setting the sentiment_id dictionary with its token values\n",
        "sentiment_id = {'positive': 1313, 'negative': 2430, 'neutral': 7974}"
      ],
      "execution_count": 16,
      "outputs": []
    },
    {
      "cell_type": "code",
      "metadata": {
        "id": "e40d5smxcHek",
        "colab_type": "code",
        "colab": {
          "base_uri": "https://localhost:8080/",
          "height": 68
        },
        "outputId": "d980e3ea-aad5-4a51-ab03-c192ab3a091f"
      },
      "source": [
        "#Perform train,validation and test split\n",
        "\n",
        "from sklearn.model_selection import train_test_split\n",
        "\n",
        "X_train,X_val,Y_train,Y_val=train_test_split(train,train['sentiment'],\n",
        "                                              test_size=0.2,random_state=42,stratify=train['sentiment'])\n",
        "X_train,X_test,Y_train,Y_test=train_test_split(X_train,Y_train,\n",
        "                                               test_size=0.2,random_state=42,stratify=X_train['sentiment'])\n",
        "\n",
        "X_train.reset_index(inplace=True,drop=True)\n",
        "X_val.reset_index(inplace=True,drop=True)\n",
        "X_test.reset_index(inplace=True,drop=True)\n",
        "\n",
        "Y_train=Y_train.reset_index(drop=True)\n",
        "Y_val=Y_val.reset_index(drop=True)\n",
        "Y_test=Y_test.reset_index(drop=True)\n",
        "\n",
        "print('X_train shape',X_train.shape,' Y_train shape ',Y_train.shape)\n",
        "print('X_val shape',X_val.shape,' Y_val shape ',Y_val.shape)\n",
        "print('X_test shape',X_test.shape,' Y_test shape ',Y_test.shape)"
      ],
      "execution_count": 17,
      "outputs": [
        {
          "output_type": "stream",
          "text": [
            "X_train shape (17587, 4)  Y_train shape  (17587,)\n",
            "X_val shape (5496, 4)  Y_val shape  (5496,)\n",
            "X_test shape (4397, 4)  Y_test shape  (4397,)\n"
          ],
          "name": "stdout"
        }
      ]
    },
    {
      "cell_type": "code",
      "metadata": {
        "id": "Dbg8FOEosWKi",
        "colab_type": "code",
        "colab": {}
      },
      "source": [
        "#Reference: https://www.kaggle.com/cdeotte/tensorflow-roberta-0-705\n",
        "\n",
        "def createInputData(data,tokenizer):\n",
        "\n",
        "  row = data.shape[0]\n",
        "  input_ids = np.ones((row,MAX_LEN),dtype='int32')\n",
        "  attention_mask = np.zeros((row,MAX_LEN),dtype='int32')\n",
        "  token_type_ids = np.zeros((row,MAX_LEN),dtype='int32')\n",
        "  start_tokens = np.zeros((row,MAX_LEN),dtype='int32')\n",
        "  end_tokens = np.zeros((row,MAX_LEN),dtype='int32')\n",
        "\n",
        "  for k in range(data.shape[0]):\n",
        "      \n",
        "    #Finding the index of selected text in text\n",
        "    text1 = \" \"+\" \".join(data.loc[k,'text'].split())\n",
        "    text2 = \" \".join(data.loc[k,'selected_text'].split())\n",
        "    idx = text1.find(text2)\n",
        "\n",
        "    #Setting the a list with 1 where selected text is present\n",
        "    chars = np.zeros((len(text1)))\n",
        "    chars[idx:idx+len(text2)]=1\n",
        "\n",
        "    if text1[idx-1]==' ': \n",
        "      chars[idx-1] = 1 \n",
        "\n",
        "    enc = tokenizer.encode(text1) \n",
        "        \n",
        "    #Finding the offsets\n",
        "    token_offsets=[]\n",
        "    idx=0\n",
        "    for i in enc.ids:\n",
        "      word=tokenizer.decode([i])\n",
        "      token_offsets.append((idx,idx+len(word)))\n",
        "      idx+=len(word)\n",
        "    \n",
        "    \n",
        "    # Setting the start and end tokens\n",
        "    target_idx = []\n",
        "    for i,(o1,o2) in enumerate(token_offsets):\n",
        "      if(sum(chars[o1:o2])>0):\n",
        "        target_idx.append(i) \n",
        "        \n",
        "    s_tok = sentiment_id[data.loc[k,'sentiment']]\n",
        "\n",
        "    input_ids[k,:len(enc.ids)+5] = [0] + enc.ids + [2,2] + [s_tok] + [2]\n",
        "    attention_mask[k,:len(enc.ids)+5] = 1\n",
        "\n",
        "    #Adding 1 to account for [0] token\n",
        "    if len(target_idx)>0:\n",
        "      start_tokens[k,target_idx[0]+1] = 1\n",
        "      end_tokens[k,target_idx[-1]+1] = 1\n",
        "\n",
        "  return (input_ids,attention_mask,token_type_ids,start_tokens,end_tokens)"
      ],
      "execution_count": 18,
      "outputs": []
    },
    {
      "cell_type": "code",
      "metadata": {
        "id": "8ZhC5UyDkTv5",
        "colab_type": "code",
        "colab": {}
      },
      "source": [
        "#Convert train,validation and test data to Roberta input\n",
        "X_tr1,X_tr2,X_tr3,Y_tr1,Y_tr2=createInputData(X_train,tokenizer)\n",
        "X_val1,X_val2,X_val3,Y_val1,Y_val2=createInputData(X_val,tokenizer)\n",
        "X_te1,X_te2,X_te3,Y_te1,Y_te2=createInputData(X_test,tokenizer)"
      ],
      "execution_count": 19,
      "outputs": []
    },
    {
      "cell_type": "code",
      "metadata": {
        "id": "TwQw1A2t0C7z",
        "colab_type": "code",
        "colab": {
          "base_uri": "https://localhost:8080/",
          "height": 102
        },
        "outputId": "dbaae2f1-aee9-4496-d3e7-f34c2338d789"
      },
      "source": [
        "#Checking the shapes \n",
        "print('The shape of token ids',X_tr1.shape)\n",
        "print('The shape of attention mask ',X_tr2.shape)\n",
        "print('The shape of token type ids',X_tr3.shape)\n",
        "print('The shape of start tokens',Y_tr1.shape)\n",
        "print('The shape of end tokens',Y_tr2.shape)"
      ],
      "execution_count": 20,
      "outputs": [
        {
          "output_type": "stream",
          "text": [
            "The shape of token ids (17587, 128)\n",
            "The shape of attention mask  (17587, 128)\n",
            "The shape of token type ids (17587, 128)\n",
            "The shape of start tokens (17587, 128)\n",
            "The shape of end tokens (17587, 128)\n"
          ],
          "name": "stdout"
        }
      ]
    },
    {
      "cell_type": "code",
      "metadata": {
        "id": "2E0NCmICQTzg",
        "colab_type": "code",
        "colab": {
          "base_uri": "https://localhost:8080/",
          "height": 220,
          "referenced_widgets": [
            "911ba7d523d54dd79bb787b60bed4126",
            "390810fa7ee14c4d80c704ed379fa7e8",
            "b13db830513f4be2b4e35037740e3d22",
            "2095e20adb9547bbb5775a031cd04144",
            "c52a50749733407cbc4493da5b2a3bb9",
            "b212fe08eded40d39603dc76bfbd0b89",
            "33060b3046084aec888acda4aad5576d",
            "2b8a6503eae2457aaf9c37e30a05c828",
            "ef3082da9cee4759b1c063649e2f6af5",
            "040286891cf245d285caae04d2df184e",
            "f47dbec5754a4c9f87431db62070c2ab",
            "4710a01017fe460b9cbf43887adcc113",
            "e297f7b210b64de5a4e65ad5180ef778",
            "9bb64645045442f0b78e532074da98b4",
            "cc13d6f1b46b4d20a17d2ad954caa424",
            "03c957dbfd294f6bac8f6d561e7f8d41"
          ]
        },
        "outputId": "4aa5090a-8544-48b1-a534-945afb8032d7"
      },
      "source": [
        "#Model Archietecture\n",
        "def build_model():\n",
        "  '''Builds the model'''\n",
        "\n",
        "  ids=Input((MAX_LEN),name='ids',dtype='int32')\n",
        "  att_mask=Input((MAX_LEN),name='att_mask',dtype='int32')\n",
        "  type_ids=Input((MAX_LEN),name='type_ids',dtype='int32')\n",
        "\n",
        "  roberta_conf = RobertaConfig.from_pretrained('roberta-base')\n",
        "  roberta_model = TFRobertaModel.from_pretrained('roberta-base',config=roberta_conf)\n",
        "  \n",
        "  bert_output=roberta_model([ids,att_mask,type_ids])\n",
        "\n",
        "  dropout1=Dropout(0.1,name='dropout1')(bert_output[0])\n",
        "  conv1d_1 = Conv1D(1,1,kernel_initializer=tf.keras.initializers.glorot_uniform(seed=20),name='conv1d_1')(dropout1)\n",
        "  flatten_1 = Flatten(name='flatten_1')(conv1d_1)\n",
        "  out_1 = tf.keras.layers.Activation('softmax',name='activation1')(flatten_1)\n",
        "\n",
        "  dropout2=Dropout(0.1,name='dropout2')(bert_output[0])\n",
        "  conv1d_2 = Conv1D(1,1,kernel_initializer=tf.keras.initializers.glorot_uniform(seed=20),name='conv1d_2')(dropout2)\n",
        "  flatten_2 = Flatten(name='flatten_2')(conv1d_2)\n",
        "  out_2 = tf.keras.layers.Activation('softmax',name='activation2')(flatten_2)\n",
        "\n",
        "  model1 = Model(inputs=[ids, att_mask, type_ids], outputs=[out_1,out_2])\n",
        "\n",
        "  return model1\n",
        "  \n",
        "model1=build_model()"
      ],
      "execution_count": 21,
      "outputs": [
        {
          "output_type": "display_data",
          "data": {
            "application/vnd.jupyter.widget-view+json": {
              "model_id": "911ba7d523d54dd79bb787b60bed4126",
              "version_minor": 0,
              "version_major": 2
            },
            "text/plain": [
              "HBox(children=(FloatProgress(value=0.0, description='Downloading', max=481.0, style=ProgressStyle(description_…"
            ]
          },
          "metadata": {
            "tags": []
          }
        },
        {
          "output_type": "stream",
          "text": [
            "\n"
          ],
          "name": "stdout"
        },
        {
          "output_type": "display_data",
          "data": {
            "application/vnd.jupyter.widget-view+json": {
              "model_id": "ef3082da9cee4759b1c063649e2f6af5",
              "version_minor": 0,
              "version_major": 2
            },
            "text/plain": [
              "HBox(children=(FloatProgress(value=0.0, description='Downloading', max=657434796.0, style=ProgressStyle(descri…"
            ]
          },
          "metadata": {
            "tags": []
          }
        },
        {
          "output_type": "stream",
          "text": [
            "\n"
          ],
          "name": "stdout"
        },
        {
          "output_type": "stream",
          "text": [
            "Some weights of the model checkpoint at roberta-base were not used when initializing TFRobertaModel: ['lm_head']\n",
            "- This IS expected if you are initializing TFRobertaModel from the checkpoint of a model trained on another task or with another architecture (e.g. initializing a BertForSequenceClassification model from a BertForPretraining model).\n",
            "- This IS NOT expected if you are initializing TFRobertaModel from the checkpoint of a model that you expect to be exactly identical (initializing a BertForSequenceClassification model from a BertForSequenceClassification model).\n",
            "All the weights of TFRobertaModel were initialized from the model checkpoint at roberta-base.\n",
            "If your task is similar to the task the model of the checkpoint was trained on, you can already use TFRobertaModel for predictions without further training.\n"
          ],
          "name": "stderr"
        }
      ]
    },
    {
      "cell_type": "code",
      "metadata": {
        "id": "ykF3qCzHXvJB",
        "colab_type": "code",
        "colab": {
          "base_uri": "https://localhost:8080/",
          "height": 595
        },
        "outputId": "32f78a42-b771-4bc1-e26f-fff71fe2a49a"
      },
      "source": [
        "model1.summary()"
      ],
      "execution_count": 22,
      "outputs": [
        {
          "output_type": "stream",
          "text": [
            "Model: \"functional_1\"\n",
            "__________________________________________________________________________________________________\n",
            "Layer (type)                    Output Shape         Param #     Connected to                     \n",
            "==================================================================================================\n",
            "ids (InputLayer)                [(None, 128)]        0                                            \n",
            "__________________________________________________________________________________________________\n",
            "att_mask (InputLayer)           [(None, 128)]        0                                            \n",
            "__________________________________________________________________________________________________\n",
            "type_ids (InputLayer)           [(None, 128)]        0                                            \n",
            "__________________________________________________________________________________________________\n",
            "tf_roberta_model (TFRobertaMode ((None, 128, 768), ( 124645632   ids[0][0]                        \n",
            "                                                                 att_mask[0][0]                   \n",
            "                                                                 type_ids[0][0]                   \n",
            "__________________________________________________________________________________________________\n",
            "dropout1 (Dropout)              (None, 128, 768)     0           tf_roberta_model[0][0]           \n",
            "__________________________________________________________________________________________________\n",
            "dropout2 (Dropout)              (None, 128, 768)     0           tf_roberta_model[0][0]           \n",
            "__________________________________________________________________________________________________\n",
            "conv1d_1 (Conv1D)               (None, 128, 1)       769         dropout1[0][0]                   \n",
            "__________________________________________________________________________________________________\n",
            "conv1d_2 (Conv1D)               (None, 128, 1)       769         dropout2[0][0]                   \n",
            "__________________________________________________________________________________________________\n",
            "flatten_1 (Flatten)             (None, 128)          0           conv1d_1[0][0]                   \n",
            "__________________________________________________________________________________________________\n",
            "flatten_2 (Flatten)             (None, 128)          0           conv1d_2[0][0]                   \n",
            "__________________________________________________________________________________________________\n",
            "activation1 (Activation)        (None, 128)          0           flatten_1[0][0]                  \n",
            "__________________________________________________________________________________________________\n",
            "activation2 (Activation)        (None, 128)          0           flatten_2[0][0]                  \n",
            "==================================================================================================\n",
            "Total params: 124,647,170\n",
            "Trainable params: 124,647,170\n",
            "Non-trainable params: 0\n",
            "__________________________________________________________________________________________________\n"
          ],
          "name": "stdout"
        }
      ]
    },
    {
      "cell_type": "markdown",
      "metadata": {
        "id": "qd6iZLxH73Yy",
        "colab_type": "text"
      },
      "source": [
        "Model Archietecture\n",
        "* Input Layer: 3 input layers: \n",
        "  * Input_ids: Numeric ids of each token with [1] as pad token\n",
        "  * Attention_mask: It has 1 for tokens and 0 for other\n",
        "  * Token_type ids: Ih has 0 for all as there are only one type\n",
        "* Roberta Model: It returns a 768 dimensional vector for each token\n",
        "* Conv1D: 2 Conv1D layers, one for start and other for end scores. It has kernal size of 1 and 1 filter.\n",
        "* OutputLayer: Softmax activation applied to start and end scores"
      ]
    },
    {
      "cell_type": "code",
      "metadata": {
        "id": "mKfCI0h5-cFT",
        "colab_type": "code",
        "colab": {
          "base_uri": "https://localhost:8080/",
          "height": 563
        },
        "outputId": "25ca5d1f-ed7c-4c79-c1d7-dd8c8c5e4bb0"
      },
      "source": [
        "tf.keras.utils.plot_model(model1, 'Model1.png',show_shapes=True)"
      ],
      "execution_count": 23,
      "outputs": [
        {
          "output_type": "execute_result",
          "data": {
            "image/png": "[encoded data removed]",
            "text/plain": [
              "<IPython.core.display.Image object>"
            ]
          },
          "metadata": {
            "tags": []
          },
          "execution_count": 23
        }
      ]
    },
    {
      "cell_type": "code",
      "metadata": {
        "id": "L75e5oO7kx60",
        "colab_type": "code",
        "colab": {}
      },
      "source": [
        "#Creating  directory for model and weights \n",
        "import os\n",
        "import shutil\n",
        "\n",
        "# shutil.rmtree('/content/Model1')\n",
        "# shutil.rmtree('/content/model_save')\n",
        "\n",
        "os.mkdir('/content/Model1')\n",
        "os.mkdir('/content/model_save')"
      ],
      "execution_count": 24,
      "outputs": []
    },
    {
      "cell_type": "code",
      "metadata": {
        "id": "Fhv-GtEo0itR",
        "colab_type": "code",
        "colab": {}
      },
      "source": [
        "#Setting the parameters for TensorBoard\n",
        "from tensorflow.keras.callbacks import TensorBoard\n",
        "%load_ext tensorboard\n",
        "!rm -rf ./logs/ \n",
        "\n",
        "log_dir='/content/Model1'\n",
        "tensorboard_callback = TensorBoard(log_dir=log_dir,histogram_freq=1, write_graph=True)"
      ],
      "execution_count": 25,
      "outputs": []
    },
    {
      "cell_type": "code",
      "metadata": {
        "id": "qsxWhMoklBwF",
        "colab_type": "code",
        "colab": {}
      },
      "source": [
        "#Checkpoint to store the weights\n",
        "from tensorflow.keras.callbacks import ModelCheckpoint\n",
        "\n",
        "checkpoint=ModelCheckpoint('/content/model_save/roberta.h5', monitor='val_loss', verbose=1, save_best_only=True,\n",
        "        save_weights_only=True, mode='auto', save_freq='epoch')"
      ],
      "execution_count": 26,
      "outputs": []
    },
    {
      "cell_type": "code",
      "metadata": {
        "id": "Q0ZQXfPq2vKU",
        "colab_type": "code",
        "colab": {}
      },
      "source": [
        "#Compiling the model\n",
        "optimizer = tf.keras.optimizers.Adam(learning_rate=3e-5)\n",
        "model1.compile(loss='categorical_crossentropy', optimizer=optimizer)"
      ],
      "execution_count": 27,
      "outputs": []
    },
    {
      "cell_type": "code",
      "metadata": {
        "id": "_L8embIZ21TI",
        "colab_type": "code",
        "colab": {
          "base_uri": "https://localhost:8080/",
          "height": 462
        },
        "outputId": "4995891a-7f54-4ed3-93b0-c9b31e4b0cdf"
      },
      "source": [
        "#Fitting the model and running it for 4 epochs\n",
        "callback=[tensorboard_callback,checkpoint]\n",
        "model1.fit([X_tr1,X_tr2,X_tr3],[Y_tr1,Y_tr2],\n",
        "           validation_data=([X_val1,X_val2,X_val3],[Y_val1,Y_val2]),\n",
        "           batch_size=32,epochs=4,callbacks=callback)"
      ],
      "execution_count": 28,
      "outputs": [
        {
          "output_type": "stream",
          "text": [
            "WARNING:tensorflow:Model failed to serialize as JSON. Ignoring... \n",
            "Epoch 1/4\n",
            "WARNING:tensorflow:Gradients do not exist for variables ['tf_roberta_model/roberta/pooler/dense/kernel:0', 'tf_roberta_model/roberta/pooler/dense/bias:0'] when minimizing the loss.\n",
            "WARNING:tensorflow:Gradients do not exist for variables ['tf_roberta_model/roberta/pooler/dense/kernel:0', 'tf_roberta_model/roberta/pooler/dense/bias:0'] when minimizing the loss.\n",
            "WARNING:tensorflow:Gradients do not exist for variables ['tf_roberta_model/roberta/pooler/dense/kernel:0', 'tf_roberta_model/roberta/pooler/dense/bias:0'] when minimizing the loss.\n",
            "WARNING:tensorflow:Gradients do not exist for variables ['tf_roberta_model/roberta/pooler/dense/kernel:0', 'tf_roberta_model/roberta/pooler/dense/bias:0'] when minimizing the loss.\n",
            "  1/550 [..............................] - ETA: 0s - loss: 9.3313 - activation1_loss: 4.5619 - activation2_loss: 4.7694WARNING:tensorflow:From /usr/local/lib/python3.6/dist-packages/tensorflow/python/ops/summary_ops_v2.py:1277: stop (from tensorflow.python.eager.profiler) is deprecated and will be removed after 2020-07-01.\n",
            "Instructions for updating:\n",
            "use `tf.profiler.experimental.stop` instead.\n",
            "550/550 [==============================] - ETA: 0s - loss: 2.4448 - activation1_loss: 1.2275 - activation2_loss: 1.2172\n",
            "Epoch 00001: val_loss improved from inf to 1.71532, saving model to /content/model_save/roberta.h5\n",
            "550/550 [==============================] - 302s 550ms/step - loss: 2.4448 - activation1_loss: 1.2275 - activation2_loss: 1.2172 - val_loss: 1.7153 - val_activation1_loss: 0.8815 - val_activation2_loss: 0.8338\n",
            "Epoch 2/4\n",
            "550/550 [==============================] - ETA: 0s - loss: 1.6754 - activation1_loss: 0.8648 - activation2_loss: 0.8106\n",
            "Epoch 00002: val_loss improved from 1.71532 to 1.64773, saving model to /content/model_save/roberta.h5\n",
            "550/550 [==============================] - 301s 548ms/step - loss: 1.6754 - activation1_loss: 0.8648 - activation2_loss: 0.8106 - val_loss: 1.6477 - val_activation1_loss: 0.8482 - val_activation2_loss: 0.7995\n",
            "Epoch 3/4\n",
            "550/550 [==============================] - ETA: 0s - loss: 1.5049 - activation1_loss: 0.7797 - activation2_loss: 0.7252\n",
            "Epoch 00003: val_loss did not improve from 1.64773\n",
            "550/550 [==============================] - 299s 544ms/step - loss: 1.5049 - activation1_loss: 0.7797 - activation2_loss: 0.7252 - val_loss: 1.6706 - val_activation1_loss: 0.8538 - val_activation2_loss: 0.8168\n",
            "Epoch 4/4\n",
            "550/550 [==============================] - ETA: 0s - loss: 1.3591 - activation1_loss: 0.7015 - activation2_loss: 0.6577\n",
            "Epoch 00004: val_loss did not improve from 1.64773\n",
            "550/550 [==============================] - 300s 545ms/step - loss: 1.3591 - activation1_loss: 0.7015 - activation2_loss: 0.6577 - val_loss: 1.7406 - val_activation1_loss: 0.8956 - val_activation2_loss: 0.8450\n"
          ],
          "name": "stdout"
        },
        {
          "output_type": "execute_result",
          "data": {
            "text/plain": [
              "<tensorflow.python.keras.callbacks.History at 0x7fd8344dea58>"
            ]
          },
          "metadata": {
            "tags": []
          },
          "execution_count": 28
        }
      ]
    },
    {
      "cell_type": "code",
      "metadata": {
        "id": "1naWLMz75mif",
        "colab_type": "code",
        "colab": {}
      },
      "source": [
        "#Loading the tensorboard\n",
        "%tensorboard --logdir '/content/Model1'"
      ],
      "execution_count": null,
      "outputs": []
    },
    {
      "cell_type": "code",
      "metadata": {
        "id": "Zc71MnbWFWK9",
        "colab_type": "code",
        "colab": {}
      },
      "source": [
        "model1.load_weights('/content/model_save/roberta.h5')"
      ],
      "execution_count": 29,
      "outputs": []
    },
    {
      "cell_type": "code",
      "metadata": {
        "id": "P3CQb9XzTjwt",
        "colab_type": "code",
        "colab": {}
      },
      "source": [
        "#Model prediction on hold out test dataset\n",
        "start,end=model1.predict([X_te1,X_te2,X_te3])"
      ],
      "execution_count": 30,
      "outputs": []
    },
    {
      "cell_type": "code",
      "metadata": {
        "id": "23shlTXtS8DL",
        "colab_type": "code",
        "colab": {}
      },
      "source": [
        "def jaccard(str1, str2): \n",
        "  '''Returns the jaccard score for the given two strings '''\n",
        "  a = set(str1.lower().split()) \n",
        "  b = set(str2.lower().split())\n",
        "  c = a.intersection(b)\n",
        "  return float(len(c)) / (len(a) + len(b) - len(c))"
      ],
      "execution_count": 31,
      "outputs": []
    },
    {
      "cell_type": "code",
      "metadata": {
        "id": "BoLnHryQRuvD",
        "colab_type": "code",
        "colab": {}
      },
      "source": [
        "#Finds the selected text for the given tweet\n",
        "def find_selected_text(data,tokenizer,start,end):\n",
        "  '''Finds the selected text for the given tweet'''\n",
        "  selected_text_list=[]\n",
        "  for i in range(data.shape[0]):\n",
        "\n",
        "    #Finding the start and end index\n",
        "    start_idx=np.argmax(start[i])\n",
        "    end_idx=np.argmax(end[i])\n",
        "    \n",
        "\n",
        "    #If start is greater than end index, predicted_text=text\n",
        "    if (start_idx>end_idx):\n",
        "      predicted_text=data.loc[i,'text']\n",
        "\n",
        "    else:\n",
        "      text1 = \" \"+\" \".join(data.loc[i,'text'].split())\n",
        "      tokens=tokenizer.encode(text1)\n",
        "      predicted_text=tokenizer.decode(tokens.ids[start_idx-1:end_idx])        \n",
        "\n",
        "    selected_text_list.append(predicted_text)\n",
        "\n",
        "  return selected_text_list\n",
        "    \n"
      ],
      "execution_count": 32,
      "outputs": []
    },
    {
      "cell_type": "code",
      "metadata": {
        "id": "7keh8J1VXEF0",
        "colab_type": "code",
        "colab": {
          "base_uri": "https://localhost:8080/",
          "height": 461
        },
        "outputId": "4bc72b4c-4c3e-45b7-c805-e763cec3cca3"
      },
      "source": [
        "# Obtaining the predicted selected  text and adding to X_test dataframe\n",
        "selected_text=find_selected_text(X_test,tokenizer,start,end)\n",
        "X_test['predicted_text']=selected_text\n",
        "\n",
        "for i,(_,row) in enumerate(X_test.iterrows()):\n",
        "  X_test.loc[i,'jaccard']=jaccard(row.selected_text,row.predicted_text)\n",
        "\n",
        "X_test.head(10)"
      ],
      "execution_count": 33,
      "outputs": [
        {
          "output_type": "execute_result",
          "data": {
            "text/html": [
              "<div>\n",
              "<style scoped>\n",
              "    .dataframe tbody tr th:only-of-type {\n",
              "        vertical-align: middle;\n",
              "    }\n",
              "\n",
              "    .dataframe tbody tr th {\n",
              "        vertical-align: top;\n",
              "    }\n",
              "\n",
              "    .dataframe thead th {\n",
              "        text-align: right;\n",
              "    }\n",
              "</style>\n",
              "<table border=\"1\" class=\"dataframe\">\n",
              "  <thead>\n",
              "    <tr style=\"text-align: right;\">\n",
              "      <th></th>\n",
              "      <th>textID</th>\n",
              "      <th>text</th>\n",
              "      <th>selected_text</th>\n",
              "      <th>sentiment</th>\n",
              "      <th>predicted_text</th>\n",
              "      <th>jaccard</th>\n",
              "    </tr>\n",
              "  </thead>\n",
              "  <tbody>\n",
              "    <tr>\n",
              "      <th>0</th>\n",
              "      <td>197aa929a2</td>\n",
              "      <td>misses driving already</td>\n",
              "      <td>misses driving already</td>\n",
              "      <td>negative</td>\n",
              "      <td>misses driving already</td>\n",
              "      <td>1.000000</td>\n",
              "    </tr>\n",
              "    <tr>\n",
              "      <th>1</th>\n",
              "      <td>7648a76c96</td>\n",
              "      <td>Name the rest? Let`s see. Mystery Jets are pr...</td>\n",
              "      <td>cool.</td>\n",
              "      <td>positive</td>\n",
              "      <td>pretty cool.</td>\n",
              "      <td>0.500000</td>\n",
              "    </tr>\n",
              "    <tr>\n",
              "      <th>2</th>\n",
              "      <td>14fc34a4fb</td>\n",
              "      <td>anyways have a severe headache ryt now! i jst...</td>\n",
              "      <td>anyways have a severe headache ryt now! i jst ...</td>\n",
              "      <td>neutral</td>\n",
              "      <td>anyways have a severe headache ryt now! i jst...</td>\n",
              "      <td>1.000000</td>\n",
              "    </tr>\n",
              "    <tr>\n",
              "      <th>3</th>\n",
              "      <td>50662e359b</td>\n",
              "      <td>25-man Ulduar is hard...</td>\n",
              "      <td>25-man Ulduar is hard...</td>\n",
              "      <td>neutral</td>\n",
              "      <td>25-man ulduar is hard...</td>\n",
              "      <td>1.000000</td>\n",
              "    </tr>\n",
              "    <tr>\n",
              "      <th>4</th>\n",
              "      <td>b66219e011</td>\n",
              "      <td>Cried Like A Fukn Baby Today Durin Da Senior S...</td>\n",
              "      <td>Miss</td>\n",
              "      <td>negative</td>\n",
              "      <td>ima miss all my senior friends</td>\n",
              "      <td>0.166667</td>\n",
              "    </tr>\n",
              "    <tr>\n",
              "      <th>5</th>\n",
              "      <td>6649f3558c</td>\n",
              "      <td>Not a prob hun</td>\n",
              "      <td>Not a prob</td>\n",
              "      <td>positive</td>\n",
              "      <td>not a prob hun</td>\n",
              "      <td>0.750000</td>\n",
              "    </tr>\n",
              "    <tr>\n",
              "      <th>6</th>\n",
              "      <td>a54d3c2825</td>\n",
              "      <td>I know   It was worth a shot, though!</td>\n",
              "      <td>as wort</td>\n",
              "      <td>positive</td>\n",
              "      <td>worth</td>\n",
              "      <td>0.000000</td>\n",
              "    </tr>\n",
              "    <tr>\n",
              "      <th>7</th>\n",
              "      <td>db83ff224e</td>\n",
              "      <td>You`re still welcome - the door`s wide enough...</td>\n",
              "      <td>You`re still welcome - the door`s wide enough ...</td>\n",
              "      <td>neutral</td>\n",
              "      <td>you`re still welcome - the door`s wide enough...</td>\n",
              "      <td>1.000000</td>\n",
              "    </tr>\n",
              "    <tr>\n",
              "      <th>8</th>\n",
              "      <td>fdbaccd945</td>\n",
              "      <td>_nickj07 Um....Nicks Voice,Smile,Eyes,Laugh,an...</td>\n",
              "      <td>Great</td>\n",
              "      <td>positive</td>\n",
              "      <td>great</td>\n",
              "      <td>1.000000</td>\n",
              "    </tr>\n",
              "    <tr>\n",
              "      <th>9</th>\n",
              "      <td>1c82fa1e65</td>\n",
              "      <td>reminds me of the weather a month ago it was ...</td>\n",
              "      <td>reminds me of the weather a month ago it was h...</td>\n",
              "      <td>neutral</td>\n",
              "      <td>reminds me of the weather a month ago it was ...</td>\n",
              "      <td>1.000000</td>\n",
              "    </tr>\n",
              "  </tbody>\n",
              "</table>\n",
              "</div>"
            ],
            "text/plain": [
              "       textID  ...   jaccard\n",
              "0  197aa929a2  ...  1.000000\n",
              "1  7648a76c96  ...  0.500000\n",
              "2  14fc34a4fb  ...  1.000000\n",
              "3  50662e359b  ...  1.000000\n",
              "4  b66219e011  ...  0.166667\n",
              "5  6649f3558c  ...  0.750000\n",
              "6  a54d3c2825  ...  0.000000\n",
              "7  db83ff224e  ...  1.000000\n",
              "8  fdbaccd945  ...  1.000000\n",
              "9  1c82fa1e65  ...  1.000000\n",
              "\n",
              "[10 rows x 6 columns]"
            ]
          },
          "metadata": {
            "tags": []
          },
          "execution_count": 33
        }
      ]
    },
    {
      "cell_type": "markdown",
      "metadata": {
        "id": "Sn06k8lvXZE3",
        "colab_type": "text"
      },
      "source": [
        "#### Error Analysis"
      ]
    },
    {
      "cell_type": "code",
      "metadata": {
        "id": "CtSdrQ6AW9BT",
        "colab_type": "code",
        "colab": {
          "base_uri": "https://localhost:8080/",
          "height": 68
        },
        "outputId": "ada2a212-1981-4292-c7c9-cf5f79428435"
      },
      "source": [
        "#Average Jaccard score for each sentiment\n",
        "\n",
        "pos_average=np.mean(X_test['jaccard'][X_test['sentiment']=='positive'])\n",
        "print('The average jaccard score for postive sentiment is  ',pos_average)\n",
        "\n",
        "neg_average=np.mean(X_test['jaccard'][X_test['sentiment']=='negative'])\n",
        "print('The average jaccard score for negative sentiment is  ',neg_average)\n",
        "\n",
        "neu_average=np.mean(X_test['jaccard'][X_test['sentiment']=='neutral'])\n",
        "print('The average jaccard score for neutral sentiment is  ',neu_average)"
      ],
      "execution_count": 34,
      "outputs": [
        {
          "output_type": "stream",
          "text": [
            "The average jaccard score for postive sentiment is   0.5230519675567838\n",
            "The average jaccard score for negative sentiment is   0.51856489224731\n",
            "The average jaccard score for neutral sentiment is   0.9781734920665182\n"
          ],
          "name": "stdout"
        }
      ]
    },
    {
      "cell_type": "code",
      "metadata": {
        "id": "LUO84bzjXBBq",
        "colab_type": "code",
        "colab": {
          "base_uri": "https://localhost:8080/",
          "height": 408
        },
        "outputId": "396ae45e-9d02-4d88-c08c-fdbaa07c31f8"
      },
      "source": [
        "#Adding len of the selected text column\n",
        "\n",
        "X_test['len_selected_text']=X_test['selected_text'].apply(lambda x: len(x.split()))\n",
        "X_test['len_text']=X_test['text'].apply(lambda x: len(x.split()))\n",
        "X_test['diff_len']=abs(X_test['len_selected_text']-X_test['len_text'])\n",
        "X_test.head()"
      ],
      "execution_count": 35,
      "outputs": [
        {
          "output_type": "execute_result",
          "data": {
            "text/html": [
              "<div>\n",
              "<style scoped>\n",
              "    .dataframe tbody tr th:only-of-type {\n",
              "        vertical-align: middle;\n",
              "    }\n",
              "\n",
              "    .dataframe tbody tr th {\n",
              "        vertical-align: top;\n",
              "    }\n",
              "\n",
              "    .dataframe thead th {\n",
              "        text-align: right;\n",
              "    }\n",
              "</style>\n",
              "<table border=\"1\" class=\"dataframe\">\n",
              "  <thead>\n",
              "    <tr style=\"text-align: right;\">\n",
              "      <th></th>\n",
              "      <th>textID</th>\n",
              "      <th>text</th>\n",
              "      <th>selected_text</th>\n",
              "      <th>sentiment</th>\n",
              "      <th>predicted_text</th>\n",
              "      <th>jaccard</th>\n",
              "      <th>len_selected_text</th>\n",
              "      <th>len_text</th>\n",
              "      <th>diff_len</th>\n",
              "    </tr>\n",
              "  </thead>\n",
              "  <tbody>\n",
              "    <tr>\n",
              "      <th>0</th>\n",
              "      <td>197aa929a2</td>\n",
              "      <td>misses driving already</td>\n",
              "      <td>misses driving already</td>\n",
              "      <td>negative</td>\n",
              "      <td>misses driving already</td>\n",
              "      <td>1.000000</td>\n",
              "      <td>3</td>\n",
              "      <td>3</td>\n",
              "      <td>0</td>\n",
              "    </tr>\n",
              "    <tr>\n",
              "      <th>1</th>\n",
              "      <td>7648a76c96</td>\n",
              "      <td>Name the rest? Let`s see. Mystery Jets are pr...</td>\n",
              "      <td>cool.</td>\n",
              "      <td>positive</td>\n",
              "      <td>pretty cool.</td>\n",
              "      <td>0.500000</td>\n",
              "      <td>1</td>\n",
              "      <td>20</td>\n",
              "      <td>19</td>\n",
              "    </tr>\n",
              "    <tr>\n",
              "      <th>2</th>\n",
              "      <td>14fc34a4fb</td>\n",
              "      <td>anyways have a severe headache ryt now! i jst...</td>\n",
              "      <td>anyways have a severe headache ryt now! i jst ...</td>\n",
              "      <td>neutral</td>\n",
              "      <td>anyways have a severe headache ryt now! i jst...</td>\n",
              "      <td>1.000000</td>\n",
              "      <td>24</td>\n",
              "      <td>24</td>\n",
              "      <td>0</td>\n",
              "    </tr>\n",
              "    <tr>\n",
              "      <th>3</th>\n",
              "      <td>50662e359b</td>\n",
              "      <td>25-man Ulduar is hard...</td>\n",
              "      <td>25-man Ulduar is hard...</td>\n",
              "      <td>neutral</td>\n",
              "      <td>25-man ulduar is hard...</td>\n",
              "      <td>1.000000</td>\n",
              "      <td>4</td>\n",
              "      <td>4</td>\n",
              "      <td>0</td>\n",
              "    </tr>\n",
              "    <tr>\n",
              "      <th>4</th>\n",
              "      <td>b66219e011</td>\n",
              "      <td>Cried Like A Fukn Baby Today Durin Da Senior S...</td>\n",
              "      <td>Miss</td>\n",
              "      <td>negative</td>\n",
              "      <td>ima miss all my senior friends</td>\n",
              "      <td>0.166667</td>\n",
              "      <td>1</td>\n",
              "      <td>15</td>\n",
              "      <td>14</td>\n",
              "    </tr>\n",
              "  </tbody>\n",
              "</table>\n",
              "</div>"
            ],
            "text/plain": [
              "       textID  ... diff_len\n",
              "0  197aa929a2  ...        0\n",
              "1  7648a76c96  ...       19\n",
              "2  14fc34a4fb  ...        0\n",
              "3  50662e359b  ...        0\n",
              "4  b66219e011  ...       14\n",
              "\n",
              "[5 rows x 9 columns]"
            ]
          },
          "metadata": {
            "tags": []
          },
          "execution_count": 35
        }
      ]
    },
    {
      "cell_type": "code",
      "metadata": {
        "id": "u432pQ4jXB1i",
        "colab_type": "code",
        "colab": {}
      },
      "source": [
        "#Total number of tweets with correct prediction and incorrect prediction\n",
        "pos_jac_1=X_test[X_test['jaccard']==1]\n",
        "pos_jac_0=X_test[X_test['jaccard']!=1]"
      ],
      "execution_count": 36,
      "outputs": []
    },
    {
      "cell_type": "code",
      "metadata": {
        "id": "7GAvwplLXGVd",
        "colab_type": "code",
        "colab": {
          "base_uri": "https://localhost:8080/",
          "height": 68
        },
        "outputId": "180cb274-ea92-46bc-bbcf-ffe24897835c"
      },
      "source": [
        "print('The total number of  tweets is',X_test.shape[0])\n",
        "print('The total number of  tweets with jaccard=1 is',pos_jac_1.shape[0])\n",
        "print('The total number of  tweets with jaccard not 1 is',pos_jac_0.shape[0])"
      ],
      "execution_count": 37,
      "outputs": [
        {
          "output_type": "stream",
          "text": [
            "The total number of  tweets is 4397\n",
            "The total number of  tweets with jaccard=1 is 2430\n",
            "The total number of  tweets with jaccard not 1 is 1967\n"
          ],
          "name": "stdout"
        }
      ]
    },
    {
      "cell_type": "code",
      "metadata": {
        "id": "A5qhAZGGXHUU",
        "colab_type": "code",
        "colab": {
          "base_uri": "https://localhost:8080/",
          "height": 34
        },
        "outputId": "a7293ab0-31c1-4003-a2f4-e10e6ea05087"
      },
      "source": [
        "#Performance of model when both tweet and selected text is same\n",
        "\n",
        "total_zero_diff=X_test[X_test['diff_len']==0].shape[0]\n",
        "zero_diff_jaccard_1=pos_jac_1[pos_jac_1['diff_len']==0].shape[0]\n",
        "result=zero_diff_jaccard_1*100/total_zero_diff\n",
        "print('The percentage of  tweets with jaccard=1 when both tweet and selected text were same is',result)"
      ],
      "execution_count": 38,
      "outputs": [
        {
          "output_type": "stream",
          "text": [
            "The percentage of  tweets with jaccard=1 when both tweet and selected text were same is 84.7609561752988\n"
          ],
          "name": "stdout"
        }
      ]
    },
    {
      "cell_type": "code",
      "metadata": {
        "id": "kMQGQRDWXK5d",
        "colab_type": "code",
        "colab": {
          "base_uri": "https://localhost:8080/",
          "height": 34
        },
        "outputId": "c2297641-6ea8-4fe2-fd7a-ec6cad45ff79"
      },
      "source": [
        "#Performance of model when difference between  tweet and selected text is less than 10\n",
        "\n",
        "diff_less_10=X_test[X_test['diff_len']<=10].shape[0]\n",
        "diff_less_10_jaccard_1=pos_jac_1[pos_jac_1['diff_len']<=10].shape[0]\n",
        "result=diff_less_10_jaccard_1*100/diff_less_10\n",
        "print('The percentage of tweets with jaccard=1 when length difference is less than 10 is',result)"
      ],
      "execution_count": 39,
      "outputs": [
        {
          "output_type": "stream",
          "text": [
            "The percentage of tweets with jaccard=1 when length difference is less than 10 is 63.95597676551513\n"
          ],
          "name": "stdout"
        }
      ]
    },
    {
      "cell_type": "code",
      "metadata": {
        "id": "OzRPHsEpXNf_",
        "colab_type": "code",
        "colab": {
          "base_uri": "https://localhost:8080/",
          "height": 34
        },
        "outputId": "d05b5e77-92ec-4d3f-ab92-0019130eb1df"
      },
      "source": [
        "#Performance of model when difference between  tweet and selected text is greter than 10 but less than 20\n",
        "\n",
        "diff_less_20=X_test[(X_test['diff_len']>10) & (X_test['diff_len']<=20)].shape[0]\n",
        "diff_less_20_jaccard_1=pos_jac_1[(pos_jac_1['diff_len']>10) & (pos_jac_1['diff_len']<=20)].shape[0]\n",
        "result=diff_less_20_jaccard_1*100/diff_less_20\n",
        "print('The percentage of tweets with jaccard=1 when length difference is greter than 10 and less than 20 is',result)"
      ],
      "execution_count": 40,
      "outputs": [
        {
          "output_type": "stream",
          "text": [
            "The percentage of tweets with jaccard=1 when length difference is greter than 10 and less than 20 is 28.61952861952862\n"
          ],
          "name": "stdout"
        }
      ]
    },
    {
      "cell_type": "code",
      "metadata": {
        "id": "UXbgtzXFXP_W",
        "colab_type": "code",
        "colab": {
          "base_uri": "https://localhost:8080/",
          "height": 34
        },
        "outputId": "f3fbdb7a-bc3f-4e3f-d00f-035a0e5c68da"
      },
      "source": [
        "#Performance of model when difference between  tweet and selected text is greter than 20\n",
        "\n",
        "diff_less_30=X_test[(X_test['diff_len']>20)].shape[0]\n",
        "diff_less_30_jaccard_1=pos_jac_1[(pos_jac_1['diff_len']>20)].shape[0]\n",
        "result=diff_less_30_jaccard_1*100/diff_less_30\n",
        "print('The percentage of positive tweets with jaccard=1 when length difference is greter than 20 is',result)"
      ],
      "execution_count": 41,
      "outputs": [
        {
          "output_type": "stream",
          "text": [
            "The percentage of positive tweets with jaccard=1 when length difference is greter than 20 is 35.319148936170215\n"
          ],
          "name": "stdout"
        }
      ]
    },
    {
      "cell_type": "code",
      "metadata": {
        "id": "V3GXRQc4arcG",
        "colab_type": "code",
        "colab": {
          "base_uri": "https://localhost:8080/",
          "height": 34
        },
        "outputId": "f746035e-e105-41f4-bd43-dac838468e60"
      },
      "source": [
        "#Mean of the jaccard score\n",
        "print(np.mean(X_test['jaccard']))"
      ],
      "execution_count": 42,
      "outputs": [
        {
          "output_type": "stream",
          "text": [
            "0.7059209198748473\n"
          ],
          "name": "stdout"
        }
      ]
    },
    {
      "cell_type": "markdown",
      "metadata": {
        "id": "At_AK6cl4a69",
        "colab_type": "text"
      },
      "source": [
        "Conclusion\n",
        "* The Roberta model performs well when the text and selected text are of same length.\n",
        "* It does resonablly well when the difference between tweet selected text is of only few words but does not perform well when the difference increases.Although, the performance is much better than BERT QA model."
      ]
    },
    {
      "cell_type": "markdown",
      "metadata": {
        "id": "0Z8loP5cXuEx",
        "colab_type": "text"
      },
      "source": [
        "#### Prepare For Kaggle submission"
      ]
    },
    {
      "cell_type": "code",
      "metadata": {
        "id": "3nyQ9gafX487",
        "colab_type": "code",
        "colab": {}
      },
      "source": [
        "#Prepare data as required for BERT QA model\n",
        "\n",
        "def computeTestData(data,tokenizer):  \n",
        "  \n",
        "    '''Prepare data as required for ROBERTA model'''\n",
        "    \n",
        "    row = data.shape[0]\n",
        "    input_ids = np.ones((row,MAX_LEN),dtype='int32')\n",
        "    attention_mask = np.zeros((row,MAX_LEN),dtype='int32')\n",
        "    token_type_ids = np.zeros((row,MAX_LEN),dtype='int32')\n",
        "    \n",
        "    for k in range(row):\n",
        "        text=\" \"+\" \".join(data.loc[k,'text'].split())\n",
        "        enc=tokenizer.encode(text)\n",
        "        s_tok = sentiment_id[data.loc[k,'sentiment']]\n",
        "\n",
        "        input_ids[k,:len(enc.ids)+5] = [0] + enc.ids + [2,2] + [s_tok] + [2]\n",
        "        attention_mask[k,:len(enc.ids)+5] = 1\n",
        "        \n",
        "    return (input_ids,attention_mask,token_type_ids)\n"
      ],
      "execution_count": null,
      "outputs": []
    },
    {
      "cell_type": "code",
      "metadata": {
        "id": "xg7yTlh7YULq",
        "colab_type": "code",
        "colab": {}
      },
      "source": [
        "#Applying the above methods on test dataset\n",
        "\n",
        "test1,test2,test3=computeTestData(test,tokenizer)"
      ],
      "execution_count": null,
      "outputs": []
    },
    {
      "cell_type": "code",
      "metadata": {
        "id": "lzovWy7SYv5_",
        "colab_type": "code",
        "colab": {}
      },
      "source": [
        "#Prediction on test dataset\n",
        "start,end=model1.predict([test1,test2,test3])"
      ],
      "execution_count": null,
      "outputs": []
    },
    {
      "cell_type": "code",
      "metadata": {
        "id": "SRhrF32vY459",
        "colab_type": "code",
        "colab": {}
      },
      "source": [
        "#Find the selected text and create the submission file\n",
        "\n",
        "selected_text=find_selected_text(test,tokenizer,start,end)\n",
        "submission=pd.DataFrame(columns=['textID','selected_text'])\n",
        "submission['textID']=test['textID']\n",
        "submission['selected_text']=selected_text\n",
        "\n",
        "submission.to_csv('/kaggle/working/submission.csv',index=False)"
      ],
      "execution_count": null,
      "outputs": []
    },
    {
      "cell_type": "markdown",
      "metadata": {
        "id": "w7GBUdL4y-3p",
        "colab_type": "text"
      },
      "source": [
        "Kaggle Score\n",
        "![image.png](data:image/png;base64,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)"
      ]
    },
    {
      "cell_type": "markdown",
      "metadata": {
        "id": "sU5il517gn9X",
        "colab_type": "text"
      },
      "source": [
        "### QueryPerSecond calculation"
      ]
    },
    {
      "cell_type": "code",
      "metadata": {
        "id": "mi6DovlJdEqp",
        "colab_type": "code",
        "colab": {}
      },
      "source": [
        "#Calculate number of queries executed per second\n",
        "import time\n",
        "\n",
        "def calculateTime(X_te1,X_te2,X_te3,X_test,tokenizer):\n",
        "  start_time=time.time()  \n",
        "\n",
        "  start,end=model1.predict([X_te1,X_te2,X_te3])\n",
        "  selected_text=find_selected_text(X_test,tokenizer,start,end)\n",
        "  X_test['predicted_text']=selected_text\n",
        "  for i,(_,row) in enumerate(X_test.iterrows()):\n",
        "    X_test.loc[i,'jaccard']=jaccard(row.selected_text,row.predicted_text)\n",
        "\n",
        "  end_time=time.time()\n",
        "  \n",
        "  diff=end_time-start_time\n",
        "\n",
        "  print('Time difference is ',diff)\n",
        "\n",
        "  return X_test\n"
      ],
      "execution_count": null,
      "outputs": []
    },
    {
      "cell_type": "code",
      "metadata": {
        "id": "iPU3kZbJeXTP",
        "colab_type": "code",
        "colab": {
          "base_uri": "https://localhost:8080/",
          "height": 34
        },
        "outputId": "5d980543-005c-4290-f5a6-11a4e924d497"
      },
      "source": [
        "X_test=calculateTime(X_te1,X_te2,X_te3,X_test,tokenizer)"
      ],
      "execution_count": null,
      "outputs": [
        {
          "output_type": "stream",
          "text": [
            "Time difference is  33.053561210632324\n"
          ],
          "name": "stdout"
        }
      ]
    },
    {
      "cell_type": "code",
      "metadata": {
        "id": "Ec5EVYr3fsTP",
        "colab_type": "code",
        "colab": {
          "base_uri": "https://localhost:8080/",
          "height": 51
        },
        "outputId": "9d6419d3-f58e-4579-a7f0-e88e88c93975"
      },
      "source": [
        "print('Total number of queries executed in 33s is ',X_test.shape[0])\n",
        "print('Number of queries executed per second is ',X_test.shape[0]/33)"
      ],
      "execution_count": null,
      "outputs": [
        {
          "output_type": "stream",
          "text": [
            "Total number of queries executed in 33s is  4397\n",
            "Number of queries executed per second is  133.24242424242425\n"
          ],
          "name": "stdout"
        }
      ]
    },
    {
      "cell_type": "code",
      "metadata": {
        "colab_type": "code",
        "id": "MFKOe_cTQ_t5",
        "colab": {
          "base_uri": "https://localhost:8080/",
          "height": 461
        },
        "outputId": "9208574c-5f2f-4bc5-dc68-3cbfa2679cc7"
      },
      "source": [
        "# Obtaining the predicted selected  text and adding to X_test dataframe\n",
        "selected_text=find_selected_text(X_test,tokenizer,start,end)\n",
        "X_test['predicted_text']=selected_text\n",
        "\n",
        "for i,(_,row) in enumerate(X_test.iterrows()):\n",
        "  X_test.loc[i,'jaccard']=jaccard(row.selected_text,row.predicted_text)\n",
        "\n",
        "X_test.head(10)"
      ],
      "execution_count": null,
      "outputs": [
        {
          "output_type": "execute_result",
          "data": {
            "text/html": [
              "<div>\n",
              "<style scoped>\n",
              "    .dataframe tbody tr th:only-of-type {\n",
              "        vertical-align: middle;\n",
              "    }\n",
              "\n",
              "    .dataframe tbody tr th {\n",
              "        vertical-align: top;\n",
              "    }\n",
              "\n",
              "    .dataframe thead th {\n",
              "        text-align: right;\n",
              "    }\n",
              "</style>\n",
              "<table border=\"1\" class=\"dataframe\">\n",
              "  <thead>\n",
              "    <tr style=\"text-align: right;\">\n",
              "      <th></th>\n",
              "      <th>textID</th>\n",
              "      <th>text</th>\n",
              "      <th>selected_text</th>\n",
              "      <th>sentiment</th>\n",
              "      <th>predicted_text</th>\n",
              "      <th>jaccard</th>\n",
              "    </tr>\n",
              "  </thead>\n",
              "  <tbody>\n",
              "    <tr>\n",
              "      <th>0</th>\n",
              "      <td>197aa929a2</td>\n",
              "      <td>misses driving already</td>\n",
              "      <td>misses driving already</td>\n",
              "      <td>negative</td>\n",
              "      <td>misses</td>\n",
              "      <td>0.333333</td>\n",
              "    </tr>\n",
              "    <tr>\n",
              "      <th>1</th>\n",
              "      <td>7648a76c96</td>\n",
              "      <td>Name the rest? Let`s see. Mystery Jets are pr...</td>\n",
              "      <td>cool.</td>\n",
              "      <td>positive</td>\n",
              "      <td>pretty cool.</td>\n",
              "      <td>0.500000</td>\n",
              "    </tr>\n",
              "    <tr>\n",
              "      <th>2</th>\n",
              "      <td>14fc34a4fb</td>\n",
              "      <td>anyways have a severe headache ryt now! i jst...</td>\n",
              "      <td>anyways have a severe headache ryt now! i jst ...</td>\n",
              "      <td>neutral</td>\n",
              "      <td>anyways have a severe headache ryt now! i jst...</td>\n",
              "      <td>1.000000</td>\n",
              "    </tr>\n",
              "    <tr>\n",
              "      <th>3</th>\n",
              "      <td>50662e359b</td>\n",
              "      <td>25-man Ulduar is hard...</td>\n",
              "      <td>25-man Ulduar is hard...</td>\n",
              "      <td>neutral</td>\n",
              "      <td>25-man ulduar is hard...</td>\n",
              "      <td>1.000000</td>\n",
              "    </tr>\n",
              "    <tr>\n",
              "      <th>4</th>\n",
              "      <td>b66219e011</td>\n",
              "      <td>Cried Like A Fukn Baby Today Durin Da Senior S...</td>\n",
              "      <td>Miss</td>\n",
              "      <td>negative</td>\n",
              "      <td>cried like a fukn baby today durin da senior ...</td>\n",
              "      <td>0.090909</td>\n",
              "    </tr>\n",
              "    <tr>\n",
              "      <th>5</th>\n",
              "      <td>6649f3558c</td>\n",
              "      <td>Not a prob hun</td>\n",
              "      <td>Not a prob</td>\n",
              "      <td>positive</td>\n",
              "      <td>not a prob hun</td>\n",
              "      <td>0.750000</td>\n",
              "    </tr>\n",
              "    <tr>\n",
              "      <th>6</th>\n",
              "      <td>a54d3c2825</td>\n",
              "      <td>I know   It was worth a shot, though!</td>\n",
              "      <td>as wort</td>\n",
              "      <td>positive</td>\n",
              "      <td>worth a shot, though!</td>\n",
              "      <td>0.000000</td>\n",
              "    </tr>\n",
              "    <tr>\n",
              "      <th>7</th>\n",
              "      <td>db83ff224e</td>\n",
              "      <td>You`re still welcome - the door`s wide enough...</td>\n",
              "      <td>You`re still welcome - the door`s wide enough ...</td>\n",
              "      <td>neutral</td>\n",
              "      <td>you`re still welcome - the door`s wide enough...</td>\n",
              "      <td>1.000000</td>\n",
              "    </tr>\n",
              "    <tr>\n",
              "      <th>8</th>\n",
              "      <td>fdbaccd945</td>\n",
              "      <td>_nickj07 Um....Nicks Voice,Smile,Eyes,Laugh,an...</td>\n",
              "      <td>Great</td>\n",
              "      <td>positive</td>\n",
              "      <td>great rolemodel</td>\n",
              "      <td>0.500000</td>\n",
              "    </tr>\n",
              "    <tr>\n",
              "      <th>9</th>\n",
              "      <td>1c82fa1e65</td>\n",
              "      <td>reminds me of the weather a month ago it was ...</td>\n",
              "      <td>reminds me of the weather a month ago it was h...</td>\n",
              "      <td>neutral</td>\n",
              "      <td>reminds me of the weather a month ago it was ...</td>\n",
              "      <td>1.000000</td>\n",
              "    </tr>\n",
              "  </tbody>\n",
              "</table>\n",
              "</div>"
            ],
            "text/plain": [
              "       textID  ...   jaccard\n",
              "0  197aa929a2  ...  0.333333\n",
              "1  7648a76c96  ...  0.500000\n",
              "2  14fc34a4fb  ...  1.000000\n",
              "3  50662e359b  ...  1.000000\n",
              "4  b66219e011  ...  0.090909\n",
              "5  6649f3558c  ...  0.750000\n",
              "6  a54d3c2825  ...  0.000000\n",
              "7  db83ff224e  ...  1.000000\n",
              "8  fdbaccd945  ...  0.500000\n",
              "9  1c82fa1e65  ...  1.000000\n",
              "\n",
              "[10 rows x 6 columns]"
            ]
          },
          "metadata": {
            "tags": []
          },
          "execution_count": 37
        }
      ]
    },
    {
      "cell_type": "markdown",
      "metadata": {
        "colab_type": "text",
        "id": "Lk0QEzeRQ_t8"
      },
      "source": [
        "#### Error Analysis"
      ]
    },
    {
      "cell_type": "code",
      "metadata": {
        "colab_type": "code",
        "id": "hKoP_5fEQ_t9",
        "colab": {
          "base_uri": "https://localhost:8080/",
          "height": 68
        },
        "outputId": "5b5fc0d3-99f5-48be-ef65-9d6cda0e9561"
      },
      "source": [
        "#Average Jaccard score for each sentiment\n",
        "\n",
        "pos_average=np.mean(X_test['jaccard'][X_test['sentiment']=='positive'])\n",
        "print('The average jaccard score for postive sentiment is  ',pos_average)\n",
        "\n",
        "neg_average=np.mean(X_test['jaccard'][X_test['sentiment']=='negative'])\n",
        "print('The average jaccard score for negative sentiment is  ',neg_average)\n",
        "\n",
        "neu_average=np.mean(X_test['jaccard'][X_test['sentiment']=='neutral'])\n",
        "print('The average jaccard score for neutral sentiment is  ',neu_average)"
      ],
      "execution_count": null,
      "outputs": [
        {
          "output_type": "stream",
          "text": [
            "The average jaccard score for postive sentiment is   0.5097252664116794\n",
            "The average jaccard score for negative sentiment is   0.5097481581628335\n",
            "The average jaccard score for neutral sentiment is   0.9778607660485775\n"
          ],
          "name": "stdout"
        }
      ]
    },
    {
      "cell_type": "code",
      "metadata": {
        "colab_type": "code",
        "id": "vGXF--TrQ_uA",
        "colab": {
          "base_uri": "https://localhost:8080/",
          "height": 408
        },
        "outputId": "553c58a0-1691-46b9-e5d1-d53e6ccbb17e"
      },
      "source": [
        "#Adding len of the selected text column\n",
        "\n",
        "X_test['len_selected_text']=X_test['selected_text'].apply(lambda x: len(x.split()))\n",
        "X_test['len_text']=X_test['text'].apply(lambda x: len(x.split()))\n",
        "X_test['diff_len']=abs(X_test['len_selected_text']-X_test['len_text'])\n",
        "X_test.head()"
      ],
      "execution_count": null,
      "outputs": [
        {
          "output_type": "execute_result",
          "data": {
            "text/html": [
              "<div>\n",
              "<style scoped>\n",
              "    .dataframe tbody tr th:only-of-type {\n",
              "        vertical-align: middle;\n",
              "    }\n",
              "\n",
              "    .dataframe tbody tr th {\n",
              "        vertical-align: top;\n",
              "    }\n",
              "\n",
              "    .dataframe thead th {\n",
              "        text-align: right;\n",
              "    }\n",
              "</style>\n",
              "<table border=\"1\" class=\"dataframe\">\n",
              "  <thead>\n",
              "    <tr style=\"text-align: right;\">\n",
              "      <th></th>\n",
              "      <th>textID</th>\n",
              "      <th>text</th>\n",
              "      <th>selected_text</th>\n",
              "      <th>sentiment</th>\n",
              "      <th>predicted_text</th>\n",
              "      <th>jaccard</th>\n",
              "      <th>len_selected_text</th>\n",
              "      <th>len_text</th>\n",
              "      <th>diff_len</th>\n",
              "    </tr>\n",
              "  </thead>\n",
              "  <tbody>\n",
              "    <tr>\n",
              "      <th>0</th>\n",
              "      <td>197aa929a2</td>\n",
              "      <td>misses driving already</td>\n",
              "      <td>misses driving already</td>\n",
              "      <td>negative</td>\n",
              "      <td>misses</td>\n",
              "      <td>0.333333</td>\n",
              "      <td>3</td>\n",
              "      <td>3</td>\n",
              "      <td>0</td>\n",
              "    </tr>\n",
              "    <tr>\n",
              "      <th>1</th>\n",
              "      <td>7648a76c96</td>\n",
              "      <td>Name the rest? Let`s see. Mystery Jets are pr...</td>\n",
              "      <td>cool.</td>\n",
              "      <td>positive</td>\n",
              "      <td>pretty cool.</td>\n",
              "      <td>0.500000</td>\n",
              "      <td>1</td>\n",
              "      <td>20</td>\n",
              "      <td>19</td>\n",
              "    </tr>\n",
              "    <tr>\n",
              "      <th>2</th>\n",
              "      <td>14fc34a4fb</td>\n",
              "      <td>anyways have a severe headache ryt now! i jst...</td>\n",
              "      <td>anyways have a severe headache ryt now! i jst ...</td>\n",
              "      <td>neutral</td>\n",
              "      <td>anyways have a severe headache ryt now! i jst...</td>\n",
              "      <td>1.000000</td>\n",
              "      <td>24</td>\n",
              "      <td>24</td>\n",
              "      <td>0</td>\n",
              "    </tr>\n",
              "    <tr>\n",
              "      <th>3</th>\n",
              "      <td>50662e359b</td>\n",
              "      <td>25-man Ulduar is hard...</td>\n",
              "      <td>25-man Ulduar is hard...</td>\n",
              "      <td>neutral</td>\n",
              "      <td>25-man ulduar is hard...</td>\n",
              "      <td>1.000000</td>\n",
              "      <td>4</td>\n",
              "      <td>4</td>\n",
              "      <td>0</td>\n",
              "    </tr>\n",
              "    <tr>\n",
              "      <th>4</th>\n",
              "      <td>b66219e011</td>\n",
              "      <td>Cried Like A Fukn Baby Today Durin Da Senior S...</td>\n",
              "      <td>Miss</td>\n",
              "      <td>negative</td>\n",
              "      <td>cried like a fukn baby today durin da senior ...</td>\n",
              "      <td>0.090909</td>\n",
              "      <td>1</td>\n",
              "      <td>15</td>\n",
              "      <td>14</td>\n",
              "    </tr>\n",
              "  </tbody>\n",
              "</table>\n",
              "</div>"
            ],
            "text/plain": [
              "       textID  ... diff_len\n",
              "0  197aa929a2  ...        0\n",
              "1  7648a76c96  ...       19\n",
              "2  14fc34a4fb  ...        0\n",
              "3  50662e359b  ...        0\n",
              "4  b66219e011  ...       14\n",
              "\n",
              "[5 rows x 9 columns]"
            ]
          },
          "metadata": {
            "tags": []
          },
          "execution_count": 39
        }
      ]
    },
    {
      "cell_type": "code",
      "metadata": {
        "colab_type": "code",
        "id": "XrcQcQMiQ_uD",
        "colab": {}
      },
      "source": [
        "#Total number of tweets with correct prediction and incorrect prediction\n",
        "pos_jac_1=X_test[X_test['jaccard']==1]\n",
        "pos_jac_0=X_test[X_test['jaccard']!=1]"
      ],
      "execution_count": null,
      "outputs": []
    },
    {
      "cell_type": "code",
      "metadata": {
        "colab_type": "code",
        "id": "hT39zl5YQ_uF",
        "colab": {
          "base_uri": "https://localhost:8080/",
          "height": 68
        },
        "outputId": "d3569bd7-e096-445c-b203-4fa2031aa96e"
      },
      "source": [
        "print('The total number of  tweets is',X_test.shape[0])\n",
        "print('The total number of  tweets with jaccard=1 is',pos_jac_1.shape[0])\n",
        "print('The total number of  tweets with jaccard not 1 is',pos_jac_0.shape[0])"
      ],
      "execution_count": null,
      "outputs": [
        {
          "output_type": "stream",
          "text": [
            "The total number of  tweets is 4397\n",
            "The total number of  tweets with jaccard=1 is 2396\n",
            "The total number of  tweets with jaccard not 1 is 2001\n"
          ],
          "name": "stdout"
        }
      ]
    },
    {
      "cell_type": "code",
      "metadata": {
        "colab_type": "code",
        "id": "-imlH7MOQ_uJ",
        "colab": {
          "base_uri": "https://localhost:8080/",
          "height": 34
        },
        "outputId": "e0e1bdec-e2bb-4f3a-c89c-e936f64706fa"
      },
      "source": [
        "#Performance of model when both tweet and selected text is same\n",
        "\n",
        "total_zero_diff=X_test[X_test['diff_len']==0].shape[0]\n",
        "zero_diff_jaccard_1=pos_jac_1[pos_jac_1['diff_len']==0].shape[0]\n",
        "result=zero_diff_jaccard_1*100/total_zero_diff\n",
        "print('The percentage of  tweets with jaccard=1 when both tweet and selected text were same is',result)"
      ],
      "execution_count": null,
      "outputs": [
        {
          "output_type": "stream",
          "text": [
            "The percentage of  tweets with jaccard=1 when both tweet and selected text were same is 85.10956175298804\n"
          ],
          "name": "stdout"
        }
      ]
    },
    {
      "cell_type": "code",
      "metadata": {
        "colab_type": "code",
        "id": "hpuKaKtDQ_uO",
        "colab": {
          "base_uri": "https://localhost:8080/",
          "height": 34
        },
        "outputId": "9f1e1d19-7080-4022-c00e-8b8163aca0e5"
      },
      "source": [
        "#Performance of model when difference between  tweet and selected text is less than 10\n",
        "\n",
        "diff_less_10=X_test[X_test['diff_len']<=10].shape[0]\n",
        "diff_less_10_jaccard_1=pos_jac_1[pos_jac_1['diff_len']<=10].shape[0]\n",
        "result=diff_less_10_jaccard_1*100/diff_less_10\n",
        "print('The percentage of tweets with jaccard=1 when length difference is less than 10 is',result)"
      ],
      "execution_count": null,
      "outputs": [
        {
          "output_type": "stream",
          "text": [
            "The percentage of tweets with jaccard=1 when length difference is less than 10 is 63.161112809538366\n"
          ],
          "name": "stdout"
        }
      ]
    },
    {
      "cell_type": "code",
      "metadata": {
        "colab_type": "code",
        "id": "ZIoADaDgQ_uQ",
        "colab": {
          "base_uri": "https://localhost:8080/",
          "height": 34
        },
        "outputId": "e3112e2b-2301-4fb9-b99e-2cf15fa2f275"
      },
      "source": [
        "#Performance of model when difference between  tweet and selected text is greter than 10 but less than 20\n",
        "\n",
        "diff_less_20=X_test[(X_test['diff_len']>10) & (X_test['diff_len']<=20)].shape[0]\n",
        "diff_less_20_jaccard_1=pos_jac_1[(pos_jac_1['diff_len']>10) & (pos_jac_1['diff_len']<=20)].shape[0]\n",
        "result=diff_less_20_jaccard_1*100/diff_less_20\n",
        "print('The percentage of tweets with jaccard=1 when length difference is greter than 10 and less than 20 is',result)"
      ],
      "execution_count": null,
      "outputs": [
        {
          "output_type": "stream",
          "text": [
            "The percentage of tweets with jaccard=1 when length difference is greter than 10 and less than 20 is 28.395061728395063\n"
          ],
          "name": "stdout"
        }
      ]
    },
    {
      "cell_type": "code",
      "metadata": {
        "colab_type": "code",
        "id": "BDSUCEl3Q_uV",
        "colab": {
          "base_uri": "https://localhost:8080/",
          "height": 34
        },
        "outputId": "0270e62d-79d5-4c38-e2a8-7837ee5fd4f9"
      },
      "source": [
        "#Performance of model when difference between  tweet and selected text is greter than 20\n",
        "\n",
        "diff_less_30=X_test[(X_test['diff_len']>20)].shape[0]\n",
        "diff_less_30_jaccard_1=pos_jac_1[(pos_jac_1['diff_len']>20)].shape[0]\n",
        "result=diff_less_30_jaccard_1*100/diff_less_30\n",
        "print('The percentage of positive tweets with jaccard=1 when length difference is greter than 20 is',result)"
      ],
      "execution_count": null,
      "outputs": [
        {
          "output_type": "stream",
          "text": [
            "The percentage of positive tweets with jaccard=1 when length difference is greter than 20 is 32.765957446808514\n"
          ],
          "name": "stdout"
        }
      ]
    },
    {
      "cell_type": "code",
      "metadata": {
        "colab_type": "code",
        "id": "MOxUkapDQ_uY",
        "colab": {
          "base_uri": "https://localhost:8080/",
          "height": 34
        },
        "outputId": "aae7386f-3454-410d-d938-75e3a9461a1c"
      },
      "source": [
        "#Mean of the jaccard score\n",
        "print(np.mean(X_test['jaccard']))"
      ],
      "execution_count": null,
      "outputs": [
        {
          "output_type": "stream",
          "text": [
            "0.6991365818731822\n"
          ],
          "name": "stdout"
        }
      ]
    },
    {
      "cell_type": "markdown",
      "metadata": {
        "colab_type": "text",
        "id": "3hCvkZ0kQ_ub"
      },
      "source": [
        "Conclusion\n",
        "* The Roberta model performs well when the text and selected text are of same length.\n",
        "* It does resonablly well when the difference between tweet selected text is of only few words but does not perform well when the difference increases.Although, the performance is much better than BERT QA model."
      ]
    }
  ]
}
