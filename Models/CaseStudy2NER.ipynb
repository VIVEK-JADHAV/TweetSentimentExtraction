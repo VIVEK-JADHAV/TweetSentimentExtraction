{
  "nbformat": 4,
  "nbformat_minor": 0,
  "metadata": {
    "colab": {
      "name": "CaseStudy2NER.ipynb",
      "provenance": [],
      "collapsed_sections": [
        "IBN4CTVNLMU0",
        "1zoRcA_FYSiR",
        "BGaqILOlcvta"
      ],
      "toc_visible": true,
      "mount_file_id": "1sIRsaEoxGdUEsG5rVUsR_UyrUKIiI62l",
      "authorship_tag": "ABX9TyMwEBtN5PXTteRuHSKYQgg2",
      "include_colab_link": true
    },
    "kernelspec": {
      "name": "python3",
      "display_name": "Python 3"
    },
    "accelerator": "GPU"
  },
  "cells": [
    {
      "cell_type": "markdown",
      "metadata": {
        "id": "view-in-github",
        "colab_type": "text"
      },
      "source": [
        "<a href=\"https://colab.research.google.com/github/VIVEK-JADHAV/TweetSentimentExtraction/blob/master/CaseStudy2NER.ipynb\" target=\"_parent\"><img src=\"https://colab.research.google.com/assets/colab-badge.svg\" alt=\"Open In Colab\"/></a>"
      ]
    },
    {
      "cell_type": "code",
      "metadata": {
        "id": "B0nSXFxHKw50",
        "colab_type": "code",
        "colab": {
          "base_uri": "https://localhost:8080/",
          "height": 71
        },
        "outputId": "f732ff6e-f061-446d-fd88-b8e5bd3ffaf5"
      },
      "source": [
        "import pandas as pd\n",
        "import numpy as np\n",
        "import os\n",
        "import shutil\n",
        "import matplotlib.pyplot as plt\n",
        "import seaborn as sns\n",
        "from wordcloud import WordCloud, STOPWORDS \n",
        "import re \n",
        "import string\n",
        "import tensorflow as tf\n",
        "from tensorflow.keras.layers import Dense,Input,Activation,Flatten,Embedding,Lambda,Dropout,LSTM,Conv1D\n",
        "from tensorflow.keras.models import Model\n",
        "from tqdm import tqdm\n",
        "import spacy\n",
        "import random\n",
        "from spacy.util import compounding\n",
        "from spacy.util import minibatch\n"
      ],
      "execution_count": null,
      "outputs": [
        {
          "output_type": "stream",
          "text": [
            "/usr/local/lib/python3.6/dist-packages/statsmodels/tools/_testing.py:19: FutureWarning: pandas.util.testing is deprecated. Use the functions in the public API at pandas.testing instead.\n",
            "  import pandas.util.testing as tm\n"
          ],
          "name": "stderr"
        }
      ]
    },
    {
      "cell_type": "code",
      "metadata": {
        "id": "LN_lQJ_PML29",
        "colab_type": "code",
        "colab": {
          "base_uri": "https://localhost:8080/",
          "height": 187
        },
        "outputId": "aaa19824-91ab-421d-b4b7-817ec4d490e9"
      },
      "source": [
        "!kaggle competitions download -c tweet-sentiment-extraction"
      ],
      "execution_count": null,
      "outputs": [
        {
          "output_type": "stream",
          "text": [
            "Warning: Looks like you're using an outdated API Version, please consider updating (server 1.5.6 / client 1.5.4)\n",
            "Downloading test.csv to /content/data\n",
            "  0% 0.00/307k [00:00<?, ?B/s]\n",
            "100% 307k/307k [00:00<00:00, 46.8MB/s]\n",
            "Downloading train.csv.zip to /content/data\n",
            "  0% 0.00/1.23M [00:00<?, ?B/s]\n",
            "100% 1.23M/1.23M [00:00<00:00, 82.2MB/s]\n",
            "Downloading sample_submission.csv to /content/data\n",
            "  0% 0.00/41.4k [00:00<?, ?B/s]\n",
            "100% 41.4k/41.4k [00:00<00:00, 42.8MB/s]\n"
          ],
          "name": "stdout"
        }
      ]
    },
    {
      "cell_type": "code",
      "metadata": {
        "id": "S_UudZowMbtS",
        "colab_type": "code",
        "colab": {
          "base_uri": "https://localhost:8080/",
          "height": 51
        },
        "outputId": "e0fb69e1-a070-4a1e-8dad-54030f2db157"
      },
      "source": [
        "!unzip train.csv.zip"
      ],
      "execution_count": null,
      "outputs": [
        {
          "output_type": "stream",
          "text": [
            "Archive:  train.csv.zip\n",
            "  inflating: train.csv               \n"
          ],
          "name": "stdout"
        }
      ]
    },
    {
      "cell_type": "code",
      "metadata": {
        "id": "O4ykiW2UkZh2",
        "colab_type": "code",
        "colab": {
          "base_uri": "https://localhost:8080/",
          "height": 221
        },
        "outputId": "f4ad4da4-a3a1-4448-eb3d-0a38bfca9461"
      },
      "source": [
        "#Loading the train dataset\n",
        "\n",
        "train=pd.read_csv('/content/data/train.csv')\n",
        "print('Shape of the train data is ',train.shape)\n",
        "train.head()"
      ],
      "execution_count": null,
      "outputs": [
        {
          "output_type": "stream",
          "text": [
            "Shape of the train data is  (27481, 4)\n"
          ],
          "name": "stdout"
        },
        {
          "output_type": "execute_result",
          "data": {
            "text/html": [
              "<div>\n",
              "<style scoped>\n",
              "    .dataframe tbody tr th:only-of-type {\n",
              "        vertical-align: middle;\n",
              "    }\n",
              "\n",
              "    .dataframe tbody tr th {\n",
              "        vertical-align: top;\n",
              "    }\n",
              "\n",
              "    .dataframe thead th {\n",
              "        text-align: right;\n",
              "    }\n",
              "</style>\n",
              "<table border=\"1\" class=\"dataframe\">\n",
              "  <thead>\n",
              "    <tr style=\"text-align: right;\">\n",
              "      <th></th>\n",
              "      <th>textID</th>\n",
              "      <th>text</th>\n",
              "      <th>selected_text</th>\n",
              "      <th>sentiment</th>\n",
              "    </tr>\n",
              "  </thead>\n",
              "  <tbody>\n",
              "    <tr>\n",
              "      <th>0</th>\n",
              "      <td>cb774db0d1</td>\n",
              "      <td>I`d have responded, if I were going</td>\n",
              "      <td>I`d have responded, if I were going</td>\n",
              "      <td>neutral</td>\n",
              "    </tr>\n",
              "    <tr>\n",
              "      <th>1</th>\n",
              "      <td>549e992a42</td>\n",
              "      <td>Sooo SAD I will miss you here in San Diego!!!</td>\n",
              "      <td>Sooo SAD</td>\n",
              "      <td>negative</td>\n",
              "    </tr>\n",
              "    <tr>\n",
              "      <th>2</th>\n",
              "      <td>088c60f138</td>\n",
              "      <td>my boss is bullying me...</td>\n",
              "      <td>bullying me</td>\n",
              "      <td>negative</td>\n",
              "    </tr>\n",
              "    <tr>\n",
              "      <th>3</th>\n",
              "      <td>9642c003ef</td>\n",
              "      <td>what interview! leave me alone</td>\n",
              "      <td>leave me alone</td>\n",
              "      <td>negative</td>\n",
              "    </tr>\n",
              "    <tr>\n",
              "      <th>4</th>\n",
              "      <td>358bd9e861</td>\n",
              "      <td>Sons of ****, why couldn`t they put them on t...</td>\n",
              "      <td>Sons of ****,</td>\n",
              "      <td>negative</td>\n",
              "    </tr>\n",
              "  </tbody>\n",
              "</table>\n",
              "</div>"
            ],
            "text/plain": [
              "       textID  ... sentiment\n",
              "0  cb774db0d1  ...   neutral\n",
              "1  549e992a42  ...  negative\n",
              "2  088c60f138  ...  negative\n",
              "3  9642c003ef  ...  negative\n",
              "4  358bd9e861  ...  negative\n",
              "\n",
              "[5 rows x 4 columns]"
            ]
          },
          "metadata": {
            "tags": []
          },
          "execution_count": 11
        }
      ]
    },
    {
      "cell_type": "markdown",
      "metadata": {
        "id": "CoNTPRzwM4uS",
        "colab_type": "text"
      },
      "source": [
        "* Train dataset has 27481 datapoints and 4 features."
      ]
    },
    {
      "cell_type": "code",
      "metadata": {
        "id": "IUSNf2eBNAMa",
        "colab_type": "code",
        "colab": {
          "base_uri": "https://localhost:8080/",
          "height": 221
        },
        "outputId": "f86bf41b-a384-4604-eb90-363e3d380581"
      },
      "source": [
        "#Loading the test dataset\n",
        "\n",
        "test=pd.read_csv('/content/data/test.csv')\n",
        "print('Shape of the test data is ',test.shape)\n",
        "test.head()"
      ],
      "execution_count": null,
      "outputs": [
        {
          "output_type": "stream",
          "text": [
            "Shape of the test data is  (3534, 3)\n"
          ],
          "name": "stdout"
        },
        {
          "output_type": "execute_result",
          "data": {
            "text/html": [
              "<div>\n",
              "<style scoped>\n",
              "    .dataframe tbody tr th:only-of-type {\n",
              "        vertical-align: middle;\n",
              "    }\n",
              "\n",
              "    .dataframe tbody tr th {\n",
              "        vertical-align: top;\n",
              "    }\n",
              "\n",
              "    .dataframe thead th {\n",
              "        text-align: right;\n",
              "    }\n",
              "</style>\n",
              "<table border=\"1\" class=\"dataframe\">\n",
              "  <thead>\n",
              "    <tr style=\"text-align: right;\">\n",
              "      <th></th>\n",
              "      <th>textID</th>\n",
              "      <th>text</th>\n",
              "      <th>sentiment</th>\n",
              "    </tr>\n",
              "  </thead>\n",
              "  <tbody>\n",
              "    <tr>\n",
              "      <th>0</th>\n",
              "      <td>f87dea47db</td>\n",
              "      <td>Last session of the day  http://twitpic.com/67ezh</td>\n",
              "      <td>neutral</td>\n",
              "    </tr>\n",
              "    <tr>\n",
              "      <th>1</th>\n",
              "      <td>96d74cb729</td>\n",
              "      <td>Shanghai is also really exciting (precisely -...</td>\n",
              "      <td>positive</td>\n",
              "    </tr>\n",
              "    <tr>\n",
              "      <th>2</th>\n",
              "      <td>eee518ae67</td>\n",
              "      <td>Recession hit Veronique Branquinho, she has to...</td>\n",
              "      <td>negative</td>\n",
              "    </tr>\n",
              "    <tr>\n",
              "      <th>3</th>\n",
              "      <td>01082688c6</td>\n",
              "      <td>happy bday!</td>\n",
              "      <td>positive</td>\n",
              "    </tr>\n",
              "    <tr>\n",
              "      <th>4</th>\n",
              "      <td>33987a8ee5</td>\n",
              "      <td>http://twitpic.com/4w75p - I like it!!</td>\n",
              "      <td>positive</td>\n",
              "    </tr>\n",
              "  </tbody>\n",
              "</table>\n",
              "</div>"
            ],
            "text/plain": [
              "       textID                                               text sentiment\n",
              "0  f87dea47db  Last session of the day  http://twitpic.com/67ezh   neutral\n",
              "1  96d74cb729   Shanghai is also really exciting (precisely -...  positive\n",
              "2  eee518ae67  Recession hit Veronique Branquinho, she has to...  negative\n",
              "3  01082688c6                                        happy bday!  positive\n",
              "4  33987a8ee5             http://twitpic.com/4w75p - I like it!!  positive"
            ]
          },
          "metadata": {
            "tags": []
          },
          "execution_count": 12
        }
      ]
    },
    {
      "cell_type": "markdown",
      "metadata": {
        "id": "De_YGv05Usou",
        "colab_type": "text"
      },
      "source": [
        "* Test dataset has 3534 datapoints and 3 features."
      ]
    },
    {
      "cell_type": "code",
      "metadata": {
        "id": "u0rifjQWU1Dr",
        "colab_type": "code",
        "colab": {
          "base_uri": "https://localhost:8080/",
          "height": 204
        },
        "outputId": "2d39f705-860e-4396-90b0-b0423742683f"
      },
      "source": [
        "#Information regarding train data\n",
        "train.info()"
      ],
      "execution_count": null,
      "outputs": [
        {
          "output_type": "stream",
          "text": [
            "<class 'pandas.core.frame.DataFrame'>\n",
            "RangeIndex: 27481 entries, 0 to 27480\n",
            "Data columns (total 4 columns):\n",
            " #   Column         Non-Null Count  Dtype \n",
            "---  ------         --------------  ----- \n",
            " 0   textID         27481 non-null  object\n",
            " 1   text           27480 non-null  object\n",
            " 2   selected_text  27480 non-null  object\n",
            " 3   sentiment      27481 non-null  object\n",
            "dtypes: object(4)\n",
            "memory usage: 858.9+ KB\n"
          ],
          "name": "stdout"
        }
      ]
    },
    {
      "cell_type": "markdown",
      "metadata": {
        "id": "tgQGlcMOViHJ",
        "colab_type": "text"
      },
      "source": [
        "* text and selected_text columns have one null value and hence, dropping that data point."
      ]
    },
    {
      "cell_type": "code",
      "metadata": {
        "id": "iAz9XrDpWKod",
        "colab_type": "code",
        "colab": {
          "base_uri": "https://localhost:8080/",
          "height": 204
        },
        "outputId": "ec2aa0f4-d002-4f4f-8177-a2d11631877b"
      },
      "source": [
        "#Dropping the row with null value\n",
        "train.dropna(inplace=True)\n",
        "train.info()"
      ],
      "execution_count": null,
      "outputs": [
        {
          "output_type": "stream",
          "text": [
            "<class 'pandas.core.frame.DataFrame'>\n",
            "Int64Index: 27480 entries, 0 to 27480\n",
            "Data columns (total 4 columns):\n",
            " #   Column         Non-Null Count  Dtype \n",
            "---  ------         --------------  ----- \n",
            " 0   textID         27480 non-null  object\n",
            " 1   text           27480 non-null  object\n",
            " 2   selected_text  27480 non-null  object\n",
            " 3   sentiment      27480 non-null  object\n",
            "dtypes: object(4)\n",
            "memory usage: 1.0+ MB\n"
          ],
          "name": "stdout"
        }
      ]
    },
    {
      "cell_type": "code",
      "metadata": {
        "id": "JtxBtlKVWmAM",
        "colab_type": "code",
        "colab": {
          "base_uri": "https://localhost:8080/",
          "height": 187
        },
        "outputId": "b7aaee23-359f-473a-bd1d-43c131e1779c"
      },
      "source": [
        "#Information regarding test data\n",
        "test.info()"
      ],
      "execution_count": null,
      "outputs": [
        {
          "output_type": "stream",
          "text": [
            "<class 'pandas.core.frame.DataFrame'>\n",
            "RangeIndex: 3534 entries, 0 to 3533\n",
            "Data columns (total 3 columns):\n",
            " #   Column     Non-Null Count  Dtype \n",
            "---  ------     --------------  ----- \n",
            " 0   textID     3534 non-null   object\n",
            " 1   text       3534 non-null   object\n",
            " 2   sentiment  3534 non-null   object\n",
            "dtypes: object(3)\n",
            "memory usage: 83.0+ KB\n"
          ],
          "name": "stdout"
        }
      ]
    },
    {
      "cell_type": "markdown",
      "metadata": {
        "id": "OpeRhXMQWvSW",
        "colab_type": "text"
      },
      "source": [
        "* Test dataset has no rows with null values."
      ]
    },
    {
      "cell_type": "markdown",
      "metadata": {
        "id": "RvUCVJfeJcXy",
        "colab_type": "text"
      },
      "source": [
        "MODEL ARCHIETECTURE:\n",
        "* Three Named Entity Recognition(NER) models are built, one for each sentiment\n",
        "* Each of the NER model is trained  with selected_text as a entity to recognize from the tweet. Given a tweet, the model would lable part of the tweet as selected_text\n",
        "* Each model is trained until loss starts to increase or reduction in loss is low.\n"
      ]
    },
    {
      "cell_type": "code",
      "metadata": {
        "id": "B5S8ajPqkPQJ",
        "colab_type": "code",
        "colab": {}
      },
      "source": [
        "#Reference: https://www.machinelearningplus.com/nlp/training-custom-ner-model-in-spacy/\n",
        "\n",
        "def train_data(train_data,output_dir,new_name,model=None):\n",
        "  '''Creates a ner model '''\n",
        "  if (model==None):\n",
        "    #Create a new model for English language\n",
        "    nlp=spacy.blank('en')\n",
        "    print('Created new model')\n",
        "  else:\n",
        "    #Load existing model\n",
        "    nlp=spacy.load(output_dir)\n",
        "    print('Loaded old model ')\n",
        "\n",
        "  #Create ner pipe if doesn't exist else load ner pipe\n",
        "  if (\"ner\" not in nlp.pipe_names):\n",
        "     ner = nlp.create_pipe(\"ner\")\n",
        "     nlp.add_pipe(ner, last=True)\n",
        "  else:\n",
        "    ner=nlp.get_pipe('ner')\n",
        "\n",
        "  for text, annotations in train_data:\n",
        "    for ent in annotations.get(\"entities\"):\n",
        "      ner.add_label(ent[2])\n",
        "  \n",
        "  #Find the pipes other than ner and disable them for training\n",
        "  other_pipes = [p for p in nlp.pipe_names if p != \"ner\"]\n",
        "  with nlp.disable_pipes(*other_pipes):\n",
        "    if model==None:\n",
        "      nlp.begin_training()\n",
        "    else:\n",
        "      nlp.resume_training()\n",
        "\n",
        "    #Training the model with 10 iterations\n",
        "    for itn in tqdm(range(5)):\n",
        "      random.shuffle(train_data)\n",
        "      batches = minibatch(train_data, size=compounding(4.0, 500.0, 1.001))  \n",
        "      losses = {}\n",
        "      for batch in batches:\n",
        "        texts, annotations = zip(*batch)\n",
        "        nlp.update(texts,annotations,drop=0.5,losses=losses) \n",
        "      print('loss:',losses)\n",
        "\n",
        "  #Save the model\n",
        "  nlp.meta[\"name\"] = new_name\n",
        "  nlp.to_disk(output_dir) \n",
        "\n",
        "\n"
      ],
      "execution_count": null,
      "outputs": []
    },
    {
      "cell_type": "code",
      "metadata": {
        "id": "_4N92YlkmsKz",
        "colab_type": "code",
        "colab": {
          "base_uri": "https://localhost:8080/",
          "height": 51
        },
        "outputId": "85e58011-f670-4f03-e89b-7148a65eeff5"
      },
      "source": [
        "#Splitting the data into train and test \n",
        "from sklearn.model_selection import train_test_split\n",
        "\n",
        "X_train,X_test,Y_train,Y_val=train_test_split(train,train['sentiment'],\n",
        "                                              test_size=0.2,random_state=42,stratify=train['sentiment'])\n",
        "\n",
        "X_train.reset_index(inplace=True,drop=True)\n",
        "X_test.reset_index(inplace=True,drop=True)\n",
        "\n",
        "\n",
        "\n",
        "print('X_train shape',X_train.shape) \n",
        "print('X_test shape',X_test.shape)"
      ],
      "execution_count": null,
      "outputs": [
        {
          "output_type": "stream",
          "text": [
            "X_train shape (21984, 4)\n",
            "X_test shape (5496, 4)\n"
          ],
          "name": "stdout"
        }
      ]
    },
    {
      "cell_type": "code",
      "metadata": {
        "id": "B9Sa2ETIu1wQ",
        "colab_type": "code",
        "colab": {}
      },
      "source": [
        "def createTrainingData(sentiment,data):\n",
        "  '''Create data as per spacy for each sentiment '''\n",
        "  final_data=[]\n",
        "  for i, row in data.iterrows():\n",
        "    if row.sentiment==sentiment:\n",
        "      selected_text=row.selected_text\n",
        "      text=row.text\n",
        "      start=text.find(selected_text)\n",
        "      end=start+len(selected_text)\n",
        "      final_data.append((text,{'entities':[(start,end,'selected_text')]}))\n",
        "  return final_data\n"
      ],
      "execution_count": null,
      "outputs": []
    },
    {
      "cell_type": "code",
      "metadata": {
        "id": "k082e7E69lng",
        "colab_type": "code",
        "colab": {
          "base_uri": "https://localhost:8080/",
          "height": 34
        },
        "outputId": "05c839f8-9bcb-4f2a-cc06-51a44f0a95b2"
      },
      "source": [
        "#Creating directories to store model data\n",
        "\n",
        "%cd '/content/'\n",
        "os.mkdir('/content/positive')\n",
        "os.mkdir('/content/negative')\n",
        "os.mkdir('/content/neutral')"
      ],
      "execution_count": null,
      "outputs": [
        {
          "output_type": "stream",
          "text": [
            "/content\n"
          ],
          "name": "stdout"
        }
      ]
    },
    {
      "cell_type": "code",
      "metadata": {
        "id": "RmJqAWKG0Goo",
        "colab_type": "code",
        "colab": {
          "base_uri": "https://localhost:8080/",
          "height": 221
        },
        "outputId": "72b6346d-13d4-4dc4-efca-1e2dfca6a17f"
      },
      "source": [
        "#Training for positive sentiment\n",
        "\n",
        "positive_data=createTrainingData('positive',X_train)\n",
        "train_data(positive_data,'/content/positive','pos')"
      ],
      "execution_count": null,
      "outputs": [
        {
          "output_type": "stream",
          "text": [
            "\r  0%|          | 0/10 [00:00<?, ?it/s]"
          ],
          "name": "stderr"
        },
        {
          "output_type": "stream",
          "text": [
            "Created new model\n"
          ],
          "name": "stdout"
        },
        {
          "output_type": "stream",
          "text": [
            "\r 10%|█         | 1/10 [00:35<05:23, 35.90s/it]"
          ],
          "name": "stderr"
        },
        {
          "output_type": "stream",
          "text": [
            "loss: {'ner': 27689.42110305946}\n"
          ],
          "name": "stdout"
        },
        {
          "output_type": "stream",
          "text": [
            "\r 20%|██        | 2/10 [01:11<04:46, 35.76s/it]"
          ],
          "name": "stderr"
        },
        {
          "output_type": "stream",
          "text": [
            "loss: {'ner': 25454.201032690027}\n"
          ],
          "name": "stdout"
        },
        {
          "output_type": "stream",
          "text": [
            "\r 30%|███       | 3/10 [01:46<04:09, 35.58s/it]"
          ],
          "name": "stderr"
        },
        {
          "output_type": "stream",
          "text": [
            "loss: {'ner': 23828.83874272783}\n"
          ],
          "name": "stdout"
        },
        {
          "output_type": "stream",
          "text": [
            "\r 40%|████      | 4/10 [02:21<03:33, 35.53s/it]"
          ],
          "name": "stderr"
        },
        {
          "output_type": "stream",
          "text": [
            "loss: {'ner': 22964.594430033558}\n"
          ],
          "name": "stdout"
        },
        {
          "output_type": "stream",
          "text": [
            "\r 50%|█████     | 5/10 [02:58<02:59, 35.84s/it]"
          ],
          "name": "stderr"
        },
        {
          "output_type": "stream",
          "text": [
            "loss: {'ner': 22306.53968724727}\n"
          ],
          "name": "stdout"
        },
        {
          "output_type": "stream",
          "text": [
            "\r 60%|██████    | 6/10 [03:34<02:24, 36.02s/it]"
          ],
          "name": "stderr"
        },
        {
          "output_type": "stream",
          "text": [
            "loss: {'ner': 21777.336945568026}\n"
          ],
          "name": "stdout"
        },
        {
          "output_type": "stream",
          "text": [
            "\r 70%|███████   | 7/10 [04:10<01:47, 35.77s/it]"
          ],
          "name": "stderr"
        },
        {
          "output_type": "stream",
          "text": [
            "loss: {'ner': 21119.455629631935}\n"
          ],
          "name": "stdout"
        },
        {
          "output_type": "stream",
          "text": [
            "\r 80%|████████  | 8/10 [04:45<01:11, 35.58s/it]"
          ],
          "name": "stderr"
        },
        {
          "output_type": "stream",
          "text": [
            "loss: {'ner': 20880.659306122303}\n"
          ],
          "name": "stdout"
        },
        {
          "output_type": "stream",
          "text": [
            "\r 90%|█████████ | 9/10 [05:24<00:36, 36.79s/it]"
          ],
          "name": "stderr"
        },
        {
          "output_type": "stream",
          "text": [
            "loss: {'ner': 20433.544970024694}\n"
          ],
          "name": "stdout"
        },
        {
          "output_type": "stream",
          "text": [
            "100%|██████████| 10/10 [06:06<00:00, 36.62s/it]"
          ],
          "name": "stderr"
        },
        {
          "output_type": "stream",
          "text": [
            "loss: {'ner': 20592.343001055684}\n"
          ],
          "name": "stdout"
        },
        {
          "output_type": "stream",
          "text": [
            "\n"
          ],
          "name": "stderr"
        }
      ]
    },
    {
      "cell_type": "code",
      "metadata": {
        "id": "49hCaNR46a5i",
        "colab_type": "code",
        "colab": {
          "base_uri": "https://localhost:8080/",
          "height": 408
        },
        "outputId": "8bcba8d5-7b18-4a4d-d857-bd2632778fbe"
      },
      "source": [
        "#Training for negative sentiment\n",
        "\n",
        "negative_data=createTrainingData('negative',X_train)\n",
        "train_data(negative_data,'/content/negative','neg')"
      ],
      "execution_count": null,
      "outputs": [
        {
          "output_type": "stream",
          "text": [
            "\n",
            "  0%|          | 0/10 [00:00<?, ?it/s]\u001b[A"
          ],
          "name": "stderr"
        },
        {
          "output_type": "stream",
          "text": [
            "Created new model\n"
          ],
          "name": "stdout"
        },
        {
          "output_type": "stream",
          "text": [
            "\n",
            " 10%|█         | 1/10 [00:35<05:19, 35.48s/it]\u001b[A"
          ],
          "name": "stderr"
        },
        {
          "output_type": "stream",
          "text": [
            "loss: {'ner': 25827.15608202864}\n"
          ],
          "name": "stdout"
        },
        {
          "output_type": "stream",
          "text": [
            "\n",
            " 20%|██        | 2/10 [01:09<04:40, 35.02s/it]\u001b[A"
          ],
          "name": "stderr"
        },
        {
          "output_type": "stream",
          "text": [
            "loss: {'ner': 23496.310243669737}\n"
          ],
          "name": "stdout"
        },
        {
          "output_type": "stream",
          "text": [
            "\n",
            " 30%|███       | 3/10 [01:43<04:03, 34.76s/it]\u001b[A"
          ],
          "name": "stderr"
        },
        {
          "output_type": "stream",
          "text": [
            "loss: {'ner': 22341.483347295303}\n"
          ],
          "name": "stdout"
        },
        {
          "output_type": "stream",
          "text": [
            "\n",
            " 40%|████      | 4/10 [02:17<03:26, 34.49s/it]\u001b[A"
          ],
          "name": "stderr"
        },
        {
          "output_type": "stream",
          "text": [
            "loss: {'ner': 20987.657571903812}\n"
          ],
          "name": "stdout"
        },
        {
          "output_type": "stream",
          "text": [
            "\n",
            " 50%|█████     | 5/10 [02:52<02:53, 34.67s/it]\u001b[A"
          ],
          "name": "stderr"
        },
        {
          "output_type": "stream",
          "text": [
            "loss: {'ner': 20574.77125196917}\n"
          ],
          "name": "stdout"
        },
        {
          "output_type": "stream",
          "text": [
            "\n",
            " 60%|██████    | 6/10 [03:28<02:20, 35.09s/it]\u001b[A"
          ],
          "name": "stderr"
        },
        {
          "output_type": "stream",
          "text": [
            "loss: {'ner': 19554.667962447274}\n"
          ],
          "name": "stdout"
        },
        {
          "output_type": "stream",
          "text": [
            "\n",
            " 70%|███████   | 7/10 [04:02<01:44, 34.78s/it]\u001b[A"
          ],
          "name": "stderr"
        },
        {
          "output_type": "stream",
          "text": [
            "loss: {'ner': 19137.85273454134}\n"
          ],
          "name": "stdout"
        },
        {
          "output_type": "stream",
          "text": [
            "\n",
            " 80%|████████  | 8/10 [04:36<01:09, 34.54s/it]\u001b[A"
          ],
          "name": "stderr"
        },
        {
          "output_type": "stream",
          "text": [
            "loss: {'ner': 18579.801552748977}\n"
          ],
          "name": "stdout"
        },
        {
          "output_type": "stream",
          "text": [
            "\n",
            " 90%|█████████ | 9/10 [05:11<00:34, 34.49s/it]\u001b[A"
          ],
          "name": "stderr"
        },
        {
          "output_type": "stream",
          "text": [
            "loss: {'ner': 18044.588299441464}\n"
          ],
          "name": "stdout"
        },
        {
          "output_type": "stream",
          "text": [
            "\n",
            "100%|██████████| 10/10 [05:50<00:00, 35.03s/it]"
          ],
          "name": "stderr"
        },
        {
          "output_type": "stream",
          "text": [
            "loss: {'ner': 17834.81188769448}\n"
          ],
          "name": "stdout"
        },
        {
          "output_type": "stream",
          "text": [
            "\n"
          ],
          "name": "stderr"
        }
      ]
    },
    {
      "cell_type": "code",
      "metadata": {
        "id": "-xry5uN8rGS7",
        "colab_type": "code",
        "colab": {
          "base_uri": "https://localhost:8080/",
          "height": 238
        },
        "outputId": "4dd09e36-d864-4c7f-a2a2-e589fcd00dd0"
      },
      "source": [
        "train_data(negative_data,'/content/negative','neg','/content/negative')"
      ],
      "execution_count": null,
      "outputs": [
        {
          "output_type": "stream",
          "text": [
            "Loaded old model \n"
          ],
          "name": "stdout"
        },
        {
          "output_type": "stream",
          "text": [
            "\n",
            "  0%|          | 0/5 [00:00<?, ?it/s]\u001b[A\n",
            " 20%|██        | 1/5 [00:41<02:46, 41.58s/it]\u001b[A"
          ],
          "name": "stderr"
        },
        {
          "output_type": "stream",
          "text": [
            "loss: {'ner': 17490.297766154035}\n"
          ],
          "name": "stdout"
        },
        {
          "output_type": "stream",
          "text": [
            "\n",
            " 40%|████      | 2/5 [01:22<02:04, 41.52s/it]\u001b[A"
          ],
          "name": "stderr"
        },
        {
          "output_type": "stream",
          "text": [
            "loss: {'ner': 16887.991383886387}\n"
          ],
          "name": "stdout"
        },
        {
          "output_type": "stream",
          "text": [
            "\n",
            " 60%|██████    | 3/5 [02:04<01:23, 41.51s/it]\u001b[A"
          ],
          "name": "stderr"
        },
        {
          "output_type": "stream",
          "text": [
            "loss: {'ner': 16685.665047250834}\n"
          ],
          "name": "stdout"
        },
        {
          "output_type": "stream",
          "text": [
            "\n",
            " 80%|████████  | 4/5 [02:45<00:41, 41.43s/it]\u001b[A"
          ],
          "name": "stderr"
        },
        {
          "output_type": "stream",
          "text": [
            "loss: {'ner': 16313.12813841504}\n"
          ],
          "name": "stdout"
        },
        {
          "output_type": "stream",
          "text": [
            "\n",
            "100%|██████████| 5/5 [03:27<00:00, 41.41s/it]"
          ],
          "name": "stderr"
        },
        {
          "output_type": "stream",
          "text": [
            "loss: {'ner': 16105.474078456138}\n"
          ],
          "name": "stdout"
        },
        {
          "output_type": "stream",
          "text": [
            "\n"
          ],
          "name": "stderr"
        }
      ]
    },
    {
      "cell_type": "code",
      "metadata": {
        "id": "LwbFe2mW6hb4",
        "colab_type": "code",
        "colab": {
          "base_uri": "https://localhost:8080/",
          "height": 340
        },
        "outputId": "8ebb428e-bba4-46de-e6b2-8b41158f486f"
      },
      "source": [
        "#Training for neutral sentiment\n",
        "\n",
        "neutral_data=createTrainingData('neutral',X_train)\n",
        "train_data(neutral_data,'/content/neutral','neu')"
      ],
      "execution_count": null,
      "outputs": [
        {
          "output_type": "stream",
          "text": [
            "\n",
            "\n",
            "  0%|          | 0/5 [00:00<?, ?it/s]\u001b[A\u001b[A"
          ],
          "name": "stderr"
        },
        {
          "output_type": "stream",
          "text": [
            "Created new model\n"
          ],
          "name": "stdout"
        },
        {
          "output_type": "stream",
          "text": [
            "\n",
            "\n",
            " 20%|██        | 1/5 [00:42<02:49, 42.43s/it]\u001b[A\u001b[A"
          ],
          "name": "stderr"
        },
        {
          "output_type": "stream",
          "text": [
            "loss: {'ner': 6126.086347264734}\n"
          ],
          "name": "stdout"
        },
        {
          "output_type": "stream",
          "text": [
            "\n",
            "\n",
            " 40%|████      | 2/5 [01:26<02:08, 42.98s/it]\u001b[A\u001b[A"
          ],
          "name": "stderr"
        },
        {
          "output_type": "stream",
          "text": [
            "loss: {'ner': 4390.583928749054}\n"
          ],
          "name": "stdout"
        },
        {
          "output_type": "stream",
          "text": [
            "\n",
            "\n",
            " 60%|██████    | 3/5 [02:15<01:29, 44.75s/it]\u001b[A\u001b[A"
          ],
          "name": "stderr"
        },
        {
          "output_type": "stream",
          "text": [
            "loss: {'ner': 4147.1346603988895}\n"
          ],
          "name": "stdout"
        },
        {
          "output_type": "stream",
          "text": [
            "\n",
            "\n",
            " 80%|████████  | 4/5 [03:04<00:45, 45.93s/it]\u001b[A\u001b[A"
          ],
          "name": "stderr"
        },
        {
          "output_type": "stream",
          "text": [
            "loss: {'ner': 4042.8038954479666}\n"
          ],
          "name": "stdout"
        },
        {
          "output_type": "stream",
          "text": [
            "\n",
            "\n",
            "100%|██████████| 5/5 [03:52<00:00, 46.54s/it]"
          ],
          "name": "stderr"
        },
        {
          "output_type": "stream",
          "text": [
            "loss: {'ner': 4115.085065671129}\n"
          ],
          "name": "stdout"
        },
        {
          "output_type": "stream",
          "text": [
            "\n"
          ],
          "name": "stderr"
        }
      ]
    },
    {
      "cell_type": "code",
      "metadata": {
        "id": "ApfX9S1cB14R",
        "colab_type": "code",
        "colab": {}
      },
      "source": [
        "def predict_selected_text(text,model):\n",
        "  '''Determine the selected text for the given text '''\n",
        "  #Giving the text to the model\n",
        "  doc=model(text)\n",
        "  ent_list=[]\n",
        "  for e in doc.ents:\n",
        "    #Finding the start and end index of selected text\n",
        "    start=text.find(e.text)\n",
        "    end=start+len(e.text)\n",
        "\n",
        "    #Append the start and end index and label to an array\n",
        "    arr=[start,end,e.label_]\n",
        "    if arr not in ent_list:\n",
        "      ent_list.append(arr)\n",
        "  #If the model does not predict any label, selected_text is the whole text\n",
        "  if len(ent_list)==0:\n",
        "    selected_text=text\n",
        "  else:\n",
        "    selected_text=text[ent_list[0][0]:ent_list[0][1]]\n",
        "\n",
        "  return selected_text\n"
      ],
      "execution_count": null,
      "outputs": []
    },
    {
      "cell_type": "code",
      "metadata": {
        "id": "UNNL4JqyEN5B",
        "colab_type": "code",
        "colab": {}
      },
      "source": [
        "def jaccard(str1, str2): \n",
        "  '''Returns the jaccard score for the given two strings '''\n",
        "  a = set(str1.lower().split()) \n",
        "  b = set(str2.lower().split())\n",
        "  c = a.intersection(b)\n",
        "  return float(len(c)) / (len(a) + len(b) - len(c))"
      ],
      "execution_count": null,
      "outputs": []
    },
    {
      "cell_type": "code",
      "metadata": {
        "id": "wxy661UaEbaf",
        "colab_type": "code",
        "colab": {}
      },
      "source": [
        "#Creating a dataframe withh all the attributes along with jaccard score\n",
        "def jaccardScorePrediction(data):\n",
        "  ''' Predicts the selected_text and computes jaccard score'''\n",
        "  \n",
        "  #Creating a dataframe with the below columns\n",
        "  new_df=pd.DataFrame(columns=['textID','text','selected_text','predicted_text','sentiment','jaccard'])\n",
        "    \n",
        "  for i,(_,row) in enumerate(data.iterrows()):\n",
        "    new_df.loc[i,'textID']=row.textID\n",
        "    new_df.loc[i,'text']=row.text\n",
        "    new_df.loc[i,'selected_text']=row.selected_text\n",
        "    new_df.loc[i,'sentiment']=row.sentiment\n",
        "    \n",
        "    #For each sentiment, load the model, predict the selected_text and find jaccard score\n",
        "    if (row.sentiment=='positive'):\n",
        "      selected_text=predict_selected_text(row.text,spacy.load('/content/positive'))\n",
        "      new_df.loc[i,'predicted_text']=selected_text\n",
        "      new_df.loc[i,'jaccard']=jaccard(selected_text,row.selected_text)\n",
        "    elif (row.sentiment=='negative'):\n",
        "      selected_text=predict_selected_text(row.text,spacy.load('/content/negative'))      \n",
        "      new_df.loc[i,'predicted_text']=selected_text\n",
        "      new_df.loc[i,'jaccard']=jaccard(selected_text,row.selected_text)\n",
        "    else:\n",
        "      selected_text=predict_selected_text(row.text,spacy.load('/content/neutral'))\n",
        "      new_df.loc[i,'predicted_text']=selected_text\n",
        "      new_df.loc[i,'jaccard']=jaccard(selected_text,row.selected_text)\n",
        "\n",
        "  return new_df\n",
        "\n",
        "\n"
      ],
      "execution_count": null,
      "outputs": []
    },
    {
      "cell_type": "code",
      "metadata": {
        "id": "aFO85nLNQK1J",
        "colab_type": "code",
        "colab": {
          "base_uri": "https://localhost:8080/",
          "height": 289
        },
        "outputId": "2e7c2239-14df-4f41-8697-8ebccd541ec7"
      },
      "source": [
        "#Prediction on test data\n",
        "\n",
        "test_df=jaccardScorePrediction(X_test)\n",
        "test_df.head()"
      ],
      "execution_count": null,
      "outputs": [
        {
          "output_type": "execute_result",
          "data": {
            "text/html": [
              "<div>\n",
              "<style scoped>\n",
              "    .dataframe tbody tr th:only-of-type {\n",
              "        vertical-align: middle;\n",
              "    }\n",
              "\n",
              "    .dataframe tbody tr th {\n",
              "        vertical-align: top;\n",
              "    }\n",
              "\n",
              "    .dataframe thead th {\n",
              "        text-align: right;\n",
              "    }\n",
              "</style>\n",
              "<table border=\"1\" class=\"dataframe\">\n",
              "  <thead>\n",
              "    <tr style=\"text-align: right;\">\n",
              "      <th></th>\n",
              "      <th>textID</th>\n",
              "      <th>text</th>\n",
              "      <th>selected_text</th>\n",
              "      <th>predicted_text</th>\n",
              "      <th>sentiment</th>\n",
              "      <th>jaccard</th>\n",
              "    </tr>\n",
              "  </thead>\n",
              "  <tbody>\n",
              "    <tr>\n",
              "      <th>0</th>\n",
              "      <td>45be0423e4</td>\n",
              "      <td>I thought that there was going to be another D...</td>\n",
              "      <td>crappy karaoke game. I miss the fighting</td>\n",
              "      <td>crappy</td>\n",
              "      <td>negative</td>\n",
              "      <td>0.142857</td>\n",
              "    </tr>\n",
              "    <tr>\n",
              "      <th>1</th>\n",
              "      <td>521d5dd501</td>\n",
              "      <td>I bet you received lots of hit from that twee...</td>\n",
              "      <td>I bet you received lots of hit from that tweet...</td>\n",
              "      <td>I bet you received lots of hit from that twee...</td>\n",
              "      <td>negative</td>\n",
              "      <td>1</td>\n",
              "    </tr>\n",
              "    <tr>\n",
              "      <th>2</th>\n",
              "      <td>605225ad21</td>\n",
              "      <td>Freakin` frustrated why can`t my coach realize...</td>\n",
              "      <td>frustrated</td>\n",
              "      <td>frustrated</td>\n",
              "      <td>negative</td>\n",
              "      <td>1</td>\n",
              "    </tr>\n",
              "    <tr>\n",
              "      <th>3</th>\n",
              "      <td>0abe62c2ee</td>\n",
              "      <td>is feeling so bored... i miss school time</td>\n",
              "      <td>is feeling so bored..</td>\n",
              "      <td>is feeling so bored... i miss school time</td>\n",
              "      <td>negative</td>\n",
              "      <td>0.333333</td>\n",
              "    </tr>\n",
              "    <tr>\n",
              "      <th>4</th>\n",
              "      <td>eca513ce47</td>\n",
              "      <td>wow this morning 8.15 hrs ding dong breakfasts...</td>\n",
              "      <td>Mother hapy,</td>\n",
              "      <td>wow</td>\n",
              "      <td>positive</td>\n",
              "      <td>0</td>\n",
              "    </tr>\n",
              "  </tbody>\n",
              "</table>\n",
              "</div>"
            ],
            "text/plain": [
              "       textID  ...   jaccard\n",
              "0  45be0423e4  ...  0.142857\n",
              "1  521d5dd501  ...         1\n",
              "2  605225ad21  ...         1\n",
              "3  0abe62c2ee  ...  0.333333\n",
              "4  eca513ce47  ...         0\n",
              "\n",
              "[5 rows x 6 columns]"
            ]
          },
          "metadata": {
            "tags": []
          },
          "execution_count": 50
        }
      ]
    },
    {
      "cell_type": "code",
      "metadata": {
        "id": "K_mgLyMuy-f5",
        "colab_type": "code",
        "colab": {
          "base_uri": "https://localhost:8080/",
          "height": 34
        },
        "outputId": "6bbab8d6-228b-4a6f-b5a1-fe63961d6a9f"
      },
      "source": [
        "#Overall Jaccard score for hold out test data\n",
        "\n",
        "average=np.mean(test_df['jaccard'])\n",
        "print('The average jaccard score is ',average)"
      ],
      "execution_count": null,
      "outputs": [
        {
          "output_type": "stream",
          "text": [
            "The average jaccard score is  0.6467800626675628\n"
          ],
          "name": "stdout"
        }
      ]
    },
    {
      "cell_type": "code",
      "metadata": {
        "id": "1souAzvRzWxS",
        "colab_type": "code",
        "colab": {
          "base_uri": "https://localhost:8080/",
          "height": 68
        },
        "outputId": "a2cfc37a-fe2f-41ab-d071-49227b73a21c"
      },
      "source": [
        "#Average Jaccard score for each sentiment\n",
        "\n",
        "pos_average=np.mean(test_df['jaccard'][test_df['sentiment']=='positive'])\n",
        "print('The average jaccard score for postive sentiment is  ',pos_average)\n",
        "\n",
        "neg_average=np.mean(test_df['jaccard'][test_df['sentiment']=='negative'])\n",
        "print('The average jaccard score for negative sentiment is  ',neg_average)\n",
        "\n",
        "neu_average=np.mean(test_df['jaccard'][test_df['sentiment']=='neutral'])\n",
        "print('The average jaccard score for neutral sentiment is  ',neu_average)"
      ],
      "execution_count": null,
      "outputs": [
        {
          "output_type": "stream",
          "text": [
            "The average jaccard score for postive sentiment is   0.4363084132448223\n",
            "The average jaccard score for negative sentiment is   0.4129347301888076\n",
            "The average jaccard score for neutral sentiment is   0.972783969028342\n"
          ],
          "name": "stdout"
        }
      ]
    },
    {
      "cell_type": "markdown",
      "metadata": {
        "id": "KL-D0sLz5qJ0",
        "colab_type": "text"
      },
      "source": [
        "* The jaccard score is 0.97 for neutral tweets and around 0.4 for postive and negative tweets."
      ]
    },
    {
      "cell_type": "code",
      "metadata": {
        "id": "m5w63NHe7ue7",
        "colab_type": "code",
        "colab": {
          "base_uri": "https://localhost:8080/",
          "height": 68
        },
        "outputId": "ad20c6b8-428e-45ee-85e0-3f0f6f1e5904"
      },
      "source": [
        "#Calculating the total number of tweets for each sentiment\n",
        "total_positive=test_df['sentiment'].value_counts()['positive']\n",
        "total_negative=test_df['sentiment'].value_counts()['negative']\n",
        "total_neutral=test_df['sentiment'].value_counts()['neutral']\n",
        "\n",
        "#Counting the tweets for each sentiment with jaccard score=1\n",
        "correct_positive=test_df[(test_df['jaccard']==1) & (test_df['sentiment']=='positive')].shape[0]\n",
        "correct_negative=test_df[(test_df['jaccard']==1) & (test_df['sentiment']=='negative')].shape[0]\n",
        "correct_neutral=test_df[(test_df['jaccard']==1) & (test_df['sentiment']=='neutral')].shape[0]\n",
        "\n",
        "print('The percent of postive tweets correctly predicted is ',correct_positive*100/total_positive)\n",
        "print('The percent of negative tweets correctly predicted is ',correct_negative*100/total_negative)\n",
        "print('The percent of neutral tweets correctly predicted is ',correct_neutral*100/total_neutral)"
      ],
      "execution_count": null,
      "outputs": [
        {
          "output_type": "stream",
          "text": [
            "The percent of postive tweets correctly predicted is  27.505827505827504\n",
            "The percent of negative tweets correctly predicted is  24.67866323907455\n",
            "The percent of neutral tweets correctly predicted is  89.56834532374101\n"
          ],
          "name": "stdout"
        }
      ]
    },
    {
      "cell_type": "markdown",
      "metadata": {
        "id": "YsD5O_hN9lQQ",
        "colab_type": "text"
      },
      "source": [
        "* 27% of  positive tweets and 24% of negative tweets have jaccard score of 1\n",
        "* 89% of neutral tweets have jaccard score of 1"
      ]
    },
    {
      "cell_type": "markdown",
      "metadata": {
        "id": "o1ZkBihbK-Hr",
        "colab_type": "text"
      },
      "source": [
        "### PREDICTION ANALYSIS"
      ]
    },
    {
      "cell_type": "markdown",
      "metadata": {
        "id": "gHZlrFbxg1at",
        "colab_type": "text"
      },
      "source": [
        "The Error Analysis is performed considering how well the model identifies the selected text when length of the the tweet is different.\n",
        "* Category1: When length of tweet and selected text is same(Difference in length is less than 0)\n",
        "* Category2: When length of tweet and selected text is similar(Difference in length is less than 10)\n",
        "* Category3: When length of tweet and selected text is not high(Difference in length is less than 20)\n",
        "* Category4: When length of tweet and selected text is  high(Difference in length is greater than 20)"
      ]
    },
    {
      "cell_type": "code",
      "metadata": {
        "id": "Eq9HbWO4KmAu",
        "colab_type": "code",
        "colab": {
          "base_uri": "https://localhost:8080/",
          "height": 442
        },
        "outputId": "73e5089e-71cf-4a25-ddfe-fba6886f9f64"
      },
      "source": [
        "#Adding len of the selected text column\n",
        "\n",
        "test_df['len_selected_text']=test_df['selected_text'].apply(lambda x: len(x.split()))\n",
        "test_df['len_text']=test_df['text'].apply(lambda x: len(x.split()))\n",
        "test_df['diff_len']=abs(test_df['len_selected_text']-test_df['len_text'])\n",
        "test_df.head()"
      ],
      "execution_count": null,
      "outputs": [
        {
          "output_type": "execute_result",
          "data": {
            "text/html": [
              "<div>\n",
              "<style scoped>\n",
              "    .dataframe tbody tr th:only-of-type {\n",
              "        vertical-align: middle;\n",
              "    }\n",
              "\n",
              "    .dataframe tbody tr th {\n",
              "        vertical-align: top;\n",
              "    }\n",
              "\n",
              "    .dataframe thead th {\n",
              "        text-align: right;\n",
              "    }\n",
              "</style>\n",
              "<table border=\"1\" class=\"dataframe\">\n",
              "  <thead>\n",
              "    <tr style=\"text-align: right;\">\n",
              "      <th></th>\n",
              "      <th>textID</th>\n",
              "      <th>text</th>\n",
              "      <th>selected_text</th>\n",
              "      <th>predicted_text</th>\n",
              "      <th>sentiment</th>\n",
              "      <th>jaccard</th>\n",
              "      <th>len_selected_text</th>\n",
              "      <th>len_text</th>\n",
              "      <th>diff_len</th>\n",
              "    </tr>\n",
              "  </thead>\n",
              "  <tbody>\n",
              "    <tr>\n",
              "      <th>0</th>\n",
              "      <td>45be0423e4</td>\n",
              "      <td>I thought that there was going to be another D...</td>\n",
              "      <td>crappy karaoke game. I miss the fighting</td>\n",
              "      <td>crappy</td>\n",
              "      <td>negative</td>\n",
              "      <td>0.142857</td>\n",
              "      <td>7</td>\n",
              "      <td>27</td>\n",
              "      <td>20</td>\n",
              "    </tr>\n",
              "    <tr>\n",
              "      <th>1</th>\n",
              "      <td>521d5dd501</td>\n",
              "      <td>I bet you received lots of hit from that twee...</td>\n",
              "      <td>I bet you received lots of hit from that tweet...</td>\n",
              "      <td>I bet you received lots of hit from that twee...</td>\n",
              "      <td>negative</td>\n",
              "      <td>1.000000</td>\n",
              "      <td>17</td>\n",
              "      <td>17</td>\n",
              "      <td>0</td>\n",
              "    </tr>\n",
              "    <tr>\n",
              "      <th>2</th>\n",
              "      <td>605225ad21</td>\n",
              "      <td>Freakin` frustrated why can`t my coach realize...</td>\n",
              "      <td>frustrated</td>\n",
              "      <td>frustrated</td>\n",
              "      <td>negative</td>\n",
              "      <td>1.000000</td>\n",
              "      <td>1</td>\n",
              "      <td>24</td>\n",
              "      <td>23</td>\n",
              "    </tr>\n",
              "    <tr>\n",
              "      <th>3</th>\n",
              "      <td>0abe62c2ee</td>\n",
              "      <td>is feeling so bored... i miss school time</td>\n",
              "      <td>is feeling so bored..</td>\n",
              "      <td>is feeling so bored... i miss school time</td>\n",
              "      <td>negative</td>\n",
              "      <td>0.333333</td>\n",
              "      <td>4</td>\n",
              "      <td>8</td>\n",
              "      <td>4</td>\n",
              "    </tr>\n",
              "    <tr>\n",
              "      <th>4</th>\n",
              "      <td>eca513ce47</td>\n",
              "      <td>wow this morning 8.15 hrs ding dong breakfasts...</td>\n",
              "      <td>Mother hapy,</td>\n",
              "      <td>wow</td>\n",
              "      <td>positive</td>\n",
              "      <td>0.000000</td>\n",
              "      <td>2</td>\n",
              "      <td>21</td>\n",
              "      <td>19</td>\n",
              "    </tr>\n",
              "  </tbody>\n",
              "</table>\n",
              "</div>"
            ],
            "text/plain": [
              "       textID  ... diff_len\n",
              "0  45be0423e4  ...       20\n",
              "1  521d5dd501  ...        0\n",
              "2  605225ad21  ...       23\n",
              "3  0abe62c2ee  ...        4\n",
              "4  eca513ce47  ...       19\n",
              "\n",
              "[5 rows x 9 columns]"
            ]
          },
          "metadata": {
            "tags": []
          },
          "execution_count": 2
        }
      ]
    },
    {
      "cell_type": "markdown",
      "metadata": {
        "id": "IBN4CTVNLMU0",
        "colab_type": "text"
      },
      "source": [
        "#### POSITIVE SENTIMENT"
      ]
    },
    {
      "cell_type": "code",
      "metadata": {
        "id": "pkwmtpHCLL1v",
        "colab_type": "code",
        "colab": {}
      },
      "source": [
        "#Filtering positive sentiment tweets\n",
        "positive_df=test_df[test_df['sentiment']=='positive']\n",
        "\n",
        "#Filtering positive sentiment tweets with jaccard score=1 and 0\n",
        "pos_jac_1=positive_df[positive_df['jaccard']==1]\n",
        "pos_jac_0=positive_df[positive_df['jaccard']!=1]"
      ],
      "execution_count": null,
      "outputs": []
    },
    {
      "cell_type": "code",
      "metadata": {
        "id": "g5KGk-GYMCt1",
        "colab_type": "code",
        "colab": {
          "base_uri": "https://localhost:8080/",
          "height": 68
        },
        "outputId": "9723cae6-05d8-429b-ba80-e74b042014ce"
      },
      "source": [
        "print('The total number of postive tweets is',positive_df.shape[0])\n",
        "print('The total number of postive tweets with jaccard=1 is',pos_jac_1.shape[0])\n",
        "print('The total number of postive tweets with jaccard not 1 is',pos_jac_0.shape[0])"
      ],
      "execution_count": null,
      "outputs": [
        {
          "output_type": "stream",
          "text": [
            "The total number of postive tweets is 1716\n",
            "The total number of postive tweets with jaccard=1 is 472\n",
            "The total number of postive tweets with jaccard not 1 is 1244\n"
          ],
          "name": "stdout"
        }
      ]
    },
    {
      "cell_type": "code",
      "metadata": {
        "id": "7F0cVmPINX4e",
        "colab_type": "code",
        "colab": {
          "base_uri": "https://localhost:8080/",
          "height": 34
        },
        "outputId": "35383402-03c4-4187-a775-ba4cc5327b66"
      },
      "source": [
        "#Performance of postive model when both tweet and selected text is same\n",
        "\n",
        "total_zero_diff=positive_df[positive_df['diff_len']==0].shape[0]\n",
        "zero_diff_jaccard_1=pos_jac_1[pos_jac_1['diff_len']==0].shape[0]\n",
        "result=zero_diff_jaccard_1*100/total_zero_diff\n",
        "print('The percentage of positive tweets with jaccard=1 when both tweet and selected text were same is',result)"
      ],
      "execution_count": null,
      "outputs": [
        {
          "output_type": "stream",
          "text": [
            "The percentage of positive tweets with jaccard=1 when both tweet and selected text were same is 49.57983193277311\n"
          ],
          "name": "stdout"
        }
      ]
    },
    {
      "cell_type": "code",
      "metadata": {
        "id": "lujl_DYpUulY",
        "colab_type": "code",
        "colab": {
          "base_uri": "https://localhost:8080/",
          "height": 54
        },
        "outputId": "beb5e93b-7e26-4e7b-8b26-20c3fdd9f18a"
      },
      "source": [
        "#Performance of postive model when difference between  tweet and selected text is less than 10\n",
        "\n",
        "diff_less_10=positive_df[positive_df['diff_len']<=10].shape[0]\n",
        "diff_less_10_jaccard_1=pos_jac_1[pos_jac_1['diff_len']<=10].shape[0]\n",
        "result=diff_less_10_jaccard_1*100/diff_less_10\n",
        "print('The percentage of positive tweets with jaccard=1 when length difference is less than 10 is',result)"
      ],
      "execution_count": null,
      "outputs": [
        {
          "output_type": "stream",
          "text": [
            "The percentage of positive tweets with jaccard=1 when difference between  tweet and selected text is less than 10 is 28.72983870967742\n"
          ],
          "name": "stdout"
        }
      ]
    },
    {
      "cell_type": "code",
      "metadata": {
        "id": "2R7d0IedXIqE",
        "colab_type": "code",
        "colab": {
          "base_uri": "https://localhost:8080/",
          "height": 54
        },
        "outputId": "55867191-c813-4804-9fde-5ea7111c91ca"
      },
      "source": [
        "#Performance of postive model when difference between  tweet and selected text is greter than 10 but less than 20\n",
        "\n",
        "diff_less_20=positive_df[(positive_df['diff_len']>10) & (positive_df['diff_len']<=20)].shape[0]\n",
        "diff_less_20_jaccard_1=pos_jac_1[(pos_jac_1['diff_len']>10) & (pos_jac_1['diff_len']<=20)].shape[0]\n",
        "result=diff_less_20_jaccard_1*100/diff_less_20\n",
        "print('The percentage of positive tweets with jaccard=1 when length difference is greter than 10 and less than 20 is',result)"
      ],
      "execution_count": null,
      "outputs": [
        {
          "output_type": "stream",
          "text": [
            "The percentage of positive tweets with jaccard=1 when length difference is greter than 10 and less than 20 is 25.47332185886403\n"
          ],
          "name": "stdout"
        }
      ]
    },
    {
      "cell_type": "code",
      "metadata": {
        "id": "-KTEA9GtXsa9",
        "colab_type": "code",
        "colab": {
          "base_uri": "https://localhost:8080/",
          "height": 34
        },
        "outputId": "8643a28d-127a-4f71-9955-4a3782dfc423"
      },
      "source": [
        "#Performance of postive model when difference between  tweet and selected text is greter than 20\n",
        "\n",
        "diff_less_30=positive_df[(positive_df['diff_len']>20)].shape[0]\n",
        "diff_less_30_jaccard_1=pos_jac_1[(pos_jac_1['diff_len']>20)].shape[0]\n",
        "result=diff_less_30_jaccard_1*100/diff_less_30\n",
        "print('The percentage of positive tweets with jaccard=1 when length difference is greter than 20 is',result)"
      ],
      "execution_count": null,
      "outputs": [
        {
          "output_type": "stream",
          "text": [
            "The percentage of positive tweets with jaccard=1 when length difference is greter than 20 is 27.272727272727273\n"
          ],
          "name": "stdout"
        }
      ]
    },
    {
      "cell_type": "markdown",
      "metadata": {
        "id": "DZtJW9Q8elDw",
        "colab_type": "text"
      },
      "source": [
        "CONCLUSION\n",
        "* The positive sentiment model predicts around 50% of the tweets correctly when tweet and selected text are of same length.\n",
        "* The postive sentiment model does not outperform in any of the above difference in length categories but performs moderately, around 25%."
      ]
    },
    {
      "cell_type": "markdown",
      "metadata": {
        "id": "1zoRcA_FYSiR",
        "colab_type": "text"
      },
      "source": [
        "#### Negative Sentiment"
      ]
    },
    {
      "cell_type": "code",
      "metadata": {
        "colab_type": "code",
        "id": "QeFO-EXDYau1",
        "colab": {}
      },
      "source": [
        "#Filtering negative sentiment tweets\n",
        "negative_df=test_df[test_df['sentiment']=='negative']\n",
        "\n",
        "#Filtering negative sentiment tweets with jaccard score=1 and 0\n",
        "neg_jac_1=negative_df[negative_df['jaccard']==1]\n",
        "neg_jac_0=negative_df[negative_df['jaccard']!=1]"
      ],
      "execution_count": null,
      "outputs": []
    },
    {
      "cell_type": "code",
      "metadata": {
        "colab_type": "code",
        "id": "M_XYKkpgYavC",
        "colab": {
          "base_uri": "https://localhost:8080/",
          "height": 68
        },
        "outputId": "d4148848-ab90-4802-8a00-90a9f2bfac10"
      },
      "source": [
        "print('The total number of negative tweets is',negative_df.shape[0])\n",
        "print('The total number of negative tweets with jaccard=1 is',neg_jac_1.shape[0])\n",
        "print('The total number of negative tweets with jaccard not 1 is',neg_jac_0.shape[0])"
      ],
      "execution_count": null,
      "outputs": [
        {
          "output_type": "stream",
          "text": [
            "The total number of negative tweets is 1556\n",
            "The total number of negative tweets with jaccard=1 is 384\n",
            "The total number of negative tweets with jaccard not 1 is 1172\n"
          ],
          "name": "stdout"
        }
      ]
    },
    {
      "cell_type": "code",
      "metadata": {
        "colab_type": "code",
        "id": "H9x5Wjk0YavL",
        "colab": {
          "base_uri": "https://localhost:8080/",
          "height": 34
        },
        "outputId": "67956cb0-b5b6-404d-b367-a018b61788bb"
      },
      "source": [
        "#Performance of postive model when both tweet and selected text is same\n",
        "\n",
        "total_zero_diff=negative_df[negative_df['diff_len']==0].shape[0]\n",
        "zero_diff_jaccard_1=neg_jac_1[neg_jac_1['diff_len']==0].shape[0]\n",
        "result=zero_diff_jaccard_1*100/total_zero_diff\n",
        "print('The percentage of negative tweets with jaccard=1 when both tweet and selected text were same is',result)"
      ],
      "execution_count": null,
      "outputs": [
        {
          "output_type": "stream",
          "text": [
            "The percentage of negative tweets with jaccard=1 when both tweet and selected text were same is 53.49794238683128\n"
          ],
          "name": "stdout"
        }
      ]
    },
    {
      "cell_type": "code",
      "metadata": {
        "colab_type": "code",
        "id": "mhIHvVAfYavS",
        "colab": {
          "base_uri": "https://localhost:8080/",
          "height": 54
        },
        "outputId": "1bb5854b-512c-47cc-ca87-53bd9682db8a"
      },
      "source": [
        "#Performance of negative model when difference between  tweet and selected text is less than 10\n",
        "\n",
        "diff_less_10=negative_df[negative_df['diff_len']<=10].shape[0]\n",
        "diff_less_10_jaccard_1=neg_jac_1[neg_jac_1['diff_len']<=10].shape[0]\n",
        "result=diff_less_10_jaccard_1*100/diff_less_10\n",
        "print('The percentage of negative tweets with jaccard=1 when difference between  tweet and selected text is less than 10 is',result)"
      ],
      "execution_count": null,
      "outputs": [
        {
          "output_type": "stream",
          "text": [
            "The percentage of negative tweets with jaccard=1 when difference between  tweet and selected text is less than 10 is 27.874186550976138\n"
          ],
          "name": "stdout"
        }
      ]
    },
    {
      "cell_type": "code",
      "metadata": {
        "colab_type": "code",
        "id": "cMCyIMdGYavW",
        "colab": {
          "base_uri": "https://localhost:8080/",
          "height": 54
        },
        "outputId": "536a64c1-9df7-48b8-bf4e-d6dd33e6ccc7"
      },
      "source": [
        "#Performance of negative model when difference between  tweet and selected text is greter than 10 but less than 20\n",
        "\n",
        "diff_less_20=negative_df[(negative_df['diff_len']>10) & (negative_df['diff_len']<=20)].shape[0]\n",
        "diff_less_20_jaccard_1=neg_jac_1[(neg_jac_1['diff_len']>10) & (neg_jac_1['diff_len']<=20)].shape[0]\n",
        "result=diff_less_20_jaccard_1*100/diff_less_20\n",
        "print('The percentage of negative tweets with jaccard=1 when length difference is greter than 10 and less than 20 is',result)"
      ],
      "execution_count": null,
      "outputs": [
        {
          "output_type": "stream",
          "text": [
            "The percentage of negative tweets with jaccard=1 when length difference is greter than 10 and less than 20 is 19.29460580912863\n"
          ],
          "name": "stdout"
        }
      ]
    },
    {
      "cell_type": "code",
      "metadata": {
        "colab_type": "code",
        "id": "R2917gQLYavZ",
        "colab": {
          "base_uri": "https://localhost:8080/",
          "height": 34
        },
        "outputId": "7a6795ec-8c0d-422a-a4e8-66b50c70481b"
      },
      "source": [
        "#Performance of negative model when difference between  tweet and selected text is greter than 20 but less than 30\n",
        "\n",
        "diff_less_30=negative_df[(negative_df['diff_len']>20) & (negative_df['diff_len']<=30)].shape[0]\n",
        "diff_less_30_jaccard_1=neg_jac_1[(neg_jac_1['diff_len']>20) & (neg_jac_1['diff_len']<=30)].shape[0]\n",
        "result=diff_less_30_jaccard_1*100/diff_less_30\n",
        "print('The percentage of negative tweets with jaccard=1 when length difference is greter than 20 is',result)"
      ],
      "execution_count": null,
      "outputs": [
        {
          "output_type": "stream",
          "text": [
            "The percentage of negative tweets with jaccard=1 when length difference is greter than 20 is 22.36842105263158\n"
          ],
          "name": "stdout"
        }
      ]
    },
    {
      "cell_type": "markdown",
      "metadata": {
        "id": "nGO-oFvbf270",
        "colab_type": "text"
      },
      "source": [
        "CONCLUSION\n",
        "* The negative sentiment model predicts around 53% of the tweets correctly when tweet and selected text are of same length.\n",
        "* The negative sentiment model performs poorly when the  difference in length is above 10."
      ]
    },
    {
      "cell_type": "markdown",
      "metadata": {
        "id": "BGaqILOlcvta",
        "colab_type": "text"
      },
      "source": [
        "#### Neutral Sentiment "
      ]
    },
    {
      "cell_type": "code",
      "metadata": {
        "colab_type": "code",
        "id": "vzY7_ZO9c305",
        "colab": {}
      },
      "source": [
        "#Filtering neutral sentiment tweets\n",
        "neutral_df=test_df[test_df['sentiment']=='neutral']\n",
        "\n",
        "#Filtering neutral sentiment tweets with jaccard score=1 and 0\n",
        "neu_jac_1=neutral_df[neutral_df['jaccard']==1]\n",
        "neu_jac_0=neutral_df[neutral_df['jaccard']!=1]"
      ],
      "execution_count": null,
      "outputs": []
    },
    {
      "cell_type": "code",
      "metadata": {
        "colab_type": "code",
        "id": "UWcXHiqNc31H",
        "colab": {
          "base_uri": "https://localhost:8080/",
          "height": 68
        },
        "outputId": "630e74b8-866b-4e13-a5b6-cbb636ad2348"
      },
      "source": [
        "print('The total number of neutral tweets is',neutral_df.shape[0])\n",
        "print('The total number of neutral tweets with jaccard=1 is',neu_jac_1.shape[0])\n",
        "print('The total number of neutral tweets with jaccard not 1 is',neu_jac_0.shape[0])"
      ],
      "execution_count": null,
      "outputs": [
        {
          "output_type": "stream",
          "text": [
            "The total number of neutral tweets is 2224\n",
            "The total number of neutral tweets with jaccard=1 is 1992\n",
            "The total number of neutral tweets with jaccard not 1 is 232\n"
          ],
          "name": "stdout"
        }
      ]
    },
    {
      "cell_type": "code",
      "metadata": {
        "colab_type": "code",
        "id": "HW5QGsL7c31T",
        "colab": {
          "base_uri": "https://localhost:8080/",
          "height": 34
        },
        "outputId": "5147f2a6-03f5-4063-c52a-7ad42dd8c70b"
      },
      "source": [
        "#Performance of postive model when both tweet and selected text is same\n",
        "\n",
        "total_zero_diff=neutral_df[neutral_df['diff_len']==0].shape[0]\n",
        "zero_diff_jaccard_1=neu_jac_1[neu_jac_1['diff_len']==0].shape[0]\n",
        "result=zero_diff_jaccard_1*100/total_zero_diff\n",
        "print('The percentage of neutral tweets with jaccard=1 when both tweet and selected text were same is',result)"
      ],
      "execution_count": null,
      "outputs": [
        {
          "output_type": "stream",
          "text": [
            "The percentage of neutral tweets with jaccard=1 when both tweet and selected text were same is 96.11461874696455\n"
          ],
          "name": "stdout"
        }
      ]
    },
    {
      "cell_type": "code",
      "metadata": {
        "colab_type": "code",
        "id": "aXnni23Fc31f",
        "colab": {
          "base_uri": "https://localhost:8080/",
          "height": 54
        },
        "outputId": "f5176c1d-1416-47e1-9808-53f90e9c0cf2"
      },
      "source": [
        "#Performance of neutral model when difference between  tweet and selected text is less than 10\n",
        "\n",
        "diff_less_10=neutral_df[neutral_df['diff_len']<=10].shape[0]\n",
        "diff_less_10_jaccard_1=neu_jac_1[neu_jac_1['diff_len']<=10].shape[0]\n",
        "result=diff_less_10_jaccard_1*100/diff_less_10\n",
        "print('The percentage of neutral tweets with jaccard=1 when difference between tweet and selected text is less than 10 is',result)"
      ],
      "execution_count": null,
      "outputs": [
        {
          "output_type": "stream",
          "text": [
            "The percentage of neutral tweets with jaccard=1 when difference between tweet and selected text is less than 10 is 90.42215161143895\n"
          ],
          "name": "stdout"
        }
      ]
    },
    {
      "cell_type": "code",
      "metadata": {
        "colab_type": "code",
        "id": "CfftjYFUc31n",
        "colab": {
          "base_uri": "https://localhost:8080/",
          "height": 34
        },
        "outputId": "4c0335bb-02ef-432e-cc8d-077a9ca4d2e1"
      },
      "source": [
        "#Performance of neutral model when difference between  tweet and selected text is greter than 10 but less than 20\n",
        "\n",
        "diff_less_20=neutral_df[(neutral_df['diff_len']>10) & (neutral_df['diff_len']<=20)].shape[0]\n",
        "diff_less_20_jaccard_1=neu_jac_1[(neu_jac_1['diff_len']>10) & (neu_jac_1['diff_len']<=20)].shape[0]\n",
        "result=diff_less_20_jaccard_1*100/diff_less_20\n",
        "print('The percentage of neutral tweets with jaccard=1 when length difference is greter than 10 and less than 20 is',result)"
      ],
      "execution_count": null,
      "outputs": [
        {
          "output_type": "stream",
          "text": [
            "The percentage of neutral tweets with jaccard=1 when length difference is greter than 10 and less than 20 is 0.0\n"
          ],
          "name": "stdout"
        }
      ]
    },
    {
      "cell_type": "markdown",
      "metadata": {
        "id": "Lu_9CCNIgRQW",
        "colab_type": "text"
      },
      "source": [
        "CONCLUSION\n",
        "* The neutral sentiment model predicts around 96% of the tweets correctly when tweet and selected text are of same length.\n",
        "* The neutral sentiment model performs well when the  difference in length is less than 10 but not when it is greater than 10."
      ]
    }
  ]
}
