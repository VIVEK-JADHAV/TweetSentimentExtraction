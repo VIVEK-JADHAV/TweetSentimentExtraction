{
  "nbformat": 4,
  "nbformat_minor": 0,
  "metadata": {
    "colab": {
      "name": "CaseStudy2ManyToMany.ipynb",
      "provenance": [],
      "collapsed_sections": [],
      "toc_visible": true,
      "include_colab_link": true
    },
    "kernelspec": {
      "name": "python3",
      "display_name": "Python 3"
    }
  },
  "cells": [
    {
      "cell_type": "markdown",
      "metadata": {
        "id": "view-in-github",
        "colab_type": "text"
      },
      "source": [
        "<a href=\"https://colab.research.google.com/github/VIVEK-JADHAV/TweetSentimentExtraction/blob/master/CaseStudy2ManyToMany.ipynb\" target=\"_parent\"><img src=\"https://colab.research.google.com/assets/colab-badge.svg\" alt=\"Open In Colab\"/></a>"
      ]
    },
    {
      "cell_type": "code",
      "metadata": {
        "id": "0x8gk3YHATLE",
        "colab_type": "code",
        "colab": {
          "base_uri": "https://localhost:8080/",
          "height": 71
        },
        "outputId": "77bc1f52-4008-409b-ca7e-7cfcc0c513ba"
      },
      "source": [
        "import pandas as pd\n",
        "import numpy as np\n",
        "import os\n",
        "import shutil\n",
        "import matplotlib.pyplot as plt\n",
        "import seaborn as sns\n",
        "from wordcloud import WordCloud, STOPWORDS \n",
        "import re \n",
        "import string\n",
        "import tensorflow as tf\n",
        "from tensorflow.keras.layers import Dense,Input,Activation,Flatten,Embedding,Lambda,Dropout,LSTM,Conv1D,TimeDistributed\n",
        "from tensorflow.keras.models import Model\n",
        "import time\n",
        "import warnings\n",
        "from tqdm import tqdm\n",
        "warnings.filterwarnings('ignore')\n",
        "\n",
        "tf.config.run_functions_eagerly(True)\n",
        "\n"
      ],
      "execution_count": null,
      "outputs": [
        {
          "output_type": "stream",
          "text": [
            "/usr/local/lib/python3.6/dist-packages/statsmodels/tools/_testing.py:19: FutureWarning: pandas.util.testing is deprecated. Use the functions in the public API at pandas.testing instead.\n",
            "  import pandas.util.testing as tm\n"
          ],
          "name": "stderr"
        }
      ]
    },
    {
      "cell_type": "code",
      "metadata": {
        "colab_type": "code",
        "id": "uU1l_4-WyVrH",
        "colab": {
          "base_uri": "https://localhost:8080/",
          "height": 51
        },
        "outputId": "e56837a6-8099-412f-cfe1-c8862be7d2b8"
      },
      "source": [
        "#Creating a folder to store train and test data\n",
        "import os\n",
        "os.mkdir('/content/data')\n",
        "%cd /content/data/\n",
        "!pwd"
      ],
      "execution_count": null,
      "outputs": [
        {
          "output_type": "stream",
          "text": [
            "/content/data\n",
            "/content/data\n"
          ],
          "name": "stdout"
        }
      ]
    },
    {
      "cell_type": "code",
      "metadata": {
        "id": "LN_lQJ_PML29",
        "colab_type": "code",
        "colab": {
          "base_uri": "https://localhost:8080/",
          "height": 187
        },
        "outputId": "bb45e729-bc44-4fb2-a8b7-c61c46ea3220"
      },
      "source": [
        "!kaggle competitions download -c tweet-sentiment-extraction"
      ],
      "execution_count": null,
      "outputs": [
        {
          "output_type": "stream",
          "text": [
            "Warning: Looks like you're using an outdated API Version, please consider updating (server 1.5.6 / client 1.5.4)\n",
            "Downloading train.csv.zip to /content/data\n",
            "  0% 0.00/1.23M [00:00<?, ?B/s]\n",
            "100% 1.23M/1.23M [00:00<00:00, 86.0MB/s]\n",
            "Downloading sample_submission.csv to /content/data\n",
            "  0% 0.00/41.4k [00:00<?, ?B/s]\n",
            "100% 41.4k/41.4k [00:00<00:00, 41.6MB/s]\n",
            "Downloading test.csv to /content/data\n",
            "  0% 0.00/307k [00:00<?, ?B/s]\n",
            "100% 307k/307k [00:00<00:00, 74.7MB/s]\n"
          ],
          "name": "stdout"
        }
      ]
    },
    {
      "cell_type": "code",
      "metadata": {
        "id": "S_UudZowMbtS",
        "colab_type": "code",
        "colab": {
          "base_uri": "https://localhost:8080/",
          "height": 51
        },
        "outputId": "3fe74a3b-1bcd-4535-e6f6-01107e71caf5"
      },
      "source": [
        "!unzip train.csv.zip"
      ],
      "execution_count": null,
      "outputs": [
        {
          "output_type": "stream",
          "text": [
            "Archive:  train.csv.zip\n",
            "  inflating: train.csv               \n"
          ],
          "name": "stdout"
        }
      ]
    },
    {
      "cell_type": "code",
      "metadata": {
        "id": "O4ykiW2UkZh2",
        "colab_type": "code",
        "colab": {
          "base_uri": "https://localhost:8080/",
          "height": 221
        },
        "outputId": "af299987-43b7-4ac2-d746-af00f18ffcb3"
      },
      "source": [
        "#Loading the train dataset\n",
        "\n",
        "train=pd.read_csv('/content/data/train.csv')\n",
        "print('Shape of the train data is ',train.shape)\n",
        "train.head()"
      ],
      "execution_count": null,
      "outputs": [
        {
          "output_type": "stream",
          "text": [
            "Shape of the train data is  (27481, 4)\n"
          ],
          "name": "stdout"
        },
        {
          "output_type": "execute_result",
          "data": {
            "text/html": [
              "<div>\n",
              "<style scoped>\n",
              "    .dataframe tbody tr th:only-of-type {\n",
              "        vertical-align: middle;\n",
              "    }\n",
              "\n",
              "    .dataframe tbody tr th {\n",
              "        vertical-align: top;\n",
              "    }\n",
              "\n",
              "    .dataframe thead th {\n",
              "        text-align: right;\n",
              "    }\n",
              "</style>\n",
              "<table border=\"1\" class=\"dataframe\">\n",
              "  <thead>\n",
              "    <tr style=\"text-align: right;\">\n",
              "      <th></th>\n",
              "      <th>textID</th>\n",
              "      <th>text</th>\n",
              "      <th>selected_text</th>\n",
              "      <th>sentiment</th>\n",
              "    </tr>\n",
              "  </thead>\n",
              "  <tbody>\n",
              "    <tr>\n",
              "      <th>0</th>\n",
              "      <td>cb774db0d1</td>\n",
              "      <td>I`d have responded, if I were going</td>\n",
              "      <td>I`d have responded, if I were going</td>\n",
              "      <td>neutral</td>\n",
              "    </tr>\n",
              "    <tr>\n",
              "      <th>1</th>\n",
              "      <td>549e992a42</td>\n",
              "      <td>Sooo SAD I will miss you here in San Diego!!!</td>\n",
              "      <td>Sooo SAD</td>\n",
              "      <td>negative</td>\n",
              "    </tr>\n",
              "    <tr>\n",
              "      <th>2</th>\n",
              "      <td>088c60f138</td>\n",
              "      <td>my boss is bullying me...</td>\n",
              "      <td>bullying me</td>\n",
              "      <td>negative</td>\n",
              "    </tr>\n",
              "    <tr>\n",
              "      <th>3</th>\n",
              "      <td>9642c003ef</td>\n",
              "      <td>what interview! leave me alone</td>\n",
              "      <td>leave me alone</td>\n",
              "      <td>negative</td>\n",
              "    </tr>\n",
              "    <tr>\n",
              "      <th>4</th>\n",
              "      <td>358bd9e861</td>\n",
              "      <td>Sons of ****, why couldn`t they put them on t...</td>\n",
              "      <td>Sons of ****,</td>\n",
              "      <td>negative</td>\n",
              "    </tr>\n",
              "  </tbody>\n",
              "</table>\n",
              "</div>"
            ],
            "text/plain": [
              "       textID  ... sentiment\n",
              "0  cb774db0d1  ...   neutral\n",
              "1  549e992a42  ...  negative\n",
              "2  088c60f138  ...  negative\n",
              "3  9642c003ef  ...  negative\n",
              "4  358bd9e861  ...  negative\n",
              "\n",
              "[5 rows x 4 columns]"
            ]
          },
          "metadata": {
            "tags": []
          },
          "execution_count": 10
        }
      ]
    },
    {
      "cell_type": "code",
      "metadata": {
        "id": "IUSNf2eBNAMa",
        "colab_type": "code",
        "colab": {
          "base_uri": "https://localhost:8080/",
          "height": 221
        },
        "outputId": "ec1c0884-3d70-4b1d-c995-072f98c12c4d"
      },
      "source": [
        "#Loading the test dataset\n",
        "\n",
        "test=pd.read_csv('/content/data/test.csv')\n",
        "print('Shape of the test data is ',test.shape)\n",
        "test.head()"
      ],
      "execution_count": null,
      "outputs": [
        {
          "output_type": "stream",
          "text": [
            "Shape of the test data is  (3534, 3)\n"
          ],
          "name": "stdout"
        },
        {
          "output_type": "execute_result",
          "data": {
            "text/html": [
              "<div>\n",
              "<style scoped>\n",
              "    .dataframe tbody tr th:only-of-type {\n",
              "        vertical-align: middle;\n",
              "    }\n",
              "\n",
              "    .dataframe tbody tr th {\n",
              "        vertical-align: top;\n",
              "    }\n",
              "\n",
              "    .dataframe thead th {\n",
              "        text-align: right;\n",
              "    }\n",
              "</style>\n",
              "<table border=\"1\" class=\"dataframe\">\n",
              "  <thead>\n",
              "    <tr style=\"text-align: right;\">\n",
              "      <th></th>\n",
              "      <th>textID</th>\n",
              "      <th>text</th>\n",
              "      <th>sentiment</th>\n",
              "    </tr>\n",
              "  </thead>\n",
              "  <tbody>\n",
              "    <tr>\n",
              "      <th>0</th>\n",
              "      <td>f87dea47db</td>\n",
              "      <td>Last session of the day  http://twitpic.com/67ezh</td>\n",
              "      <td>neutral</td>\n",
              "    </tr>\n",
              "    <tr>\n",
              "      <th>1</th>\n",
              "      <td>96d74cb729</td>\n",
              "      <td>Shanghai is also really exciting (precisely -...</td>\n",
              "      <td>positive</td>\n",
              "    </tr>\n",
              "    <tr>\n",
              "      <th>2</th>\n",
              "      <td>eee518ae67</td>\n",
              "      <td>Recession hit Veronique Branquinho, she has to...</td>\n",
              "      <td>negative</td>\n",
              "    </tr>\n",
              "    <tr>\n",
              "      <th>3</th>\n",
              "      <td>01082688c6</td>\n",
              "      <td>happy bday!</td>\n",
              "      <td>positive</td>\n",
              "    </tr>\n",
              "    <tr>\n",
              "      <th>4</th>\n",
              "      <td>33987a8ee5</td>\n",
              "      <td>http://twitpic.com/4w75p - I like it!!</td>\n",
              "      <td>positive</td>\n",
              "    </tr>\n",
              "  </tbody>\n",
              "</table>\n",
              "</div>"
            ],
            "text/plain": [
              "       textID                                               text sentiment\n",
              "0  f87dea47db  Last session of the day  http://twitpic.com/67ezh   neutral\n",
              "1  96d74cb729   Shanghai is also really exciting (precisely -...  positive\n",
              "2  eee518ae67  Recession hit Veronique Branquinho, she has to...  negative\n",
              "3  01082688c6                                        happy bday!  positive\n",
              "4  33987a8ee5             http://twitpic.com/4w75p - I like it!!  positive"
            ]
          },
          "metadata": {
            "tags": []
          },
          "execution_count": 11
        }
      ]
    },
    {
      "cell_type": "code",
      "metadata": {
        "id": "iAz9XrDpWKod",
        "colab_type": "code",
        "colab": {
          "base_uri": "https://localhost:8080/",
          "height": 204
        },
        "outputId": "ca2e224c-2585-42d4-e1c2-02f3305587ea"
      },
      "source": [
        "#Dropping the row with null value\n",
        "train.dropna(inplace=True)\n",
        "train.reset_index(inplace=True,drop=True)\n",
        "train.info()"
      ],
      "execution_count": null,
      "outputs": [
        {
          "output_type": "stream",
          "text": [
            "<class 'pandas.core.frame.DataFrame'>\n",
            "RangeIndex: 27480 entries, 0 to 27479\n",
            "Data columns (total 4 columns):\n",
            " #   Column         Non-Null Count  Dtype \n",
            "---  ------         --------------  ----- \n",
            " 0   textID         27480 non-null  object\n",
            " 1   text           27480 non-null  object\n",
            " 2   selected_text  27480 non-null  object\n",
            " 3   sentiment      27480 non-null  object\n",
            "dtypes: object(4)\n",
            "memory usage: 858.9+ KB\n"
          ],
          "name": "stdout"
        }
      ]
    },
    {
      "cell_type": "code",
      "metadata": {
        "id": "cCJiUQAIbawi",
        "colab_type": "code",
        "colab": {
          "base_uri": "https://localhost:8080/",
          "height": 68
        },
        "outputId": "1eb6b0db-4130-4d55-b5a0-125c437691a7"
      },
      "source": [
        "from sklearn.model_selection import train_test_split\n",
        "\n",
        "X_train,X_val,Y_train,Y_val=train_test_split(train[['sentiment','text','textID']],train['selected_text'],\n",
        "                                               test_size=0.2,random_state=42,stratify=train['sentiment'])\n",
        "\n",
        "X_train,X_test,Y_train,Y_test=train_test_split(X_train,Y_train,\n",
        "                                               test_size=0.2,random_state=42,stratify=X_train['sentiment'])\n",
        "X_train.drop(8119,axis=0,inplace=True)\n",
        "X_test.drop(26004,axis=0,inplace=True)\n",
        "\n",
        "X_train.reset_index(inplace=True,drop=True)\n",
        "X_val.reset_index(inplace=True,drop=True)\n",
        "X_test.reset_index(inplace=True,drop=True)\n",
        "\n",
        "Y_train.drop(8119,axis=0,inplace=True)\n",
        "Y_test.drop(26004,axis=0,inplace=True)\n",
        "\n",
        "Y_train=Y_train.reset_index(drop=True)\n",
        "Y_val=Y_val.reset_index(drop=True)\n",
        "Y_test=Y_test.reset_index(drop=True)\n",
        "\n",
        "print('X_train shape',X_train.shape,' Y_train shape ',Y_train.shape)\n",
        "print('X_val shape',X_val.shape,' Y_val shape ',Y_val.shape)\n",
        "print('X_test shape',X_test.shape,' Y_test shape ',Y_test.shape)"
      ],
      "execution_count": null,
      "outputs": [
        {
          "output_type": "stream",
          "text": [
            "X_train shape (17586, 3)  Y_train shape  (17586,)\n",
            "X_val shape (5496, 3)  Y_val shape  (5496,)\n",
            "X_test shape (4396, 3)  Y_test shape  (4396,)\n"
          ],
          "name": "stdout"
        }
      ]
    },
    {
      "cell_type": "code",
      "metadata": {
        "id": "x03KNVKTcxIm",
        "colab_type": "code",
        "colab": {}
      },
      "source": [
        "seq_length=32"
      ],
      "execution_count": null,
      "outputs": []
    },
    {
      "cell_type": "code",
      "metadata": {
        "id": "o0BI002RchsI",
        "colab_type": "code",
        "colab": {
          "base_uri": "https://localhost:8080/",
          "height": 136
        },
        "outputId": "28542d2f-d494-4bcd-8b56-ffd81e4cb0c4"
      },
      "source": [
        "#Tokenizing the clean_text and sentiment and mapping each word to a integer followed by padding to have equal lengths\n",
        "\n",
        "tokenizer = tf.keras.preprocessing.text.Tokenizer(oov_token=1)\n",
        "tokenizer.fit_on_texts(X_train['text'].values)\n",
        "\n",
        "X_train_text = tokenizer.texts_to_sequences(X_train['text'].values)\n",
        "X_val_text = tokenizer.texts_to_sequences(X_val['text'].values)\n",
        "X_test_text = tokenizer.texts_to_sequences(X_test['text'].values)\n",
        "\n",
        "Y_train_text = tokenizer.texts_to_sequences(Y_train.values)\n",
        "Y_val_text = tokenizer.texts_to_sequences(Y_val.values)\n",
        "Y_test_text = tokenizer.texts_to_sequences(Y_test.values)\n",
        "\n",
        "\n",
        "\n",
        "X_train_tokens = tf.keras.preprocessing.sequence.pad_sequences(X_train_text,maxlen=seq_length,padding='post')\n",
        "X_val_tokens = tf.keras.preprocessing.sequence.pad_sequences(X_val_text,maxlen=seq_length,padding='post')\n",
        "X_test_tokens = tf.keras.preprocessing.sequence.pad_sequences(X_test_text,maxlen=seq_length,padding='post')\n",
        "\n",
        "Y_train_tokens = tf.keras.preprocessing.sequence.pad_sequences(Y_train_text,maxlen=seq_length,padding='post')\n",
        "Y_val_tokens = tf.keras.preprocessing.sequence.pad_sequences(Y_val_text,maxlen=seq_length,padding='post')\n",
        "Y_test_tokens = tf.keras.preprocessing.sequence.pad_sequences(Y_test_text,maxlen=seq_length,padding='post')\n",
        "\n",
        "print('The shape of X_train_tokens ',X_train_tokens.shape)\n",
        "print('The shape of X_val_tokens ',X_val_tokens.shape)\n",
        "print('The shape of X_test_tokens ',X_test_tokens.shape)\n",
        "print('*'*50)\n",
        "print('The shape of Y_train_tokens ',Y_train_tokens.shape)\n",
        "print('The shape of Y_val_tokens ',Y_val_tokens.shape)\n",
        "print('The shape of Y_test_tokens ',Y_test_tokens.shape)"
      ],
      "execution_count": null,
      "outputs": [
        {
          "output_type": "stream",
          "text": [
            "The shape of X_train_tokens  (17586, 32)\n",
            "The shape of X_val_tokens  (5496, 32)\n",
            "The shape of X_test_tokens  (4396, 32)\n",
            "**************************************************\n",
            "The shape of Y_train_tokens  (17586, 32)\n",
            "The shape of Y_val_tokens  (5496, 32)\n",
            "The shape of Y_test_tokens  (4396, 32)\n"
          ],
          "name": "stdout"
        }
      ]
    },
    {
      "cell_type": "code",
      "metadata": {
        "id": "lzI1D12gGymD",
        "colab_type": "code",
        "colab": {}
      },
      "source": [
        "#Create mask layer\n",
        "def create_mask(X):\n",
        "  X_mask=np.zeros((X.shape[0],32))\n",
        "  for i in tqdm(range(X.shape[0])):\n",
        "    for j in range(len(X[i])):\n",
        "      if( X[i,j]!=0):\n",
        "        X_mask[i,j]=1\n",
        "  return X_mask"
      ],
      "execution_count": null,
      "outputs": []
    },
    {
      "cell_type": "code",
      "metadata": {
        "id": "BD_KDDCuIFI0",
        "colab_type": "code",
        "colab": {
          "base_uri": "https://localhost:8080/",
          "height": 119
        },
        "outputId": "14d2a116-9abb-4bda-aca3-556370401ac7"
      },
      "source": [
        "X_train_mask=create_mask(X_train_tokens)\n",
        "X_val_mask=create_mask(X_val_tokens)\n",
        "X_test_mask=create_mask(X_test_tokens)\n",
        "\n",
        "print('The shape of X_train_mask ',X_train_mask.shape)\n",
        "print('The shape of X_val_mask ',X_val_mask.shape)\n",
        "print('The shape of X_test_mask ',X_test_mask.shape)"
      ],
      "execution_count": null,
      "outputs": [
        {
          "output_type": "stream",
          "text": [
            "100%|██████████| 17586/17586 [00:01<00:00, 15197.48it/s]\n",
            "100%|██████████| 5496/5496 [00:00<00:00, 14518.03it/s]\n",
            "100%|██████████| 4396/4396 [00:00<00:00, 15247.12it/s]"
          ],
          "name": "stderr"
        },
        {
          "output_type": "stream",
          "text": [
            "The shape of X_train_mask  (17586, 32)\n",
            "The shape of X_val_mask  (5496, 32)\n",
            "The shape of X_test_mask  (4396, 32)\n"
          ],
          "name": "stdout"
        },
        {
          "output_type": "stream",
          "text": [
            "\n"
          ],
          "name": "stderr"
        }
      ]
    },
    {
      "cell_type": "code",
      "metadata": {
        "id": "tNTioADIcAB9",
        "colab_type": "code",
        "colab": {}
      },
      "source": [
        "def create_y_data(X,Y):\n",
        "  '''Creates target variable'''\n",
        "#Insert 1 in the label vector if selected text token is present in text tokens else 2 with 0 as padded token\n",
        "\n",
        "  labels=np.zeros_like(X)\n",
        "  for i in tqdm(range(X.shape[0])):    \n",
        "    k=0    \n",
        "    for j in Y[i]:\n",
        "      if(j not in X[i]):        \n",
        "        continue\n",
        "      if(j==0):\n",
        "        break\n",
        "      while (X[i][k]!=0):              \n",
        "        if(j==X[i][k]):\n",
        "          labels[i,k]=1\n",
        "          k+=1\n",
        "          break\n",
        "        else:          \n",
        "          k+=1\n",
        "  return labels\n",
        "        \n"
      ],
      "execution_count": null,
      "outputs": []
    },
    {
      "cell_type": "code",
      "metadata": {
        "id": "OfwRgG2X9x_i",
        "colab_type": "code",
        "colab": {
          "base_uri": "https://localhost:8080/",
          "height": 68
        },
        "outputId": "91b4e70c-58a1-4b6c-cf23-a3daef7f3a08"
      },
      "source": [
        "#Create target variable and expand to 3D as output from modelis 3D\n",
        "Y_tr=create_y_data(X_train_tokens,Y_train_tokens)\n",
        "Y_tr=np.expand_dims(Y_tr,-1)\n",
        "\n",
        "Y_va=create_y_data(X_val_tokens,Y_val_tokens)\n",
        "Y_va=np.expand_dims(Y_va,-1)\n",
        "\n",
        "Y_te=create_y_data(X_test_tokens,Y_test_tokens)\n",
        "Y_te=np.expand_dims(Y_te,-1)\n"
      ],
      "execution_count": null,
      "outputs": [
        {
          "output_type": "stream",
          "text": [
            "100%|██████████| 17586/17586 [00:01<00:00, 10927.70it/s]\n",
            "100%|██████████| 5496/5496 [00:00<00:00, 11423.97it/s]\n",
            "100%|██████████| 4396/4396 [00:00<00:00, 11620.80it/s]\n"
          ],
          "name": "stderr"
        }
      ]
    },
    {
      "cell_type": "code",
      "metadata": {
        "id": "IySBfeEqW_qM",
        "colab_type": "code",
        "colab": {
          "base_uri": "https://localhost:8080/",
          "height": 85
        },
        "outputId": "6117332b-f9f9-4aed-f3ae-94478b7f3fa5"
      },
      "source": [
        "X_train_tokens[88]"
      ],
      "execution_count": null,
      "outputs": [
        {
          "output_type": "execute_result",
          "data": {
            "text/plain": [
              "array([1536,    4,  961,   16, 7906,  664,   50, 5274,  325,  496,   40,\n",
              "        321,    9,    4, 5275,  128,  800, 2885,   39, 1786, 7907,    0,\n",
              "          0,    0,    0,    0,    0,    0,    0,    0,    0,    0],\n",
              "      dtype=int32)"
            ]
          },
          "metadata": {
            "tags": []
          },
          "execution_count": 139
        }
      ]
    },
    {
      "cell_type": "code",
      "metadata": {
        "id": "vbpSm4qkXC9Z",
        "colab_type": "code",
        "colab": {
          "base_uri": "https://localhost:8080/",
          "height": 85
        },
        "outputId": "adba4868-2ebd-4d38-d092-78d9b4efd250"
      },
      "source": [
        "Y_train_tokens[88]"
      ],
      "execution_count": null,
      "outputs": [
        {
          "output_type": "execute_result",
          "data": {
            "text/plain": [
              "array([5275,    0,    0,    0,    0,    0,    0,    0,    0,    0,    0,\n",
              "          0,    0,    0,    0,    0,    0,    0,    0,    0,    0,    0,\n",
              "          0,    0,    0,    0,    0,    0,    0,    0,    0,    0],\n",
              "      dtype=int32)"
            ]
          },
          "metadata": {
            "tags": []
          },
          "execution_count": 140
        }
      ]
    },
    {
      "cell_type": "code",
      "metadata": {
        "id": "U7Xy_MMvjvnA",
        "colab_type": "code",
        "colab": {
          "base_uri": "https://localhost:8080/",
          "height": 561
        },
        "outputId": "f76d8b90-84e4-44d3-bae4-b7716b7bf0a2"
      },
      "source": [
        "Y_tr[88]"
      ],
      "execution_count": null,
      "outputs": [
        {
          "output_type": "execute_result",
          "data": {
            "text/plain": [
              "array([[0],\n",
              "       [0],\n",
              "       [0],\n",
              "       [0],\n",
              "       [0],\n",
              "       [0],\n",
              "       [0],\n",
              "       [0],\n",
              "       [0],\n",
              "       [0],\n",
              "       [0],\n",
              "       [0],\n",
              "       [0],\n",
              "       [0],\n",
              "       [1],\n",
              "       [0],\n",
              "       [0],\n",
              "       [0],\n",
              "       [0],\n",
              "       [0],\n",
              "       [0],\n",
              "       [0],\n",
              "       [0],\n",
              "       [0],\n",
              "       [0],\n",
              "       [0],\n",
              "       [0],\n",
              "       [0],\n",
              "       [0],\n",
              "       [0],\n",
              "       [0],\n",
              "       [0]], dtype=int32)"
            ]
          },
          "metadata": {
            "tags": []
          },
          "execution_count": 83
        }
      ]
    },
    {
      "cell_type": "code",
      "metadata": {
        "id": "PHWLsFbEc6oo",
        "colab_type": "code",
        "colab": {
          "base_uri": "https://localhost:8080/",
          "height": 34
        },
        "outputId": "c6c59fef-6c64-4e82-b45d-1b75d5ffef71"
      },
      "source": [
        "vocab_size=len(tokenizer.word_index)+1\n",
        "print(vocab_size)"
      ],
      "execution_count": null,
      "outputs": [
        {
          "output_type": "stream",
          "text": [
            "20120\n"
          ],
          "name": "stdout"
        }
      ]
    },
    {
      "cell_type": "code",
      "metadata": {
        "id": "UBhb0-pcgBgx",
        "colab_type": "code",
        "colab": {
          "base_uri": "https://localhost:8080/",
          "height": 357
        },
        "outputId": "bb2e3a93-a037-4b9a-81fe-81421d695185"
      },
      "source": [
        "#Reference https://stackoverflow.com/questions/50060241/how-to-use-glove-word-embeddings-file-on-google-colaboratory\n",
        "\n",
        "!wget http://nlp.stanford.edu/data/glove.twitter.27B.zip"
      ],
      "execution_count": null,
      "outputs": [
        {
          "output_type": "stream",
          "text": [
            "--2020-09-08 12:48:53--  http://nlp.stanford.edu/data/glove.twitter.27B.zip\n",
            "Resolving nlp.stanford.edu (nlp.stanford.edu)... 171.64.67.140\n",
            "Connecting to nlp.stanford.edu (nlp.stanford.edu)|171.64.67.140|:80... connected.\n",
            "HTTP request sent, awaiting response... 302 Found\n",
            "Location: https://nlp.stanford.edu/data/glove.twitter.27B.zip [following]\n",
            "--2020-09-08 12:48:53--  https://nlp.stanford.edu/data/glove.twitter.27B.zip\n",
            "Connecting to nlp.stanford.edu (nlp.stanford.edu)|171.64.67.140|:443... connected.\n",
            "HTTP request sent, awaiting response... 301 Moved Permanently\n",
            "Location: http://downloads.cs.stanford.edu/nlp/data/glove.twitter.27B.zip [following]\n",
            "--2020-09-08 12:48:53--  http://downloads.cs.stanford.edu/nlp/data/glove.twitter.27B.zip\n",
            "Resolving downloads.cs.stanford.edu (downloads.cs.stanford.edu)... 171.64.64.22\n",
            "Connecting to downloads.cs.stanford.edu (downloads.cs.stanford.edu)|171.64.64.22|:80... connected.\n",
            "HTTP request sent, awaiting response... 200 OK\n",
            "Length: 1520408563 (1.4G) [application/zip]\n",
            "Saving to: ‘glove.twitter.27B.zip’\n",
            "\n",
            "glove.twitter.27B.z 100%[===================>]   1.42G  1.79MB/s    in 11m 43s \n",
            "\n",
            "2020-09-08 13:00:36 (2.06 MB/s) - ‘glove.twitter.27B.zip’ saved [1520408563/1520408563]\n",
            "\n"
          ],
          "name": "stdout"
        }
      ]
    },
    {
      "cell_type": "code",
      "metadata": {
        "id": "KiWN5tZAjAz_",
        "colab_type": "code",
        "colab": {
          "base_uri": "https://localhost:8080/",
          "height": 102
        },
        "outputId": "6be792f5-fc03-4697-bd49-3fec4277058c"
      },
      "source": [
        "!unzip /content/data/glove.twitter.27B.zip"
      ],
      "execution_count": null,
      "outputs": [
        {
          "output_type": "stream",
          "text": [
            "Archive:  /content/data/glove.twitter.27B.zip\n",
            "  inflating: glove.twitter.27B.25d.txt  \n",
            "  inflating: glove.twitter.27B.50d.txt  \n",
            "  inflating: glove.twitter.27B.100d.txt  \n",
            "  inflating: glove.twitter.27B.200d.txt  "
          ],
          "name": "stdout"
        }
      ]
    },
    {
      "cell_type": "code",
      "metadata": {
        "id": "tC_2EC45kN1m",
        "colab_type": "code",
        "colab": {
          "base_uri": "https://localhost:8080/",
          "height": 34
        },
        "outputId": "7581460f-86e0-4639-844c-860e4a004598"
      },
      "source": [
        "#Loading all the vectors as dictonary with key as string and value as vector\n",
        "\n",
        "embeddings_index = {}\n",
        "f = open('/content/data/glove.twitter.27B.100d.txt', encoding='utf-8')\n",
        "for line in f:\n",
        "    values = line.split()\n",
        "    word = values[0]\n",
        "    coefs = np.asarray(values[1:], dtype='float32')\n",
        "    embeddings_index[word] = coefs\n",
        "f.close()\n",
        "\n",
        "print('Found %s word vectors.' % len(embeddings_index))"
      ],
      "execution_count": null,
      "outputs": [
        {
          "output_type": "stream",
          "text": [
            "Found 1193514 word vectors.\n"
          ],
          "name": "stdout"
        }
      ]
    },
    {
      "cell_type": "code",
      "metadata": {
        "id": "0HH4rffalGji",
        "colab_type": "code",
        "colab": {}
      },
      "source": [
        "#Getting the weights from the above dictionary for all the words in the document\n",
        "\n",
        "embedding_matrix = np.zeros((vocab_size, 100))\n",
        "for word, i in tokenizer.word_index.items():\n",
        "  embedding_vector = embeddings_index.get(word)\n",
        "  if embedding_vector is not None:    \n",
        "    embedding_matrix[i] = embedding_vector"
      ],
      "execution_count": null,
      "outputs": []
    },
    {
      "cell_type": "code",
      "metadata": {
        "id": "UZZ7uOXkpEuo",
        "colab_type": "code",
        "colab": {
          "base_uri": "https://localhost:8080/",
          "height": 34
        },
        "outputId": "48eb7c8a-0d6c-4055-b231-9420a64e2dc7"
      },
      "source": [
        "embedding_matrix.shape"
      ],
      "execution_count": null,
      "outputs": [
        {
          "output_type": "execute_result",
          "data": {
            "text/plain": [
              "(20120, 100)"
            ]
          },
          "metadata": {
            "tags": []
          },
          "execution_count": 25
        }
      ]
    },
    {
      "cell_type": "code",
      "metadata": {
        "id": "m4qUR_JE-vgr",
        "colab_type": "code",
        "colab": {
          "base_uri": "https://localhost:8080/",
          "height": 340
        },
        "outputId": "0655ac2b-6a1a-4076-a936-fd9b1750cf55"
      },
      "source": [
        "#Model Archietecture\n",
        "\n",
        "#Input Layer\n",
        "input_layer=Input((seq_length,),name='input')\n",
        "input_mask=Input((seq_length,),name='input_mask')\n",
        "\n",
        "#Embedding layer\n",
        "embedding_layer=Embedding(vocab_size,100,input_length=seq_length,weights=[embedding_matrix],trainable=False,mask_zero=True)(input_layer)\n",
        "\n",
        "#Encoder\n",
        "lstm=LSTM(32,name='lstm',kernel_initializer=tf.keras.initializers.glorot_uniform(seed=20),\n",
        "                 recurrent_initializer=tf.keras.initializers.orthogonal(seed=30),return_sequences=True)(embedding_layer)\n",
        "                \n",
        "output=TimeDistributed(Dense(1,activation='sigmoid',kernel_initializer=tf.keras.initializers.glorot_uniform(seed=20),\n",
        "             name='output'))(lstm,input_mask)\n",
        "\n",
        "model=Model(inputs=[input_layer,input_mask],outputs=[output])\n",
        "\n",
        "model.summary()"
      ],
      "execution_count": null,
      "outputs": [
        {
          "output_type": "stream",
          "text": [
            "Model: \"functional_1\"\n",
            "__________________________________________________________________________________________________\n",
            "Layer (type)                    Output Shape         Param #     Connected to                     \n",
            "==================================================================================================\n",
            "input (InputLayer)              [(None, 32)]         0                                            \n",
            "__________________________________________________________________________________________________\n",
            "embedding (Embedding)           (None, 32, 100)      2012000     input[0][0]                      \n",
            "__________________________________________________________________________________________________\n",
            "lstm (LSTM)                     (None, 32, 32)       17024       embedding[0][0]                  \n",
            "__________________________________________________________________________________________________\n",
            "input_mask (InputLayer)         [(None, 32)]         0                                            \n",
            "__________________________________________________________________________________________________\n",
            "time_distributed (TimeDistribut (None, 32, 1)        33          lstm[0][0]                       \n",
            "                                                                 input_mask[0][0]                 \n",
            "==================================================================================================\n",
            "Total params: 2,029,057\n",
            "Trainable params: 17,057\n",
            "Non-trainable params: 2,012,000\n",
            "__________________________________________________________________________________________________\n"
          ],
          "name": "stdout"
        }
      ]
    },
    {
      "cell_type": "code",
      "metadata": {
        "id": "SRbgc2woAWwf",
        "colab_type": "code",
        "colab": {
          "base_uri": "https://localhost:8080/",
          "height": 422
        },
        "outputId": "b8666fd9-3622-44e0-fa90-cef7ebb47546"
      },
      "source": [
        "tf.keras.utils.plot_model(model, 'Model.png',show_shapes=True)"
      ],
      "execution_count": null,
      "outputs": [
        {
          "output_type": "execute_result",
          "data": {
            "image/png": "[encoded data removed]",
            "text/plain": [
              "<IPython.core.display.Image object>"
            ]
          },
          "metadata": {
            "tags": []
          },
          "execution_count": 222
        }
      ]
    },
    {
      "cell_type": "markdown",
      "metadata": {
        "id": "eIOQ2luQFElL",
        "colab_type": "text"
      },
      "source": [
        "Model Archietecture\n",
        "* Input layer: Token ids of the tweet is given as input\n",
        "* Mask layer: This layer is masking the padded tokens\n",
        "* Embedding Layer: Each token id is converted to 100 D vector using the pretrained Glove vector.\n",
        "* LSTM: The LSTM layer returns output at each time sequence.\n",
        "* Time distributed Dense Layer: This layer takes LSTM output at every time sequence and predicts whether the token must be present in the selected_text or not."
      ]
    },
    {
      "cell_type": "code",
      "metadata": {
        "colab_type": "code",
        "id": "uS9CXmp1PpTV",
        "colab": {}
      },
      "source": [
        "#Creating  directory for model and weights \n",
        "import os\n",
        "import shutil\n",
        "\n",
        "# shutil.rmtree('/content/Model')\n",
        "# shutil.rmtree('/content/model_save')\n",
        "\n",
        "os.mkdir('/content/Model2')\n",
        "os.mkdir('/content/model_save2')"
      ],
      "execution_count": null,
      "outputs": []
    },
    {
      "cell_type": "code",
      "metadata": {
        "colab_type": "code",
        "id": "TTVH30btPpTh",
        "colab": {}
      },
      "source": [
        "#Setting the parameters for TensorBoard\n",
        "from tensorflow.keras.callbacks import TensorBoard\n",
        "%load_ext tensorboard\n",
        "!rm -rf ./logs/ \n",
        "\n",
        "log_dir='/content/Model2'\n",
        "tensorboard_callback = TensorBoard(log_dir=log_dir,histogram_freq=1, write_graph=True)"
      ],
      "execution_count": null,
      "outputs": []
    },
    {
      "cell_type": "code",
      "metadata": {
        "colab_type": "code",
        "id": "vHyHWwEvPpTl",
        "colab": {}
      },
      "source": [
        "# Save  model at every epoch\n",
        "from tensorflow.keras.callbacks import ModelCheckpoint\n",
        "\n",
        "filepath=\"/content/model_save2/weights-{epoch:02d}-{val_loss:.4f}.hdf5\"\n",
        "checkpoint = ModelCheckpoint(filepath=filepath, monitor='val_loss', verbose=1, save_best_only=True, mode='auto')"
      ],
      "execution_count": null,
      "outputs": []
    },
    {
      "cell_type": "code",
      "metadata": {
        "id": "YPACMiusCeHz",
        "colab_type": "code",
        "colab": {}
      },
      "source": [
        "# loss function\n",
        "loss_object = tf.keras.losses.BinaryCrossentropy(\n",
        "    reduction='none')\n",
        "\n",
        "def loss_function(real, pred): \n",
        "  '''Computes the loss for each token and takes the mean'''\n",
        "  real=tf.squeeze(real)\n",
        "  pred=tf.squeeze(pred)    \n",
        "\n",
        "  final_loss=0\n",
        "  #Iterating over each of batch elements\n",
        "  for i in range(real.shape[0]):    \n",
        "\n",
        "    r=tf.reshape(real,[-1,1])\n",
        "    p=tf.reshape(pred[i],[-1,1])\n",
        "\n",
        "    #Computing loss for each of token elements.\n",
        "    loss_ = loss_object(r, p)\n",
        "\n",
        "    #Taking mean of all the losses\n",
        "    loss_=tf.reduce_mean(loss_)\n",
        "\n",
        "    #Summing all the losses for batch datapoints \n",
        "    final_loss+=loss_\n",
        "    \n",
        "  #Returning mean of all batch points\n",
        "  return final_loss/real.shape[0]"
      ],
      "execution_count": null,
      "outputs": []
    },
    {
      "cell_type": "code",
      "metadata": {
        "colab_type": "code",
        "id": "ijNEhL9FPpTo",
        "colab": {}
      },
      "source": [
        "#Compiling the model\n",
        "model.compile(optimizer=tf.keras.optimizers.Adam(learning_rate=0.001),\n",
        "              loss=loss_function)"
      ],
      "execution_count": null,
      "outputs": []
    },
    {
      "cell_type": "code",
      "metadata": {
        "colab_type": "code",
        "id": "ILM8SruHPpTr",
        "colab": {
          "base_uri": "https://localhost:8080/",
          "height": 853
        },
        "outputId": "a63c5c2c-f3a9-4093-998e-57f96a2076ec"
      },
      "source": [
        "#Fitting the model and running it for 10 epochs\n",
        "callback=[tensorboard_callback,checkpoint]\n",
        "model.fit([X_train_tokens,X_train_mask],Y_tr,batch_size=32,epochs=11,callbacks=callback,\n",
        "           validation_data=([X_val_tokens,X_val_mask],Y_va))"
      ],
      "execution_count": null,
      "outputs": [
        {
          "output_type": "stream",
          "text": [
            "Epoch 1/11\n",
            "  1/550 [..............................] - ETA: 0s - loss: 0.2914WARNING:tensorflow:From /usr/local/lib/python3.6/dist-packages/tensorflow/python/ops/summary_ops_v2.py:1277: stop (from tensorflow.python.eager.profiler) is deprecated and will be removed after 2020-07-01.\n",
            "Instructions for updating:\n",
            "use `tf.profiler.experimental.stop` instead.\n",
            "550/550 [==============================] - ETA: 0s - loss: 0.2598\n",
            "Epoch 00001: val_loss improved from inf to 0.23305, saving model to /content/model_save2/weights-01-0.2330.hdf5\n",
            "550/550 [==============================] - 154s 280ms/step - loss: 0.2598 - val_loss: 0.2330\n",
            "Epoch 2/11\n",
            "550/550 [==============================] - ETA: 0s - loss: 0.2132\n",
            "Epoch 00002: val_loss improved from 0.23305 to 0.19707, saving model to /content/model_save2/weights-02-0.1971.hdf5\n",
            "550/550 [==============================] - 155s 283ms/step - loss: 0.2132 - val_loss: 0.1971\n",
            "Epoch 3/11\n",
            "550/550 [==============================] - ETA: 0s - loss: 0.1838\n",
            "Epoch 00003: val_loss improved from 0.19707 to 0.17387, saving model to /content/model_save2/weights-03-0.1739.hdf5\n",
            "550/550 [==============================] - 153s 279ms/step - loss: 0.1838 - val_loss: 0.1739\n",
            "Epoch 4/11\n",
            "550/550 [==============================] - ETA: 0s - loss: 0.1646\n",
            "Epoch 00004: val_loss improved from 0.17387 to 0.15858, saving model to /content/model_save2/weights-04-0.1586.hdf5\n",
            "550/550 [==============================] - 156s 283ms/step - loss: 0.1646 - val_loss: 0.1586\n",
            "Epoch 5/11\n",
            "550/550 [==============================] - ETA: 0s - loss: 0.1514\n",
            "Epoch 00005: val_loss improved from 0.15858 to 0.14803, saving model to /content/model_save2/weights-05-0.1480.hdf5\n",
            "550/550 [==============================] - 154s 279ms/step - loss: 0.1514 - val_loss: 0.1480\n",
            "Epoch 6/11\n",
            "550/550 [==============================] - ETA: 0s - loss: 0.1416\n",
            "Epoch 00006: val_loss improved from 0.14803 to 0.14307, saving model to /content/model_save2/weights-06-0.1431.hdf5\n",
            "550/550 [==============================] - 154s 281ms/step - loss: 0.1416 - val_loss: 0.1431\n",
            "Epoch 7/11\n",
            "550/550 [==============================] - ETA: 0s - loss: 0.1348\n",
            "Epoch 00007: val_loss improved from 0.14307 to 0.13558, saving model to /content/model_save2/weights-07-0.1356.hdf5\n",
            "550/550 [==============================] - 154s 280ms/step - loss: 0.1348 - val_loss: 0.1356\n",
            "Epoch 8/11\n",
            "550/550 [==============================] - ETA: 0s - loss: 0.1295\n",
            "Epoch 00008: val_loss improved from 0.13558 to 0.13195, saving model to /content/model_save2/weights-08-0.1319.hdf5\n",
            "550/550 [==============================] - 155s 282ms/step - loss: 0.1295 - val_loss: 0.1319\n",
            "Epoch 9/11\n",
            "550/550 [==============================] - ETA: 0s - loss: 0.1255\n",
            "Epoch 00009: val_loss improved from 0.13195 to 0.12903, saving model to /content/model_save2/weights-09-0.1290.hdf5\n",
            "550/550 [==============================] - 153s 278ms/step - loss: 0.1255 - val_loss: 0.1290\n",
            "Epoch 10/11\n",
            "550/550 [==============================] - ETA: 0s - loss: 0.1220\n",
            "Epoch 00010: val_loss improved from 0.12903 to 0.12697, saving model to /content/model_save2/weights-10-0.1270.hdf5\n",
            "550/550 [==============================] - 155s 282ms/step - loss: 0.1220 - val_loss: 0.1270\n",
            "Epoch 11/11\n",
            "550/550 [==============================] - ETA: 0s - loss: 0.1190\n",
            "Epoch 00011: val_loss improved from 0.12697 to 0.12584, saving model to /content/model_save2/weights-11-0.1258.hdf5\n",
            "550/550 [==============================] - 154s 280ms/step - loss: 0.1190 - val_loss: 0.1258\n"
          ],
          "name": "stdout"
        },
        {
          "output_type": "execute_result",
          "data": {
            "text/plain": [
              "<tensorflow.python.keras.callbacks.History at 0x7fa69d186d30>"
            ]
          },
          "metadata": {
            "tags": []
          },
          "execution_count": 33
        }
      ]
    },
    {
      "cell_type": "code",
      "metadata": {
        "id": "2WMtHnBT6S7u",
        "colab_type": "code",
        "colab": {}
      },
      "source": [
        "%tensorboard --logdir '/content/Model'"
      ],
      "execution_count": null,
      "outputs": []
    },
    {
      "cell_type": "code",
      "metadata": {
        "id": "JpWNL7uOVjgn",
        "colab_type": "code",
        "colab": {}
      },
      "source": [
        "#Load weights having lowest val_loss\n",
        "model.load_weights('/content/model_save2/weights-11-0.1258.hdf5')"
      ],
      "execution_count": null,
      "outputs": []
    },
    {
      "cell_type": "code",
      "metadata": {
        "id": "pso1D_bL1u_O",
        "colab_type": "code",
        "colab": {}
      },
      "source": [
        "def jaccard(str1, str2):\n",
        "  '''Returns jaccard score between str1 and str2 '''\n",
        "  a = set(str1.lower().split()) \n",
        "  b = set(str2.lower().split())\n",
        "  c = a.intersection(b)\n",
        "  return float(len(c)) / (len(a) + len(b) - len(c))"
      ],
      "execution_count": null,
      "outputs": []
    },
    {
      "cell_type": "code",
      "metadata": {
        "id": "VvndCDbT2omS",
        "colab_type": "code",
        "colab": {
          "base_uri": "https://localhost:8080/",
          "height": 34
        },
        "outputId": "63b74444-9bbd-4ab6-dc51-d649982e5add"
      },
      "source": [
        "#Predicting on test data\n",
        "Y_pred_test=model.predict([X_test_tokens,X_test_mask])\n",
        "Y_pred_test=np.squeeze(Y_pred_test)\n",
        "Y_te=np.squeeze(Y_te)\n",
        "print('Y_pred_test shape is ',Y_pred_test.shape)"
      ],
      "execution_count": null,
      "outputs": [
        {
          "output_type": "stream",
          "text": [
            "Y_pred_test shape is  (4396, 32)\n"
          ],
          "name": "stdout"
        }
      ]
    },
    {
      "cell_type": "code",
      "metadata": {
        "id": "C0mNjhdQFG16",
        "colab_type": "code",
        "colab": {
          "base_uri": "https://localhost:8080/",
          "height": 51
        },
        "outputId": "f4ec2b3c-a2ec-4657-b419-3b9775551ae4"
      },
      "source": [
        "#Actual Y value\n",
        "Y_te[90]"
      ],
      "execution_count": null,
      "outputs": [
        {
          "output_type": "execute_result",
          "data": {
            "text/plain": [
              "array([0, 0, 1, 0, 0, 0, 0, 0, 0, 0, 0, 0, 0, 0, 0, 0, 0, 0, 0, 0, 0, 0,\n",
              "       0, 0, 0, 0, 0, 0, 0, 0, 0, 0], dtype=int32)"
            ]
          },
          "metadata": {
            "tags": []
          },
          "execution_count": 314
        }
      ]
    },
    {
      "cell_type": "code",
      "metadata": {
        "id": "brZWCiu06TJK",
        "colab_type": "code",
        "colab": {}
      },
      "source": [
        "#Replacing value 2 back to zero\n",
        "\n",
        "Y_te=np.where(Y_te==2,0,Y_te)"
      ],
      "execution_count": null,
      "outputs": []
    },
    {
      "cell_type": "code",
      "metadata": {
        "id": "Kx6mN7lE6b6L",
        "colab_type": "code",
        "colab": {
          "base_uri": "https://localhost:8080/",
          "height": 51
        },
        "outputId": "d68e4936-ee96-4462-c6ab-c5ee5f08627f"
      },
      "source": [
        "Y_te[90]"
      ],
      "execution_count": null,
      "outputs": [
        {
          "output_type": "execute_result",
          "data": {
            "text/plain": [
              "array([0, 0, 1, 0, 0, 0, 0, 0, 0, 0, 0, 0, 0, 0, 0, 0, 0, 0, 0, 0, 0, 0,\n",
              "       0, 0, 0, 0, 0, 0, 0, 0, 0, 0], dtype=int32)"
            ]
          },
          "metadata": {
            "tags": []
          },
          "execution_count": 316
        }
      ]
    },
    {
      "cell_type": "code",
      "metadata": {
        "id": "HucXCoNSElC6",
        "colab_type": "code",
        "colab": {
          "base_uri": "https://localhost:8080/",
          "height": 136
        },
        "outputId": "13b88771-d908-412d-fdfa-5d3b968f0b61"
      },
      "source": [
        "#Predicted Y value\n",
        "Y_pred_test[90]"
      ],
      "execution_count": null,
      "outputs": [
        {
          "output_type": "execute_result",
          "data": {
            "text/plain": [
              "array([0.27357224, 0.5480001 , 0.40082967, 0.3899384 , 0.18752205,\n",
              "       0.07624662, 0.237461  , 0.03192362, 0.03192362, 0.03192362,\n",
              "       0.03192362, 0.03192362, 0.03192362, 0.03192362, 0.03192362,\n",
              "       0.03192362, 0.03192362, 0.03192362, 0.03192362, 0.03192362,\n",
              "       0.03192362, 0.03192362, 0.03192362, 0.03192362, 0.03192362,\n",
              "       0.03192362, 0.03192362, 0.03192362, 0.03192362, 0.03192362,\n",
              "       0.03192362, 0.03192362], dtype=float32)"
            ]
          },
          "metadata": {
            "tags": []
          },
          "execution_count": 317
        }
      ]
    },
    {
      "cell_type": "code",
      "metadata": {
        "id": "ccXZZU5Z2vaT",
        "colab_type": "code",
        "colab": {}
      },
      "source": [
        "#Set value=1 for position of words whose value is greater than 0.1 else 0\n",
        "\n",
        "from tqdm import tqdm\n",
        "\n",
        "def predict(Y_pred):\n",
        "  '''Set value=1 for position of words whose value is greater than 0.1 else 0'''\n",
        "  prediction=[]\n",
        "  for row in tqdm(Y_pred):\n",
        "    lst=[]\n",
        "    for i in range(len(row)):\n",
        "      if(row[i]>0.1):\n",
        "        lst.append(1)\n",
        "      else:\n",
        "        lst.append(0)\n",
        "    prediction.append(lst)\n",
        "  return prediction\n",
        "\n",
        "\n"
      ],
      "execution_count": null,
      "outputs": []
    },
    {
      "cell_type": "code",
      "metadata": {
        "id": "S3n067x60AFZ",
        "colab_type": "code",
        "colab": {}
      },
      "source": [
        "def findLongestSequence(prediction):\n",
        "  #Dictionary that stores index with 1 as key and number of contineous 1 as value\n",
        "  #Eg:[11110011] d={0:4,1:3,2:2,3:1,6:2,7:1}\n",
        "  d={}  \n",
        "  for i in range(len(prediction)):   \n",
        "    #If value is 0, continue the loop\n",
        "    if(prediction[i]==0):\n",
        "      continue\n",
        "    else:\n",
        "      j=i+1\n",
        "      k=0\n",
        "      #Update the dictionary for first time\n",
        "      d[i]=1\n",
        "      while ((k==0) & (j<len(prediction))):\n",
        "        \n",
        "        if (prediction[j]==1):\n",
        "          #Update the dictionary for every time when j position is 1\n",
        "          d[i]=d[i]+1\n",
        "          j+=1\n",
        "        else:\n",
        "          k=1      \n",
        "  #m stores max value of number of 1\n",
        "  m=0\n",
        "  start=0\n",
        "  #Iterating over dictionary to find key with max 1 which is the start index\n",
        "  for k,v in d.items():\n",
        "    if (v>m):\n",
        "      m=v\n",
        "      start=k\n",
        "  #End postion is start + value coressponding to start key\n",
        "  end=start+d[start]\n",
        "  return start,end\n"
      ],
      "execution_count": null,
      "outputs": []
    },
    {
      "cell_type": "code",
      "metadata": {
        "id": "rOP8E0ehwodJ",
        "colab_type": "code",
        "colab": {}
      },
      "source": [
        "#Extracting the text from the tweet based on above indices\n",
        "def predictText(prediction):\n",
        "  predicted_text=[]\n",
        "  for row in tqdm (range(len(prediction))):\n",
        "    \n",
        "    if ((sum((prediction[row]))==0)):\n",
        "      t=\" \".join(X_test.loc[row,'text'].split())\n",
        "    else:\n",
        "      start,end=findLongestSequence(prediction[row])     \n",
        "      t=\" \".join(X_test.loc[row,'text'].split()[start:end+1])\n",
        "    predicted_text.append(t)\n",
        "  return predicted_text"
      ],
      "execution_count": null,
      "outputs": []
    },
    {
      "cell_type": "code",
      "metadata": {
        "id": "wJBcyD27ugtk",
        "colab_type": "code",
        "colab": {}
      },
      "source": [
        "#Calculating jaccard score\n",
        "def calculateJaccard(predicted_text,Y_test):\n",
        "  jaccard_score=[]\n",
        "  for i in tqdm(range(len(predicted_text))):\n",
        "    score=jaccard(predicted_text[i],Y_test[i])\n",
        "    jaccard_score.append(score)\n",
        "  return jaccard_score"
      ],
      "execution_count": null,
      "outputs": []
    },
    {
      "cell_type": "code",
      "metadata": {
        "id": "QwcQNMQp_OgH",
        "colab_type": "code",
        "colab": {}
      },
      "source": [
        "#Calculate number of queries per second\n",
        "import time\n",
        "\n",
        "def calculateTime(X_tokens,X_mask,Y_actual):\n",
        "  start=time.time()\n",
        "  Y_pred_test=model.predict([X_tokens,X_mask])\n",
        "  Y_pred_test=np.squeeze(Y_pred_test)\n",
        "\n",
        "  #Convert probability to 0 and 1\n",
        "  prediction=predict(Y_pred_test)\n",
        "\n",
        "  #Find the predicted text\n",
        "  predicted_text=predictText(prediction)\n",
        "\n",
        "  #Compute Jaccard score\n",
        "  jaccard_score=calculateJaccard(predicted_text,Y_actual)\n",
        "\n",
        "  end=time.time()\n",
        "\n",
        "  diff=end-start\n",
        "\n",
        "  print('Time difference is ',diff)\n",
        "\n",
        "  return jaccard_score,diff,predicted_text\n",
        "\n",
        "  \n",
        "\n"
      ],
      "execution_count": null,
      "outputs": []
    },
    {
      "cell_type": "code",
      "metadata": {
        "id": "CRFSqx06AOsG",
        "colab_type": "code",
        "colab": {
          "base_uri": "https://localhost:8080/",
          "height": 102
        },
        "outputId": "8237a277-20fe-411c-b86e-0bcf5e0f7bc7"
      },
      "source": [
        "print('The number of queries is ',X_test_tokens.shape[0])\n",
        "result,time_diff,predicted_text=calculateTime(X_test_tokens,X_test_mask,Y_test)"
      ],
      "execution_count": null,
      "outputs": [
        {
          "output_type": "stream",
          "text": [
            "The number of queries is  4396\n"
          ],
          "name": "stdout"
        },
        {
          "output_type": "stream",
          "text": [
            "100%|██████████| 4396/4396 [00:00<00:00, 16132.76it/s]\n",
            "100%|██████████| 4396/4396 [00:00<00:00, 7809.76it/s]\n",
            "100%|██████████| 4396/4396 [00:00<00:00, 48450.71it/s]"
          ],
          "name": "stderr"
        },
        {
          "output_type": "stream",
          "text": [
            "Time difference is  7.251146078109741\n"
          ],
          "name": "stdout"
        },
        {
          "output_type": "stream",
          "text": [
            "\n"
          ],
          "name": "stderr"
        }
      ]
    },
    {
      "cell_type": "code",
      "metadata": {
        "id": "tK3z-AvaDE6T",
        "colab_type": "code",
        "colab": {
          "base_uri": "https://localhost:8080/",
          "height": 34
        },
        "outputId": "988f4224-8120-44c0-b797-3b692c5c2359"
      },
      "source": [
        "total=X_test_tokens.shape[0]/time_diff\n",
        "print('Number of queries executed by the model in 1 second is ',total)"
      ],
      "execution_count": null,
      "outputs": [
        {
          "output_type": "stream",
          "text": [
            "Number of queries executed by the model in 1 second is  606.2489919036312\n"
          ],
          "name": "stdout"
        }
      ]
    },
    {
      "cell_type": "code",
      "metadata": {
        "id": "CKIx5eWwE4Gy",
        "colab_type": "code",
        "colab": {
          "base_uri": "https://localhost:8080/",
          "height": 34
        },
        "outputId": "933af0ad-8fbe-41fb-8c79-a383328b61ba"
      },
      "source": [
        "np.mean(result)"
      ],
      "execution_count": null,
      "outputs": [
        {
          "output_type": "execute_result",
          "data": {
            "text/plain": [
              "0.5820691670650979"
            ]
          },
          "metadata": {
            "tags": []
          },
          "execution_count": 45
        }
      ]
    },
    {
      "cell_type": "markdown",
      "metadata": {
        "id": "UMjZZfJbD61M",
        "colab_type": "text"
      },
      "source": [
        "**Queries per second**\n",
        "* The model exceutes 2742 queries per second."
      ]
    },
    {
      "cell_type": "code",
      "metadata": {
        "id": "Pdw5A-vdLrxz",
        "colab_type": "code",
        "colab": {
          "base_uri": "https://localhost:8080/",
          "height": 478
        },
        "outputId": "e5f3eede-dc2e-4190-cf01-a9e4b0e1b316"
      },
      "source": [
        "X_test['predicted_text']=predicted_text\n",
        "X_test['selected_text']=Y_test\n",
        "X_test['jaccard']=result\n",
        "X_test.head(10)"
      ],
      "execution_count": null,
      "outputs": [
        {
          "output_type": "execute_result",
          "data": {
            "text/html": [
              "<div>\n",
              "<style scoped>\n",
              "    .dataframe tbody tr th:only-of-type {\n",
              "        vertical-align: middle;\n",
              "    }\n",
              "\n",
              "    .dataframe tbody tr th {\n",
              "        vertical-align: top;\n",
              "    }\n",
              "\n",
              "    .dataframe thead th {\n",
              "        text-align: right;\n",
              "    }\n",
              "</style>\n",
              "<table border=\"1\" class=\"dataframe\">\n",
              "  <thead>\n",
              "    <tr style=\"text-align: right;\">\n",
              "      <th></th>\n",
              "      <th>sentiment</th>\n",
              "      <th>text</th>\n",
              "      <th>textID</th>\n",
              "      <th>predicted_text</th>\n",
              "      <th>selected_text</th>\n",
              "      <th>jaccard</th>\n",
              "    </tr>\n",
              "  </thead>\n",
              "  <tbody>\n",
              "    <tr>\n",
              "      <th>0</th>\n",
              "      <td>negative</td>\n",
              "      <td>misses driving already</td>\n",
              "      <td>197aa929a2</td>\n",
              "      <td>misses driving already</td>\n",
              "      <td>misses driving already</td>\n",
              "      <td>1.000000</td>\n",
              "    </tr>\n",
              "    <tr>\n",
              "      <th>1</th>\n",
              "      <td>positive</td>\n",
              "      <td>Name the rest? Let`s see. Mystery Jets are pr...</td>\n",
              "      <td>7648a76c96</td>\n",
              "      <td>Name the rest? Let`s see. Mystery Jets are pre...</td>\n",
              "      <td>cool.</td>\n",
              "      <td>0.071429</td>\n",
              "    </tr>\n",
              "    <tr>\n",
              "      <th>2</th>\n",
              "      <td>neutral</td>\n",
              "      <td>anyways have a severe headache ryt now! i jst...</td>\n",
              "      <td>14fc34a4fb</td>\n",
              "      <td>anyways have a severe headache ryt now! i jst ...</td>\n",
              "      <td>anyways have a severe headache ryt now! i jst ...</td>\n",
              "      <td>1.000000</td>\n",
              "    </tr>\n",
              "    <tr>\n",
              "      <th>3</th>\n",
              "      <td>neutral</td>\n",
              "      <td>25-man Ulduar is hard...</td>\n",
              "      <td>50662e359b</td>\n",
              "      <td>25-man Ulduar is hard...</td>\n",
              "      <td>25-man Ulduar is hard...</td>\n",
              "      <td>1.000000</td>\n",
              "    </tr>\n",
              "    <tr>\n",
              "      <th>4</th>\n",
              "      <td>negative</td>\n",
              "      <td>Cried Like A Fukn Baby Today Durin Da Senior S...</td>\n",
              "      <td>b66219e011</td>\n",
              "      <td>Cried Like A Fukn Baby Today Durin Da Senior S...</td>\n",
              "      <td>Miss</td>\n",
              "      <td>0.071429</td>\n",
              "    </tr>\n",
              "    <tr>\n",
              "      <th>5</th>\n",
              "      <td>positive</td>\n",
              "      <td>Not a prob hun</td>\n",
              "      <td>6649f3558c</td>\n",
              "      <td>Not a prob hun</td>\n",
              "      <td>Not a prob</td>\n",
              "      <td>0.750000</td>\n",
              "    </tr>\n",
              "    <tr>\n",
              "      <th>6</th>\n",
              "      <td>positive</td>\n",
              "      <td>I know   It was worth a shot, though!</td>\n",
              "      <td>a54d3c2825</td>\n",
              "      <td>I know It was worth a shot, though!</td>\n",
              "      <td>as wort</td>\n",
              "      <td>0.000000</td>\n",
              "    </tr>\n",
              "    <tr>\n",
              "      <th>7</th>\n",
              "      <td>neutral</td>\n",
              "      <td>You`re still welcome - the door`s wide enough...</td>\n",
              "      <td>db83ff224e</td>\n",
              "      <td>You`re still welcome - the door`s wide enough ...</td>\n",
              "      <td>You`re still welcome - the door`s wide enough ...</td>\n",
              "      <td>1.000000</td>\n",
              "    </tr>\n",
              "    <tr>\n",
              "      <th>8</th>\n",
              "      <td>positive</td>\n",
              "      <td>_nickj07 Um....Nicks Voice,Smile,Eyes,Laugh,an...</td>\n",
              "      <td>fdbaccd945</td>\n",
              "      <td>_nickj07 Um....Nicks Voice,Smile,Eyes,Laugh,an...</td>\n",
              "      <td>Great</td>\n",
              "      <td>0.142857</td>\n",
              "    </tr>\n",
              "    <tr>\n",
              "      <th>9</th>\n",
              "      <td>neutral</td>\n",
              "      <td>reminds me of the weather a month ago it was ...</td>\n",
              "      <td>1c82fa1e65</td>\n",
              "      <td>reminds me of the weather a month ago it was h...</td>\n",
              "      <td>reminds me of the weather a month ago it was h...</td>\n",
              "      <td>1.000000</td>\n",
              "    </tr>\n",
              "  </tbody>\n",
              "</table>\n",
              "</div>"
            ],
            "text/plain": [
              "  sentiment  ...   jaccard\n",
              "0  negative  ...  1.000000\n",
              "1  positive  ...  0.071429\n",
              "2   neutral  ...  1.000000\n",
              "3   neutral  ...  1.000000\n",
              "4  negative  ...  0.071429\n",
              "5  positive  ...  0.750000\n",
              "6  positive  ...  0.000000\n",
              "7   neutral  ...  1.000000\n",
              "8  positive  ...  0.142857\n",
              "9   neutral  ...  1.000000\n",
              "\n",
              "[10 rows x 6 columns]"
            ]
          },
          "metadata": {
            "tags": []
          },
          "execution_count": 47
        }
      ]
    },
    {
      "cell_type": "markdown",
      "metadata": {
        "id": "Sn06k8lvXZE3",
        "colab_type": "text"
      },
      "source": [
        "##### Error Analysis"
      ]
    },
    {
      "cell_type": "code",
      "metadata": {
        "id": "CtSdrQ6AW9BT",
        "colab_type": "code",
        "colab": {
          "base_uri": "https://localhost:8080/",
          "height": 68
        },
        "outputId": "c3188015-b05d-4f76-a99c-c33f4aa05c91"
      },
      "source": [
        "#Average Jaccard score for each sentiment\n",
        "\n",
        "pos_average=np.mean(X_test['jaccard'][X_test['sentiment']=='positive'])\n",
        "print('The average jaccard score for postive sentiment is  ',pos_average)\n",
        "\n",
        "neg_average=np.mean(X_test['jaccard'][X_test['sentiment']=='negative'])\n",
        "print('The average jaccard score for negative sentiment is  ',neg_average)\n",
        "\n",
        "neu_average=np.mean(X_test['jaccard'][X_test['sentiment']=='neutral'])\n",
        "print('The average jaccard score for neutral sentiment is  ',neu_average)"
      ],
      "execution_count": null,
      "outputs": [
        {
          "output_type": "stream",
          "text": [
            "The average jaccard score for postive sentiment is   0.31054370494645167\n",
            "The average jaccard score for negative sentiment is   0.3322234244713896\n",
            "The average jaccard score for neutral sentiment is   0.9726760063600768\n"
          ],
          "name": "stdout"
        }
      ]
    },
    {
      "cell_type": "code",
      "metadata": {
        "id": "LUO84bzjXBBq",
        "colab_type": "code",
        "colab": {
          "base_uri": "https://localhost:8080/",
          "height": 408
        },
        "outputId": "bfebafa8-992c-4ac9-b61a-24a1eeea83df"
      },
      "source": [
        "#Adding len of the selected text column\n",
        "\n",
        "X_test['len_selected_text']=X_test['selected_text'].apply(lambda x: len(x.split()))\n",
        "X_test['len_text']=X_test['text'].apply(lambda x: len(x.split()))\n",
        "X_test['diff_len']=abs(X_test['len_selected_text']-X_test['len_text'])\n",
        "X_test.head()"
      ],
      "execution_count": null,
      "outputs": [
        {
          "output_type": "execute_result",
          "data": {
            "text/html": [
              "<div>\n",
              "<style scoped>\n",
              "    .dataframe tbody tr th:only-of-type {\n",
              "        vertical-align: middle;\n",
              "    }\n",
              "\n",
              "    .dataframe tbody tr th {\n",
              "        vertical-align: top;\n",
              "    }\n",
              "\n",
              "    .dataframe thead th {\n",
              "        text-align: right;\n",
              "    }\n",
              "</style>\n",
              "<table border=\"1\" class=\"dataframe\">\n",
              "  <thead>\n",
              "    <tr style=\"text-align: right;\">\n",
              "      <th></th>\n",
              "      <th>sentiment</th>\n",
              "      <th>text</th>\n",
              "      <th>textID</th>\n",
              "      <th>predicted_text</th>\n",
              "      <th>selected_text</th>\n",
              "      <th>jaccard</th>\n",
              "      <th>len_selected_text</th>\n",
              "      <th>len_text</th>\n",
              "      <th>diff_len</th>\n",
              "    </tr>\n",
              "  </thead>\n",
              "  <tbody>\n",
              "    <tr>\n",
              "      <th>0</th>\n",
              "      <td>negative</td>\n",
              "      <td>misses driving already</td>\n",
              "      <td>197aa929a2</td>\n",
              "      <td>misses driving already</td>\n",
              "      <td>misses driving already</td>\n",
              "      <td>1.000000</td>\n",
              "      <td>3</td>\n",
              "      <td>3</td>\n",
              "      <td>0</td>\n",
              "    </tr>\n",
              "    <tr>\n",
              "      <th>1</th>\n",
              "      <td>positive</td>\n",
              "      <td>Name the rest? Let`s see. Mystery Jets are pr...</td>\n",
              "      <td>7648a76c96</td>\n",
              "      <td>Name the rest? Let`s see. Mystery Jets are pre...</td>\n",
              "      <td>cool.</td>\n",
              "      <td>0.055556</td>\n",
              "      <td>1</td>\n",
              "      <td>20</td>\n",
              "      <td>19</td>\n",
              "    </tr>\n",
              "    <tr>\n",
              "      <th>2</th>\n",
              "      <td>neutral</td>\n",
              "      <td>anyways have a severe headache ryt now! i jst...</td>\n",
              "      <td>14fc34a4fb</td>\n",
              "      <td>anyways have a severe headache ryt now! i jst ...</td>\n",
              "      <td>anyways have a severe headache ryt now! i jst ...</td>\n",
              "      <td>1.000000</td>\n",
              "      <td>24</td>\n",
              "      <td>24</td>\n",
              "      <td>0</td>\n",
              "    </tr>\n",
              "    <tr>\n",
              "      <th>3</th>\n",
              "      <td>neutral</td>\n",
              "      <td>25-man Ulduar is hard...</td>\n",
              "      <td>50662e359b</td>\n",
              "      <td>25-man Ulduar is hard...</td>\n",
              "      <td>25-man Ulduar is hard...</td>\n",
              "      <td>1.000000</td>\n",
              "      <td>4</td>\n",
              "      <td>4</td>\n",
              "      <td>0</td>\n",
              "    </tr>\n",
              "    <tr>\n",
              "      <th>4</th>\n",
              "      <td>negative</td>\n",
              "      <td>Cried Like A Fukn Baby Today Durin Da Senior S...</td>\n",
              "      <td>b66219e011</td>\n",
              "      <td>Cried Like A Fukn Baby Today Durin Da Senior S...</td>\n",
              "      <td>Miss</td>\n",
              "      <td>0.071429</td>\n",
              "      <td>1</td>\n",
              "      <td>15</td>\n",
              "      <td>14</td>\n",
              "    </tr>\n",
              "  </tbody>\n",
              "</table>\n",
              "</div>"
            ],
            "text/plain": [
              "  sentiment  ... diff_len\n",
              "0  negative  ...        0\n",
              "1  positive  ...       19\n",
              "2   neutral  ...        0\n",
              "3   neutral  ...        0\n",
              "4  negative  ...       14\n",
              "\n",
              "[5 rows x 9 columns]"
            ]
          },
          "metadata": {
            "tags": []
          },
          "execution_count": 329
        }
      ]
    },
    {
      "cell_type": "code",
      "metadata": {
        "id": "u432pQ4jXB1i",
        "colab_type": "code",
        "colab": {}
      },
      "source": [
        "#Total number of tweets with correct prediction and incorrect prediction\n",
        "pos_jac_1=X_test[X_test['jaccard']==1]\n",
        "pos_jac_0=X_test[X_test['jaccard']!=1]"
      ],
      "execution_count": null,
      "outputs": []
    },
    {
      "cell_type": "code",
      "metadata": {
        "id": "7GAvwplLXGVd",
        "colab_type": "code",
        "colab": {
          "base_uri": "https://localhost:8080/",
          "height": 68
        },
        "outputId": "8cba1ea6-bb83-4d4c-82bf-243e027d7618"
      },
      "source": [
        "print('The total number of  tweets is',X_test.shape[0])\n",
        "print('The total number of  tweets with jaccard=1 is',pos_jac_1.shape[0])\n",
        "print('The total number of  tweets with jaccard not 1 is',pos_jac_0.shape[0])"
      ],
      "execution_count": null,
      "outputs": [
        {
          "output_type": "stream",
          "text": [
            "The total number of  tweets is 4396\n",
            "The total number of  tweets with jaccard=1 is 1900\n",
            "The total number of  tweets with jaccard not 1 is 2496\n"
          ],
          "name": "stdout"
        }
      ]
    },
    {
      "cell_type": "code",
      "metadata": {
        "id": "A5qhAZGGXHUU",
        "colab_type": "code",
        "colab": {
          "base_uri": "https://localhost:8080/",
          "height": 34
        },
        "outputId": "c134396c-d6bb-4590-b84b-ee64d052a50b"
      },
      "source": [
        "#Performance of model when both tweet and selected text is same\n",
        "\n",
        "total_zero_diff=X_test[X_test['diff_len']==0].shape[0]\n",
        "zero_diff_jaccard_1=pos_jac_1[pos_jac_1['diff_len']==0].shape[0]\n",
        "result=zero_diff_jaccard_1*100/total_zero_diff\n",
        "print('The percentage of  tweets with jaccard=1 when both tweet and selected text were same is',result)"
      ],
      "execution_count": null,
      "outputs": [
        {
          "output_type": "stream",
          "text": [
            "The percentage of  tweets with jaccard=1 when both tweet and selected text were same is 94.41953163926259\n"
          ],
          "name": "stdout"
        }
      ]
    },
    {
      "cell_type": "code",
      "metadata": {
        "id": "kMQGQRDWXK5d",
        "colab_type": "code",
        "colab": {
          "base_uri": "https://localhost:8080/",
          "height": 34
        },
        "outputId": "60cc2adc-7228-4554-f6ac-68e9d45faf01"
      },
      "source": [
        "#Performance of model when difference between  tweet and selected text is less than 10\n",
        "\n",
        "diff_less_10=X_test[X_test['diff_len']<=10].shape[0]\n",
        "diff_less_10_jaccard_1=pos_jac_1[pos_jac_1['diff_len']<=10].shape[0]\n",
        "result=diff_less_10_jaccard_1*100/diff_less_10\n",
        "print('The percentage of tweets with jaccard=1 when length difference is less than 10 is',result)"
      ],
      "execution_count": null,
      "outputs": [
        {
          "output_type": "stream",
          "text": [
            "The percentage of tweets with jaccard=1 when length difference is less than 10 is 58.07339449541284\n"
          ],
          "name": "stdout"
        }
      ]
    },
    {
      "cell_type": "code",
      "metadata": {
        "id": "OzRPHsEpXNf_",
        "colab_type": "code",
        "colab": {
          "base_uri": "https://localhost:8080/",
          "height": 34
        },
        "outputId": "310e1e4c-500e-49b0-ad17-ac1167e7f0e2"
      },
      "source": [
        "#Performance of model when difference between  tweet and selected text is greter than 10 but less than 20\n",
        "\n",
        "diff_less_20=X_test[(X_test['diff_len']>10) & (X_test['diff_len']<=20)].shape[0]\n",
        "diff_less_20_jaccard_1=pos_jac_1[(pos_jac_1['diff_len']>10) & (pos_jac_1['diff_len']<=20)].shape[0]\n",
        "result=diff_less_20_jaccard_1*100/diff_less_20\n",
        "print('The percentage of tweets with jaccard=1 when length difference is greter than 10 and less than 20 is',result)"
      ],
      "execution_count": null,
      "outputs": [
        {
          "output_type": "stream",
          "text": [
            "The percentage of tweets with jaccard=1 when length difference is greter than 10 and less than 20 is 0.1122334455667789\n"
          ],
          "name": "stdout"
        }
      ]
    },
    {
      "cell_type": "code",
      "metadata": {
        "id": "UXbgtzXFXP_W",
        "colab_type": "code",
        "colab": {
          "base_uri": "https://localhost:8080/",
          "height": 34
        },
        "outputId": "ab943990-7979-49e9-d99e-db8d0279e393"
      },
      "source": [
        "#Performance of model when difference between  tweet and selected text is greter than 20\n",
        "\n",
        "diff_less_30=X_test[(X_test['diff_len']>20)].shape[0]\n",
        "diff_less_30_jaccard_1=pos_jac_1[(pos_jac_1['diff_len']>20)].shape[0]\n",
        "result=diff_less_30_jaccard_1*100/diff_less_30\n",
        "print('The percentage of positive tweets with jaccard=1 when length difference is greter than 20 is',result)"
      ],
      "execution_count": null,
      "outputs": [
        {
          "output_type": "stream",
          "text": [
            "The percentage of positive tweets with jaccard=1 when length difference is greter than 20 is 0.0\n"
          ],
          "name": "stdout"
        }
      ]
    },
    {
      "cell_type": "code",
      "metadata": {
        "id": "V3GXRQc4arcG",
        "colab_type": "code",
        "colab": {
          "base_uri": "https://localhost:8080/",
          "height": 34
        },
        "outputId": "bcc04c36-bc9f-46f6-95d7-dad64f3ac1e9"
      },
      "source": [
        "print(np.mean(X_test['jaccard']))"
      ],
      "execution_count": null,
      "outputs": [
        {
          "output_type": "stream",
          "text": [
            "0.5844887647103213\n"
          ],
          "name": "stdout"
        }
      ]
    },
    {
      "cell_type": "markdown",
      "metadata": {
        "id": "At_AK6cl4a69",
        "colab_type": "text"
      },
      "source": [
        "Conclusion\n",
        "* The  model performs well when the text and selected text are of same length.\n",
        "* It does resonablly well when the difference between tweet selected text is of only few words but does not perform well when the difference increases."
      ]
    }
  ]
}
